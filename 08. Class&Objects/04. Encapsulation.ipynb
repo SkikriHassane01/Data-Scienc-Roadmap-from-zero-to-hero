{
 "cells": [
  {
   "cell_type": "markdown",
   "metadata": {},
   "source": [
    "<div style =\"font-family:Trebuchet MS; background-color : #f8f0fa; border-left: 5px solid #1b4332; padding: 12px; border-radius: 50px 50px;\">\n",
    "    <h2 style=\"color: #1b4332; font-size: 48px; text-align: center;\">\n",
    "        <b>Encapsulation</b>\n",
    "        <hr style=\"border-top: 2px solid #264653;\">\n",
    "    </h2>\n",
    "    <h3 style=\"font-size: 14px; color: #264653; text-align: left; \"><strong> I hope this is very helpful. let's started .😊🌟</strong></h3>\n",
    "</div>"
   ]
  },
  {
   "cell_type": "markdown",
   "metadata": {},
   "source": [
    "- Encapsulation is a way to restrict access to some methods and variables in a class. This prevents the data from being modified directly and can only be modified through the methods of the class.\n",
    "- Single underscore prefix is used to denote protected attributes. It tells the developer to not use it outside the class.\n",
    "- Double underscore prefix is used to denote private attributes."
   ]
  },
  {
   "cell_type": "code",
   "execution_count": 1,
   "metadata": {},
   "outputs": [
    {
     "name": "stdout",
     "output_type": "stream",
     "text": [
      "Hassane\n",
      "21\n",
      "Mohamed\n",
      "22\n"
     ]
    }
   ],
   "source": [
    "# class with getter and setter methods\n",
    "# getter and setter methods are used to access and modify the attributes of a class\n",
    "\n",
    "class Student:\n",
    "    def __init__(self, name, age):\n",
    "        self.name = name\n",
    "        self.age = age\n",
    "\n",
    "    # getter method\n",
    "    def get_name(self):\n",
    "        return self.name\n",
    "\n",
    "    # setter method\n",
    "    def set_name(self, name):\n",
    "        self.name = name\n",
    "\n",
    "    # getter method\n",
    "    def get_age(self):\n",
    "        return self.age\n",
    "\n",
    "    # setter method\n",
    "    def set_age(self, age):\n",
    "        self.age = age\n",
    "\n",
    "student = Student(\"Hassane\", 21)\n",
    "\n",
    "print(student.get_name())\n",
    "print(student.get_age())\n",
    "\n",
    "student.set_name(\"Mohamed\")\n",
    "student.set_age(22)\n",
    "\n",
    "print(student.get_name())\n",
    "print(student.get_age())"
   ]
  },
  {
   "cell_type": "code",
   "execution_count": 7,
   "metadata": {},
   "outputs": [
    {
     "name": "stdout",
     "output_type": "stream",
     "text": [
      "Hassane\n",
      "Mohamed\n",
      "21\n",
      "21\n"
     ]
    }
   ],
   "source": [
    "# class with protected and private attributes\n",
    "\n",
    "class Person:\n",
    "    def __init__(self, name, age):\n",
    "        self._name = name # protected attribute\n",
    "        self.__age = age # private attribute\n",
    "\n",
    "    # getter method\n",
    "    def get_name(self):\n",
    "        return self._name\n",
    "\n",
    "    # setter method\n",
    "    def set_name(self, name):\n",
    "        self._name = name\n",
    "\n",
    "    # getter method\n",
    "    def get_age(self):\n",
    "        return self.__age\n",
    "\n",
    "    # setter method\n",
    "    def set_age(self, age):\n",
    "        self.__age = age\n",
    "\n",
    "# the name attribute is protected and can be accessed and modified from outside the class\n",
    "# the age attribute is private and can't be accessed and modified from outside the class\n",
    "\n",
    "person = Person(\"Hassane\", 21)\n",
    "print(person.get_name())\n",
    "person._name = \"Mohamed\"\n",
    "print(person.get_name())\n",
    "\n",
    "print(person.get_age())\n",
    "person.__age = 22\n",
    "print(person.get_age()) # the age attribute is still 21"
   ]
  }
 ],
 "metadata": {
  "kernelspec": {
   "display_name": "Python 3",
   "language": "python",
   "name": "python3"
  },
  "language_info": {
   "codemirror_mode": {
    "name": "ipython",
    "version": 3
   },
   "file_extension": ".py",
   "mimetype": "text/x-python",
   "name": "python",
   "nbconvert_exporter": "python",
   "pygments_lexer": "ipython3",
   "version": "3.12.1"
  }
 },
 "nbformat": 4,
 "nbformat_minor": 2
}
