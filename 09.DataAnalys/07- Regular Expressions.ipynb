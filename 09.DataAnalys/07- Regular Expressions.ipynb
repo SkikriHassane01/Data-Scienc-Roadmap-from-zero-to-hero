{
 "cells": [
  {
   "cell_type": "markdown",
   "metadata": {},
   "source": [
    "# Regular Expressions in python\n",
    "\n"
   ]
  },
  {
   "cell_type": "markdown",
   "metadata": {},
   "source": [
    "<div style=\"background-color: #192332; \n",
    "            border-radius: 8px; \n",
    "            padding: 15px; \n",
    "            margin: 10px 0;\n",
    "            box-shadow: 0 2px 4px rgba(0,0,0,0.1);\">\n",
    "\n",
    "Regular expression is a sequence of characters that specifies a search pattern in text. Used by string-searching algorithms for \"find\" or \"find and replace\" operations on strings, or for input validation.\n",
    "\n",
    "</div>"
   ]
  },
  {
   "cell_type": "code",
   "execution_count": 1,
   "metadata": {},
   "outputs": [],
   "source": [
    "import re"
   ]
  },
  {
   "cell_type": "code",
   "execution_count": 4,
   "metadata": {},
   "outputs": [
    {
     "name": "stdout",
     "output_type": "stream",
     "text": [
      "hello hassane\n"
     ]
    }
   ],
   "source": [
    "# search function\n",
    "\n",
    "text = \"hassane is a good data scientist\"\n",
    "if re.search(\"hassane\", text):\n",
    "    print(\"hello hassane\")\n",
    "else:\n",
    "    print(\"not found\")"
   ]
  },
  {
   "cell_type": "code",
   "execution_count": 8,
   "metadata": {},
   "outputs": [
    {
     "data": {
      "text/plain": [
       "['',\n",
       " ' is a good student. ',\n",
       " ' is a good data scientist. ',\n",
       " ' gets a good grade']"
      ]
     },
     "execution_count": 8,
     "metadata": {},
     "output_type": "execute_result"
    }
   ],
   "source": [
    "# split function \n",
    "\n",
    "text = \"hassane is a good student. hassane is a good data scientist. hassane gets a good grade\"\n",
    "\n",
    "re.split(\"hassane\",text)"
   ]
  },
  {
   "cell_type": "code",
   "execution_count": 9,
   "metadata": {},
   "outputs": [
    {
     "data": {
      "text/plain": [
       "['hassane', 'hassane', 'hassane']"
      ]
     },
     "execution_count": 9,
     "metadata": {},
     "output_type": "execute_result"
    }
   ],
   "source": [
    "# findall function\n",
    "re.findall(\"hassane\",text) "
   ]
  },
  {
   "cell_type": "code",
   "execution_count": 55,
   "metadata": {},
   "outputs": [
    {
     "data": {
      "text/plain": [
       "['415-555-9999', '212-555-0000']"
      ]
     },
     "execution_count": 55,
     "metadata": {},
     "output_type": "execute_result"
    }
   ],
   "source": [
    "phone_num_regex = re.compile(r'\\d\\d\\d-\\d\\d\\d-\\d\\d\\d\\d') \n",
    "\n",
    "phone_num_regex.findall('Cell: 415-555-9999 Work: 212-555-0000')"
   ]
  },
  {
   "cell_type": "code",
   "execution_count": 12,
   "metadata": {},
   "outputs": [
    {
     "name": "stdout",
     "output_type": "stream",
     "text": [
      "None\n",
      "<re.Match object; span=(0, 7), match='hassane'>\n",
      "<re.Match object; span=(7, 14), match='hassane'>\n"
     ]
    }
   ],
   "source": [
    "# Example 1\n",
    "text = \"Hello, hassane is here\"\n",
    "result1 = re.search(\"^hassane\", text)\n",
    "print(result1)  # None - because \"hassane\" is not at start\n",
    "\n",
    "# Example 2 - Will match\n",
    "text2 = \"hassane is here\"\n",
    "result2 = re.search(\"^hassane\", text2)\n",
    "print(result2)  # <re.Match object; span=(0, 7), match='hassane'>\n",
    "\n",
    "# To match \"hassane\" anywhere in text:\n",
    "result3 = re.search(\"hassane\", text)\n",
    "print(result3)  # Will match \"hassane\" anywhere in the string"
   ]
  },
  {
   "cell_type": "markdown",
   "metadata": {},
   "source": [
    "## Matching regex objects"
   ]
  },
  {
   "cell_type": "code",
   "execution_count": 23,
   "metadata": {},
   "outputs": [
    {
     "name": "stdout",
     "output_type": "stream",
     "text": [
      "Phone number found: 123-568-7875\n"
     ]
    }
   ],
   "source": [
    "text = \"My phone number is 231-123-568-7875, and my friend's number is 679 987-654-3210\"\n",
    "\n",
    "phone_regex = re.compile(r'\\d{3}-\\d{3}-\\d{4}')\n",
    "\n",
    "phone_number = phone_regex.search(text)\n",
    "\n",
    "print(f'Phone number found: {phone_number.group()}')"
   ]
  },
  {
   "cell_type": "markdown",
   "metadata": {},
   "source": [
    "## Grouping with parentheses"
   ]
  },
  {
   "cell_type": "code",
   "execution_count": 31,
   "metadata": {},
   "outputs": [
    {
     "name": "stdout",
     "output_type": "stream",
     "text": [
      "Phone number found part 1: 123\n",
      "Phone number found part 2: 568\n",
      "Phone number found part 3: 7875\n",
      "Phone number found: 123-568-7875\n"
     ]
    }
   ],
   "source": [
    "phone_regex = re.compile(r\"(\\d{3})-(\\d{3})-(\\d{4})\")\n",
    "phone_number = phone_regex.search(text)\n",
    "print(f'Phone number found part 1: {phone_number.group(1)}')\n",
    "print(f'Phone number found part 2: {phone_number.group(2)}')\n",
    "print(f'Phone number found part 3: {phone_number.group(3)}')\n",
    "print(f'Phone number found: {phone_number.group(0)}')"
   ]
  },
  {
   "cell_type": "markdown",
   "metadata": {},
   "source": [
    "## Multiple groups with Pipe"
   ]
  },
  {
   "cell_type": "code",
   "execution_count": 43,
   "metadata": {},
   "outputs": [
    {
     "name": "stdout",
     "output_type": "stream",
     "text": [
      "Batman\n",
      "man\n"
     ]
    }
   ],
   "source": [
    "bat_regex = re.compile(r'Bat(man|mobile|copter|bat)')\n",
    "word = bat_regex.search('Batman lost a wheel')\n",
    "\n",
    "print(word.group())\n",
    "\n",
    "print(word.group(1))"
   ]
  },
  {
   "cell_type": "markdown",
   "metadata": {},
   "source": [
    "## Optional matching with the Question Mark\n",
    "\n",
    "The ? character flags the group that precedes it as an optional part of the pattern."
   ]
  },
  {
   "cell_type": "code",
   "execution_count": 46,
   "metadata": {},
   "outputs": [
    {
     "name": "stdout",
     "output_type": "stream",
     "text": [
      "Batman\n",
      "Batwoman\n"
     ]
    }
   ],
   "source": [
    "regex_pattern = re.compile(r'Bat(wo)?man')\n",
    "word = regex_pattern.search('the adventures of Batman')\n",
    "print(word.group())\n",
    "\n",
    "word = regex_pattern.search('the adventures of Batwoman')\n",
    "print(word.group())"
   ]
  },
  {
   "cell_type": "markdown",
   "metadata": {},
   "source": [
    "## Matching zero or more with the Star\n",
    "The * (star or asterisk) means “match zero or more”. The group that precedes the star can occur any number of times in the text."
   ]
  },
  {
   "cell_type": "code",
   "execution_count": 50,
   "metadata": {},
   "outputs": [
    {
     "name": "stdout",
     "output_type": "stream",
     "text": [
      "Batman\n",
      "Batwoman\n",
      "Batwowowowoman\n"
     ]
    }
   ],
   "source": [
    "regex_pattern = re.compile(r\"Bat(wo)*man\")\n",
    "mo = regex_pattern.search('The Adventures of Batman')\n",
    "print(mo.group())\n",
    "\n",
    "mo = regex_pattern.search('The Adventures of Batwoman')\n",
    "print(mo.group())\n",
    "\n",
    "mo = regex_pattern.search('The Adventures of Batwowowowoman')\n",
    "print(mo.group())"
   ]
  },
  {
   "cell_type": "markdown",
   "metadata": {},
   "source": [
    "## Matching one or more with the Plus\n",
    "The + (or plus) means match one or more. The group preceding a plus must appear at least once:"
   ]
  },
  {
   "cell_type": "code",
   "execution_count": 53,
   "metadata": {},
   "outputs": [
    {
     "name": "stdout",
     "output_type": "stream",
     "text": [
      "None\n",
      "Batwoman\n",
      "Batwowowowoman\n"
     ]
    }
   ],
   "source": [
    "regex_pattern = re.compile(r\"Bat(wo)+man\")\n",
    "mo = regex_pattern.search('The Adventures of Batman')\n",
    "print(mo)\n",
    "\n",
    "mo = regex_pattern.search('The Adventures of Batwoman')\n",
    "print(mo.group())\n",
    "\n",
    "mo = regex_pattern.search('The Adventures of Batwowowowoman')\n",
    "print(mo.group())"
   ]
  },
  {
   "cell_type": "markdown",
   "metadata": {},
   "source": [
    "## Greedy and non-greedy matching\n",
    "Python’s regular expressions are greedy by default: in ambiguous situations they will match the longest string possible. The non-greedy version of the curly brackets, which matches the shortest string possible, has the closing curly bracket followed by a question mark."
   ]
  },
  {
   "cell_type": "code",
   "execution_count": 54,
   "metadata": {},
   "outputs": [
    {
     "name": "stdout",
     "output_type": "stream",
     "text": [
      "HaHaHaHaHa\n",
      "HaHaHa\n"
     ]
    }
   ],
   "source": [
    "greedy_ha_regex = re.compile(r'(Ha){3,5}') # 3 to 5 times\n",
    "mo1 = greedy_ha_regex.search('HaHaHaHaHa')\n",
    "print(mo1.group())\n",
    "\n",
    "non_greedy_ha_regex = re.compile(r\"(Ha){3,5}?\")\n",
    "mo2 = non_greedy_ha_regex.search('HaHaHaHaHa')\n",
    "print(mo2.group())"
   ]
  },
  {
   "cell_type": "markdown",
   "metadata": {},
   "source": [
    "## Making your own character classes\n",
    "You can define your own character class using square brackets. For example, the character class [aeiouAEIOU] will match any vowel, both lowercase and uppercase."
   ]
  },
  {
   "cell_type": "code",
   "execution_count": 59,
   "metadata": {},
   "outputs": [
    {
     "name": "stdout",
     "output_type": "stream",
     "text": [
      "['o', 'o', 'o', 'e', 'a', 'a', 'o', 'o', 'A', 'O', 'O']\n",
      "['R', 'b', 'c', 'p', ' ', 'a', 't', 's', ' ', 'b', 'a', 'b', 'y', ' ', 'f', 'd', '.', ' ', 'B', 'B', 'Y', ' ', 'F', 'D', '.']\n"
     ]
    }
   ],
   "source": [
    "vowel_regex = re.compile(r'[aeiouAEIOU]')\n",
    "print(vowel_regex.findall(\"Robocop eats baby food. BABY FOOD.\"))\n",
    "\n",
    "consonant_regex = re.compile(r\"[^eiouAEIOU]\")\n",
    "print(consonant_regex.findall('Robocop eats baby food. BABY FOOD.'))"
   ]
  },
  {
   "cell_type": "markdown",
   "metadata": {},
   "source": [
    "By placing a caret character (^) just after the character class’s opening bracket, you can make a negative character class that will match all the characters that are not in the character class:"
   ]
  },
  {
   "cell_type": "markdown",
   "metadata": {},
   "source": [
    "## The Caret and Dollar sign characters\n",
    "You can also use the caret symbol ^ at the start of a regex to indicate that a match must occur at the beginning of the searched text.\n",
    "\n",
    "Likewise, you can put a dollar sign $ at the end of the regex to indicate the string must end with this regex pattern.\n",
    "\n",
    "And you can use the ^ and $ together to indicate that the entire string must match the regex."
   ]
  },
  {
   "cell_type": "code",
   "execution_count": 62,
   "metadata": {},
   "outputs": [
    {
     "name": "stdout",
     "output_type": "stream",
     "text": [
      "Hello\n",
      "None\n"
     ]
    }
   ],
   "source": [
    "begin_with_hello = re.compile(r\"^Hello\")\n",
    "hello = begin_with_hello.search(\"Hello world!\")\n",
    "not_hello = begin_with_hello.search(\"He said hello.\")\n",
    "print(hello.group())\n",
    "print(not_hello)"
   ]
  },
  {
   "cell_type": "code",
   "execution_count": 67,
   "metadata": {},
   "outputs": [
    {
     "name": "stdout",
     "output_type": "stream",
     "text": [
      "<re.Match object; span=(0, 10), match='1234567890'>\n",
      "None\n",
      "None\n"
     ]
    }
   ],
   "source": [
    "whole_string_is_num = re.compile(r'^\\d+$')\n",
    "print(whole_string_is_num.search('1234567890'))\n",
    "print(whole_string_is_num.search('12345xyz67890'))\n",
    "print(whole_string_is_num.search('12 34567890'))"
   ]
  },
  {
   "cell_type": "markdown",
   "metadata": {},
   "source": [
    "## The Wildcard character\n",
    "The . (or dot) character in a regular expression will match any character except for a newline:"
   ]
  },
  {
   "cell_type": "code",
   "execution_count": 68,
   "metadata": {},
   "outputs": [
    {
     "data": {
      "text/plain": [
       "['cat', 'hat', 'sat', 'lat', 'mat']"
      ]
     },
     "execution_count": 68,
     "metadata": {},
     "output_type": "execute_result"
    }
   ],
   "source": [
    "at_regex = re.compile(r'.at')\n",
    "\n",
    "at_regex.findall('The cat in the hat sat on the flat mat.')"
   ]
  },
  {
   "cell_type": "markdown",
   "metadata": {},
   "source": [
    "## Matching everything with Dot-Star"
   ]
  },
  {
   "cell_type": "code",
   "execution_count": 83,
   "metadata": {},
   "outputs": [
    {
     "name": "stdout",
     "output_type": "stream",
     "text": [
      "Al\n",
      "Sweigart with all of the best\n"
     ]
    }
   ],
   "source": [
    "name_regex = re.compile(r'First Name: (.*) Last Name: (.*)')\n",
    "\n",
    "mo = name_regex.search('First Name: Al Last Name: Sweigart with all of the best')\n",
    "print(mo.group(1))\n",
    "print(mo.group(2))"
   ]
  },
  {
   "cell_type": "markdown",
   "metadata": {},
   "source": [
    "## Matching newlines with the Dot character\n",
    "The dot-star will match everything except a newline. By passing re.DOTALL as the second argument to re.compile(), you can make the dot character match all characters, including the newline character:"
   ]
  },
  {
   "cell_type": "code",
   "execution_count": 85,
   "metadata": {},
   "outputs": [
    {
     "data": {
      "text/plain": [
       "'Serve the public trust.'"
      ]
     },
     "execution_count": 85,
     "metadata": {},
     "output_type": "execute_result"
    }
   ],
   "source": [
    "no_newline_regex = re.compile('.*')\n",
    "no_newline_regex.search('Serve the public trust.\\nProtect the innocent.\\nUphold the law.').group()"
   ]
  },
  {
   "cell_type": "code",
   "execution_count": 86,
   "metadata": {},
   "outputs": [
    {
     "data": {
      "text/plain": [
       "'Serve the public trust.\\nProtect the innocent.\\nUphold the law.'"
      ]
     },
     "execution_count": 86,
     "metadata": {},
     "output_type": "execute_result"
    }
   ],
   "source": [
    "\n",
    "newline_regex = re.compile('.*', re.DOTALL)\n",
    "newline_regex.search('Serve the public trust.\\nProtect the innocent.\\nUphold the law.').group()"
   ]
  },
  {
   "cell_type": "markdown",
   "metadata": {},
   "source": [
    "## Managing complex Regexes"
   ]
  },
  {
   "cell_type": "markdown",
   "metadata": {},
   "source": [
    "To tell the re.compile() function to ignore whitespace and comments inside the regular expression string, “verbose mode” can be enabled by passing the variable re.VERBOSE as the second argument to re.compile().\n",
    "\n",
    "Now instead of a hard-to-read regular expression like this:\n",
    "`phone_regex = re.compile(r'((\\d{3}|\\(\\d{3}\\))?(\\s|-|\\.)?\\d{3}(\\s|-|\\.)\\d{4}(\\s*(ext|x|ext.)\\s*\\d{2,5})?)')`\n",
    "\n",
    "you can spread the regular expression over multiple lines with comments like this:"
   ]
  },
  {
   "cell_type": "code",
   "execution_count": 101,
   "metadata": {},
   "outputs": [
    {
     "name": "stdout",
     "output_type": "stream",
     "text": [
      "415-555-1011 ext 22\n",
      "415\n",
      "-\n",
      "555\n",
      "-\n",
      "1011\n",
      " ext 22\n"
     ]
    }
   ],
   "source": [
    "phone_regex = re.compile(r'''(\n",
    "    (\\d{3}|\\(\\d{3}\\))?            # area code\n",
    "    (\\s|-|\\.)?                    # separator\n",
    "    (\\d{3})                         # first 3 digits\n",
    "    (\\s|-|\\.)                     # separator\n",
    "    (\\d{4})                         # last 4 digits\n",
    "    (\\s*(ext|x|ext.)\\s*\\d{2,5})?  # extension\n",
    "    )''', re.VERBOSE)\n",
    "\n",
    "# example\n",
    "for i in range(1,8):\n",
    "    print(phone_regex.search('Call me at 415-555-1011 ext 22 tomorrow.').group(i))"
   ]
  },
  {
   "cell_type": "markdown",
   "metadata": {},
   "source": [
    "## example"
   ]
  },
  {
   "cell_type": "code",
   "execution_count": 113,
   "metadata": {},
   "outputs": [
    {
     "name": "stdout",
     "output_type": "stream",
     "text": [
      "{'university': 'Harvard University', 'city': 'Cambridge', 'state': 'Massachusetts'}\n",
      "{'university': 'Stanford University', 'city': 'Stanford', 'state': 'California'}\n",
      "{'university': 'University of Texas', 'city': 'Austin', 'state': 'Texas'}\n",
      "{'university': 'MIT', 'city': 'Cambridge', 'state': 'Massachusetts'}\n"
     ]
    }
   ],
   "source": [
    "# Sample text\n",
    "text = \"\"\"\n",
    "Harvard University is located in Cambridge, Massachusetts.\n",
    "Stanford University can be found in Stanford, California.\n",
    "University of Texas is situated in Austin, Texas.\n",
    "MIT is based in Cambridge, Massachusetts.\n",
    "\"\"\"\n",
    "\n",
    "pattern = re.compile(r\"\"\"\n",
    "                     (?P<university>(?:University\\s+of\\s+[A-Za-z]+|[A-Za-z]+\\s+University|MIT)) # university name\n",
    "                     .*?\n",
    "                     in\\s+\n",
    "                     (?P<city>[A-Za-z]+) # city name\n",
    "                     ,\\s*\n",
    "                     (?P<state>[A-Za-z]+) # state name\n",
    "                     \"\"\", re.VERBOSE)          \n",
    "\n",
    "# Find all matches\n",
    "matches = pattern.finditer(text)  \n",
    "for match in matches:\n",
    "    print(match.groupdict())\n"
   ]
  }
 ],
 "metadata": {
  "kernelspec": {
   "display_name": "Python 3",
   "language": "python",
   "name": "python3"
  },
  "language_info": {
   "codemirror_mode": {
    "name": "ipython",
    "version": 3
   },
   "file_extension": ".py",
   "mimetype": "text/x-python",
   "name": "python",
   "nbconvert_exporter": "python",
   "pygments_lexer": "ipython3",
   "version": "3.12.6"
  }
 },
 "nbformat": 4,
 "nbformat_minor": 2
}
