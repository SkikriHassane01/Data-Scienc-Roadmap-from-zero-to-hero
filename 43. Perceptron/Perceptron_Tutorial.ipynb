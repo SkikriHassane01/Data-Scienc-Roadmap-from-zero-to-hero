{
 "cells": [
  {
   "cell_type": "markdown",
   "id": "3bf9cfde",
   "metadata": {},
   "source": [
    "# Perceptron Tutorial\n",
    "---\n",
    "## Introduction to Perceptron\n",
    "The **Perceptron** is one of the simplest types of artificial neural networks, introduced by Frank Rosenblatt in 1958. It is a binary classifier that maps input features to an output (either 0 or 1) using a linear decision boundary.\n",
    "\n",
    "**Key Concepts:**\n",
    "- Inspired by biological neurons.\n",
    "- Forms the foundation of modern neural networks.\n",
    "\n",
    "![alt text](<Untitled design.png>)"
   ]
  },
  {
   "cell_type": "markdown",
   "id": "d5bda7b9",
   "metadata": {},
   "source": [
    "## Mathematics Behind the Perceptron\n",
    "---\n",
    "### The Perceptron Model\n",
    "A perceptron computes a weighted sum of inputs and applies an activation function:\n",
    "\n",
    "$$ y = f(w_1x_1 + w_2x_2 + ... + w_nx_n + b) $$\n",
    "\n",
    "**Where:**\n",
    "- $x_i$ = Inputs\n",
    "- $w_i$ = Weights\n",
    "- $b$ = Bias\n",
    "- $f$ = Activation function (e.g., step function)\n",
    "\n",
    "### Activation Function\n",
    "The perceptron uses a **step function**:\n",
    "\n",
    "$$ f(z) = \\begin{cases} \n",
    "1 & \\text{if } z \\geq 0 \\\\\n",
    "0 & \\text{if } z < 0 \n",
    "\\end{cases} $$\n"
   ]
  },
  {
   "cell_type": "markdown",
   "id": "b706a54e",
   "metadata": {},
   "source": [
    "## Perceptron Learning Algorithm\n",
    "---\n",
    "The perceptron adjusts its weights based on the error of its predictions:\n",
    "1. Initialize weights and bias to small random values.\n",
    "2. For each training example:\n",
    "   - Compute the output $\\hat{y}$.\n",
    "   - Update weights and bias:\n",
    "\n",
    "   $$ w_i = w_i + \\eta (y - \\hat{y}) x_i $$\n",
    "   $$ b = b + \\eta (y - \\hat{y}) $$\n",
    "\n",
    "**Where:**\n",
    "- $y$ = True label\n",
    "- $\\hat{y}$ = Predicted label\n",
    "- $\\eta$ = Learning rate\n"
   ]
  },
  {
   "cell_type": "markdown",
   "id": "ba28d30c",
   "metadata": {},
   "source": [
    "## Limitations of the Perceptron\n",
    "---\n",
    "1. **Linearly Separable Data:**\n",
    "The perceptron can only solve problems where data is linearly separable.\n",
    "\n",
    "2. **XOR Problem:**\n",
    "The perceptron fails to classify datasets like XOR where the data is not linearly separable. This limitation was a major criticism of perceptrons until the development of multi-layer networks and backpropagation.\n"
   ]
  },
  {
   "cell_type": "code",
   "execution_count": null,
   "id": "c7572c5b",
   "metadata": {},
   "outputs": [],
   "source": [
    "# Perceptron Implementation from Scratch\n",
    "import numpy as np\n",
    "\n",
    "class Perceptron:\n",
    "    def __init__(self, learning_rate=0.1, epochs=100):\n",
    "        self.learning_rate = learning_rate\n",
    "        self.epochs = epochs\n",
    "\n",
    "    def fit(self, X, y):\n",
    "        self.weights = np.zeros(X.shape[1])\n",
    "        self.bias = 0\n",
    "\n",
    "        for _ in range(self.epochs):\n",
    "            for xi, yi in zip(X, y):\n",
    "                update = self.learning_rate * (yi - self.predict(xi))\n",
    "                self.weights += update * xi\n",
    "                self.bias += update\n",
    "\n",
    "    def predict(self, X):\n",
    "        linear_output = np.dot(X, self.weights) + self.bias\n",
    "        return np.where(linear_output >= 0, 1, 0)\n",
    "\n",
    "# Create a toy dataset\n",
    "X = np.array([[1, 1], [1, -1], [-1, 1], [-1, -1]])\n",
    "y = np.array([1, 0, 0, 0])\n",
    "\n",
    "# Train the perceptron\n",
    "perceptron = Perceptron(learning_rate=0.1, epochs=10)\n",
    "perceptron.fit(X, y)\n",
    "\n",
    "print(\"Weights:\", perceptron.weights)\n",
    "print(\"Bias:\", perceptron.bias)"
   ]
  },
  {
   "cell_type": "code",
   "execution_count": null,
   "id": "156403eb",
   "metadata": {},
   "outputs": [],
   "source": [
    "# Visualizing Perceptron Decision Boundary\n",
    "import matplotlib.pyplot as plt\n",
    "\n",
    "def plot_decision_boundary(X, y, model):\n",
    "    x_min, x_max = X[:, 0].min() - 1, X[:, 0].max() + 1\n",
    "    y_min, y_max = X[:, 1].min() - 1, X[:, 1].max() + 1\n",
    "    xx, yy = np.meshgrid(np.arange(x_min, x_max, 0.01),\n",
    "                         np.arange(y_min, y_max, 0.01))\n",
    "    \n",
    "    Z = model.predict(np.c_[xx.ravel(), yy.ravel()])\n",
    "    Z = Z.reshape(xx.shape)\n",
    "\n",
    "    plt.contourf(xx, yy, Z, alpha=0.8)\n",
    "    plt.scatter(X[:, 0], X[:, 1], c=y, edgecolors='k', marker='o')\n",
    "    plt.title('Perceptron Decision Boundary')\n",
    "    plt.show()\n",
    "\n",
    "plot_decision_boundary(X, y, perceptron)"
   ]
  },
  {
   "cell_type": "code",
   "execution_count": null,
   "id": "74a97626",
   "metadata": {},
   "outputs": [],
   "source": [
    "# Using Scikit-learn's Perceptron\n",
    "from sklearn.linear_model import Perceptron\n",
    "from sklearn.metrics import accuracy_score\n",
    "\n",
    "# Train the Perceptron using scikit-learn\n",
    "model = Perceptron(eta0=0.1, max_iter=10)\n",
    "model.fit(X, y)\n",
    "\n",
    "# Predict and evaluate\n",
    "y_pred = model.predict(X)\n",
    "print(\"Accuracy:\", accuracy_score(y, y_pred))"
   ]
  },
  {
   "cell_type": "markdown",
   "id": "d6483fa1",
   "metadata": {},
   "source": [
    "## Applications and Relevance\n",
    "---\n",
    "- **Foundational model**: Basis for modern neural networks.\n",
    "- **Simple classification tasks**: Useful for linearly separable problems.\n",
    "- **Educational tool**: Demonstrates core concepts of learning algorithms.\n"
   ]
  },
  {
   "cell_type": "markdown",
   "id": "9fcc17f2",
   "metadata": {},
   "source": [
    "## Further Learning Resources\n",
    "---\n",
    "- 'Deep Learning' by Ian Goodfellow\n",
    "- Online tutorials on perceptrons (e.g., Towards Data Science, Medium)\n",
    "- Courses on machine learning (Coursera, edX, and Fast.ai)\n"
   ]
  }
 ],
 "metadata": {
  "language_info": {
   "name": "python"
  }
 },
 "nbformat": 4,
 "nbformat_minor": 5
}
