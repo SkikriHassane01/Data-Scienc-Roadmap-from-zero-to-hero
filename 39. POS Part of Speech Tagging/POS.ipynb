{
 "cells": [
  {
   "cell_type": "markdown",
   "metadata": {},
   "source": [
    "## Introduction \n",
    "\n",
    "Speech tagging, also known as part-of-speech (POS) tagging, is a foundational task in natural language processing (NLP). In speech tagging, each word in a text is assigned a tag representing its grammatical role, such as noun, verb, adjective, etc.\n",
    "\n",
    "`Example:`\n",
    "\n",
    "* Input: A sequence of words (e.g., \"The dog barked loudly\").\n",
    "* Output: A sequence of tags (e.g., \"DET NOUN VERB ADV\").\n"
   ]
  },
  {
   "cell_type": "code",
   "execution_count": 3,
   "metadata": {},
   "outputs": [],
   "source": [
    "# a nice and long quote\n",
    "\n",
    "paragraph = \"\"\"\n",
    "    the best way to predict the future is to create it,\n",
    "    and the best way to create the future is to learn from the past.\n",
    "    so don't be afraid to learn from the past, and don't be afraid to create the future.\"\"\"\n"
   ]
  },
  {
   "cell_type": "code",
   "execution_count": null,
   "metadata": {},
   "outputs": [],
   "source": [
    "import nltk\n",
    "from nltk.tokenize import word_tokenize\n",
    "from nltk.corpus import stopwords\n",
    "\n",
    "\n",
    "# step1: tokenize the paragraph\n",
    "words = word_tokenize(paragraph)\n",
    "print(words)"
   ]
  },
  {
   "cell_type": "code",
   "execution_count": null,
   "metadata": {},
   "outputs": [],
   "source": [
    "\n",
    "# step2: apply stop words\n",
    "\n",
    "stopwords = set(stopwords.words('english'))\n",
    "print(stopwords)"
   ]
  },
  {
   "cell_type": "code",
   "execution_count": null,
   "metadata": {},
   "outputs": [],
   "source": [
    "filter_words = [word for word in words if word.lower() not in stopwords]\n",
    "print(filter_words)"
   ]
  },
  {
   "cell_type": "code",
   "execution_count": null,
   "metadata": {},
   "outputs": [],
   "source": [
    "# step3: find the pos tag of the word\n",
    "\n",
    "for i in range(len(words)):\n",
    "    pos_tag = nltk.pos_tag(words[i])\n",
    "    print(words[i], pos_tag(words[i]))"
   ]
  },
  {
   "cell_type": "code",
   "execution_count": null,
   "metadata": {},
   "outputs": [],
   "source": [
    "print(nltk.pos_tag(\"Taj Mahal is a beautiful Monument\".split()))"
   ]
  },
  {
   "cell_type": "code",
   "execution_count": 2,
   "metadata": {},
   "outputs": [
    {
     "name": "stdout",
     "output_type": "stream",
     "text": [
      "Taj -> PROPN (NNP)\n",
      "Mahal -> PROPN (NNP)\n",
      "is -> AUX (VBZ)\n",
      "a -> DET (DT)\n",
      "beautiful -> ADJ (JJ)\n",
      "monument -> NOUN (NN)\n",
      ". -> PUNCT (.)\n"
     ]
    }
   ],
   "source": [
    "# we can use also spacy \n",
    "\n",
    "import spacy\n",
    "nlp = spacy.load(\"en_core_web_sm\")\n",
    "doc = nlp(\"Taj Mahal is a beautiful monument.\")\n",
    "for token in doc:\n",
    "    print(f\"{token.text} -> {token.pos_} ({token.tag_})\")\n"
   ]
  },
  {
   "cell_type": "code",
   "execution_count": 4,
   "metadata": {},
   "outputs": [
    {
     "name": "stdout",
     "output_type": "stream",
     "text": [
      "\n",
      "     -> SPACE (_SP)\n",
      "the -> DET (DT)\n",
      "best -> ADJ (JJS)\n",
      "way -> NOUN (NN)\n",
      "to -> PART (TO)\n",
      "predict -> VERB (VB)\n",
      "the -> DET (DT)\n",
      "future -> NOUN (NN)\n",
      "is -> AUX (VBZ)\n",
      "to -> PART (TO)\n",
      "create -> VERB (VB)\n",
      "it -> PRON (PRP)\n",
      ", -> PUNCT (,)\n",
      "\n",
      "     -> SPACE (_SP)\n",
      "and -> CCONJ (CC)\n",
      "the -> DET (DT)\n",
      "best -> ADJ (JJS)\n",
      "way -> NOUN (NN)\n",
      "to -> PART (TO)\n",
      "create -> VERB (VB)\n",
      "the -> DET (DT)\n",
      "future -> NOUN (NN)\n",
      "is -> AUX (VBZ)\n",
      "to -> PART (TO)\n",
      "learn -> VERB (VB)\n",
      "from -> ADP (IN)\n",
      "the -> DET (DT)\n",
      "past -> NOUN (NN)\n",
      ". -> PUNCT (.)\n",
      "\n",
      "     -> SPACE (_SP)\n",
      "so -> ADV (RB)\n",
      "do -> AUX (VBP)\n",
      "n't -> PART (RB)\n",
      "be -> AUX (VB)\n",
      "afraid -> ADJ (JJ)\n",
      "to -> PART (TO)\n",
      "learn -> VERB (VB)\n",
      "from -> ADP (IN)\n",
      "the -> DET (DT)\n",
      "past -> NOUN (NN)\n",
      ", -> PUNCT (,)\n",
      "and -> CCONJ (CC)\n",
      "do -> AUX (VBP)\n",
      "n't -> PART (RB)\n",
      "be -> AUX (VB)\n",
      "afraid -> ADJ (JJ)\n",
      "to -> PART (TO)\n",
      "create -> VERB (VB)\n",
      "the -> DET (DT)\n",
      "future -> NOUN (NN)\n",
      ". -> PUNCT (.)\n"
     ]
    }
   ],
   "source": [
    "doc = nlp(paragraph)\n",
    "for token in doc:\n",
    "    print(f\"{token.text} -> {token.pos_} ({token.tag_})\")"
   ]
  },
  {
   "cell_type": "markdown",
   "metadata": {},
   "source": [
    "\"\"\"\n",
    "# POS Tags and Their Descriptions\n",
    "\n",
    "- **CC**: Coordinating conjunction  \n",
    "- **CD**: Cardinal digit  \n",
    "- **DT**: Determiner  \n",
    "- **EX**: Existential \"there\" (e.g., \"there is\")  \n",
    "- **FW**: Foreign word  \n",
    "- **IN**: Preposition/subordinating conjunction  \n",
    "- **JJ**: Adjective (e.g., \"big\")  \n",
    "- **JJR**: Adjective, comparative (e.g., \"bigger\")  \n",
    "- **JJS**: Adjective, superlative (e.g., \"biggest\")  \n",
    "- **LS**: List marker (e.g., \"1)\")  \n",
    "- **MD**: Modal (e.g., \"could\", \"will\")  \n",
    "- **NN**: Noun, singular (e.g., \"desk\")  \n",
    "- **NNS**: Noun, plural (e.g., \"desks\")  \n",
    "- **NNP**: Proper noun, singular (e.g., \"Harrison\")  \n",
    "- **NNPS**: Proper noun, plural (e.g., \"Americans\")  \n",
    "- **PDT**: Predeterminer (e.g., \"all the kids\")  \n",
    "- **POS**: Possessive ending (e.g., \"parent's\")  \n",
    "- **PRP**: Personal pronoun (e.g., \"I\", \"he\", \"she\")  \n",
    "- **PRP$**: Possessive pronoun (e.g., \"my\", \"his\", \"hers\")  \n",
    "- **RB**: Adverb (e.g., \"very\", \"silently\")  \n",
    "- **RBR**: Adverb, comparative (e.g., \"better\")  \n",
    "- **RBS**: Adverb, superlative (e.g., \"best\")  \n",
    "- **RP**: Particle (e.g., \"give up\")  \n",
    "- **TO**: To (e.g., \"to go 'to' the store\")  \n",
    "- **UH**: Interjection (e.g., \"errrrrrrrm\")  \n",
    "- **VB**: Verb, base form (e.g., \"take\")  \n",
    "- **VBD**: Verb, past tense (e.g., \"took\")  \n",
    "- **VBG**: Verb, gerund/present participle (e.g., \"taking\")  \n",
    "- **VBN**: Verb, past participle (e.g., \"taken\")  \n",
    "- **VBP**: Verb, singular present, non-3rd person (e.g., \"take\")  \n",
    "- **VBZ**: Verb, 3rd person singular present (e.g., \"takes\")  \n",
    "- **WDT**: Wh-determiner (e.g., \"which\")  \n",
    "- **WP**: Wh-pronoun (e.g., \"who\", \"what\")  \n",
    "- **WP$**: Possessive wh-pronoun (e.g., \"whose\")  \n",
    "- **WRB**: Wh-adverb (e.g., \"where\", \"when\") "
   ]
  }
 ],
 "metadata": {
  "kernelspec": {
   "display_name": "Python 3",
   "language": "python",
   "name": "python3"
  },
  "language_info": {
   "codemirror_mode": {
    "name": "ipython",
    "version": 3
   },
   "file_extension": ".py",
   "mimetype": "text/x-python",
   "name": "python",
   "nbconvert_exporter": "python",
   "pygments_lexer": "ipython3",
   "version": "3.12.6"
  }
 },
 "nbformat": 4,
 "nbformat_minor": 2
}
