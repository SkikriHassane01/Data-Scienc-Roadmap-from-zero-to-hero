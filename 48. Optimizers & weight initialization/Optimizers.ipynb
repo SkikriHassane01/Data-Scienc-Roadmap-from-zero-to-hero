{
 "cells": [
  {
   "cell_type": "markdown",
   "metadata": {},
   "source": [
    "# Optimizers\n",
    "\n",
    "\n",
    "1. [Batch, Mini Batch & Stochastic Gradient Descent](https://towardsdatascience.com/batch-mini-batch-stochastic-gradient-descent-7a62ecba642a)\n",
    "\n",
    "2. [SGD with Momentum](https://paperswithcode.com/method/sgd-with-momentum)\n",
    "\n",
    "3. [AdaGrad](https://www.datacamp.com/tutorial/adagrad-optimizer-explained)\n",
    "\n",
    "4. [RMSProp](https://www.datacamp.com/tutorial/rmsprop-optimizer-tutorial)\n",
    "\n",
    "5. [Adam](https://www.datacamp.com/tutorial/adam-optimizer-tutorial)"
   ]
  },
  {
   "cell_type": "markdown",
   "metadata": {},
   "source": [
    "# How to choose optimizers?\n",
    "\n",
    "- If the data is sparse, use the self-applicable methods, namely Adagrad, Adadelta, RMSprop, Adam.\n",
    "\n",
    "- RMSprop, Adadelta, Adam have similar effects in many cases.\n",
    "\n",
    "- Adam just added bias-correction and momentum on the basis of RMSprop,\n",
    "\n",
    "- As the gradient becomes sparse, Adam will perform better than RMSprop.\n",
    "\n",
    "**Overall, Adam is the best choice.**\n",
    "\n",
    ">SGD is used in many papers, without momentum, etc. Although SGD can reach a minimum value, it takes longer than other algorithms and may be trapped in the saddle point.\n",
    "\n",
    "- If faster convergence is needed, or deeper and more complex neural networks are trained, an adaptive algorithm is needed."
   ]
  },
  {
   "cell_type": "markdown",
   "metadata": {},
   "source": [
    "#### [Weight Initialization techniques](https://www.geeksforgeeks.org/weight-initialization-techniques-for-deep-neural-networks/)"
   ]
  }
 ],
 "metadata": {
  "kernelspec": {
   "display_name": "Python 3",
   "language": "python",
   "name": "python3"
  },
  "language_info": {
   "codemirror_mode": {
    "name": "ipython",
    "version": 3
   },
   "file_extension": ".py",
   "mimetype": "text/x-python",
   "name": "python",
   "nbconvert_exporter": "python",
   "pygments_lexer": "ipython3",
   "version": "3.7.3"
  }
 },
 "nbformat": 4,
 "nbformat_minor": 2
}
