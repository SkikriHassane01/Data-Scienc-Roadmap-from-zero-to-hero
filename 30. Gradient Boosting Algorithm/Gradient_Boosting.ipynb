{
 "cells": [
  {
   "cell_type": "markdown",
   "id": "bfb6b47e",
   "metadata": {},
   "source": [
    "<h1 style=\"background-color: #f8f0fa;\n",
    "            border-left: 5px solid #1b4332;\n",
    "            font-family: 'Trebuchet MS', sans-serif;\n",
    "            border-right: 5px solid #1b4332;\n",
    "            padding: 12px;\n",
    "            border-radius: 50px 50px;\n",
    "            color: #1b4332;\n",
    "            text-align:center;\n",
    "            font-size:45px;\"><strong>😊Gradient Boosting Algorithm🌟</strong></h1>\n",
    "<hr style=\"border-top: 5px solid #264653;\">"
   ]
  },
  {
   "cell_type": "markdown",
   "id": "b4842da8",
   "metadata": {},
   "source": [
    "This notebook demonstrates the implementation of the **Gradient Boosting algorithm** from scratch.\n",
    "Gradient Boosting is an ensemble method that improves prediction accuracy by sequentially adding weak models (like decision stumps).\n",
    "In each iteration, a weak model attempts to predict the residuals (errors) of the previous models, thereby minimizing them over time.\n",
    "\n",
    "In this example, we use a simple regression dataset with **10 samples** and **3 features** to illustrate Gradient Boosting.\n"
   ]
  },
  {
   "cell_type": "markdown",
   "id": "9b4595b5",
   "metadata": {},
   "source": [
    "\n",
    "## Gradient Boosting Algorithm Steps\n",
    "\n",
    "1. **Initialize with a Base Model**: Start by predicting the mean of the target variable.\n",
    "\n",
    "2. **Calculate Residuals**: Compute residuals, the differences between actual and predicted values.\n",
    "\n",
    "3. **Train a Weak Model on Residuals**: Train a weak model (e.g., a decision stump) on residuals to predict errors.\n",
    "\n",
    "4. **Update Predictions with Learning Rate**: Add the weak model’s predictions (scaled by a learning rate) to current predictions.\n",
    "\n",
    "5. **Repeat**: Iteratively repeat steps 2-4 to reduce residuals further.\n"
   ]
  },
  {
   "cell_type": "markdown",
   "id": "aeefc28d",
   "metadata": {},
   "source": [
    "\n",
    "## Example Dataset\n",
    "\n",
    "This dataset includes **10 samples** and **3 features**, used for demonstrating Gradient Boosting.\n",
    "\n",
    "| Sample | Feature 1 | Feature 2 | Feature 3 | Target |\n",
    "|--------|-----------|-----------|-----------|--------|\n",
    "| 1      | 1.0       | 2.0       | 3.0       | 10.0   |\n",
    "| 2      | 2.0       | 1.0       | 2.0       | 12.0   |\n",
    "| 3      | 3.0       | 2.0       | 1.0       | 15.0   |\n",
    "| 4      | 1.0       | 3.0       | 2.0       | 18.0   |\n",
    "| 5      | 2.0       | 1.0       | 1.0       | 10.0   |\n",
    "| 6      | 3.0       | 3.0       | 2.0       | 20.0   |\n",
    "| 7      | 1.0       | 1.0       | 1.0       | 8.0    |\n",
    "| 8      | 2.0       | 2.0       | 3.0       | 14.0   |\n",
    "| 9      | 3.0       | 1.0       | 2.0       | 16.0   |\n",
    "| 10     | 1.0       | 3.0       | 3.0       | 11.0   |\n"
   ]
  },
  {
   "cell_type": "code",
   "execution_count": 5,
   "id": "10440e31",
   "metadata": {},
   "outputs": [
    {
     "data": {
      "text/html": [
       "<div>\n",
       "<style scoped>\n",
       "    .dataframe tbody tr th:only-of-type {\n",
       "        vertical-align: middle;\n",
       "    }\n",
       "\n",
       "    .dataframe tbody tr th {\n",
       "        vertical-align: top;\n",
       "    }\n",
       "\n",
       "    .dataframe thead th {\n",
       "        text-align: right;\n",
       "    }\n",
       "</style>\n",
       "<table border=\"1\" class=\"dataframe\">\n",
       "  <thead>\n",
       "    <tr style=\"text-align: right;\">\n",
       "      <th></th>\n",
       "      <th>Feature_1</th>\n",
       "      <th>Feature_2</th>\n",
       "      <th>Feature_3</th>\n",
       "      <th>Target</th>\n",
       "    </tr>\n",
       "    <tr>\n",
       "      <th>Sample</th>\n",
       "      <th></th>\n",
       "      <th></th>\n",
       "      <th></th>\n",
       "      <th></th>\n",
       "    </tr>\n",
       "  </thead>\n",
       "  <tbody>\n",
       "    <tr>\n",
       "      <th>1</th>\n",
       "      <td>1.0</td>\n",
       "      <td>2.0</td>\n",
       "      <td>3.0</td>\n",
       "      <td>10.0</td>\n",
       "    </tr>\n",
       "    <tr>\n",
       "      <th>2</th>\n",
       "      <td>2.0</td>\n",
       "      <td>1.0</td>\n",
       "      <td>2.0</td>\n",
       "      <td>12.0</td>\n",
       "    </tr>\n",
       "    <tr>\n",
       "      <th>3</th>\n",
       "      <td>3.0</td>\n",
       "      <td>2.0</td>\n",
       "      <td>1.0</td>\n",
       "      <td>15.0</td>\n",
       "    </tr>\n",
       "    <tr>\n",
       "      <th>4</th>\n",
       "      <td>1.0</td>\n",
       "      <td>3.0</td>\n",
       "      <td>2.0</td>\n",
       "      <td>18.0</td>\n",
       "    </tr>\n",
       "    <tr>\n",
       "      <th>5</th>\n",
       "      <td>2.0</td>\n",
       "      <td>1.0</td>\n",
       "      <td>1.0</td>\n",
       "      <td>10.0</td>\n",
       "    </tr>\n",
       "    <tr>\n",
       "      <th>6</th>\n",
       "      <td>3.0</td>\n",
       "      <td>3.0</td>\n",
       "      <td>2.0</td>\n",
       "      <td>20.0</td>\n",
       "    </tr>\n",
       "    <tr>\n",
       "      <th>7</th>\n",
       "      <td>1.0</td>\n",
       "      <td>1.0</td>\n",
       "      <td>1.0</td>\n",
       "      <td>8.0</td>\n",
       "    </tr>\n",
       "    <tr>\n",
       "      <th>8</th>\n",
       "      <td>2.0</td>\n",
       "      <td>2.0</td>\n",
       "      <td>3.0</td>\n",
       "      <td>14.0</td>\n",
       "    </tr>\n",
       "    <tr>\n",
       "      <th>9</th>\n",
       "      <td>3.0</td>\n",
       "      <td>1.0</td>\n",
       "      <td>2.0</td>\n",
       "      <td>16.0</td>\n",
       "    </tr>\n",
       "    <tr>\n",
       "      <th>10</th>\n",
       "      <td>1.0</td>\n",
       "      <td>3.0</td>\n",
       "      <td>3.0</td>\n",
       "      <td>11.0</td>\n",
       "    </tr>\n",
       "  </tbody>\n",
       "</table>\n",
       "</div>"
      ],
      "text/plain": [
       "        Feature_1  Feature_2  Feature_3  Target\n",
       "Sample                                         \n",
       "1             1.0        2.0        3.0    10.0\n",
       "2             2.0        1.0        2.0    12.0\n",
       "3             3.0        2.0        1.0    15.0\n",
       "4             1.0        3.0        2.0    18.0\n",
       "5             2.0        1.0        1.0    10.0\n",
       "6             3.0        3.0        2.0    20.0\n",
       "7             1.0        1.0        1.0     8.0\n",
       "8             2.0        2.0        3.0    14.0\n",
       "9             3.0        1.0        2.0    16.0\n",
       "10            1.0        3.0        3.0    11.0"
      ]
     },
     "execution_count": 5,
     "metadata": {},
     "output_type": "execute_result"
    }
   ],
   "source": [
    "\n",
    "import pandas as pd\n",
    "import numpy as np\n",
    "# Define the dataset\n",
    "data = {\n",
    "    'Sample': [1, 2, 3, 4, 5, 6, 7, 8, 9, 10],\n",
    "    'Feature_1': [1.0, 2.0, 3.0, 1.0, 2.0, 3.0, 1.0, 2.0, 3.0, 1.0],\n",
    "    'Feature_2': [2.0, 1.0, 2.0, 3.0, 1.0, 3.0, 1.0, 2.0, 1.0, 3.0],\n",
    "    'Feature_3': [3.0, 2.0, 1.0, 2.0, 1.0, 2.0, 1.0, 3.0, 2.0, 3.0],\n",
    "    'Target': [10.0, 12.0, 15.0, 18.0, 10.0, 20.0, 8.0, 14.0, 16.0, 11.0]\n",
    "}\n",
    "\n",
    "df = pd.DataFrame(data)\n",
    "df.set_index('Sample', inplace=True)\n",
    "df\n"
   ]
  },
  {
   "cell_type": "markdown",
   "id": "f017527c",
   "metadata": {},
   "source": [
    "\n",
    "## Step 1: Initialize with a Base Model\n",
    "\n",
    "The initial model predicts the mean of the target values as a starting point.\n"
   ]
  },
  {
   "cell_type": "code",
   "execution_count": 6,
   "id": "7c2db1a1",
   "metadata": {},
   "outputs": [
    {
     "data": {
      "text/plain": [
       "array([13.4, 13.4, 13.4, 13.4, 13.4, 13.4, 13.4, 13.4, 13.4, 13.4])"
      ]
     },
     "execution_count": 6,
     "metadata": {},
     "output_type": "execute_result"
    }
   ],
   "source": [
    "\n",
    "# Calculate the initial prediction as the mean of the target\n",
    "initial_prediction = df['Target'].mean()\n",
    "predictions = np.full(len(df), initial_prediction)\n",
    "predictions\n"
   ]
  },
  {
   "cell_type": "markdown",
   "id": "fb37276e",
   "metadata": {},
   "source": [
    "\n",
    "## Step 2: Calculate Residuals\n",
    "\n",
    "Residuals are calculated as the difference between the target values and the current predictions. \n",
    "These residuals represent the errors the model will try to minimize.\n"
   ]
  },
  {
   "cell_type": "code",
   "execution_count": 7,
   "id": "0ad5ac61",
   "metadata": {},
   "outputs": [
    {
     "data": {
      "text/plain": [
       "Sample\n",
       "1    -3.4\n",
       "2    -1.4\n",
       "3     1.6\n",
       "4     4.6\n",
       "5    -3.4\n",
       "6     6.6\n",
       "7    -5.4\n",
       "8     0.6\n",
       "9     2.6\n",
       "10   -2.4\n",
       "Name: Target, dtype: float64"
      ]
     },
     "execution_count": 7,
     "metadata": {},
     "output_type": "execute_result"
    }
   ],
   "source": [
    "\n",
    "# Calculate residuals\n",
    "residuals = df['Target'] - predictions\n",
    "residuals\n"
   ]
  },
  {
   "cell_type": "markdown",
   "id": "1b052a60",
   "metadata": {},
   "source": [
    "\n",
    "## Step 3: Train a Weak Model on Residuals\n",
    "\n",
    "To improve, a weak learner (e.g., decision stump) is trained on the residuals. Here, we use Feature 1 to predict residuals as a simple example.\n"
   ]
  },
  {
   "cell_type": "code",
   "execution_count": 8,
   "id": "3d5d9aa2",
   "metadata": {},
   "outputs": [
    {
     "data": {
      "text/plain": [
       "Sample\n",
       "1     11.75\n",
       "2     12.00\n",
       "3     17.00\n",
       "4     11.75\n",
       "5     12.00\n",
       "6     17.00\n",
       "7     11.75\n",
       "8     12.00\n",
       "9     17.00\n",
       "10    11.75\n",
       "Name: Target, dtype: float64"
      ]
     },
     "execution_count": 8,
     "metadata": {},
     "output_type": "execute_result"
    }
   ],
   "source": [
    "\n",
    "# Train a decision stump using Feature 1\n",
    "stump_predictions = df.groupby('Feature_1')['Target'].transform('mean')\n",
    "stump_predictions\n"
   ]
  },
  {
   "cell_type": "markdown",
   "id": "f14bb324",
   "metadata": {},
   "source": [
    "\n",
    "## Step 4: Update Predictions with Learning Rate\n",
    "\n",
    "Scale the weak learner's predictions by a learning rate (e.g., 0.1) and add to the current predictions.\n"
   ]
  },
  {
   "cell_type": "code",
   "execution_count": 9,
   "id": "4db97e66",
   "metadata": {},
   "outputs": [
    {
     "data": {
      "text/plain": [
       "Sample\n",
       "1     14.575\n",
       "2     14.600\n",
       "3     15.100\n",
       "4     14.575\n",
       "5     14.600\n",
       "6     15.100\n",
       "7     14.575\n",
       "8     14.600\n",
       "9     15.100\n",
       "10    14.575\n",
       "Name: Target, dtype: float64"
      ]
     },
     "execution_count": 9,
     "metadata": {},
     "output_type": "execute_result"
    }
   ],
   "source": [
    "\n",
    "learning_rate = 0.1\n",
    "predictions += learning_rate * stump_predictions\n",
    "predictions\n"
   ]
  },
  {
   "cell_type": "markdown",
   "id": "49b625ee",
   "metadata": {},
   "source": [
    "\n",
    "## Step 5: Repeat the Process\n",
    "\n",
    "The steps are repeated for several iterations to further minimize residuals, improving the model incrementally.\n"
   ]
  }
 ],
 "metadata": {
  "kernelspec": {
   "display_name": "base",
   "language": "python",
   "name": "python3"
  },
  "language_info": {
   "codemirror_mode": {
    "name": "ipython",
    "version": 3
   },
   "file_extension": ".py",
   "mimetype": "text/x-python",
   "name": "python",
   "nbconvert_exporter": "python",
   "pygments_lexer": "ipython3",
   "version": "3.12.4"
  }
 },
 "nbformat": 4,
 "nbformat_minor": 5
}
