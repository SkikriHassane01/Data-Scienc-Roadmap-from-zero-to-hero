{
 "cells": [
  {
   "cell_type": "markdown",
   "metadata": {},
   "source": [
    "## Introduction \n",
    "\n",
    "Named Entity Recognition (NER) is a fundamental task in Natural Language Processing (NLP). It involves identifying and classifying entities in text into predefined categories such as names of people, organizations, locations, dates, and more. This tutorial will guide you through the concepts, techniques, and implementation of NER.\n",
    "\n",
    "\n",
    "NER is a sequence labeling task where the goal is to identify entities and assign them to categories.\n",
    "\n",
    "#### Examples:\n",
    "\n",
    "Input:\n",
    "`Apple is looking at buying U.K. startup for $1 billion.`\n",
    "\n",
    "Output:\n",
    "\n",
    "* Apple → Organization\n",
    "* U.K. → Location\n",
    "* $1 billion → Monetary value\n"
   ]
  },
  {
   "cell_type": "code",
   "execution_count": 3,
   "metadata": {},
   "outputs": [
    {
     "name": "stdout",
     "output_type": "stream",
     "text": [
      "The Eiffel Tower -> LOC\n",
      "1887 to 1889 -> DATE\n",
      "Gustave Eiffel -> PERSON\n"
     ]
    }
   ],
   "source": [
    "import spacy\n",
    "\n",
    "nlp = spacy.load('en_core_web_sm')\n",
    "\n",
    "text = \"The Eiffel Tower was built from 1887 to 1889 by Gustave Eiffel, whose company specialized in building metal frameworks and structures.\"\n",
    "\n",
    "doc = nlp(text)\n",
    "\n",
    "for ent in doc.ents:\n",
    "    print(f\"{ent.text} -> {ent.label_}\")\n"
   ]
  }
 ],
 "metadata": {
  "kernelspec": {
   "display_name": "Python 3",
   "language": "python",
   "name": "python3"
  },
  "language_info": {
   "codemirror_mode": {
    "name": "ipython",
    "version": 3
   },
   "file_extension": ".py",
   "mimetype": "text/x-python",
   "name": "python",
   "nbconvert_exporter": "python",
   "pygments_lexer": "ipython3",
   "version": "3.12.6"
  }
 },
 "nbformat": 4,
 "nbformat_minor": 2
}
