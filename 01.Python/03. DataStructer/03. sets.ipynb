{
 "cells": [
  {
   "cell_type": "markdown",
   "metadata": {},
   "source": [
    "<div style =\"font-family:Trebuchet MS; background-color : #f8f0fa; border-left: 5px solid #1b4332; padding: 12px; border-radius: 50px 50px;\">\n",
    "    <h2 style=\"color: #1b4332; font-size: 48px; text-align: center;\">\n",
    "        <b>Setes</b>\n",
    "        <hr style=\"border-top: 2px solid #264653;\">\n",
    "    </h2>\n",
    "    <h3 style=\"font-size: 14px; color: #264653; text-align: left; \"><strong> I hope this is very helpful. let's started .😊🌟</strong></h3>\n",
    "</div>"
   ]
  },
  {
   "cell_type": "markdown",
   "metadata": {},
   "source": [
    "### set: are the same as list but they are unordered and unindexed and it used to store unique values\n",
    "\n"
   ]
  },
  {
   "cell_type": "code",
   "execution_count": 19,
   "metadata": {},
   "outputs": [
    {
     "name": "stdout",
     "output_type": "stream",
     "text": [
      "{1, 2, 3, 4, 5} <class 'set'>\n",
      "{1, 2, 3, 4, 5} <class 'set'>\n",
      "{'e', 'h', 'o', 'l'} <class 'set'>\n"
     ]
    }
   ],
   "source": [
    "# create a set\n",
    "set1 = {1, 2, 3, 4, 4, 4, 5}\n",
    "print(set1,type(set1))\n",
    "\n",
    "# create a set from a list\n",
    "set2 = set([1, 2, 3, 4, 4, 4, 5])\n",
    "print(set2,type(set2))\n",
    "\n",
    "# create a set from a string\n",
    "set3 = set('hello')\n",
    "print(set3,type(set3))"
   ]
  },
  {
   "cell_type": "markdown",
   "metadata": {},
   "source": [
    "### setes operations"
   ]
  },
  {
   "cell_type": "code",
   "execution_count": 20,
   "metadata": {},
   "outputs": [
    {
     "name": "stdout",
     "output_type": "stream",
     "text": [
      "{'e', 'h', 'o', 'x', 'l'}\n",
      "{'e', 'b', 'c', 'a', 'h', 'o', 'x', 'l'}\n"
     ]
    }
   ],
   "source": [
    "# add an element to a set\n",
    "set3.add('x')\n",
    "print(set3)\n",
    "\n",
    "# add multiple elements to a set\n",
    "set3.update('abc')\n",
    "print(set3)"
   ]
  },
  {
   "cell_type": "code",
   "execution_count": 21,
   "metadata": {},
   "outputs": [
    {
     "name": "stdout",
     "output_type": "stream",
     "text": [
      "{'e', 'b', 'c', 'h', 'o', 'x', 'l'}\n",
      "{'e', 'b', 'c', 'h', 'o', 'x', 'l'}\n",
      "e\n",
      "{'b', 'c', 'h', 'o', 'x', 'l'}\n",
      "set()\n"
     ]
    }
   ],
   "source": [
    "# remove an element from a set\n",
    "set3.remove('a')\n",
    "print(set3)\n",
    "\n",
    "# remove an element from a set if it is a member, if not do nothing\n",
    "set3.discard('a')\n",
    "print(set3)\n",
    "\n",
    "# remove and return the set and the element that was removed\n",
    "print(set3.pop())\n",
    "print(set3)\n",
    "\n",
    "# remove all elements from a set\n",
    "set3.clear()\n",
    "print(set3)\n",
    "\n",
    "# delete the set\n",
    "del set3\n"
   ]
  },
  {
   "cell_type": "code",
   "execution_count": 22,
   "metadata": {},
   "outputs": [
    {
     "name": "stdout",
     "output_type": "stream",
     "text": [
      "{1, 2, 3, 4, 5, 6, 7, 8}\n",
      "{1, 2, 3, 4, 5, 6, 7, 8}\n",
      "{4, 5}\n",
      "{4, 5}\n"
     ]
    }
   ],
   "source": [
    "# mathematical set operations\n",
    "\n",
    "set1 = {1, 2, 3, 4, 5}\n",
    "set2 = {4, 5, 6, 7, 8}\n",
    "\n",
    "# union\n",
    "print(set1 | set2)\n",
    "print(set1.union(set2))\n",
    "\n",
    "# intersection\n",
    "print(set1 & set2)\n",
    "print(set1.intersection(set2))"
   ]
  },
  {
   "cell_type": "code",
   "execution_count": 23,
   "metadata": {},
   "outputs": [
    {
     "name": "stdout",
     "output_type": "stream",
     "text": [
      "{1, 2, 3}\n",
      "{1, 2, 3}\n",
      "{1, 2, 3, 6, 7, 8}\n",
      "{1, 2, 3, 6, 7, 8}\n",
      "True\n"
     ]
    }
   ],
   "source": [
    "# difference (elements in set1 but not in set2)\n",
    "print(set1 - set2)\n",
    "print(set1.difference(set2))\n",
    "\n",
    "# symmetric difference (elements in set1 or set2 but not in both)\n",
    "print(set1 ^ set2)\n",
    "print(set1.symmetric_difference(set2))\n",
    "\n",
    "# check if a set is a subset of another set\n",
    "print({1, 2}.issubset(set1))"
   ]
  },
  {
   "cell_type": "markdown",
   "metadata": {},
   "source": [
    "### count unique words in a text"
   ]
  },
  {
   "cell_type": "code",
   "execution_count": 24,
   "metadata": {},
   "outputs": [
    {
     "name": "stdout",
     "output_type": "stream",
     "text": [
      "{'is', 'hello', 'this', 'world', 'in', 'about', 'sets', 'python'}\n"
     ]
    }
   ],
   "source": [
    "text = \"hello hello world world this this is is about about sets sets in python python\"\n",
    "\n",
    "# create a set of unique words\n",
    "words = set(text.split())\n",
    "print(words)"
   ]
  }
 ],
 "metadata": {
  "kernelspec": {
   "display_name": "Python 3",
   "language": "python",
   "name": "python3"
  },
  "language_info": {
   "codemirror_mode": {
    "name": "ipython",
    "version": 3
   },
   "file_extension": ".py",
   "mimetype": "text/x-python",
   "name": "python",
   "nbconvert_exporter": "python",
   "pygments_lexer": "ipython3",
   "version": "3.12.1"
  }
 },
 "nbformat": 4,
 "nbformat_minor": 2
}
