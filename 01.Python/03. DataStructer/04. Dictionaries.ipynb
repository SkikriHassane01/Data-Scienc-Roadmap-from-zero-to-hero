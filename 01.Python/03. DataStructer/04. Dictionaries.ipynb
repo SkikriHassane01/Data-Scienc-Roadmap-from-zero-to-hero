{
 "cells": [
  {
   "cell_type": "markdown",
   "metadata": {},
   "source": [
    "<div style =\"font-family:Trebuchet MS; background-color : #f8f0fa; border-left: 5px solid #1b4332; padding: 12px; border-radius: 50px 50px;\">\n",
    "    <h2 style=\"color: #1b4332; font-size: 48px; text-align: center;\">\n",
    "        <b>Dictionaries</b>\n",
    "        <hr style=\"border-top: 2px solid #264653;\">\n",
    "    </h2>\n",
    "    <h3 style=\"font-size: 14px; color: #264653; text-align: left; \"><strong> I hope this is very helpful. let's started .😊🌟</strong></h3>\n",
    "</div>"
   ]
  },
  {
   "cell_type": "markdown",
   "metadata": {},
   "source": [
    "#### Dictionaries are unordered collections of items, they store date in key-values paires, the key must be unique and immutable."
   ]
  },
  {
   "cell_type": "code",
   "execution_count": 40,
   "metadata": {},
   "outputs": [
    {
     "name": "stdout",
     "output_type": "stream",
     "text": [
      "{'Name': ['hassane', 'mohamed', 'ali'], 'Age': [25, 30, 35], 'Country': ['Morocco', 'Algeria', 'Tunisia']}\n",
      "<class 'dict'>\n"
     ]
    }
   ],
   "source": [
    "# create a dict\n",
    "\n",
    "dict = {'Name': ['hassane','mohamed','ali'],\n",
    "        'Age': [25, 30, 35],\n",
    "        'Country': ['Morocco', 'Algeria', 'Tunisia']}\n",
    "print(dict)\n",
    "print (type(dict))"
   ]
  },
  {
   "cell_type": "code",
   "execution_count": 41,
   "metadata": {},
   "outputs": [
    {
     "name": "stdout",
     "output_type": "stream",
     "text": [
      "['hassane', 'mohamed', 'ali']\n",
      "[25, 30, 35]\n",
      "['Morocco', 'Algeria', 'Tunisia']\n",
      "None not exist\n"
     ]
    }
   ],
   "source": [
    "# access the dict elements \n",
    "print(dict['Name'])\n",
    "print(dict['Age'])\n",
    "\n",
    "# using the get() method\n",
    "print(dict.get('Country'))\n",
    "print(dict.get('nothing'),'not exist')\n"
   ]
  },
  {
   "cell_type": "code",
   "execution_count": 42,
   "metadata": {},
   "outputs": [
    {
     "name": "stdout",
     "output_type": "stream",
     "text": [
      "{'Name': ['hassane', 'mohamed', 'ali'], 'Age': [30, 35, 40], 'Country': ['Morocco', 'Algeria', 'Tunisia']}\n",
      "{'Name': ['hassane', 'mohamed', 'ali'], 'Age': [30, 35, 40], 'Country': ['Morocco', 'sidi b3b3', 'Tunisia']}\n"
     ]
    }
   ],
   "source": [
    "# change the value of a specific item\n",
    "\n",
    "dict['Age'] = [30, 35, 40]\n",
    "print(dict)\n",
    "\n",
    "dict['Country'][1] = 'sidi b3b3' \n",
    "print(dict)"
   ]
  },
  {
   "cell_type": "code",
   "execution_count": 43,
   "metadata": {},
   "outputs": [
    {
     "name": "stdout",
     "output_type": "stream",
     "text": [
      "{'Name': ['hassane', 'mohamed', 'ali'], 'Age': [30, 35, 40], 'Country': ['Morocco', 'sidi b3b3', 'Tunisia'], 'Job': ['dev', 'sysadmin', 'network']}\n"
     ]
    }
   ],
   "source": [
    "# add a new item to the dict\n",
    "dict['Job'] = ['dev', 'sysadmin', 'network']\n",
    "print(dict)"
   ]
  },
  {
   "cell_type": "code",
   "execution_count": 44,
   "metadata": {},
   "outputs": [
    {
     "name": "stdout",
     "output_type": "stream",
     "text": [
      "{'Name': ['hassane', 'mohamed', 'ali'], 'Age': [30, 35, 40], 'Country': ['Morocco', 'sidi b3b3', 'Tunisia']}\n",
      "{'Name': ['hassane', 'mohamed', 'ali'], 'Age': [30, 35, 40]}\n",
      "{'Name': ['hassane', 'mohamed', 'ali']}\n",
      "{}\n"
     ]
    }
   ],
   "source": [
    "# remove an item from the dict\n",
    "dict.pop('Job')\n",
    "print(dict)\n",
    "\n",
    "# remove the last item from the dict\n",
    "dict.popitem()\n",
    "print(dict)\n",
    "\n",
    "# delete a specific item from the dict\n",
    "del dict['Age']\n",
    "print(dict)\n",
    "\n",
    "# clear the dict\n",
    "dict.clear()\n",
    "print(dict)\n",
    "\n",
    "# delete the dict\n",
    "del dict"
   ]
  },
  {
   "cell_type": "code",
   "execution_count": 45,
   "metadata": {},
   "outputs": [
    {
     "name": "stdout",
     "output_type": "stream",
     "text": [
      "dict_keys(['Name', 'Age', 'Country'])\n",
      "dict_values([['hassane', 'mohamed', 'ali'], [25, 30, 35], ['Morocco', 'Algeria', 'Tunisia']])\n",
      "dict_items([('Name', ['hassane', 'mohamed', 'ali']), ('Age', [25, 30, 35]), ('Country', ['Morocco', 'Algeria', 'Tunisia'])])\n"
     ]
    }
   ],
   "source": [
    "# get all the keys in the dict\n",
    "dict = {'Name': ['hassane','mohamed','ali'],\n",
    "        'Age': [25, 30, 35],\n",
    "        'Country': ['Morocco', 'Algeria', 'Tunisia']}\n",
    "print(dict.keys())\n",
    "\n",
    "# get all the values in the dict\n",
    "print(dict.values())\n",
    "\n",
    "# get all the items in the dict\n",
    "print(dict.items())\n"
   ]
  },
  {
   "cell_type": "code",
   "execution_count": 46,
   "metadata": {},
   "outputs": [
    {
     "name": "stdout",
     "output_type": "stream",
     "text": [
      "Name : ['hassane', 'mohamed', 'ali'] ---> len:  3\n",
      "Age : [25, 30, 35] ---> len:  3\n",
      "Country : ['Morocco', 'Algeria', 'Tunisia'] ---> len:  3\n"
     ]
    }
   ],
   "source": [
    "for i in dict:\n",
    "    print(i,':', dict[i], '---> len: ', len(dict[i]))"
   ]
  },
  {
   "cell_type": "code",
   "execution_count": 47,
   "metadata": {},
   "outputs": [
    {
     "name": "stdout",
     "output_type": "stream",
     "text": [
      "{'Name': ['yassine', 'mohamed', 'ali'], 'Age': [25, 30, 35], 'Country': ['Morocco', 'Algeria', 'Tunisia']}\n",
      "{'Name': ['yassine', 'mohamed', 'ali'], 'Age': [25, 30, 35], 'Country': ['Morocco', 'Algeria', 'Tunisia']}\n",
      "{'Name': ['yassine', 'mohamed', 'ali'], 'Age': [25, 30, 35], 'Country': ['Morocco', 'Algeria', 'Tunisia']}\n"
     ]
    }
   ],
   "source": [
    "# normal copy vs shallow copy \n",
    "dict1 = dict\n",
    "dict2 = dict.copy()\n",
    "\n",
    "dict['Name'][0] = 'yassine'\n",
    "print(dict)\n",
    "print(dict1)\n",
    "print(dict2)\n"
   ]
  },
  {
   "cell_type": "code",
   "execution_count": 52,
   "metadata": {},
   "outputs": [
    {
     "name": "stdout",
     "output_type": "stream",
     "text": [
      "Hassane\n",
      "25\n",
      "Morocco\n",
      "{'Title': 'DevOps Engineer', 'Experience': 3}\n"
     ]
    }
   ],
   "source": [
    "# nested dict\n",
    "dict = {\n",
    "    'Name': 'Hassane',\n",
    "    'Age': 25,\n",
    "    'Country': 'Morocco',\n",
    "    'Job': {\n",
    "        'Title': 'DevOps Engineer',\n",
    "        'Experience': 3\n",
    "    }\n",
    "}\n",
    "\n",
    "# iterate over values \n",
    "for value in dict.values():\n",
    "    print(value)"
   ]
  },
  {
   "cell_type": "code",
   "execution_count": 53,
   "metadata": {},
   "outputs": [
    {
     "name": "stdout",
     "output_type": "stream",
     "text": [
      "Name\n",
      "Age\n",
      "Country\n",
      "Job\n"
     ]
    }
   ],
   "source": [
    "# iterate over keys\n",
    "for key in dict.keys():\n",
    "    print(key)"
   ]
  },
  {
   "cell_type": "code",
   "execution_count": 54,
   "metadata": {},
   "outputs": [
    {
     "name": "stdout",
     "output_type": "stream",
     "text": [
      "Name : Hassane\n",
      "Age : 25\n",
      "Country : Morocco\n",
      "Job : {'Title': 'DevOps Engineer', 'Experience': 3}\n"
     ]
    }
   ],
   "source": [
    "# iterate over items\n",
    "for key, value in dict.items():\n",
    "    print(key, ':', value)"
   ]
  },
  {
   "cell_type": "code",
   "execution_count": 55,
   "metadata": {},
   "outputs": [
    {
     "name": "stdout",
     "output_type": "stream",
     "text": [
      "{0: 0, 1: 1, 2: 4, 3: 9, 4: 16, 5: 25, 6: 36, 7: 49, 8: 64, 9: 81}\n"
     ]
    }
   ],
   "source": [
    "# comprehension dict\n",
    "\n",
    "dict = {i: i**2 for i in range(10)}\n",
    "print(dict)"
   ]
  },
  {
   "cell_type": "code",
   "execution_count": 56,
   "metadata": {},
   "outputs": [
    {
     "name": "stdout",
     "output_type": "stream",
     "text": [
      "{'Name': 'Hassane', 'Age': 25, 'Country': 'Morocco', 'Job': 'Computer Science Engineer'}\n"
     ]
    }
   ],
   "source": [
    "# merge two dicts\n",
    "\n",
    "dict1 = {'Name': 'Hassane', 'Age': 25}\n",
    "dict2 = {'Country': 'Morocco', 'Job': 'Computer Science Engineer'}\n",
    "\n",
    "dict1.update(dict2)\n",
    "print(dict1)"
   ]
  }
 ],
 "metadata": {
  "kernelspec": {
   "display_name": "Python 3",
   "language": "python",
   "name": "python3"
  },
  "language_info": {
   "codemirror_mode": {
    "name": "ipython",
    "version": 3
   },
   "file_extension": ".py",
   "mimetype": "text/x-python",
   "name": "python",
   "nbconvert_exporter": "python",
   "pygments_lexer": "ipython3",
   "version": "3.12.1"
  }
 },
 "nbformat": 4,
 "nbformat_minor": 2
}
