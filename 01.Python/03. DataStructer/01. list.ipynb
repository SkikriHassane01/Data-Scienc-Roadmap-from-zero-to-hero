{
 "cells": [
  {
   "cell_type": "markdown",
   "metadata": {},
   "source": [
    "<div style =\"font-family:Trebuchet MS; background-color : #f8f0fa; border-left: 5px solid #1b4332; padding: 12px; border-radius: 50px 50px;\">\n",
    "    <h2 style=\"color: #1b4332; font-size: 48px; text-align: center;\">\n",
    "        <b>Lists</b>\n",
    "        <hr style=\"border-top: 2px solid #264653;\">\n",
    "    </h2>\n",
    "    <h3 style=\"font-size: 14px; color: #264653; text-align: left; \"><strong> I hope this is very helpful. let's started .😊🌟</strong></h3>\n",
    "</div>"
   ]
  },
  {
   "cell_type": "code",
   "execution_count": 5,
   "metadata": {},
   "outputs": [
    {
     "name": "stdout",
     "output_type": "stream",
     "text": [
      "<class 'list'>\n",
      "['hello', 'world', 'python', 0, 1, 2, True, False, None]\n"
     ]
    }
   ],
   "source": [
    "\n",
    "lst = []\n",
    "print (type(lst))\n",
    "\n",
    "lst = [\"hello\", \"world\", \"python\", 0, 1, 2, True, False, None]\n",
    "print(lst)"
   ]
  },
  {
   "cell_type": "code",
   "execution_count": 8,
   "metadata": {},
   "outputs": [
    {
     "name": "stdout",
     "output_type": "stream",
     "text": [
      "hello\n",
      "world\n",
      "None\n",
      "False\n"
     ]
    }
   ],
   "source": [
    "# Accessing elements in a list\n",
    "print(lst[0])\n",
    "print(lst[1])\n",
    "# Accessing elements from the end of the list\n",
    "print(lst[-1])\n",
    "print(lst[-2])"
   ]
  },
  {
   "cell_type": "code",
   "execution_count": 9,
   "metadata": {},
   "outputs": [
    {
     "name": "stdout",
     "output_type": "stream",
     "text": [
      "['hello', 'world', 'python']\n"
     ]
    }
   ],
   "source": [
    "# slicing\n",
    "\n",
    "print(lst[0:3])"
   ]
  },
  {
   "cell_type": "code",
   "execution_count": 11,
   "metadata": {},
   "outputs": [
    {
     "name": "stdout",
     "output_type": "stream",
     "text": [
      "['Hello World', 'world', 'python', 0, 1, 2, True, False, None]\n"
     ]
    }
   ],
   "source": [
    "# assign a new value to an element in a list\n",
    "lst[0] = \"Hello World\"\n",
    "print(lst)"
   ]
  },
  {
   "cell_type": "markdown",
   "metadata": {},
   "source": [
    "## Methods"
   ]
  },
  {
   "cell_type": "code",
   "execution_count": 15,
   "metadata": {},
   "outputs": [
    {
     "name": "stdout",
     "output_type": "stream",
     "text": [
      "[1, 2, 3, 4, 5, 6]\n",
      "[0, 1, 2, 3, 4, 5, 6]\n"
     ]
    }
   ],
   "source": [
    "list = [1, 2, 3, 4, 5]\n",
    "\n",
    "# append an element to the end of the list\n",
    "list.append(6)\n",
    "print(list)\n",
    "\n",
    "# insert an element at a specific index\n",
    "list.insert(0, 0)\n",
    "print(list)"
   ]
  },
  {
   "cell_type": "code",
   "execution_count": 16,
   "metadata": {},
   "outputs": [
    {
     "name": "stdout",
     "output_type": "stream",
     "text": [
      "[1, 2, 3, 4, 5, 6]\n",
      "[2, 3, 4, 5, 6]\n",
      "[2, 3, 4, 5]\n",
      "[]\n"
     ]
    }
   ],
   "source": [
    "# remove an element from the list\n",
    "list.remove(0)\n",
    "print(list)\n",
    "\n",
    "# remove an element at a specific index\n",
    "list.pop(0)\n",
    "print(list)\n",
    "\n",
    "# remove the last element from the list\n",
    "list.pop()\n",
    "print(list)\n",
    "\n",
    "# remove all elements from the list\n",
    "list.clear()\n",
    "print(list)\n",
    "\n",
    "# delete the list\n",
    "del list"
   ]
  },
  {
   "cell_type": "code",
   "execution_count": 17,
   "metadata": {},
   "outputs": [
    {
     "name": "stdout",
     "output_type": "stream",
     "text": [
      "[1, 2, 3, 4, 5, 6]\n",
      "[1, 2, 3, 1, 2, 3, 1, 2, 3]\n"
     ]
    }
   ],
   "source": [
    "# list concatenation\n",
    "list1 = [1, 2, 3]\n",
    "list2 = [4, 5, 6]\n",
    "\n",
    "list3 = list1 + list2\n",
    "print(list3)\n",
    "\n",
    "# list repetition\n",
    "list4 = list1 * 3\n",
    "print(list4)"
   ]
  },
  {
   "cell_type": "code",
   "execution_count": 18,
   "metadata": {},
   "outputs": [
    {
     "name": "stdout",
     "output_type": "stream",
     "text": [
      "True\n",
      "False\n",
      "3\n",
      "5\n"
     ]
    }
   ],
   "source": [
    "# check if an element exists in a list\n",
    "print(1 in list1)\n",
    "print(1 not in list1)\n",
    "\n",
    "# find the index of an element in a list\n",
    "print(list3.index(4))\n",
    "\n",
    "# count the number of occurrences of an element in a list\n",
    "list5 = [1, 2, 3, 4, 1, 1, 1, 1]\n",
    "print(list5.count(1))"
   ]
  },
  {
   "cell_type": "code",
   "execution_count": 20,
   "metadata": {},
   "outputs": [
    {
     "name": "stdout",
     "output_type": "stream",
     "text": [
      "[1, 2, 3, 4, 5]\n",
      "[5, 4, 3, 2, 1]\n",
      "[5, 4, 3, 2, 1]\n"
     ]
    }
   ],
   "source": [
    "# sort a list\n",
    "list6 = [3, 2, 1, 4, 5]\n",
    "list6.sort()\n",
    "print(list6)\n",
    "\n",
    "# reverse a list\n",
    "list6.reverse()\n",
    "print(list6)\n",
    "\n",
    "# copy a list\n",
    "list7 = list6.copy()\n",
    "print(list7)"
   ]
  },
  {
   "cell_type": "code",
   "execution_count": 21,
   "metadata": {},
   "outputs": [
    {
     "name": "stdout",
     "output_type": "stream",
     "text": [
      "[0, 1, 2, 3, 4, 5, 6, 7, 8, 9]\n",
      "[0, 2, 4, 6, 8]\n"
     ]
    }
   ],
   "source": [
    "# list comprehension\n",
    "list8 = [i for i in range(10)]\n",
    "print(list8)\n",
    "\n",
    "list9 = [i for i in range(10) if i % 2 == 0]\n",
    "print(list9)"
   ]
  }
 ],
 "metadata": {
  "kernelspec": {
   "display_name": "Python 3",
   "language": "python",
   "name": "python3"
  },
  "language_info": {
   "codemirror_mode": {
    "name": "ipython",
    "version": 3
   },
   "file_extension": ".py",
   "mimetype": "text/x-python",
   "name": "python",
   "nbconvert_exporter": "python",
   "pygments_lexer": "ipython3",
   "version": "3.12.1"
  }
 },
 "nbformat": 4,
 "nbformat_minor": 2
}
