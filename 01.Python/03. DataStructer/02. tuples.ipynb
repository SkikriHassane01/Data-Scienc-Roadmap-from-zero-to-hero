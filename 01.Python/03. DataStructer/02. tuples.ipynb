{
 "cells": [
  {
   "cell_type": "markdown",
   "metadata": {},
   "source": [
    "<div style =\"font-family:Trebuchet MS; background-color : #f8f0fa; border-left: 5px solid #1b4332; padding: 12px; border-radius: 50px 50px;\">\n",
    "    <h2 style=\"color: #1b4332; font-size: 48px; text-align: center;\">\n",
    "        <b>Tuples</b>\n",
    "        <hr style=\"border-top: 2px solid #264653;\">\n",
    "    </h2>\n",
    "    <h3 style=\"font-size: 14px; color: #264653; text-align: left; \"><strong> I hope this is very helpful. let's started .😊🌟</strong></h3>\n",
    "</div>"
   ]
  },
  {
   "cell_type": "code",
   "execution_count": 16,
   "metadata": {},
   "outputs": [
    {
     "name": "stdout",
     "output_type": "stream",
     "text": [
      "(0, 2, 1, 3, 'hello') <class 'tuple'>\n"
     ]
    }
   ],
   "source": [
    "# tuple is a collection which is ordered and unchangeable. Allows duplicate members.\n",
    "# Creating a tuple \n",
    "tuple = (0, 2, 1, 3, \"hello\")\n",
    "print(tuple,type(tuple))"
   ]
  },
  {
   "cell_type": "code",
   "execution_count": 8,
   "metadata": {},
   "outputs": [
    {
     "name": "stdout",
     "output_type": "stream",
     "text": [
      "0\n",
      "hello\n",
      "(2, 1)\n",
      "('hello', 3, 1, 2, 0)\n"
     ]
    }
   ],
   "source": [
    "# Accessing elements in a tuple\n",
    "\n",
    "print(tuple[0])\n",
    "print(tuple[-1])\n",
    "print(tuple[1:3])\n",
    "print(tuple[::-1])"
   ]
  },
  {
   "cell_type": "markdown",
   "metadata": {},
   "source": [
    "### Tuple methods"
   ]
  },
  {
   "cell_type": "code",
   "execution_count": 17,
   "metadata": {},
   "outputs": [
    {
     "name": "stdout",
     "output_type": "stream",
     "text": [
      "1\n",
      "2\n",
      "(3, 4, 5, 6)\n",
      "a =  3 b =  4 c =  5 d =  6\n"
     ]
    }
   ],
   "source": [
    "# Changing a tuple\n",
    "# Once a tuple is created, you cannot change its values. Tuples are unchangeable, or immutable as it also is called.\n",
    "\n",
    "# count method\n",
    "print(tuple.count(0))\n",
    "\n",
    "# index method\n",
    "print(tuple.index(1))\n",
    "\n",
    "# packing and unpacking in tuple\n",
    "# packing\n",
    "tuple = 3, 4, 5, 6\n",
    "print(tuple)\n",
    "\n",
    "# unpacking\n",
    "a, b, c, d = tuple\n",
    "print(\"a = \", a,\"b = \", b,\"c = \", c,\"d = \", d)"
   ]
  },
  {
   "cell_type": "code",
   "execution_count": 9,
   "metadata": {},
   "outputs": [
    {
     "name": "stdout",
     "output_type": "stream",
     "text": [
      "(1, 2, 3, 4, 5, 6)\n"
     ]
    }
   ],
   "source": [
    "# concatenating tuples\n",
    "\n",
    "tuple1 = (1, 2, 3)\n",
    "tuple2 = (4, 5, 6)\n",
    "tuple3 = tuple1 + tuple2\n",
    "print(tuple3)"
   ]
  },
  {
   "cell_type": "code",
   "execution_count": 18,
   "metadata": {},
   "outputs": [
    {
     "name": "stdout",
     "output_type": "stream",
     "text": [
      "((1, 2, 3), ('hello', 'world'))\n"
     ]
    }
   ],
   "source": [
    "# nested tuple\n",
    "tuple1 = (1, 2, 3)\n",
    "tuple2 = (\"hello\", \"world\")\n",
    "tuple3 = (tuple1, tuple2)\n",
    "print(tuple3)"
   ]
  }
 ],
 "metadata": {
  "kernelspec": {
   "display_name": "Python 3",
   "language": "python",
   "name": "python3"
  },
  "language_info": {
   "codemirror_mode": {
    "name": "ipython",
    "version": 3
   },
   "file_extension": ".py",
   "mimetype": "text/x-python",
   "name": "python",
   "nbconvert_exporter": "python",
   "pygments_lexer": "ipython3",
   "version": "3.12.1"
  }
 },
 "nbformat": 4,
 "nbformat_minor": 2
}
