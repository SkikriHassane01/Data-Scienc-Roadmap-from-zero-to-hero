{
 "cells": [
  {
   "cell_type": "markdown",
   "metadata": {},
   "source": [
    "<div style =\"font-family:Trebuchet MS; background-color : #f8f0fa; border-left: 5px solid #1b4332; padding: 12px; border-radius: 50px 50px;\">\n",
    "    <h2 style=\"color: #1b4332; font-size: 48px; text-align: center;\">\n",
    "        <b>Magic Methods</b>\n",
    "        <hr style=\"border-top: 2px solid #264653;\">\n",
    "    </h2>\n",
    "    <h3 style=\"font-size: 14px; color: #264653; text-align: left; \"><strong> I hope this is very helpful. let's started .😊🌟</strong></h3>\n",
    "</div>"
   ]
  },
  {
   "cell_type": "markdown",
   "metadata": {},
   "source": [
    "- magic methods are special methods that are called by python to perform certain operations\n",
    "- there are many magic methods, the most popular ones are:\n",
    "\n",
    "-  `__init__` : constructor method\n",
    "- `__str__` : string representation of an object\n",
    "- `__repr__` : string representation of an object\n",
    "- `__len__` : length of an object\n",
    "- `__del__` : destructor method\n",
    "- `__add__` : addition\n",
    "- `__sub__` : subtraction\n",
    "- `__mul__` : multiplication\n",
    "- `__truediv__` : division\n",
    "- `__floordiv__` : floor division\n",
    "- `__mod__` : modulo\n",
    "- and more...\n"
   ]
  },
  {
   "cell_type": "code",
   "execution_count": 11,
   "metadata": {},
   "outputs": [
    {
     "name": "stdout",
     "output_type": "stream",
     "text": [
      "<__main__.Person object at 0x000001792F0D27E0>\n"
     ]
    }
   ],
   "source": [
    "## the difference between __str__ and __repr__ is that __str__ is used for the end user and __repr__ is used for the developer\n",
    "# example \n",
    "\n",
    "class Person:\n",
    "    def __init__(self, name, age):\n",
    "        self.name = name\n",
    "        self.age = age\n",
    "\n",
    "person = Person(\"Hassane\", 25)\n",
    "print(person)\n"
   ]
  },
  {
   "cell_type": "code",
   "execution_count": 13,
   "metadata": {},
   "outputs": [
    {
     "name": "stdout",
     "output_type": "stream",
     "text": [
      "Person Hassane, 25 years old\n",
      "<Person(Hassane, 25)>\n"
     ]
    }
   ],
   "source": [
    "class Person:\n",
    "    def __init__(self, name, age):\n",
    "        self.name = name\n",
    "        self.age = age\n",
    "\n",
    "    def __str__(self):\n",
    "        return f\"Person {self.name}, {self.age} years old\"\n",
    "    \n",
    "    def __repr__(self):\n",
    "        return f\"<Person({self.name}, {self.age})>\"\n",
    "    \n",
    "person = Person(\"Hassane\", 25)\n",
    "print(person)\n",
    "\n",
    "print(repr(person)) # this will call the __repr__ method"
   ]
  },
  {
   "cell_type": "code",
   "execution_count": 7,
   "metadata": {},
   "outputs": [
    {
     "data": {
      "text/plain": [
       "['__class__',\n",
       " '__delattr__',\n",
       " '__dict__',\n",
       " '__dir__',\n",
       " '__doc__',\n",
       " '__eq__',\n",
       " '__format__',\n",
       " '__ge__',\n",
       " '__getattribute__',\n",
       " '__getstate__',\n",
       " '__gt__',\n",
       " '__hash__',\n",
       " '__init__',\n",
       " '__init_subclass__',\n",
       " '__le__',\n",
       " '__lt__',\n",
       " '__module__',\n",
       " '__ne__',\n",
       " '__new__',\n",
       " '__reduce__',\n",
       " '__reduce_ex__',\n",
       " '__repr__',\n",
       " '__setattr__',\n",
       " '__sizeof__',\n",
       " '__str__',\n",
       " '__subclasshook__',\n",
       " '__weakref__',\n",
       " 'name']"
      ]
     },
     "execution_count": 7,
     "metadata": {},
     "output_type": "execute_result"
    }
   ],
   "source": [
    "# all the magic methods\n",
    "\n",
    "dir(c)"
   ]
  },
  {
   "cell_type": "code",
   "execution_count": 16,
   "metadata": {},
   "outputs": [
    {
     "name": "stdout",
     "output_type": "stream",
     "text": [
      "Vector x: 40, y: 60\n",
      "Vector x: -20, y: -20\n",
      "Vector x: 20, y: 40\n",
      "Vector x: 5.0, y: 10.0\n",
      "Vector x: 5, y: 10\n",
      "Vector x: 0, y: 0\n",
      "Vector x: 100, y: 400\n"
     ]
    }
   ],
   "source": [
    "class Vector:\n",
    "    def __init__(self, x, y):\n",
    "        self.x = x\n",
    "        self.y = y\n",
    "    \n",
    "    def __add__(self, other):\n",
    "        return Vector(self.x + other.x, self.y + other.y)\n",
    "    \n",
    "    def __sub__(self, other):\n",
    "        return Vector(self.x - other.x, self.y - other.y)\n",
    "    \n",
    "    def __mul__(self, scalar):\n",
    "        return Vector(self.x * scalar, self.y * scalar)\n",
    "    \n",
    "    def __truediv__(self, scalar):\n",
    "        return Vector(self.x / scalar, self.y / scalar)\n",
    "    \n",
    "    def __floordiv__(self, scalar):\n",
    "        return Vector(self.x // scalar, self.y // scalar)\n",
    "    \n",
    "    def __mod__(self, scalar):\n",
    "        return Vector(self.x % scalar, self.y % scalar)\n",
    "    \n",
    "    def __pow__(self, scalar):\n",
    "        return Vector(self.x ** scalar, self.y ** scalar)\n",
    "    \n",
    "    def __str__(self):\n",
    "        return f\"Vector x: {self.x}, y: {self.y}\"\n",
    "    \n",
    "    def __repr__(self):\n",
    "        return f\"<Vector x: {self.x}, y: {self.y}>\"\n",
    "\n",
    "v1 = Vector(10, 20)\n",
    "v2 = Vector(30, 40)\n",
    "\n",
    "print(v1 + v2)\n",
    "print(v1 - v2)\n",
    "print(v1 * 2)\n",
    "print(v1 / 2)\n",
    "print(v1 // 2)\n",
    "print(v1 % 2)\n",
    "print(v1 ** 2)\n"
   ]
  }
 ],
 "metadata": {
  "kernelspec": {
   "display_name": "Python 3",
   "language": "python",
   "name": "python3"
  },
  "language_info": {
   "codemirror_mode": {
    "name": "ipython",
    "version": 3
   },
   "file_extension": ".py",
   "mimetype": "text/x-python",
   "name": "python",
   "nbconvert_exporter": "python",
   "pygments_lexer": "ipython3",
   "version": "3.12.1"
  }
 },
 "nbformat": 4,
 "nbformat_minor": 2
}
