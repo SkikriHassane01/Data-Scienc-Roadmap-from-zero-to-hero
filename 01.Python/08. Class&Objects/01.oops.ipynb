{
 "cells": [
  {
   "cell_type": "markdown",
   "metadata": {},
   "source": [
    "<div style =\"font-family:Trebuchet MS; background-color : #f8f0fa; border-left: 5px solid #1b4332; padding: 12px; border-radius: 50px 50px;\">\n",
    "    <h2 style=\"color: #1b4332; font-size: 48px; text-align: center;\">\n",
    "        <b>Object Oriented Programming</b>\n",
    "        <hr style=\"border-top: 2px solid #264653;\">\n",
    "    </h2>\n",
    "    <h3 style=\"font-size: 14px; color: #264653; text-align: left; \"><strong> I hope this is very helpful. let's started .😊🌟</strong></h3>\n",
    "</div>"
   ]
  },
  {
   "cell_type": "markdown",
   "metadata": {},
   "source": [
    "### OOP is a programming paradigm that uses \"objects\" to design applications and computer programs. it allows for modeling real-world scenarios using classes and objects. "
   ]
  },
  {
   "cell_type": "code",
   "execution_count": 1,
   "metadata": {},
   "outputs": [
    {
     "name": "stdout",
     "output_type": "stream",
     "text": [
      "<__main__.Car object at 0x000001FA0DDB8740>\n"
     ]
    }
   ],
   "source": [
    "## Class is a blueprint for creating objects, it like a template.\n",
    "## An object is an instance of a class.\n",
    "\n",
    "## Example of a class\n",
    "\n",
    "class Car:\n",
    "    pass\n",
    "\n",
    "## Creating an object of the class Car\n",
    "car1 = Car()\n",
    "car2 = Car()\n",
    "\n",
    "print(car1)"
   ]
  },
  {
   "cell_type": "markdown",
   "metadata": {},
   "source": [
    "#### instance variables are unique to each object of the class and are defined inside the __init__ method of the class\n",
    "\n",
    "- `__init__` = constructor: a special method that is called when an object is created\n",
    "- `self`: a reference to the current instance of the class and is used to access variables that belong to the class"
   ]
  },
  {
   "cell_type": "code",
   "execution_count": 3,
   "metadata": {},
   "outputs": [
    {
     "name": "stdout",
     "output_type": "stream",
     "text": [
      "<__main__.Car object at 0x000001FA0E1224E0>\n",
      "Toyota\n",
      "Corolla\n",
      "Toyota \t Corolla\n"
     ]
    }
   ],
   "source": [
    "class Car:\n",
    "    def __init__(self,make,model):\n",
    "        self.make = make\n",
    "        self.model = model\n",
    "\n",
    "    def display(self):\n",
    "        print(self.make,\"\\t\",self.model)\n",
    "\n",
    "    def start(self):\n",
    "        print(\"Car started\")\n",
    "\n",
    "\n",
    "car1 = Car(\"Toyota\",\"Corolla\")\n",
    "print(car1)\n",
    "print(car1.make)\n",
    "print(car1.model)\n",
    "car1.display()\n",
    "    "
   ]
  }
 ],
 "metadata": {
  "kernelspec": {
   "display_name": "Python 3",
   "language": "python",
   "name": "python3"
  },
  "language_info": {
   "codemirror_mode": {
    "name": "ipython",
    "version": 3
   },
   "file_extension": ".py",
   "mimetype": "text/x-python",
   "name": "python",
   "nbconvert_exporter": "python",
   "pygments_lexer": "ipython3",
   "version": "3.12.1"
  }
 },
 "nbformat": 4,
 "nbformat_minor": 2
}
