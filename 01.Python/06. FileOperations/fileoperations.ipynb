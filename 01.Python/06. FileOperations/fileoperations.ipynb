{
 "cells": [
  {
   "cell_type": "markdown",
   "metadata": {},
   "source": [
    "<div style =\"font-family:Trebuchet MS; background-color : #f8f0fa; border-left: 5px solid #1b4332; padding: 12px; border-radius: 50px 50px;\">\n",
    "    <h2 style=\"color: #1b4332; font-size: 48px; text-align: center;\">\n",
    "        <b>File operations</b>\n",
    "        <hr style=\"border-top: 2px solid #264653;\">\n",
    "    </h2>\n",
    "    <h3 style=\"font-size: 14px; color: #264653; text-align: left; \"><strong> I hope this is very helpful. let's started .😊🌟</strong></h3>\n",
    "</div>"
   ]
  },
  {
   "cell_type": "markdown",
   "metadata": {},
   "source": [
    "#### file handling is a way to store data in a file, and read it back later on"
   ]
  },
  {
   "cell_type": "code",
   "execution_count": 18,
   "metadata": {},
   "outputs": [
    {
     "name": "stdout",
     "output_type": "stream",
     "text": [
      "Hello, World!\n",
      "My name is Hassane\n",
      "I am a data science engineer\n",
      "\n",
      "Hello, World!\n",
      "My name is Hassane\n",
      "I am a data science engineer\n"
     ]
    }
   ],
   "source": [
    "# create a file and write to it \n",
    "\n",
    "with open ('text.txt', 'w') as f:\n",
    "    f.write('Hello, World!\\n')\n",
    "    f.write('My name is Hassane\\n')\n",
    "\n",
    "# append to the file\n",
    "with open ('text.txt', 'a') as f:\n",
    "    f.write('I am a data science engineer\\n')\n",
    "\n",
    "# read the file\n",
    "with open ('text.txt', 'r') as f:\n",
    "    text = f.read()\n",
    "    print(text)\n",
    "\n",
    "# read the file line by line\n",
    "with open(\"text.txt\", \"r\") as f:\n",
    "    text = f.readlines()\n",
    "    for line in text:\n",
    "        print(line.strip())\n"
   ]
  },
  {
   "cell_type": "code",
   "execution_count": 26,
   "metadata": {},
   "outputs": [
    {
     "name": "stdout",
     "output_type": "stream",
     "text": [
      "Lines: 3\n",
      "Words: 12\n",
      "Characters: 62\n"
     ]
    }
   ],
   "source": [
    "# read the file and count the number of lines , words and characters \n",
    "with open ('text.txt', 'r') as f:\n",
    "    lines = f.readlines()\n",
    "    line_count = len(lines)\n",
    "\n",
    "    word_count = 0\n",
    "    char_count = 0\n",
    "\n",
    "    for line in lines:\n",
    "        words = line.split()\n",
    "        word_count += len(words)\n",
    "        char_count += len(line)\n",
    "\n",
    "    print(f\"Lines: {line_count}\")\n",
    "    print(f\"Words: {word_count}\")\n",
    "    print(f\"Characters: {char_count}\")"
   ]
  },
  {
   "cell_type": "code",
   "execution_count": 29,
   "metadata": {},
   "outputs": [
    {
     "data": {
      "text/plain": [
       "['data', 'fileoperations.ipynb', 'text.txt']"
      ]
     },
     "execution_count": 29,
     "metadata": {},
     "output_type": "execute_result"
    }
   ],
   "source": [
    "# add a directory \n",
    "import os\n",
    "os.mkdir('data')\n",
    "\n",
    "# list all the file and directories in the current directory\n",
    "os.listdir('.')"
   ]
  },
  {
   "cell_type": "code",
   "execution_count": 43,
   "metadata": {},
   "outputs": [
    {
     "name": "stdout",
     "output_type": "stream",
     "text": [
      "data\\file.txt\n",
      "d:\\project\\full data science roadmap\\Data-Scienc-Roadmap-from-zero-to-hero\\01.Python\\06. FileOperations\\data\\file.txt\n"
     ]
    }
   ],
   "source": [
    "# joining paths\n",
    "\n",
    "dir_name = 'data'\n",
    "file_name = 'file.txt'\n",
    "\n",
    "relative_path = os.path.join(dir_name, file_name)\n",
    "full_path = os.path.abspath(relative_path)\n",
    "print(relative_path)\n",
    "print(full_path)"
   ]
  },
  {
   "cell_type": "code",
   "execution_count": 44,
   "metadata": {},
   "outputs": [],
   "source": [
    "# delete the data directory and text.txt file\n",
    "\n",
    "os.remove('text.txt')\n",
    "os.rmdir('data')"
   ]
  }
 ],
 "metadata": {
  "kernelspec": {
   "display_name": "base",
   "language": "python",
   "name": "python3"
  },
  "language_info": {
   "codemirror_mode": {
    "name": "ipython",
    "version": 3
   },
   "file_extension": ".py",
   "mimetype": "text/x-python",
   "name": "python",
   "nbconvert_exporter": "python",
   "pygments_lexer": "ipython3",
   "version": "3.11.5"
  }
 },
 "nbformat": 4,
 "nbformat_minor": 2
}
