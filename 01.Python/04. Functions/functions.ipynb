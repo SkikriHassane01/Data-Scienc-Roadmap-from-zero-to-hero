{
 "cells": [
  {
   "cell_type": "markdown",
   "metadata": {},
   "source": [
    "<div style =\"font-family:Trebuchet MS; background-color : #f8f0fa; border-left: 5px solid #1b4332; padding: 12px; border-radius: 50px 50px;\">\n",
    "    <h2 style=\"color: #1b4332; font-size: 48px; text-align: center;\">\n",
    "        <b>Functions</b>\n",
    "        <hr style=\"border-top: 2px solid #264653;\">\n",
    "    </h2>\n",
    "    <h3 style=\"font-size: 14px; color: #264653; text-align: left; \"><strong> I hope this is very helpful. let's started .😊🌟</strong></h3>\n",
    "</div>"
   ]
  },
  {
   "cell_type": "markdown",
   "metadata": {},
   "source": [
    "### function is a block of code that performs a specific task. it help in organizing code, reusing code, and improving readability"
   ]
  },
  {
   "cell_type": "markdown",
   "metadata": {},
   "source": [
    "#### syntax\n",
    "```python\n",
    "def  function_name(parameters):\n",
    "    # code block\n",
    "    return expression\n",
    "```\n",
    "\n",
    "#### function call\n",
    "```python\n",
    "function_name(arguments)\n",
    "```"
   ]
  },
  {
   "cell_type": "code",
   "execution_count": 2,
   "metadata": {},
   "outputs": [
    {
     "name": "stdout",
     "output_type": "stream",
     "text": [
      "Hello John\n"
     ]
    }
   ],
   "source": [
    "# example\n",
    "def greet(name):\n",
    "    return \"Hello \" + name\n",
    "\n",
    "print(greet(\"John\"))"
   ]
  },
  {
   "cell_type": "code",
   "execution_count": 5,
   "metadata": {},
   "outputs": [
    {
     "name": "stdout",
     "output_type": "stream",
     "text": [
      "Hello hassane\n",
      "Hello mohamed\n"
     ]
    }
   ],
   "source": [
    "# function with default argument\n",
    "\n",
    "def greet(name=\"hassane\"):\n",
    "    return \"Hello \" + name\n",
    "\n",
    "print(greet())\n",
    "print(greet(\"mohamed\"))"
   ]
  },
  {
   "cell_type": "code",
   "execution_count": 6,
   "metadata": {},
   "outputs": [
    {
     "name": "stdout",
     "output_type": "stream",
     "text": [
      "Hello Hassane you are 30 years old\n",
      "Hello Hassane you are 25 years old\n"
     ]
    }
   ],
   "source": [
    "# function with multiple arguments\n",
    "\n",
    "def greet(name, age = 25):\n",
    "    return \"Hello \" + name + \" you are \" + str(age) + \" years old\"\n",
    "\n",
    "print(greet(\"Hassane\", 30))\n",
    "print(greet(\"Hassane\"))"
   ]
  },
  {
   "cell_type": "code",
   "execution_count": 10,
   "metadata": {},
   "outputs": [
    {
     "name": "stdout",
     "output_type": "stream",
     "text": [
      "hello Mr. Hassane\n",
      "hello Mr. Mohamed\n",
      "hello Mr. Ali\n"
     ]
    }
   ],
   "source": [
    "# positional arguments\n",
    "\n",
    "def print_names(*args):\n",
    "    for name in args:\n",
    "        print(\"hello Mr. \" + str(name))\n",
    "\n",
    "print_names(\"Hassane\", \"Mohamed\", \"Ali\")"
   ]
  },
  {
   "cell_type": "code",
   "execution_count": 12,
   "metadata": {},
   "outputs": [
    {
     "name": "stdout",
     "output_type": "stream",
     "text": [
      "name : Hassane\n",
      "age : 20\n",
      "country : Morocco\n"
     ]
    }
   ],
   "source": [
    "# keywords arguments\n",
    "\n",
    "def print_names(**kwargs):\n",
    "    for key, value in kwargs.items():\n",
    "        print(key + \" : \" + value)\n",
    "\n",
    "print_names(name=\"Hassane\", age=\"20\", country=\"Morocco\")"
   ]
  },
  {
   "cell_type": "markdown",
   "metadata": {},
   "source": [
    "#### lambda functions are small anonymous functions defined using the `lambda` keyword. They can have any number of arguments but only one expression. they used for short operations or as arguments to higher-order functions \n",
    "\n",
    "```python\n",
    "# syntax:\n",
    "lambda arguments : expression\n",
    "``` "
   ]
  },
  {
   "cell_type": "code",
   "execution_count": 14,
   "metadata": {},
   "outputs": [
    {
     "name": "stdout",
     "output_type": "stream",
     "text": [
      "5\n",
      "5\n"
     ]
    }
   ],
   "source": [
    "# normal function \n",
    "def addition1(x, y):\n",
    "    return x + y\n",
    "\n",
    "# lambda function\n",
    "addition2 = lambda x, y: x + y\n",
    "\n",
    "print(addition1(2, 3))\n",
    "print(addition2(2, 3))"
   ]
  },
  {
   "cell_type": "code",
   "execution_count": 15,
   "metadata": {},
   "outputs": [
    {
     "name": "stdout",
     "output_type": "stream",
     "text": [
      "(2, True)\n"
     ]
    }
   ],
   "source": [
    "def even (x):\n",
    "    if x % 2 == 0:\n",
    "        return x,True\n",
    "\n",
    "    return x,False\n",
    "\n",
    "print(even(2))\n",
    "\n",
    "# lambda function\n",
    "even = lambda x: (x, True) if x % 2 == 0 else (x, False)\n"
   ]
  },
  {
   "cell_type": "markdown",
   "metadata": {},
   "source": [
    "#### map function: apply a function to all the items in an input_list\n",
    "```python\n",
    "map(function_to_apply, list_of_inputs)"
   ]
  },
  {
   "cell_type": "code",
   "execution_count": 21,
   "metadata": {},
   "outputs": [
    {
     "name": "stdout",
     "output_type": "stream",
     "text": [
      "[1, 4, 9, 16, 25]\n"
     ]
    }
   ],
   "source": [
    "\n",
    "square = lambda x: x ** 2\n",
    "\n",
    "numbers = [1, 2, 3, 4, 5]\n",
    "squared = map(square, numbers)\n",
    "# print(square(numbers)) : TypeError: can't multiply sequence by non-int of type 'list'\n",
    "print(list(squared))\n"
   ]
  },
  {
   "cell_type": "code",
   "execution_count": 22,
   "metadata": {},
   "outputs": [
    {
     "name": "stdout",
     "output_type": "stream",
     "text": [
      "['APPLE', 'BANANA', 'CHERRY']\n"
     ]
    }
   ],
   "source": [
    "words = [\"apple\", \"banana\", \"cherry\"]\n",
    "upper = list(map(str.upper, words))\n",
    "print(upper)"
   ]
  },
  {
   "cell_type": "markdown",
   "metadata": {},
   "source": [
    "#### filter function: filter(function, iterable) : return an iterator were the items are filtered through a function to test if the item is accepted or not\n"
   ]
  },
  {
   "cell_type": "code",
   "execution_count": null,
   "metadata": {},
   "outputs": [],
   "source": [
    "# example iterator vs iterable\n",
    "# iterable : list, tuple, set, dictionary\n",
    "numbers = [1, 2, 3, 4, 5]\n",
    "# iterator: map, filter, zip\n",
    "squared = map(lambda x: x ** 2, numbers)"
   ]
  },
  {
   "cell_type": "code",
   "execution_count": 24,
   "metadata": {},
   "outputs": [
    {
     "name": "stdout",
     "output_type": "stream",
     "text": [
      "[2, 4] <class 'filter'>\n"
     ]
    }
   ],
   "source": [
    "# example filter\n",
    "numbers = [1, 2, 3, 4, 5]\n",
    "even = filter(lambda x: x % 2 == 0, numbers)\n",
    "print(list(even),type(even))    "
   ]
  },
  {
   "cell_type": "code",
   "execution_count": 29,
   "metadata": {},
   "outputs": [
    {
     "name": "stdout",
     "output_type": "stream",
     "text": [
      "[25, 30]\n"
     ]
    }
   ],
   "source": [
    "ages = [20, 25, 30]\n",
    "age_greater_20 = lambda x : x>20\n",
    "greater = filter(age_greater_20, ages)\n",
    "print(list(greater))"
   ]
  },
  {
   "cell_type": "code",
   "execution_count": 34,
   "metadata": {},
   "outputs": [
    {
     "name": "stdout",
     "output_type": "stream",
     "text": [
      "[('Hassane', 20), ('Mohamed', 25), ('Ali', 30)]\n"
     ]
    }
   ],
   "source": [
    "# zip function: combine two lists into a list of tuples\n",
    "names = [\"Hassane\", \"Mohamed\", \"Ali\"]\n",
    "ages = [20, 25, 30]\n",
    "\n",
    "zipped = zip(names, ages)\n",
    "print(list(zipped))\n"
   ]
  }
 ],
 "metadata": {
  "kernelspec": {
   "display_name": "Python 3",
   "language": "python",
   "name": "python3"
  },
  "language_info": {
   "codemirror_mode": {
    "name": "ipython",
    "version": 3
   },
   "file_extension": ".py",
   "mimetype": "text/x-python",
   "name": "python",
   "nbconvert_exporter": "python",
   "pygments_lexer": "ipython3",
   "version": "3.12.1"
  }
 },
 "nbformat": 4,
 "nbformat_minor": 2
}
