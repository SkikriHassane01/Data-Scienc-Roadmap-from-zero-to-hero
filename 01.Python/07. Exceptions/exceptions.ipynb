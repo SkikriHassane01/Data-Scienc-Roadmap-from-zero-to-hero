{
 "cells": [
  {
   "cell_type": "markdown",
   "metadata": {},
   "source": [
    "<div style =\"font-family:Trebuchet MS; background-color : #f8f0fa; border-left: 5px solid #1b4332; padding: 12px; border-radius: 50px 50px;\">\n",
    "    <h2 style=\"color: #1b4332; font-size: 48px; text-align: center;\">\n",
    "        <b>Exceptions</b>\n",
    "        <hr style=\"border-top: 2px solid #264653;\">\n",
    "    </h2>\n",
    "    <h3 style=\"font-size: 14px; color: #264653; text-align: left; \"><strong> I hope this is very helpful. let's started .😊🌟</strong></h3>\n",
    "</div>"
   ]
  },
  {
   "cell_type": "markdown",
   "metadata": {},
   "source": [
    "### exception are used to handle errors during execution of a program\n",
    "- try block is used to test a block of code for errors\n",
    "- except block is used to handle the error\n",
    "- finally block is used to execute code regardless of the result of the try-except block\n",
    "- else block is used to execute code if the try block does not raise any exceptions\n",
    "\n",
    "#### common exceptions are:\n",
    "- ZeroDivisionError: division by zero\n",
    "- NameError: variable not defined\n",
    "- FileNotFoundError: file not found\n",
    "- ValueError: invalid value\n",
    "- TypeError: wrong type\n",
    "- IndexError: index out of range\n",
    "- KeyError: key not found\n"
   ]
  },
  {
   "cell_type": "code",
   "execution_count": 4,
   "metadata": {},
   "outputs": [
    {
     "name": "stdout",
     "output_type": "stream",
     "text": [
      "division by zero\n",
      "\n",
      "hello\n",
      "There is a Zero division error\n"
     ]
    }
   ],
   "source": [
    "# zero division error\n",
    "try:\n",
    "    print(10/0)\n",
    "except ZeroDivisionError as e:\n",
    "    print(e)\n",
    "finally:\n",
    "    print('\\nhello')\n",
    "    print(\"There is a Zero division error\")"
   ]
  },
  {
   "cell_type": "code",
   "execution_count": 15,
   "metadata": {},
   "outputs": [
    {
     "name": "stdout",
     "output_type": "stream",
     "text": [
      "index error\n",
      "list index out of range\n",
      "\n",
      "key error\n",
      "'noting'\n",
      "\n",
      "value error\n",
      "invalid literal for int() with base 10: 'a'\n",
      "\n",
      "type error\n",
      "unsupported operand type(s) for +: 'int' and 'str'\n"
     ]
    }
   ],
   "source": [
    "print('index error')\n",
    "try:\n",
    "    list = [1, 2, 3, 4]\n",
    "    print(list[5])\n",
    "except IndexError as e:\n",
    "    print(e)\n",
    "\n",
    "print('\\nkey error')\n",
    "try:\n",
    "    dict = {'name': 'john', 'age': 23}\n",
    "    print(dict['noting'])\n",
    "except KeyError as e:\n",
    "    print(e)\n",
    "\n",
    "\n",
    "print('\\nvalue error')\n",
    "try:\n",
    "    print(int('a'))\n",
    "except ValueError as e:\n",
    "    print(e)\n",
    "\n",
    "print('\\ntype error')\n",
    "try:\n",
    "    print(10 + '10')\n",
    "except TypeError as e:\n",
    "    print(e)"
   ]
  }
 ],
 "metadata": {
  "kernelspec": {
   "display_name": "base",
   "language": "python",
   "name": "python3"
  },
  "language_info": {
   "codemirror_mode": {
    "name": "ipython",
    "version": 3
   },
   "file_extension": ".py",
   "mimetype": "text/x-python",
   "name": "python",
   "nbconvert_exporter": "python",
   "pygments_lexer": "ipython3",
   "version": "3.11.5"
  }
 },
 "nbformat": 4,
 "nbformat_minor": 2
}
