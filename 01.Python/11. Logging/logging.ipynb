{
 "cells": [
  {
   "cell_type": "markdown",
   "metadata": {},
   "source": [
    "<div style =\"font-family:Trebuchet MS; background-color : #f8f0fa; border-left: 5px solid #1b4332; padding: 12px; border-radius: 50px 50px;\">\n",
    "    <h2 style=\"color: #1b4332; font-size: 48px; text-align: center;\">\n",
    "        <b>python Logging</b>\n",
    "        <hr style=\"border-top: 2px solid #264653;\">\n",
    "    </h2>\n",
    "    <h3 style=\"font-size: 14px; color: #264653; text-align: left; \"><strong> I hope this is very helpful. let's started .😊🌟</strong></h3>\n",
    "</div>"
   ]
  },
  {
   "cell_type": "markdown",
   "metadata": {},
   "source": [
    "logging is a module in Python that allows you to record events that happen while your application runs. You can configure this module to log events to a file or to the console, and you can set the minimum level of severity that you want to log.\n",
    "\n",
    "There are two main concepts in logging:\n",
    "\n",
    "- Loggers expose the interface that application code directly uses.\n",
    "- Handlers send the log records (created by loggers) to the appropriate destination.\n",
    "\n",
    "```python\n",
    "import logging\n",
    "```\n",
    "\n",
    "#### configure the logging\n",
    "logging.basicConfig(filename='example.log', level=logging.DEBUG)\n",
    "\n",
    "#### log levels \n",
    "\n",
    "- DEBUG - Detailed information, typically of interest only when diagnosing problems.\n",
    "- INFO - Confirmation that things are working as expected.\n",
    "- WARNING - An indication that something unexpected happened, or indicative of some problem in the near future (e.g. ‘disk space low’). The software is still working as expected.\n",
    "- ERROR - Due to a more serious problem, the software has not been able to perform some function.\n",
    "- CRITICAL - A serious error, indicating that the program itself may be unable to continue running.\n",
    "\n",
    "#### log messages\n",
    "- logging.debug('This message should go to the log file')\n",
    "- logging.info('So should this')\n",
    "- logging.warning('And this, too')\n",
    "- logging.error('And non-ASCII stuff, too, like Øresund and Malmö')\n",
    "- logging.critical('And if you prefer, you can use f-strings')\n"
   ]
  },
  {
   "cell_type": "code",
   "execution_count": 3,
   "metadata": {},
   "outputs": [],
   "source": [
    "# configuring logging\n",
    "import logging\n",
    "\n",
    "logging.basicConfig(\n",
    "    filename='app.log',\n",
    "    filemode='w',\n",
    "    level = logging.DEBUG,\n",
    "    format = '%(asctime)s - %(name)s - %(levelname)s - %(message)s',\n",
    "    datefmt= '%Y-%m-%d %H:%M:%S'\n",
    ")\n",
    "\n",
    "logging.debug('This is a debug message')\n",
    "logging.info('This is an info message')\n",
    "logging.warning('This is a warning message')\n",
    "logging.error('This is an error message')\n",
    "logging.critical('This is a critical message')"
   ]
  },
  {
   "cell_type": "markdown",
   "metadata": {},
   "source": [
    "## Create multiple loggers"
   ]
  },
  {
   "cell_type": "code",
   "execution_count": 2,
   "metadata": {},
   "outputs": [
    {
     "name": "stderr",
     "output_type": "stream",
     "text": [
      "This is a warning message from logger2\n",
      "This is an error message from logger2\n"
     ]
    }
   ],
   "source": [
    "# to create multiple loggers \n",
    "import logging\n",
    "\n",
    "logger1 = logging.getLogger('logger1')\n",
    "logger2 = logging.getLogger('logger2')\n",
    "\n",
    "logger1.setLevel(logging.DEBUG)\n",
    "logger2.setLevel(logging.WARNING)\n",
    "\n",
    "logger1.debug('This is a debug message from logger1')\n",
    "logger1.info('This is an info message from logger1')\n",
    "\n",
    "logger2.warning('This is a warning message from logger2')\n",
    "logger2.error('This is an error message from logger2')\n"
   ]
  },
  {
   "cell_type": "code",
   "execution_count": null,
   "metadata": {},
   "outputs": [],
   "source": []
  }
 ],
 "metadata": {
  "kernelspec": {
   "display_name": "Python 3",
   "language": "python",
   "name": "python3"
  },
  "language_info": {
   "codemirror_mode": {
    "name": "ipython",
    "version": 3
   },
   "file_extension": ".py",
   "mimetype": "text/x-python",
   "name": "python",
   "nbconvert_exporter": "python",
   "pygments_lexer": "ipython3",
   "version": "3.12.1"
  }
 },
 "nbformat": 4,
 "nbformat_minor": 2
}
