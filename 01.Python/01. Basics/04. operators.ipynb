{
 "cells": [
  {
   "cell_type": "markdown",
   "metadata": {},
   "source": [
    "<div style =\"font-family:Trebuchet MS; background-color : #f8f0fa; border-left: 5px solid #1b4332; padding: 12px; border-radius: 50px 50px;\">\n",
    "    <h2 style=\"color: #1b4332; font-size: 48px; text-align: center;\">\n",
    "        <b>Operators</b>\n",
    "        <hr style=\"border-top: 2px solid #264653;\">\n",
    "    </h2>\n",
    "    <h3 style=\"font-size: 14px; color: #264653; text-align: left; \"><strong> I hope this is very helpful. let's started .😊🌟</strong></h3>\n",
    "</div>"
   ]
  },
  {
   "cell_type": "markdown",
   "metadata": {},
   "source": [
    "## Arithmetic Operators\n",
    "\n",
    "| Operator | Description             | Example          | Result   |\n",
    "|----------|-------------------------|------------------|----------|\n",
    "| `+`      | Addition                | `5 + 3`          | `8`      |\n",
    "| `-`      | Subtraction             | `5 - 3`          | `2`      |\n",
    "| `*`      | Multiplication          | `5 * 3`          | `15`     |\n",
    "| `/`      | Division                | `5 / 3`          | `1.67`   |\n",
    "| `%`      | Modulus (Remainder)     | `5 % 3`          | `2`      |\n",
    "| `**`     | Exponentiation          | `5 ** 3`         | `125`    |\n",
    "| `//`     | Floor Division          | `5 // 3`         | `1`      |\n",
    "\n",
    "## Comparison Operators\n",
    "\n",
    "| Operator | Description             | Example          | Result   |\n",
    "|----------|-------------------------|------------------|----------|\n",
    "| `==`     | Equal to                | `5 == 3`         | `False`  |\n",
    "| `!=`     | Not equal to            | `5 != 3`         | `True`   |\n",
    "| `>`      | Greater than            | `5 > 3`          | `True`   |\n",
    "| `<`      | Less than               | `5 < 3`          | `False`  |\n",
    "| `>=`     | Greater than or equal to| `5 >= 3`         | `True`   |\n",
    "| `<=`     | Less than or equal to   | `5 <= 3`         | `False`  |\n",
    "\n",
    "## Logical Operators\n",
    "\n",
    "| Operator | Description             | Example                        | Result   |\n",
    "|----------|-------------------------|--------------------------------|----------|\n",
    "| `and`    | Logical AND             | `True and False`               | `False`  |\n",
    "| `or`     | Logical OR              | `True or False`                | `True`   |\n",
    "| `not`    | Logical NOT             | `not True`                     | `False`  |"
   ]
  }
 ],
 "metadata": {
  "kernelspec": {
   "display_name": "Python 3",
   "language": "python",
   "name": "python3"
  },
  "language_info": {
   "name": "python",
   "version": "3.12.1"
  }
 },
 "nbformat": 4,
 "nbformat_minor": 2
}
