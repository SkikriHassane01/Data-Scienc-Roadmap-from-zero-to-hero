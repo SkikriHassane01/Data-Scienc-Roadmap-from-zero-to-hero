{
 "cells": [
  {
   "cell_type": "markdown",
   "metadata": {},
   "source": [
    "<div style =\"font-family:Trebuchet MS; background-color : #f8f0fa; border-left: 5px solid #1b4332; padding: 12px; border-radius: 50px 50px;\">\n",
    "    <h2 style=\"color: #1b4332; font-size: 48px; text-align: center;\">\n",
    "        <b> Syntax and semantics</b>\n",
    "        <hr style=\"border-top: 2px solid #264653;\">\n",
    "    </h2>\n",
    "    <h3 style=\"font-size: 14px; color: #264653; text-align: left; \"><strong> I hope this is very helpful. let's started .😊🌟</strong></h3>\n",
    "</div>"
   ]
  },
  {
   "cell_type": "markdown",
   "metadata": {},
   "source": [
    "<h1 style=\"background-color: #12f7ff;\n",
    "           font-family: 'Trebuchet MS', sans-serif;\n",
    "           color: #000;\n",
    "           font-size: 150%;\n",
    "           text-align: center;\n",
    "           border-radius: 50px 50px;\n",
    "           padding: 20px 20px ;\n",
    "           margin: 30px 30px;\n",
    "           box-shadow: 0 0 10px rgba(18,247,255,0.6),\n",
    "    0 0 20px rgba(18,247,255,0.6),\n",
    "    0 0 30px rgba(18,247,255,0.6),\n",
    "    0 0 40px rgba(18,247,255,0.6);\">\n",
    "    🔻🌟 Syntax in python🌟🔻\n",
    "</h1>"
   ]
  },
  {
   "cell_type": "markdown",
   "metadata": {},
   "source": [
    "#### Syntax refers to the structure of the language (i.e., what constitutes a correctly-formed program)\n",
    "#### Syntax is about the correct arrangement of words and symbols in a code ."
   ]
  },
  {
   "cell_type": "code",
   "execution_count": 3,
   "metadata": {},
   "outputs": [
    {
     "name": "stdout",
     "output_type": "stream",
     "text": [
      "20\n",
      "30\n",
      "40\n"
     ]
    }
   ],
   "source": [
    "# example 1: python is case sensitive \n",
    "\n",
    "age = 20\n",
    "Age = 30\n",
    "AGE = 40\n",
    "print(age)\n",
    "print(Age)\n",
    "print(AGE)"
   ]
  },
  {
   "cell_type": "code",
   "execution_count": 4,
   "metadata": {},
   "outputs": [
    {
     "name": "stdout",
     "output_type": "stream",
     "text": [
      "Five is greater than two!\n"
     ]
    }
   ],
   "source": [
    "# example 2: python indentation\n",
    "# python uses indentation to indicate a block of code, consistent of 4 spaces or a tab \n",
    "\n",
    "if 5 > 2:\n",
    "    print(\"Five is greater than two!\")\n"
   ]
  },
  {
   "cell_type": "code",
   "execution_count": 6,
   "metadata": {},
   "outputs": [
    {
     "data": {
      "text/plain": [
       "'\\nThis is a comment\\nwritten in\\nmore than just one line\\n'"
      ]
     },
     "execution_count": 6,
     "metadata": {},
     "output_type": "execute_result"
    }
   ],
   "source": [
    "# example 3: comments in python\n",
    "# comments are used to explain code, and to make the code more readable there are two ways to add comments in python\n",
    "\n",
    "# the first way is to use the hash character # at the beginning of a line\n",
    "# this is a comment\n",
    "\n",
    "# the second way is to use triple quotes, either ''' or \"\"\"\n",
    "'''\n",
    "This is a comment\n",
    "written in\n",
    "more than just one line\n",
    "'''"
   ]
  },
  {
   "cell_type": "code",
   "execution_count": 7,
   "metadata": {},
   "outputs": [
    {
     "name": "stdout",
     "output_type": "stream",
     "text": [
      "Hello World\n"
     ]
    }
   ],
   "source": [
    "# example 4: line continuation\n",
    "# python uses the backslash \\ to indicate that a statement continues on the next line\n",
    "\n",
    "print(\"Hello \\\n",
    "World\")"
   ]
  },
  {
   "cell_type": "code",
   "execution_count": 8,
   "metadata": {},
   "outputs": [
    {
     "name": "stdout",
     "output_type": "stream",
     "text": [
      "Hello\n",
      "World\n"
     ]
    }
   ],
   "source": [
    "# example 5: multiple statements on a single line\n",
    "# the semicolon ; allows multiple statements on the single line given that neither statement starts a new code block\n",
    "\n",
    "print(\"Hello\"); print(\"World\")"
   ]
  },
  {
   "cell_type": "code",
   "execution_count": 1,
   "metadata": {},
   "outputs": [
    {
     "name": "stdout",
     "output_type": "stream",
     "text": [
      "3\n",
      "3\n",
      "3\n"
     ]
    }
   ],
   "source": [
    "# example 6: Whitespace within lines \n",
    "\n",
    "a = 1+2;print(a)\n",
    "a = 1 + 2; print(a)\n",
    "a = 1 +       2 ; print(a)"
   ]
  },
  {
   "cell_type": "code",
   "execution_count": 2,
   "metadata": {},
   "outputs": [
    {
     "name": "stdout",
     "output_type": "stream",
     "text": [
      "8\n"
     ]
    }
   ],
   "source": [
    "# example 7: parentheses\n",
    "\n",
    "# python allows the use of parentheses to indicate the order of operations\n",
    "print(2 * (3 + 1))"
   ]
  },
  {
   "cell_type": "markdown",
   "metadata": {},
   "source": [
    "<h1 style=\"background-color: #12f7ff;\n",
    "           font-family: 'Trebuchet MS', sans-serif;\n",
    "           color: #000;\n",
    "           font-size: 150%;\n",
    "           text-align: center;\n",
    "           border-radius: 50px 50px;\n",
    "           padding: 20px 20px ;\n",
    "           margin: 30px 30px;\n",
    "           box-shadow: 0 0 10px rgba(18,247,255,0.6),\n",
    "    0 0 20px rgba(18,247,255,0.6),\n",
    "    0 0 30px rgba(18,247,255,0.6),\n",
    "    0 0 40px rgba(18,247,255,0.6);\">\n",
    "    🔻🌟 Semantics in python🌟🔻\n",
    "</h1>"
   ]
  },
  {
   "cell_type": "markdown",
   "metadata": {},
   "source": [
    "#### Semantics of a language involve the meaning of the statements"
   ]
  },
  {
   "cell_type": "code",
   "execution_count": 10,
   "metadata": {},
   "outputs": [
    {
     "name": "stdout",
     "output_type": "stream",
     "text": [
      "<class 'int'>\n",
      "<class 'float'>\n",
      "<class 'str'>\n"
     ]
    }
   ],
   "source": [
    "var = 10\n",
    "print(type(var))\n",
    "\n",
    "var = 10.5\n",
    "print(type(var))\n",
    "\n",
    "var = \"Hello\"\n",
    "print(type(var))"
   ]
  },
  {
   "cell_type": "code",
   "execution_count": 3,
   "metadata": {},
   "outputs": [
    {
     "name": "stdout",
     "output_type": "stream",
     "text": [
      "False\n",
      "True\n",
      "True\n",
      "False\n"
     ]
    }
   ],
   "source": [
    "var1 = 10; var2 = 20\n",
    "print(var1 == var2)\n",
    "print(var1 != var2)\n",
    "print(var1 < var2)\n",
    "print(var1 > var2)"
   ]
  },
  {
   "cell_type": "markdown",
   "metadata": {},
   "source": [
    "<h1 style=\"background-color: #12f7ff;\n",
    "           font-family: 'Trebuchet MS', sans-serif;\n",
    "           color: #000;\n",
    "           font-size: 150%;\n",
    "           text-align: center;\n",
    "           border-radius: 50px 50px;\n",
    "           padding: 20px 20px ;\n",
    "           margin: 30px 30px;\n",
    "           box-shadow: 0 0 10px rgba(18,247,255,0.6),\n",
    "    0 0 20px rgba(18,247,255,0.6),\n",
    "    0 0 30px rgba(18,247,255,0.6),\n",
    "    0 0 40px rgba(18,247,255,0.6);\">\n",
    "    🔻🌟 Conclusion🌟🔻\n",
    "</h1>\n",
    "\n",
    "semantics is about the meaning of the code, and syntax is about the structure of the code\n"
   ]
  }
 ],
 "metadata": {
  "kernelspec": {
   "display_name": "Python 3",
   "language": "python",
   "name": "python3"
  },
  "language_info": {
   "codemirror_mode": {
    "name": "ipython",
    "version": 3
   },
   "file_extension": ".py",
   "mimetype": "text/x-python",
   "name": "python",
   "nbconvert_exporter": "python",
   "pygments_lexer": "ipython3",
   "version": "3.12.1"
  }
 },
 "nbformat": 4,
 "nbformat_minor": 2
}
