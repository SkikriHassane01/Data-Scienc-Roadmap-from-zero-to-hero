{
 "cells": [
  {
   "cell_type": "markdown",
   "metadata": {},
   "source": [
    "<div style =\"font-family:Trebuchet MS; background-color : #f8f0fa; border-left: 5px solid #1b4332; padding: 12px; border-radius: 50px 50px;\">\n",
    "    <h2 style=\"color: #1b4332; font-size: 48px; text-align: center;\">\n",
    "        <b>Step 6 in Feature Engineering:Dimensionality Reduction</b>\n",
    "        <hr style=\"border-top: 2px solid #264653;\">\n",
    "    </h2>\n",
    "    <h3 style=\"font-size: 14px; color: #264653; text-align: left; \"><strong> I hope this is very helpful. let's started </strong></h3>\n",
    "</div>"
   ]
  },
  {
   "cell_type": "markdown",
   "metadata": {},
   "source": [
    "### **Introduction**\n",
    "\n",
    "Dimensionality reduction is the process of reducing the number of features in a dataset while preserving as much information as possible. It helps in improving model performance, reducing overfitting, and simplifying visualization. Below are three popular techniques for dimensionality reduction:\n",
    "\n",
    "- we will practice along with the [Software Defects dataset](https://www.kaggle.com/competitions/playground-series-s3e23/data)"
   ]
  },
  {
   "cell_type": "markdown",
   "metadata": {},
   "source": [
    "![alt text](1_S7bpbLCiMZA7-5cMSHLhCg.webp)"
   ]
  },
  {
   "cell_type": "markdown",
   "metadata": {},
   "source": [
    "It’s not feasible to analyze each and every dimensions at a microscopic level in a high dimensional data. It might take us days or months to perform any meaningful analysis which requires lot of time, money and manpower in our business which is not often encouraged. Training a data with high dimensions will lead us problems like:\n",
    "\n",
    "- Space required to store the data gets increased with increasing dimensions.\n",
    "- Less dimensions will take low time complexity in training a model.\n",
    "- As dimensions increases, the possibility of overfitting the model also gets increased.\n",
    "- we cannot visualize a high dimensional data. By dimensionality reduction we will reduce the data to 2D or 3D for better visualization.\n",
    "- It will remove all the correlated features in our data."
   ]
  },
  {
   "cell_type": "markdown",
   "metadata": {},
   "source": [
    "## **1. Principal Component Analysis (PCA)**\n",
    "\n",
    "Principal Component Analysis (PCA) is a technique that transforms the original features into a smaller set of uncorrelated components, called principal components. These components capture the maximum variance in the data.\n",
    "\n",
    "### **Steps:**\n",
    "\n",
    "- **Standardize the Data:** PCA is sensitive to the scale of the features, so it's important to standardize the data.\n",
    "\n",
    "- **Compute Covariance Matrix:** Calculate the covariance matrix to understand how the variables vary together.\n",
    "\n",
    "- **Calculate Eigenvectors and Eigenvalues:** These help in understanding the directions and magnitude of the variance.\n",
    "\n",
    "- **Select Principal Components:** Choose the top components that capture the most variance.\n",
    "\n",
    "- **Transform Data:** Project the original data onto the selected components."
   ]
  },
  {
   "cell_type": "code",
   "execution_count": 30,
   "metadata": {},
   "outputs": [
    {
     "data": {
      "text/html": [
       "<div>\n",
       "<style scoped>\n",
       "    .dataframe tbody tr th:only-of-type {\n",
       "        vertical-align: middle;\n",
       "    }\n",
       "\n",
       "    .dataframe tbody tr th {\n",
       "        vertical-align: top;\n",
       "    }\n",
       "\n",
       "    .dataframe thead th {\n",
       "        text-align: right;\n",
       "    }\n",
       "</style>\n",
       "<table border=\"1\" class=\"dataframe\">\n",
       "  <thead>\n",
       "    <tr style=\"text-align: right;\">\n",
       "      <th></th>\n",
       "      <th>id</th>\n",
       "      <th>loc</th>\n",
       "      <th>v(g)</th>\n",
       "      <th>ev(g)</th>\n",
       "      <th>iv(g)</th>\n",
       "      <th>n</th>\n",
       "      <th>v</th>\n",
       "      <th>l</th>\n",
       "      <th>d</th>\n",
       "      <th>i</th>\n",
       "      <th>...</th>\n",
       "      <th>lOCode</th>\n",
       "      <th>lOComment</th>\n",
       "      <th>lOBlank</th>\n",
       "      <th>locCodeAndComment</th>\n",
       "      <th>uniq_Op</th>\n",
       "      <th>uniq_Opnd</th>\n",
       "      <th>total_Op</th>\n",
       "      <th>total_Opnd</th>\n",
       "      <th>branchCount</th>\n",
       "      <th>defects</th>\n",
       "    </tr>\n",
       "  </thead>\n",
       "  <tbody>\n",
       "    <tr>\n",
       "      <th>0</th>\n",
       "      <td>0</td>\n",
       "      <td>22.0</td>\n",
       "      <td>3.0</td>\n",
       "      <td>1.0</td>\n",
       "      <td>2.0</td>\n",
       "      <td>60.0</td>\n",
       "      <td>278.63</td>\n",
       "      <td>0.06</td>\n",
       "      <td>19.56</td>\n",
       "      <td>14.25</td>\n",
       "      <td>...</td>\n",
       "      <td>17</td>\n",
       "      <td>1</td>\n",
       "      <td>1</td>\n",
       "      <td>0</td>\n",
       "      <td>16.0</td>\n",
       "      <td>9.0</td>\n",
       "      <td>38.0</td>\n",
       "      <td>22.0</td>\n",
       "      <td>5.0</td>\n",
       "      <td>False</td>\n",
       "    </tr>\n",
       "    <tr>\n",
       "      <th>1</th>\n",
       "      <td>1</td>\n",
       "      <td>14.0</td>\n",
       "      <td>2.0</td>\n",
       "      <td>1.0</td>\n",
       "      <td>2.0</td>\n",
       "      <td>32.0</td>\n",
       "      <td>151.27</td>\n",
       "      <td>0.14</td>\n",
       "      <td>7.00</td>\n",
       "      <td>21.11</td>\n",
       "      <td>...</td>\n",
       "      <td>11</td>\n",
       "      <td>0</td>\n",
       "      <td>1</td>\n",
       "      <td>0</td>\n",
       "      <td>11.0</td>\n",
       "      <td>11.0</td>\n",
       "      <td>18.0</td>\n",
       "      <td>14.0</td>\n",
       "      <td>3.0</td>\n",
       "      <td>False</td>\n",
       "    </tr>\n",
       "    <tr>\n",
       "      <th>2</th>\n",
       "      <td>2</td>\n",
       "      <td>11.0</td>\n",
       "      <td>2.0</td>\n",
       "      <td>1.0</td>\n",
       "      <td>2.0</td>\n",
       "      <td>45.0</td>\n",
       "      <td>197.65</td>\n",
       "      <td>0.11</td>\n",
       "      <td>8.05</td>\n",
       "      <td>22.76</td>\n",
       "      <td>...</td>\n",
       "      <td>8</td>\n",
       "      <td>0</td>\n",
       "      <td>1</td>\n",
       "      <td>0</td>\n",
       "      <td>12.0</td>\n",
       "      <td>11.0</td>\n",
       "      <td>28.0</td>\n",
       "      <td>17.0</td>\n",
       "      <td>3.0</td>\n",
       "      <td>False</td>\n",
       "    </tr>\n",
       "    <tr>\n",
       "      <th>3</th>\n",
       "      <td>3</td>\n",
       "      <td>8.0</td>\n",
       "      <td>1.0</td>\n",
       "      <td>1.0</td>\n",
       "      <td>1.0</td>\n",
       "      <td>23.0</td>\n",
       "      <td>94.01</td>\n",
       "      <td>0.19</td>\n",
       "      <td>5.25</td>\n",
       "      <td>17.86</td>\n",
       "      <td>...</td>\n",
       "      <td>4</td>\n",
       "      <td>0</td>\n",
       "      <td>2</td>\n",
       "      <td>0</td>\n",
       "      <td>8.0</td>\n",
       "      <td>6.0</td>\n",
       "      <td>16.0</td>\n",
       "      <td>7.0</td>\n",
       "      <td>1.0</td>\n",
       "      <td>True</td>\n",
       "    </tr>\n",
       "    <tr>\n",
       "      <th>4</th>\n",
       "      <td>4</td>\n",
       "      <td>11.0</td>\n",
       "      <td>2.0</td>\n",
       "      <td>1.0</td>\n",
       "      <td>2.0</td>\n",
       "      <td>17.0</td>\n",
       "      <td>60.94</td>\n",
       "      <td>0.18</td>\n",
       "      <td>5.63</td>\n",
       "      <td>12.44</td>\n",
       "      <td>...</td>\n",
       "      <td>7</td>\n",
       "      <td>0</td>\n",
       "      <td>2</td>\n",
       "      <td>0</td>\n",
       "      <td>7.0</td>\n",
       "      <td>6.0</td>\n",
       "      <td>10.0</td>\n",
       "      <td>10.0</td>\n",
       "      <td>3.0</td>\n",
       "      <td>False</td>\n",
       "    </tr>\n",
       "  </tbody>\n",
       "</table>\n",
       "<p>5 rows × 23 columns</p>\n",
       "</div>"
      ],
      "text/plain": [
       "   id   loc  v(g)  ev(g)  iv(g)     n       v     l      d      i  ...  \\\n",
       "0   0  22.0   3.0    1.0    2.0  60.0  278.63  0.06  19.56  14.25  ...   \n",
       "1   1  14.0   2.0    1.0    2.0  32.0  151.27  0.14   7.00  21.11  ...   \n",
       "2   2  11.0   2.0    1.0    2.0  45.0  197.65  0.11   8.05  22.76  ...   \n",
       "3   3   8.0   1.0    1.0    1.0  23.0   94.01  0.19   5.25  17.86  ...   \n",
       "4   4  11.0   2.0    1.0    2.0  17.0   60.94  0.18   5.63  12.44  ...   \n",
       "\n",
       "   lOCode  lOComment  lOBlank  locCodeAndComment  uniq_Op  uniq_Opnd  \\\n",
       "0      17          1        1                  0     16.0        9.0   \n",
       "1      11          0        1                  0     11.0       11.0   \n",
       "2       8          0        1                  0     12.0       11.0   \n",
       "3       4          0        2                  0      8.0        6.0   \n",
       "4       7          0        2                  0      7.0        6.0   \n",
       "\n",
       "   total_Op  total_Opnd  branchCount  defects  \n",
       "0      38.0        22.0          5.0    False  \n",
       "1      18.0        14.0          3.0    False  \n",
       "2      28.0        17.0          3.0    False  \n",
       "3      16.0         7.0          1.0     True  \n",
       "4      10.0        10.0          3.0    False  \n",
       "\n",
       "[5 rows x 23 columns]"
      ]
     },
     "execution_count": 30,
     "metadata": {},
     "output_type": "execute_result"
    }
   ],
   "source": [
    "import pandas as pd \n",
    "from sklearn.preprocessing import StandardScaler\n",
    "from sklearn.decomposition import PCA\n",
    "\n",
    "import seaborn as sns\n",
    "import matplotlib.pyplot as plt\n",
    "\n",
    "# Load the data\n",
    "df = pd.read_csv('..\\Data\\SoftwarDefects.csv')\n",
    "df.head()"
   ]
  },
  {
   "cell_type": "code",
   "execution_count": 31,
   "metadata": {},
   "outputs": [
    {
     "name": "stdout",
     "output_type": "stream",
     "text": [
      "(101763, 2)\n"
     ]
    }
   ],
   "source": [
    "# let's scale the data such that each feature has a single unit of variance\n",
    "scaler = StandardScaler()\n",
    "df_scaled = scaler.fit_transform(df)\n",
    "\n",
    "# apply PCA to reduce the number of features\n",
    "pca = PCA(n_components=2)\n",
    "df_pca = pca.fit_transform(df_scaled)\n",
    "print(df_pca.shape)\n"
   ]
  },
  {
   "cell_type": "code",
   "execution_count": 36,
   "metadata": {},
   "outputs": [
    {
     "data": {
      "text/plain": [
       "<Figure size 1000x1000 with 0 Axes>"
      ]
     },
     "metadata": {},
     "output_type": "display_data"
    },
    {
     "data": {
      "image/png": "[encoded data removed]",
      "text/plain": [
       "<Figure size 384.875x300 with 1 Axes>"
      ]
     },
     "metadata": {},
     "output_type": "display_data"
    }
   ],
   "source": [
    "#create the dataframe with the PCA\n",
    "\n",
    "df_pca = pd.DataFrame(data=df_pca, columns=['PC1', 'PC2'])\n",
    "\n",
    "target = df['defects']\n",
    "df_pca['target'] = target.values\n",
    "\n",
    "# plot the data\n",
    "plt.figure(figsize=(10, 10))\n",
    "sns.FacetGrid(df_pca, hue= 'target').map(plt.scatter, 'PC1', 'PC2').add_legend()\n",
    "plt.show()"
   ]
  },
  {
   "cell_type": "markdown",
   "metadata": {},
   "source": [
    "Advantages :\n",
    "\n",
    "- It removes correlated features.\n",
    "- Improves model efficiency.\n",
    "- Reduces overfitting.\n",
    "- Improves Visualization.\n",
    "\n",
    "Disadvantages :\n",
    "\n",
    "- PCA is a linear algorithm and it won’t work very well for polynomial or other complex functions. We can some how use kernel PCA for such data.\n",
    "- After PCA we may loose lot of information if we won’t choose the right number of dimensions to get eliminated.\n",
    "- less interpretability, since the original features transforms to principal components which are not as readable as original features.\n",
    "- It preserves global shapes rather than local shapes."
   ]
  },
  {
   "cell_type": "markdown",
   "metadata": {},
   "source": [
    "### **2. Linear Discriminant Analysis (LDA)**\n",
    "\n",
    "Linear Discriminant Analysis (LDA) is a technique used for dimensionality reduction while maximizing class separability. Unlike PCA, LDA is a supervised method that considers class labels.\n",
    "\n",
    "The goal of this algorithm is to project a dataset to a lower dimensional space with a separability of the categories in order to avoid overfitting and to reduce the computational power of the machines.\n",
    "\n",
    "#### **Steps:**\n",
    "\n",
    "- **Standardize the Data:** Like PCA, LDA requires standardized data.\n",
    "\n",
    "- **Compute the Scatter Matrices:** Calculate the within-class and between-class scatter matrices.\n",
    "\n",
    "- **Solve the Generalized Eigenvalue Problem:** This will give you the linear discriminants.\n",
    "\n",
    "- **Select Linear Discriminants:** Choose the top discriminants that separate the classes the most.\n",
    "\n",
    "- **Transform Data:** Project the original data onto the selected discriminants."
   ]
  },
  {
   "cell_type": "code",
   "execution_count": 51,
   "metadata": {},
   "outputs": [
    {
     "name": "stdout",
     "output_type": "stream",
     "text": [
      "(150, 4)\n",
      "[0 1 2]\n",
      "['sepal length (cm)', 'sepal width (cm)', 'petal length (cm)', 'petal width (cm)']\n"
     ]
    }
   ],
   "source": [
    "#let's practice with the iris dataset from sklearn\n",
    "import numpy as np\n",
    "from sklearn.datasets import load_iris\n",
    "\n",
    "iris = load_iris()\n",
    "# print the shape of the data\n",
    "print(iris.data.shape)\n",
    "\n",
    "# print the target values\n",
    "print(np.unique(iris.target))\n",
    "\n",
    "print(iris.feature_names)"
   ]
  },
  {
   "cell_type": "code",
   "execution_count": 53,
   "metadata": {},
   "outputs": [
    {
     "data": {
      "text/plain": [
       "<Figure size 1000x1000 with 0 Axes>"
      ]
     },
     "metadata": {},
     "output_type": "display_data"
    },
    {
     "data": {
      "image/png": "[encoded data removed]",
      "text/plain": [
       "<Figure size 358.875x300 with 1 Axes>"
      ]
     },
     "metadata": {},
     "output_type": "display_data"
    }
   ],
   "source": [
    "from sklearn.discriminant_analysis import LinearDiscriminantAnalysis as LDA\n",
    "\n",
    "lda = LDA(n_components=2)\n",
    "X_lda = lda.fit_transform(iris.data, iris.target)\n",
    "\n",
    "# convert the data to a dataframe\n",
    "df_lda = pd.DataFrame(data=X_lda, columns=['C1', 'C2'])\n",
    "df_lda['target'] = iris.target\n",
    "\n",
    "# plot the data\n",
    "plt.figure(figsize=(10, 10))\n",
    "sns.FacetGrid(df_lda, hue='target').map(plt.scatter, 'C1', 'C2').add_legend()\n",
    "plt.show()\n"
   ]
  },
  {
   "cell_type": "markdown",
   "metadata": {},
   "source": [
    "### **3. T-Distributed Stochastic Neighborhood Embedding(T-SNE)**\n",
    "\n",
    "T-SNE is a machine learning algorithm often used for visualization, It is a non-linear dimensionality reduction technique well-suited for embedding high-dimensional data for visualization in a low-dimensional space of two or three dimensions. Specifically, it models each high-dimensional object by a two- or three-dimensional point in such a way that similar objects are modeled by nearby points and dissimilar objects are modeled by distant points with high probability.\n",
    "\n",
    "T-SNE has been used for visualization in a wide range of applications, including computer security research, music analysis, cancer research, bioinformatics, and biomedical signal processing.It is often used to visualize high-level representations learned by an artificial neural network.\n",
    "\n",
    "\n",
    "Advantages:\n",
    "\n",
    "- Unlike PCA, T-SNE is a non-linear reduction technique that means it works well with any polynomial or non linear data.\n",
    "- T-SNE is a capable to preserve local and global structures while PCA tries to project High D to low D that explains most of the variance in the data. Hence it only cares about global structures.\n",
    "- T-SNE is widely used in visualization tasks.\n",
    "\n",
    "Disadvantages:\n",
    "\n",
    "- T-SNE has a quadratic time and space complexity because we are finding similarity between points with every other points in the data (order of 0(N²)). Which is huge especially when we have time and memory constraints.\n",
    "- It is not recommended to use T-SNE while working with large datasets.\n",
    "- T-SNE is a non-parametric mapping method that means it doesn’t have explicit function that maps the given point to a low dimensional space. T-SNE embeds the points into low dimensions based on the neighbourhood of that point. So when a test data point comes, as it is not present before, we need to train the whole T-SNE algorithm again for embedding which is rarely used because of it’s quadratic time-complexity."
   ]
  },
  {
   "cell_type": "code",
   "execution_count": 56,
   "metadata": {},
   "outputs": [
    {
     "name": "stderr",
     "output_type": "stream",
     "text": [
      "d:\\08.project\\13.full data science roadmap\\Data-Scienc-Roadmap-from-zero-to-hero\\.venvRoadmap\\Lib\\site-packages\\sklearn\\manifold\\_t_sne.py:1162: FutureWarning: 'n_iter' was renamed to 'max_iter' in version 1.5 and will be removed in 1.7.\n",
      "  warnings.warn(\n"
     ]
    },
    {
     "data": {
      "text/plain": [
       "<Figure size 1000x1000 with 0 Axes>"
      ]
     },
     "metadata": {},
     "output_type": "display_data"
    },
    {
     "data": {
      "image/png": "[encoded data removed]",
      "text/plain": [
       "<Figure size 384.875x300 with 1 Axes>"
      ]
     },
     "metadata": {},
     "output_type": "display_data"
    }
   ],
   "source": [
    "from sklearn.manifold import TSNE\n",
    "\n",
    "df = pd.read_csv('..\\Data\\SoftwarDefects.csv')\n",
    "df_1000 = df.sample(n=1000, random_state=1)\n",
    "labels = df_1000['defects']\n",
    "\n",
    "# first we need to scale the data\n",
    "\n",
    "scaler = StandardScaler()\n",
    "df_1000_scaled = scaler.fit_transform(df_1000)\n",
    "\n",
    "# apply t-SNE to reduce the number of features\n",
    "tsne = TSNE(n_components=2, random_state=1, perplexity=30, n_iter=5000, learning_rate=1000)\n",
    "df_tsne = tsne.fit_transform(df_1000_scaled)\n",
    "\n",
    "# convert the data to a dataframe\n",
    "df_tsne = pd.DataFrame(data=df_tsne, columns=['C1', 'C2'])\n",
    "df_tsne['target'] = labels.values\n",
    "\n",
    "# plot the data\n",
    "plt.figure(figsize=(10, 10))\n",
    "sns.FacetGrid(df_tsne, hue='target').map(plt.scatter, 'C1', 'C2').add_legend()\n",
    "plt.show()"
   ]
  },
  {
   "cell_type": "markdown",
   "metadata": {},
   "source": [
    "#### **Conclusion**\n",
    "\n",
    "- PCA is useful for reducing dimensionality by transforming features into a smaller set of uncorrelated components.\n",
    "- LDA is best when you want to reduce dimensionality while keeping the class separability intact.\n",
    "- t-SNE is excellent for visualizing high-dimensional data in 2D or 3D space, capturing local structure effectively.\n",
    "\n",
    "\n",
    "Dealing with thousands and millions of features is a must-have skill for any data scientist. The amount of data we are generating each day is unprecedented and we need to find different ways to figure out how to use it. Dimensionality reduction is a very useful way to do this and has worked wonders for me, both in a professional setting as well as in machine learning hackathons.\n",
    "\n",
    "Also dimensionality reduction may not work very well in all situations. In such cases we need to think out of the box to transform the data into lower dimensional space, also it is important to work with different new reduction algorithms on the same data."
   ]
  }
 ],
 "metadata": {
  "kernelspec": {
   "display_name": ".venvRoadmap",
   "language": "python",
   "name": "python3"
  },
  "language_info": {
   "codemirror_mode": {
    "name": "ipython",
    "version": 3
   },
   "file_extension": ".py",
   "mimetype": "text/x-python",
   "name": "python",
   "nbconvert_exporter": "python",
   "pygments_lexer": "ipython3",
   "version": "3.11.5"
  }
 },
 "nbformat": 4,
 "nbformat_minor": 2
}
