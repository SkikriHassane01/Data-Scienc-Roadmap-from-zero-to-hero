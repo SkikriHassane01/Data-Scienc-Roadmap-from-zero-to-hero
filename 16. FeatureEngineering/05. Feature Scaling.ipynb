{
 "cells": [
  {
   "cell_type": "markdown",
   "metadata": {},
   "source": [
    "<div style =\"font-family:Trebuchet MS; background-color : #f8f0fa; border-left: 5px solid #1b4332; padding: 12px; border-radius: 50px 50px;\">\n",
    "    <h2 style=\"color: #1b4332; font-size: 48px; text-align: center;\">\n",
    "        <b>Step 4 in Feature Engineering:Feature Scaling</b>\n",
    "        <hr style=\"border-top: 2px solid #264653;\">\n",
    "    </h2>\n",
    "    <h3 style=\"font-size: 14px; color: #264653; text-align: left; \"><strong> I hope this is very helpful. let's started </strong></h3>\n",
    "</div>"
   ]
  },
  {
   "cell_type": "markdown",
   "metadata": {},
   "source": [
    "Feature scaling is a crucial step in data preprocessing, especially when dealing with machine learning algorithms that are sensitive to the scale of the data, such as gradient descent-based algorithms, k-nearest neighbors, and principal component analysis. This article explores various feature scaling techniques and applies them to the Titanic dataset."
   ]
  },
  {
   "cell_type": "markdown",
   "metadata": {},
   "source": [
    "Different features in a dataset may have different units and ranges. For instance, in the Titanic dataset, the Age column might range from 0 to 80, while the Fare column could range from 0 to 512. Algorithms like logistic regression, SVM, and neural networks assume that all input features are on the same scale. If not, features with larger ranges could dominate others, leading to biased results.\n",
    "\n",
    "- we will practice along with the [titanic dataset](https://www.kaggle.com/datasets/brendan45774/test-file/data)"
   ]
  },
  {
   "attachments": {
    "image.png": {
     "image/png": "[encoded data removed]"
    }
   },
   "cell_type": "markdown",
   "metadata": {},
   "source": [
    "# 1. Standardization (Z-Score Normalization)\n",
    "\n",
    "Standardization scales features so that they have a mean of 0 and a standard deviation of 1. This method is beneficial when the data follows a Gaussian distribution.\n",
    "\n",
    "**Fomula**   \n",
    "         \n",
    "![image.png](attachment:image.png)"
   ]
  },
  {
   "cell_type": "code",
   "execution_count": 2,
   "metadata": {},
   "outputs": [],
   "source": [
    "import pandas as pd \n",
    "import numpy as np\n",
    "import matplotlib.pyplot as plt"
   ]
  },
  {
   "cell_type": "code",
   "execution_count": 4,
   "metadata": {},
   "outputs": [
    {
     "name": "stdout",
     "output_type": "stream",
     "text": [
      "        Age      Fare\n",
      "0  0.298549 -0.497811\n",
      "1  1.181328 -0.512660\n",
      "2  2.240662 -0.464532\n",
      "3 -0.231118 -0.482888\n",
      "4 -0.584229 -0.417971\n"
     ]
    }
   ],
   "source": [
    "from sklearn.preprocessing import StandardScaler\n",
    "df = pd.read_csv('..\\Data\\Titanic.csv')\n",
    "\n",
    "col_to_scale = ['Age', 'Fare']\n",
    "\n",
    "scaler = StandardScaler()\n",
    "\n",
    "scaled_features = scaler.fit_transform(df[col_to_scale])\n",
    "\n",
    "df_scaled = pd.DataFrame(scaled_features, columns=col_to_scale)\n",
    "\n",
    "print(df_scaled.head())"
   ]
  },
  {
   "attachments": {
    "image.png": {
     "image/png": "[encoded data removed]"
    }
   },
   "cell_type": "markdown",
   "metadata": {},
   "source": [
    "# 2. Min-Max Scaling (Normalization)\n",
    "\n",
    "Min-Max scaling transforms features to a fixed range, typically [0, 1]. This is particularly useful when the features don't follow a normal distribution and you want to retain the distribution's original shape.\n",
    "\n",
    "**Formula**\n",
    "\n",
    "![image.png](attachment:image.png)"
   ]
  },
  {
   "cell_type": "code",
   "execution_count": 5,
   "metadata": {},
   "outputs": [
    {
     "name": "stdout",
     "output_type": "stream",
     "text": [
      "        Age      Fare\n",
      "0  0.452723  0.015282\n",
      "1  0.617566  0.013663\n",
      "2  0.815377  0.018909\n",
      "3  0.353818  0.016908\n",
      "4  0.287881  0.023984\n"
     ]
    }
   ],
   "source": [
    "from sklearn.preprocessing import MinMaxScaler\n",
    "\n",
    "df = pd.read_csv('..\\Data\\Titanic.csv')\n",
    "# Initialize the MinMaxScaler\n",
    "scaler = MinMaxScaler()\n",
    "\n",
    "min_max_col = ['Age', 'Fare']\n",
    "\n",
    "scaled_features = scaler.fit_transform(df[min_max_col])\n",
    "\n",
    "df_min_max = pd.DataFrame(scaled_features, columns=min_max_col)\n",
    "\n",
    "print(df_min_max.head())"
   ]
  },
  {
   "attachments": {
    "image.png": {
     "image/png": "[encoded data removed]"
    }
   },
   "cell_type": "markdown",
   "metadata": {},
   "source": [
    "# 3. Robust Scaling\n",
    "\n",
    "Robust scaling is used when the dataset contains outliers. Unlike standardization, which uses the mean and standard deviation, robust scaling uses the median and interquartile range (IQR), making it less sensitive to outliers.\n",
    "\n",
    "**Formula**\n",
    "\n",
    "![image.png](attachment:image.png)"
   ]
  },
  {
   "cell_type": "code",
   "execution_count": 6,
   "metadata": {},
   "outputs": [
    {
     "name": "stdout",
     "output_type": "stream",
     "text": [
      "        Age      Fare\n",
      "0  0.416667 -0.280670\n",
      "1  1.111111 -0.315800\n",
      "2  1.944444 -0.201943\n",
      "3  0.000000 -0.245367\n",
      "4 -0.277778 -0.091793\n"
     ]
    }
   ],
   "source": [
    "from sklearn.preprocessing import RobustScaler\n",
    "\n",
    "df = pd.read_csv('..\\Data\\Titanic.csv')\n",
    "\n",
    "# Initialize the RobustScaler\n",
    "scaler = RobustScaler()\n",
    "\n",
    "robust_col = ['Age', 'Fare']\n",
    "\n",
    "scaled_features = scaler.fit_transform(df[robust_col])\n",
    "\n",
    "df_robust = pd.DataFrame(scaled_features, columns=robust_col)\n",
    "\n",
    "print(df_robust.head())"
   ]
  },
  {
   "attachments": {
    "image.png": {
     "image/png": "[encoded data removed]"
    }
   },
   "cell_type": "markdown",
   "metadata": {},
   "source": [
    "# 4. Logarithmic Scaling\n",
    "\n",
    "Logarithmic scaling is a transformation that can help reduce the impact of large values and skewed distributions. It is particularly useful when the feature has a long tail.\n",
    "\n",
    "**Formula:**\n",
    "\n",
    "![image.png](attachment:image.png)"
   ]
  },
  {
   "cell_type": "code",
   "execution_count": 7,
   "metadata": {},
   "outputs": [
    {
     "name": "stdout",
     "output_type": "stream",
     "text": [
      "    Age   log_Age\n",
      "0  34.5  3.569533\n",
      "1  47.0  3.871201\n",
      "2  62.0  4.143135\n",
      "3  27.0  3.332205\n",
      "4  22.0  3.135494\n"
     ]
    }
   ],
   "source": [
    "df = pd.read_csv('..\\Data\\Titanic.csv')\n",
    "\n",
    "df['log_Age'] = np.log(df['Age'] + 1)\n",
    "\n",
    "print(df[['Age', 'log_Age']].head())"
   ]
  },
  {
   "cell_type": "markdown",
   "metadata": {},
   "source": [
    "# Conclusion\n",
    "\n",
    "Feature scaling is a vital preprocessing step that ensures all features contribute equally to the model, regardless of their original scale. Each scaling method has its advantages depending on the data's distribution and the presence of outliers. By applying these techniques to the Titanic dataset, you can prepare your data effectively for various machine learning algorithms.\n"
   ]
  }
 ],
 "metadata": {
  "kernelspec": {
   "display_name": ".venvRoadmap",
   "language": "python",
   "name": "python3"
  },
  "language_info": {
   "codemirror_mode": {
    "name": "ipython",
    "version": 3
   },
   "file_extension": ".py",
   "mimetype": "text/x-python",
   "name": "python",
   "nbconvert_exporter": "python",
   "pygments_lexer": "ipython3",
   "version": "3.11.5"
  }
 },
 "nbformat": 4,
 "nbformat_minor": 2
}
