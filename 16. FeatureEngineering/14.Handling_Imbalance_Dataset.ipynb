{
 "cells": [
  {
   "cell_type": "markdown",
   "metadata": {},
   "source": [
    "# **Handling Imbalance Dataset**"
   ]
  },
  {
   "cell_type": "markdown",
   "metadata": {},
   "source": [
    "# Introduction\n",
    "\n",
    "In evey dataset there is a possibility that the data is imbalanced. There isn't a problem as long as the diffrence between the classes is not too big. But if the diffrence is too big, the model will be biased towards the majority class. This is a problem because the model will not be able to predict the minority class. for example, in the titanic dataset we can see that there is 266 not Survived but there is just 152 Survived. This is a problem because the model will be biased towards the not Survived class."
   ]
  },
  {
   "cell_type": "code",
   "execution_count": 86,
   "metadata": {},
   "outputs": [
    {
     "data": {
      "text/plain": [
       "Survived\n",
       "0    266\n",
       "1    152\n",
       "Name: count, dtype: int64"
      ]
     },
     "execution_count": 86,
     "metadata": {},
     "output_type": "execute_result"
    }
   ],
   "source": [
    "import pandas as pd \n",
    "\n",
    "df =pd.read_csv(\"..\\Data\\Titanic.csv\")\n",
    "df['Survived'].value_counts()"
   ]
  },
  {
   "cell_type": "markdown",
   "metadata": {},
   "source": [
    "first let's calculate the accuracy of the model without handling the imbalance in the target variable."
   ]
  },
  {
   "cell_type": "code",
   "execution_count": 87,
   "metadata": {},
   "outputs": [
    {
     "name": "stdout",
     "output_type": "stream",
     "text": [
      "Accuracy Model without Handling imbalance Data: 0.6507936507936508\n"
     ]
    }
   ],
   "source": [
    "from sklearn.model_selection import train_test_split\n",
    "from sklearn.metrics import accuracy_score\n",
    "from sklearn.ensemble import RandomForestClassifier\n",
    "from collections import Counter\n",
    "import numpy as np\n",
    "# to make it easer wi will drop all the categorical columns \n",
    "cat_cols = df.select_dtypes(include=['object']).columns\n",
    "df = df.drop(cat_cols,axis=1)\n",
    "\n",
    "df['Age'] = df['Age'].replace(np.nan, df['Age'].mean())\n",
    "df['Fare'] = df['Fare'].replace(np.nan, df['Fare'].mean())\n",
    "X = df.drop('Survived',axis=1)\n",
    "y = df['Survived']\n",
    "\n",
    "X_train, X_test, y_train, y_test = train_test_split(X, y, test_size=0.3, random_state=42)\n",
    "\n",
    "# create a random forest Classifier \n",
    "clf = RandomForestClassifier(random_state=42)\n",
    "\n",
    "# fit the model \n",
    "clf.fit(X_train, y_train)\n",
    "\n",
    "# make the prediction \n",
    "y_pred = clf.predict(X_test)\n",
    "print(\"Accuracy Model without Handling imbalance Data:\",accuracy_score(y_test, y_pred))"
   ]
  },
  {
   "cell_type": "code",
   "execution_count": 88,
   "metadata": {},
   "outputs": [
    {
     "data": {
      "text/plain": [
       "2"
      ]
     },
     "execution_count": 88,
     "metadata": {},
     "output_type": "execute_result"
    }
   ],
   "source": [
    "y.nunique()"
   ]
  },
  {
   "cell_type": "code",
   "execution_count": 89,
   "metadata": {},
   "outputs": [
    {
     "data": {
      "image/png": "[encoded data removed]",
      "text/plain": [
       "<Figure size 640x480 with 1 Axes>"
      ]
     },
     "metadata": {},
     "output_type": "display_data"
    }
   ],
   "source": [
    "import matplotlib.pyplot as plt \n",
    "import seaborn as sns \n",
    "sns.countplot(data=df, x='Survived')\n",
    "plt.show()\n"
   ]
  },
  {
   "cell_type": "markdown",
   "metadata": {},
   "source": [
    "# 1. Resampling Techniques\n",
    "\n",
    "This method involves adjusting the balance between minority and majority classes through upsampling or downsampling. In the case of an imbalanced dataset, oversampling the minority class with replacement, termed oversampling, is employed. Conversely, undersampling entails randomly removing rows from the majority class to align with the minority class.\n",
    "\n",
    "This sampling approach yields a balanced dataset, ensuring comparable representation for both majority and minority classes. Achieving a similar number of records for both classes in the dataset signifies that the classifier will assign equal importance to each class during training."
   ]
  },
  {
   "cell_type": "code",
   "execution_count": 90,
   "metadata": {},
   "outputs": [
    {
     "name": "stdout",
     "output_type": "stream",
     "text": [
      "Original Dataset, counts of label '1': 152, counts of label '0': 266\n",
      "Over Sampled Dataset, counts of label '1': 266, counts of label '0': 266\n",
      "Under Sampled Dataset, counts of label '1': 152, counts of label '0': 152\n",
      "Accuracy Model with Over Sampling: 0.79375\n"
     ]
    }
   ],
   "source": [
    "from imblearn.over_sampling import RandomOverSampler\n",
    "from imblearn.under_sampling import RandomUnderSampler\n",
    "\n",
    "\n",
    "print(f\"Original Dataset, counts of label '1': {sum(df['Survived'] == 1)}, counts of label '0': {sum(df['Survived'] == 0)}\")\n",
    "\n",
    "# Over Sampling\n",
    "oversample = RandomOverSampler(sampling_strategy='minority',random_state=42)\n",
    "X_oversimple, y_oversimple = oversample.fit_resample(X, y)\n",
    "print(f\"Over Sampled Dataset, counts of label '1': {sum(y_oversimple == 1)}, counts of label '0': {sum(y_oversimple == 0)}\")\n",
    "\n",
    "# Under Sampling\n",
    "undersample = RandomUnderSampler(sampling_strategy='majority',random_state=42)\n",
    "X_undersimple, y_undersimple = undersample.fit_resample(X, y)\n",
    "print(f\"Under Sampled Dataset, counts of label '1': {sum(y_undersimple == 1)}, counts of label '0': {sum(y_undersimple == 0)}\")\n",
    "\n",
    "\n",
    "# Calculate the accuracy after handling the imbalance data\n",
    "# Over Sampling is more effective than Under Sampling because it does not remove any data\n",
    "X_train, X_test, y_train, y_test = train_test_split(X_oversimple, y_oversimple, test_size=0.3, random_state=42) \n",
    "clf.fit(X_train, y_train)\n",
    "y_pred = clf.predict(X_test)\n",
    "\n",
    "print(\"Accuracy Model with Over Sampling:\",accuracy_score(y_test, y_pred))\n"
   ]
  },
  {
   "cell_type": "markdown",
   "metadata": {},
   "source": [
    "we can see that the accuracy is increased after handling the imbalance data"
   ]
  },
  {
   "cell_type": "markdown",
   "metadata": {},
   "source": [
    "# **2. BalancedBaggingClassifier**\n",
    "\n",
    "When dealing with imbalanced datasets, traditional classifiers tend to favor the majority class, neglecting the minority class due to its lower representation. The BalancedBaggingClassifier, an extension of sklearn classifiers, addresses this imbalance by incorporating additional balancing during training. It introduces parameters like “sampling_strategy,” determining the type of resampling (e.g., ‘majority’ for resampling only the majority class, ‘all’ for resampling all classes), and “replacement,” dictating whether the sampling should occur with or without replacement. This classifier ensures a more equitable treatment of classes, particularly beneficial when handling imbalanced datasets."
   ]
  },
  {
   "cell_type": "code",
   "execution_count": 91,
   "metadata": {},
   "outputs": [
    {
     "name": "stdout",
     "output_type": "stream",
     "text": [
      "Accuracy after using the balaced bagging classifier is  0.6587301587301587\n"
     ]
    }
   ],
   "source": [
    "from imblearn.ensemble import BalancedBaggingClassifier\n",
    "\n",
    "X_train, X_test, y_train, y_test = train_test_split(X, y, test_size=0.3, random_state=42)\n",
    "\n",
    "# create a random forest Classifier \n",
    "clf = RandomForestClassifier(random_state=42)\n",
    "\n",
    "#create the balanced bagging classifier \n",
    "bbc = BalancedBaggingClassifier(clf, \n",
    "                                sampling_strategy='auto', # you can change to 'not majority' or 'majority'\n",
    "                                replacement=False, # this mean that the sample will not be replaced\n",
    "                                random_state=42)\n",
    "\n",
    "# fit the model \n",
    "bbc.fit(X_train,y_train)\n",
    "y_pred = bbc.predict(X_test)\n",
    "print(\"Accuracy after using the balaced bagging classifier is \",accuracy_score(y_test,y_pred))\n"
   ]
  },
  {
   "cell_type": "markdown",
   "metadata": {},
   "source": [
    "# **3.SMOTE**"
   ]
  },
  {
   "cell_type": "markdown",
   "metadata": {},
   "source": [
    "The Synthetic Minority Oversampling Technique (SMOTE) addresses imbalanced datasets by synthetically generating new instances for the minority class. Unlike simply duplicating records, SMOTE enhances diversity by creating artificial instances. In simpler terms, SMOTE examines instances in the minority class, selects a random nearest neighbor using k-nearest neighbors, and generates a synthetic instance randomly within the feature space."
   ]
  },
  {
   "cell_type": "code",
   "execution_count": 92,
   "metadata": {},
   "outputs": [
    {
     "name": "stdout",
     "output_type": "stream",
     "text": [
      "Class distribution before SMOTE:  Counter({0: 181, 1: 111})\n",
      "Class distribution after SMOTE:  Counter({0: 181, 1: 111})\n",
      "Accuracy after using the SMOTE is  0.6507936507936508\n"
     ]
    }
   ],
   "source": [
    "from imblearn.over_sampling import SMOTE\n",
    "\n",
    "X_train, X_test, y_train, y_test = train_test_split(X, y, test_size=0.3, random_state=42)\n",
    "\n",
    "print(\"Class distribution before SMOTE: \",Counter(y_train))\n",
    "\n",
    "#apply the smote to ever sample the minority class\n",
    "smote = SMOTE(sampling_strategy='not minority',        \n",
    "            random_state=42)\n",
    "X_train_resampled, y_train_resampled = smote.fit_resample(X_train, y_train)\n",
    "\n",
    "print(\"Class distribution after SMOTE: \",Counter(y_train_resampled))\n",
    "\n",
    "# make the prediction\n",
    "\n",
    "clf.fit(X_train_resampled, y_train_resampled)\n",
    "y_pred = clf.predict(X_test)\n",
    "print(\"Accuracy after using the SMOTE is \",accuracy_score(y_test,y_pred))"
   ]
  },
  {
   "cell_type": "markdown",
   "metadata": {},
   "source": [
    "# **4. Using Tree Based Models**\n",
    "\n",
    "The hierarchical structure of tree-based models—such as Decision Trees, Random Forests, and Gradient Boosted Trees—allows them to handle imbalanced datasets better than non-tree-based models.\n",
    "\n",
    "- Decision Trees: Decision trees create a structure resembling a tree by dividing the feature space into regions according to feature values. By changing the decision boundaries to incorporate minority class patterns, decision trees can react to data that is unbalanced. They might experience overfitting, though.\n",
    "- Random Forests: Random Forests are made up of many Decision Trees that have been trained using arbitrary subsets of features and data. Random Forests improve generalization by reducing overfitting and strengthening robustness against imbalanced datasets by mixing numerous trees.\n",
    "- Gradient Boosted Trees: Boosted Gradient Trees grow in a sequential fashion, with each new growth repairing the mistakes of the older one. Gradient Boosted Trees perform well in imbalanced circumstances because of their ability to concentrate on misclassifie"
   ]
  },
  {
   "cell_type": "markdown",
   "metadata": {},
   "source": [
    "# Conclusion\n",
    "\n",
    "Handling imbalanced data is a crucial step in the data preprocessing pipeline, especially when working on classification problems where one class significantly outnumbers the others. If left unaddressed, imbalanced data can lead to models that are biased towards the majority class, resulting in poor performance on the minority class, which is often of greater interest."
   ]
  }
 ],
 "metadata": {
  "kernelspec": {
   "display_name": "Python 3 (ipykernel)",
   "language": "python",
   "name": "python3"
  },
  "language_info": {
   "codemirror_mode": {
    "name": "ipython",
    "version": 3
   },
   "file_extension": ".py",
   "mimetype": "text/x-python",
   "name": "python",
   "nbconvert_exporter": "python",
   "pygments_lexer": "ipython3",
   "version": "3.11.5"
  }
 },
 "nbformat": 4,
 "nbformat_minor": 4
}
