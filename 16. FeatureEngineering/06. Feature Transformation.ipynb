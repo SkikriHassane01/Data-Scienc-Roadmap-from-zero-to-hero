{
 "cells": [
  {
   "cell_type": "markdown",
   "metadata": {},
   "source": [
    "<div style =\"font-family:Trebuchet MS; background-color : #f8f0fa; border-left: 5px solid #1b4332; padding: 12px; border-radius: 50px 50px;\">\n",
    "    <h2 style=\"color: #1b4332; font-size: 48px; text-align: center;\">\n",
    "        <b>Step 5 in Feature Engineering:Feature Transformation</b>\n",
    "        <hr style=\"border-top: 2px solid #264653;\">\n",
    "    </h2>\n",
    "    <h3 style=\"font-size: 14px; color: #264653; text-align: left; \"><strong> I hope this is very helpful. let's started </strong></h3>\n",
    "</div>"
   ]
  },
  {
   "cell_type": "markdown",
   "metadata": {},
   "source": [
    "### **Introduction**\n",
    "\n",
    "Feature transformation involves altering the data's representation to improve the performance of machine learning models. By creating polynomial features, interacting features, or applying transformations like log and square root, you can make the data more suitable for algorithms. This article will cover various feature transformation techniques and apply them to the Titanic dataset.\n",
    "\n",
    "\n",
    "- we will practice along with the [titanic dataset](https://www.kaggle.com/datasets/brendan45774/test-file/data)\n",
    "\n",
    "### **1. Polynomial Features**\n",
    "\n",
    "Polynomial features are created by generating new features that are polynomial combinations of the original features. This can capture more complex relationships in the data.\n"
   ]
  },
  {
   "cell_type": "code",
   "execution_count": 6,
   "metadata": {},
   "outputs": [
    {
     "data": {
      "text/html": [
       "<div>\n",
       "<style scoped>\n",
       "    .dataframe tbody tr th:only-of-type {\n",
       "        vertical-align: middle;\n",
       "    }\n",
       "\n",
       "    .dataframe tbody tr th {\n",
       "        vertical-align: top;\n",
       "    }\n",
       "\n",
       "    .dataframe thead th {\n",
       "        text-align: right;\n",
       "    }\n",
       "</style>\n",
       "<table border=\"1\" class=\"dataframe\">\n",
       "  <thead>\n",
       "    <tr style=\"text-align: right;\">\n",
       "      <th></th>\n",
       "      <th>Age</th>\n",
       "      <th>Fare</th>\n",
       "      <th>Age^2</th>\n",
       "      <th>Age Fare</th>\n",
       "      <th>Fare^2</th>\n",
       "    </tr>\n",
       "  </thead>\n",
       "  <tbody>\n",
       "    <tr>\n",
       "      <th>0</th>\n",
       "      <td>34.5</td>\n",
       "      <td>7.8292</td>\n",
       "      <td>1190.25</td>\n",
       "      <td>270.1074</td>\n",
       "      <td>61.296373</td>\n",
       "    </tr>\n",
       "    <tr>\n",
       "      <th>1</th>\n",
       "      <td>47.0</td>\n",
       "      <td>7.0000</td>\n",
       "      <td>2209.00</td>\n",
       "      <td>329.0000</td>\n",
       "      <td>49.000000</td>\n",
       "    </tr>\n",
       "    <tr>\n",
       "      <th>2</th>\n",
       "      <td>62.0</td>\n",
       "      <td>9.6875</td>\n",
       "      <td>3844.00</td>\n",
       "      <td>600.6250</td>\n",
       "      <td>93.847656</td>\n",
       "    </tr>\n",
       "    <tr>\n",
       "      <th>3</th>\n",
       "      <td>27.0</td>\n",
       "      <td>8.6625</td>\n",
       "      <td>729.00</td>\n",
       "      <td>233.8875</td>\n",
       "      <td>75.038906</td>\n",
       "    </tr>\n",
       "    <tr>\n",
       "      <th>4</th>\n",
       "      <td>22.0</td>\n",
       "      <td>12.2875</td>\n",
       "      <td>484.00</td>\n",
       "      <td>270.3250</td>\n",
       "      <td>150.982656</td>\n",
       "    </tr>\n",
       "  </tbody>\n",
       "</table>\n",
       "</div>"
      ],
      "text/plain": [
       "    Age     Fare    Age^2  Age Fare      Fare^2\n",
       "0  34.5   7.8292  1190.25  270.1074   61.296373\n",
       "1  47.0   7.0000  2209.00  329.0000   49.000000\n",
       "2  62.0   9.6875  3844.00  600.6250   93.847656\n",
       "3  27.0   8.6625   729.00  233.8875   75.038906\n",
       "4  22.0  12.2875   484.00  270.3250  150.982656"
      ]
     },
     "execution_count": 6,
     "metadata": {},
     "output_type": "execute_result"
    }
   ],
   "source": [
    "# create some polynomial feature \n",
    "import numpy as np\n",
    "import pandas as pd \n",
    "import matplotlib.pyplot as plt\n",
    "\n",
    "from sklearn.preprocessing import PolynomialFeatures\n",
    "\n",
    "df = pd.read_csv('..\\Data\\Titanic.csv') \n",
    "\n",
    "# Select numerical columns to generate polynomial features\n",
    "num_cols = ['Age','Fare']\n",
    "\n",
    "# note that this columns must be without missing values\n",
    "for col in num_cols:\n",
    "    df[col] = df[col].fillna(df[col].mean())\n",
    "\n",
    "# initialize the polynomial transformer \n",
    "poly = PolynomialFeatures(degree=2, include_bias=False)\n",
    "\n",
    "# fit the transformer to the data\n",
    "df_poly = poly.fit_transform(df[num_cols])\n",
    "\n",
    "# convert the array to a dataframe\n",
    "df_poly = pd.DataFrame(df_poly, columns=poly.get_feature_names_out(num_cols))\n",
    "df_poly.head()"
   ]
  },
  {
   "cell_type": "markdown",
   "metadata": {},
   "source": [
    "### **2. Interaction Features**\n",
    "\n",
    "Interaction features are created by multiplying or interacting two or more features. This helps in capturing relationships between features that might be missed when considering them independently."
   ]
  },
  {
   "cell_type": "code",
   "execution_count": 8,
   "metadata": {},
   "outputs": [
    {
     "name": "stdout",
     "output_type": "stream",
     "text": [
      "    Age     Fare  Age_Fare\n",
      "0  34.5   7.8292  270.1074\n",
      "1  47.0   7.0000  329.0000\n",
      "2  62.0   9.6875  600.6250\n",
      "3  27.0   8.6625  233.8875\n",
      "4  22.0  12.2875  270.3250\n"
     ]
    }
   ],
   "source": [
    "from sklearn.preprocessing import FunctionTransformer\n",
    "\n",
    "df = pd.read_csv('..\\Data\\Titanic.csv')\n",
    "\n",
    "# Define a custom function to create interaction features\n",
    "def create_interaction_features(data):\n",
    "    data['Age_Fare'] = data['Age'] * data['Fare']\n",
    "    return data\n",
    "\n",
    "df = create_interaction_features(df)\n",
    "\n",
    "print(df[['Age', 'Fare', 'Age_Fare']].head())\n"
   ]
  },
  {
   "cell_type": "markdown",
   "metadata": {},
   "source": [
    "### **3. Binning**\n",
    "Binning is the process of converting continuous features into discrete intervals or bins. This can make the model more interpretable and robust, especially when dealing with outliers."
   ]
  },
  {
   "cell_type": "code",
   "execution_count": 9,
   "metadata": {},
   "outputs": [
    {
     "name": "stdout",
     "output_type": "stream",
     "text": [
      "    Age     AgeGroup\n",
      "0  34.5        Adult\n",
      "1  47.0        Adult\n",
      "2  62.0       Senior\n",
      "3  27.0  Young Adult\n",
      "4  22.0  Young Adult\n"
     ]
    }
   ],
   "source": [
    "# binning the Age column\n",
    "\n",
    "df = pd.read_csv('..\\Data\\Titanic.csv')\n",
    "\n",
    "# Bin the numerical column 'Age' into 5 bins\n",
    "bins = [0, 12, 19, 30, 50, 100]\n",
    "labels = ['Child', 'Teenager', 'Young Adult', 'Adult', 'Senior']\n",
    "\n",
    "df['AgeGroup'] = pd.cut(df['Age'], bins=bins, labels=labels)\n",
    "\n",
    "print(df[['Age', 'AgeGroup']].head())"
   ]
  },
  {
   "cell_type": "markdown",
   "metadata": {},
   "source": [
    "### **4. Log, Square Root, and Box-Cox Transformations**\n",
    "\n",
    "These transformations are applied to make data more Gaussian-like, stabilize variance, and handle skewness in the data.\n",
    "\n",
    "#### **a. Log Transformation**"
   ]
  },
  {
   "cell_type": "code",
   "execution_count": 11,
   "metadata": {},
   "outputs": [
    {
     "name": "stdout",
     "output_type": "stream",
     "text": [
      "0.0 6.240917354759096\n",
      "0.0 512.3292\n",
      "      Fare  log_Fare\n",
      "0   7.8292  2.178064\n",
      "1   7.0000  2.079442\n",
      "2   9.6875  2.369075\n",
      "3   8.6625  2.268252\n",
      "4  12.2875  2.586824\n"
     ]
    }
   ],
   "source": [
    "df['log_Fare'] = np.log1p(df['Fare'])\n",
    "print(df['log_Fare'].min(), df['log_Fare'].max())\n",
    "print(df['Fare'].min(), df['Fare'].max())\n",
    "print(df[['Fare', 'log_Fare']].head())"
   ]
  },
  {
   "cell_type": "markdown",
   "metadata": {},
   "source": [
    "#### **b. Square Root Transformation:**"
   ]
  },
  {
   "cell_type": "code",
   "execution_count": 13,
   "metadata": {},
   "outputs": [
    {
     "name": "stdout",
     "output_type": "stream",
     "text": [
      "0.0 22.634690190060034\n",
      "0.0 512.3292\n",
      "      Fare  Sqrt_Fare\n",
      "0   7.8292   2.798071\n",
      "1   7.0000   2.645751\n",
      "2   9.6875   3.112475\n",
      "3   8.6625   2.943213\n",
      "4  12.2875   3.505353\n"
     ]
    }
   ],
   "source": [
    "df['Sqrt_Fare'] = np.sqrt(df['Fare'])\n",
    "\n",
    "print(df['Sqrt_Fare'].min(), df['Sqrt_Fare'].max())\n",
    "print(df['Fare'].min(), df['Fare'].max())\n",
    "\n",
    "print(df[['Fare', 'Sqrt_Fare']].head())\n"
   ]
  },
  {
   "cell_type": "markdown",
   "metadata": {},
   "source": [
    "The square root transformation is less aggressive than log transformation and can also help in reducing skewness."
   ]
  },
  {
   "cell_type": "markdown",
   "metadata": {},
   "source": [
    "#### **c. Box-Cox Transformation:**"
   ]
  },
  {
   "cell_type": "code",
   "execution_count": 15,
   "metadata": {},
   "outputs": [
    {
     "name": "stdout",
     "output_type": "stream",
     "text": [
      "0.0 2.9406506490471425\n",
      "0.0 512.3292\n",
      "      Fare  Fare_BoxCox\n",
      "0   7.8292     1.628553\n",
      "1   7.0000     1.574361\n",
      "2   9.6875     1.729330\n",
      "3   8.6625     1.676811\n",
      "4  12.2875     1.837799\n"
     ]
    }
   ],
   "source": [
    "from scipy.stats import boxcox\n",
    "\n",
    "# handle missing values in the Fare Columns first\n",
    "df['Fare'] = df['Fare'].fillna(df['Fare'].mean())\n",
    "\n",
    "df['Fare_BoxCox'], _ = boxcox(df['Fare'] + 1)  # Adding 1 to handle zero values\n",
    "\n",
    "\n",
    "print(df['Fare_BoxCox'].min(), df['Fare_BoxCox'].max())\n",
    "print(df['Fare'].min(), df['Fare'].max())\n",
    "\n",
    "print(df[['Fare', 'Fare_BoxCox']].head())\n"
   ]
  },
  {
   "cell_type": "markdown",
   "metadata": {},
   "source": [
    "Box-Cox transformation can handle a wider range of distributions and makes the data more Gaussian-like, which is beneficial for many machine learning algorithms."
   ]
  },
  {
   "cell_type": "markdown",
   "metadata": {},
   "source": [
    "### **Conclusion**\n",
    "\n",
    "Feature transformation is a powerful tool in your data preprocessing toolkit. By applying polynomial features, interaction terms, binning, and various transformations, you can enhance the quality of your features and ultimately improve model performance. "
   ]
  }
 ],
 "metadata": {
  "kernelspec": {
   "display_name": ".venvRoadmap",
   "language": "python",
   "name": "python3"
  },
  "language_info": {
   "codemirror_mode": {
    "name": "ipython",
    "version": 3
   },
   "file_extension": ".py",
   "mimetype": "text/x-python",
   "name": "python",
   "nbconvert_exporter": "python",
   "pygments_lexer": "ipython3",
   "version": "3.11.5"
  }
 },
 "nbformat": 4,
 "nbformat_minor": 2
}
