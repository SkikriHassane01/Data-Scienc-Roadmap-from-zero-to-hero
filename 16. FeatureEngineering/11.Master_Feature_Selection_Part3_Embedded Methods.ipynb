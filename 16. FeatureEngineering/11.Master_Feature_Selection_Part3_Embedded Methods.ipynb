{
 "cells": [
  {
   "cell_type": "markdown",
   "metadata": {},
   "source": [
    "# **Master Feature Selection Part 3: Embedded Methods**"
   ]
  },
  {
   "cell_type": "markdown",
   "metadata": {},
   "source": [
    "# you can find the article [here](https://medium.com/p/a1df09b677fa)"
   ]
  }
 ],
 "metadata": {
  "language_info": {
   "name": "python"
  }
 },
 "nbformat": 4,
 "nbformat_minor": 2
}
