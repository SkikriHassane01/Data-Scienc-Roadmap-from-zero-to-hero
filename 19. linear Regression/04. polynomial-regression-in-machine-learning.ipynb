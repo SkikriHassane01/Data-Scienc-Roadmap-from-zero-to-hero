{
 "cells": [
  {
   "cell_type": "markdown",
   "id": "aa2b4f5d",
   "metadata": {
    "papermill": {
     "duration": 0.006682,
     "end_time": "2024-02-01T13:50:07.802906",
     "exception": false,
     "start_time": "2024-02-01T13:50:07.796224",
     "status": "completed"
    },
    "tags": []
   },
   "source": [
    "\n",
    "\n",
    "<div style =\"font-family:Trebuchet MS; background-color : #f8f0fa; border-left: 5px solid #1b4332; padding: 12px\">\n",
    "    <h2 style=\"color: #1b4332; font-size: 48px; text-align: center;\"><b> Polynomial regression in Machine Learning </b></h2>\n",
    "    <hr style=\"border-top: 2px solid #264653;\">\n",
    "    <h3 style=\"font-size: 14px; color: #264653; text-align: left; \"><strong>let's descover How does polynomial regression work and how can we implement it ? 😊🌟</strong></h3>\n",
    "    <h2></h2>\n",
    "</div>"
   ]
  },
  {
   "cell_type": "markdown",
   "id": "7c72c3ce",
   "metadata": {
    "papermill": {
     "duration": 0.005788,
     "end_time": "2024-02-01T13:50:07.815513",
     "exception": false,
     "start_time": "2024-02-01T13:50:07.809725",
     "status": "completed"
    },
    "tags": []
   },
   "source": [
    "<img src=\"https://cdn-images-1.medium.com/v2/resize:fit:1200/1*QKcwvXU0UZ9YtkmRNKBM3w.gif\" alt=\"m\" width=\"1000\" height=\"600\">\n"
   ]
  },
  {
   "cell_type": "markdown",
   "id": "cc36db5b",
   "metadata": {
    "papermill": {
     "duration": 0.006304,
     "end_time": "2024-02-01T13:50:07.827872",
     "exception": false,
     "start_time": "2024-02-01T13:50:07.821568",
     "status": "completed"
    },
    "tags": []
   },
   "source": [
    "\n",
    "<h1 style=\"background-color: #12f7ff; font-family: 'Trebuchet MS', sans-serif; color: #000; font-size: 150%; text-align: center; border-radius: 50px 15px; padding: 10px; box-shadow: 0 4px 8px 0 rgba(0, 0, 0, 0.2), 0 6px 20px 0 rgba(0, 0, 0, 0.19);\">\n",
    "    🔍📚 Outline 📚🔍\n",
    "</h1>\n",
    "\n",
    "\n",
    "\n",
    "<ul style=\"font-family: 'Trebuchet MS', sans-serif; font-size: 120%; padding: 20px;\">\n",
    "    <li>🌟 Introduction to Polynomial Regression 🌟</li>\n",
    "    <li>🔢 Polynomial Regression Formula 🔢</li>\n",
    "    <li>🚀 The difference between linear and polynomial regression. 🚀</li>\n",
    "    <li>📚 Determining the degree of the polynomial 📚</li>\n",
    "    <li>🛠️ Implementation of the Polynomial Regression 🛠️</li>\n",
    "    <li>🌍 Application 🌍</li>\n",
    "    <li>🎯 Conclusion 🎯</li>\n",
    "</ul>\n"
   ]
  },
  {
   "cell_type": "markdown",
   "id": "17b2bb31",
   "metadata": {
    "papermill": {
     "duration": 0.005743,
     "end_time": "2024-02-01T13:50:07.839991",
     "exception": false,
     "start_time": "2024-02-01T13:50:07.834248",
     "status": "completed"
    },
    "tags": []
   },
   "source": [
    "<h1 style=\"background-color: #12f7ff; font-family: 'Trebuchet MS', sans-serif; color: #000; font-size: 150%; text-align: center; border-radius: 50px 15px; padding: 10px; box-shadow: 0 4px 8px 0 rgba(0, 0, 0, 0.2), 0 6px 20px 0 rgba(0, 0, 0, 0.19);\">\n",
    "    🔻🌟 Introduction to Polynomial Regression 🌟🔻\n",
    "</h1>\n"
   ]
  },
  {
   "cell_type": "markdown",
   "id": "0ac9da2e",
   "metadata": {
    "papermill": {
     "duration": 0.006528,
     "end_time": "2024-02-01T13:50:07.852546",
     "exception": false,
     "start_time": "2024-02-01T13:50:07.846018",
     "status": "completed"
    },
    "tags": []
   },
   "source": [
    "Polynomial Regression is a type of linear regression where the relationship between the input variable (x) and the output variable (y) is expressed as a polynomial. In simpler terms, it's like fitting a curved line instead of a straight line to the data points. This curve represents how y changes as x is raised to different powers, like x, x², x³, and so on. This approach is especially useful when the data shows a pattern that isn't a straight line, indicating that the relationship between x and y is more complex than just increasing or decreasing at a constant rate."
   ]
  },
  {
   "cell_type": "markdown",
   "id": "2a2f82b4",
   "metadata": {
    "papermill": {
     "duration": 0.005667,
     "end_time": "2024-02-01T13:50:07.864388",
     "exception": false,
     "start_time": "2024-02-01T13:50:07.858721",
     "status": "completed"
    },
    "tags": []
   },
   "source": [
    "<h1 style=\"background-color: #12f7ff; font-family: 'Trebuchet MS', sans-serif; color: #000; font-size: 150%; text-align: center; border-radius: 50px 15px; padding: 10px; box-shadow: 0 4px 8px 0 rgba(0, 0, 0, 0.2), 0 6px 20px 0 rgba(0, 0, 0, 0.19);\">\n",
    "    🔻🔢 Polynomial Regression Formula 🔢🔻\n",
    "</h1>\n"
   ]
  },
  {
   "cell_type": "markdown",
   "id": "2fb3d272",
   "metadata": {
    "papermill": {
     "duration": 0.005674,
     "end_time": "2024-02-01T13:50:07.876003",
     "exception": false,
     "start_time": "2024-02-01T13:50:07.870329",
     "status": "completed"
    },
    "tags": []
   },
   "source": [
    "\n",
    "Polynomial Regression is a statistical technique that models the relationship between a dependent variable y and an independent variable x as an nth degree polynomial. It's an extension of linear regression, used when the data shows a non-linear relationship. The model takes the form\n",
    "\n",
    "$$\n",
    "\\begin{array}{|l|}\n",
    "\\hline\n",
    "y = \\beta_0 + \\beta_1 x +\\beta_2 x^2 +\\cdots + \\beta_n x^n + \\epsilon   \\\\\n",
    "\\hline\n",
    "\\end{array}\n",
    "$$\n",
    "\n",
    "- $ y $ is the dependent variable.\n",
    "- $ x $ is the independent variable.\n",
    "- $\\beta_0, \\beta_1, ..., \\beta_n$ are the coefficients of the model.\n",
    "- $\\epsilon $ is the error term."
   ]
  },
  {
   "cell_type": "markdown",
   "id": "c0275112",
   "metadata": {
    "papermill": {
     "duration": 0.005632,
     "end_time": "2024-02-01T13:50:07.887703",
     "exception": false,
     "start_time": "2024-02-01T13:50:07.882071",
     "status": "completed"
    },
    "tags": []
   },
   "source": [
    "<h1 style=\"background-color: #12f7ff; font-family: 'Trebuchet MS', sans-serif; color: #000; font-size: 150%; text-align: center; border-radius: 50px 15px; padding: 10px; box-shadow: 0 4px 8px 0 rgba(0, 0, 0, 0.2), 0 6px 20px 0 rgba(0, 0, 0, 0.19);\">\n",
    "    🔻The difference between linear and polynomial regression.🔻\n",
    "</h1>\n"
   ]
  },
  {
   "cell_type": "markdown",
   "id": "a0ec1133",
   "metadata": {
    "papermill": {
     "duration": 0.005639,
     "end_time": "2024-02-01T13:50:07.899317",
     "exception": false,
     "start_time": "2024-02-01T13:50:07.893678",
     "status": "completed"
    },
    "tags": []
   },
   "source": [
    "\n",
    "Here's a revised version of the explanation, organized for better clarity and flow:\n",
    "\n",
    "Linear Regression and Polynomial Regression are statistical methods designed to understand the relationship between variables. However, the way they model this relationship is fundamentally different, catering to various patterns observed in data.\n",
    "\n",
    "## Linear Regression\n",
    "Consider a scenario where you're analyzing how salaries increase with years of experience. By plotting years of experience (X-axis) against salary (Y-axis), you observe a trend: as experience grows, so does salary. Linear regression captures this by drawing a straight line through the data points. This line suggests a constant rate of salary increase per year of experience, embodying a simple and direct relationship between the two variables.\n",
    "\n",
    "<img src=\"https://miro.medium.com/v2/resize:fit:1200/1*L9OqETMWSa0zYzrR2t1ZAw.gif\" width=\"1000\" height=\"600\">\n",
    "\n",
    "\n",
    "## Polynomial Regression\n",
    "Now, imagine a more nuanced scenario where salary growth is not constant. Initially, salary increases rapidly with experience, then the growth accelerates, and after reaching a certain point, it starts to slow down. This pattern cannot be represented by a straight line due to its complexity. Polynomial regression addresses this by fitting a curved line, such as a parabola, through the data points. This curve better reflects the real-world situation where salary growth rates change over time, showing quick increases in the early years, reaching a peak, and then gradually decelerating.\n",
    "\n",
    "<div style=\"display: flex; justify-content: center; align-items: center;\">\n",
    "    <img src=\"https://miro.medium.com/v2/resize:fit:1600/1*O1kRavrlO4M3fQoPpn-8CA.gif\" width=\"500\" height=\"300\">\n",
    "    <img src=\"https://cdn-images-1.medium.com/v2/resize:fit:1200/1*QKcwvXU0UZ9YtkmRNKBM3w.gif\" alt=\"m\" width=\"500\" height=\"300\">\n",
    "</div>\n"
   ]
  },
  {
   "cell_type": "markdown",
   "id": "bec931e8",
   "metadata": {
    "papermill": {
     "duration": 0.006083,
     "end_time": "2024-02-01T13:50:07.912007",
     "exception": false,
     "start_time": "2024-02-01T13:50:07.905924",
     "status": "completed"
    },
    "tags": []
   },
   "source": [
    "<h1 style=\"background-color: #12f7ff; font-family: 'Trebuchet MS', sans-serif; color: #000; font-size: 150%; text-align: center; border-radius: 50px 15px; padding: 10px; box-shadow: 0 4px 8px 0 rgba(0, 0, 0, 0.2), 0 6px 20px 0 rgba(0, 0, 0, 0.19);\">\n",
    "    🔻📚 Determining the degree of the polynomial 📚🔻\n",
    "</h1>\n"
   ]
  },
  {
   "cell_type": "markdown",
   "id": "4e7afb2b",
   "metadata": {
    "papermill": {
     "duration": 0.005634,
     "end_time": "2024-02-01T13:50:07.923670",
     "exception": false,
     "start_time": "2024-02-01T13:50:07.918036",
     "status": "completed"
    },
    "tags": []
   },
   "source": [
    "Choosing the right level of complexity for a curve (or \"degree\" in math speak) when we're trying to understand data with polynomial regression is a bit like Goldilocks finding the bed that's just right. Not too simple, not too complicated, but just perfect.\n",
    "\n",
    "First off, just `look at your data`plotted on a graph. Sometimes, it's pretty obvious if the data looks more like a gentle hill or has lots of ups and downs. This can give you a good starting point.\n",
    "\n",
    "Use `cross-validation techniques` to evaluate how well models of different degrees generalize to unseen data. K-fold cross-validation is commonly used, where the data is split into K subsets. The model is trained on K-1 of these subsets and validated on the remaining subset, with the process repeated K times so that each subset is used as the validation set once. The degree that results in the lowest average validation error is typically chosen.\n",
    "\n",
    "Combined with `cross-validation`, perform a `grid search`over a predefined range of polynomial degrees. Evaluate the performance of each model using a suitable error metric (such as Mean Squared Error for regression tasks) and select the degree that minimizes this error on the validation set.\n"
   ]
  },
  {
   "cell_type": "markdown",
   "id": "882067ff",
   "metadata": {
    "papermill": {
     "duration": 0.005707,
     "end_time": "2024-02-01T13:50:07.935451",
     "exception": false,
     "start_time": "2024-02-01T13:50:07.929744",
     "status": "completed"
    },
    "tags": []
   },
   "source": [
    "<h1 style=\"background-color: #12f7ff; font-family: 'Trebuchet MS', sans-serif; color: #000; font-size: 150%; text-align: center; border-radius: 50px 15px; padding: 10px; box-shadow: 0 4px 8px 0 rgba(0, 0, 0, 0.2), 0 6px 20px 0 rgba(0, 0, 0, 0.19);\">\n",
    "    🔻🛠️ Implementation of the Polynomial Regression 🛠️🔻\n",
    "</h1>\n"
   ]
  },
  {
   "cell_type": "markdown",
   "id": "1f97188e",
   "metadata": {
    "papermill": {
     "duration": 0.005688,
     "end_time": "2024-02-01T13:50:07.947135",
     "exception": false,
     "start_time": "2024-02-01T13:50:07.941447",
     "status": "completed"
    },
    "tags": []
   },
   "source": [
    "\n",
    "Implementing polynomial regression involves several key steps, from preparing your data to selecting the right polynomial degree and finally evaluating the model's performance. \n",
    "\n",
    "### Step 1: Data Preparation\n",
    "gather and clean your data and remember to romove any **outliers** or missing values .\n",
    "Remeber that polynomial regression is very sensitive to outliers\n",
    "\n",
    "### Step 2: Selection the polynomial Dagree\n",
    "\n",
    "Use visual inspection or cross-validation to choose the right degree for the polynomial, balancing simplicity and accuracy.\n",
    "\n",
    "\n",
    "### Step 3: Model Training\n",
    "\n",
    "Train a linear regression model on the transformed polynomial features to fit the nonlinear relationship.\n",
    "\n",
    "#### Step 4: Model Evaluation\n",
    "\n",
    "Assess the model's performance using metrics like R-squared or Mean Squared Error on a validation set."
   ]
  },
  {
   "cell_type": "markdown",
   "id": "2b1fdc3d",
   "metadata": {
    "papermill": {
     "duration": 0.005715,
     "end_time": "2024-02-01T13:50:07.959437",
     "exception": false,
     "start_time": "2024-02-01T13:50:07.953722",
     "status": "completed"
    },
    "tags": []
   },
   "source": [
    "<h1 style=\"background-color: #12f7ff; font-family: 'Trebuchet MS', sans-serif; color: #000; font-size: 150%; text-align: center; border-radius: 50px 15px; padding: 10px; box-shadow: 0 4px 8px 0 rgba(0, 0, 0, 0.2), 0 6px 20px 0 rgba(0, 0, 0, 0.19);\">\n",
    "    🔻Application and Examples🔻\n",
    "</h1>\n"
   ]
  },
  {
   "cell_type": "markdown",
   "id": "9f899f7a",
   "metadata": {
    "papermill": {
     "duration": 0.005899,
     "end_time": "2024-02-01T13:50:07.971352",
     "exception": false,
     "start_time": "2024-02-01T13:50:07.965453",
     "status": "completed"
    },
    "tags": []
   },
   "source": [
    "## Linear Regression\n"
   ]
  },
  {
   "cell_type": "code",
   "execution_count": 1,
   "id": "8f949950",
   "metadata": {
    "execution": {
     "iopub.execute_input": "2024-02-01T13:50:07.986416Z",
     "iopub.status.busy": "2024-02-01T13:50:07.985690Z",
     "iopub.status.idle": "2024-02-01T13:50:10.774855Z",
     "shell.execute_reply": "2024-02-01T13:50:10.772884Z"
    },
    "papermill": {
     "duration": 2.800444,
     "end_time": "2024-02-01T13:50:10.777854",
     "exception": false,
     "start_time": "2024-02-01T13:50:07.977410",
     "status": "completed"
    },
    "tags": []
   },
   "outputs": [],
   "source": [
    "import pandas as pd\n",
    "import numpy as np\n",
    "import matplotlib.pyplot as plt \n",
    "import seaborn as sns\n",
    "import warnings\n",
    "warnings.filterwarnings('ignore')"
   ]
  },
  {
   "cell_type": "code",
   "execution_count": 2,
   "id": "d3616f1c",
   "metadata": {
    "execution": {
     "iopub.execute_input": "2024-02-01T13:50:10.795451Z",
     "iopub.status.busy": "2024-02-01T13:50:10.794859Z",
     "iopub.status.idle": "2024-02-01T13:50:11.806676Z",
     "shell.execute_reply": "2024-02-01T13:50:11.805013Z"
    },
    "papermill": {
     "duration": 1.023807,
     "end_time": "2024-02-01T13:50:11.809655",
     "exception": false,
     "start_time": "2024-02-01T13:50:10.785848",
     "status": "completed"
    },
    "tags": []
   },
   "outputs": [
    {
     "data": {
      "image/png": "[encoded data removed]",
      "text/plain": [
       "<Figure size 640x480 with 1 Axes>"
      ]
     },
     "metadata": {},
     "output_type": "display_data"
    },
    {
     "data": {
      "text/plain": [
       "(3,\n",
       " 82.12057919191898,\n",
       " 93.19555930834686,\n",
       " 0.9833308707514882,\n",
       " 0.9716276725394738)"
      ]
     },
     "execution_count": 2,
     "metadata": {},
     "output_type": "execute_result"
    }
   ],
   "source": [
    "import matplotlib.pyplot as plt\n",
    "from sklearn.model_selection import GridSearchCV\n",
    "from sklearn.pipeline import Pipeline\n",
    "from sklearn.metrics import mean_squared_error, r2_score\n",
    "from sklearn.model_selection import train_test_split\n",
    "from sklearn.linear_model import LinearRegression\n",
    "from sklearn.preprocessing import PolynomialFeatures\n",
    "\n",
    "X = np.arange(0, 40)\n",
    "y = [1, 4, 5, 7, 8, 6, 9, 10, 10, 23, 25, 44, 50, 63, 67, 64, 62, 70, 75, 88, 90, 92, 95, 100, 108, 135, 151, 160, 169, 172,173,176,175,175,176,178,179,180,190,201]\n",
    "# First, let's plot the original data to see the relationship between X and y\n",
    "\n",
    "plt.scatter(X, y, color='blue', label='Actual Data')\n",
    "plt.xlabel('X')\n",
    "plt.ylabel('y')\n",
    "plt.title('Scatter Plot of Original Data')\n",
    "plt.legend()\n",
    "plt.show()\n",
    "\n",
    "\n",
    "# Splitting data into training and testing sets\n",
    "X_train, X_test, y_train, y_test = train_test_split(X, y, test_size=0.2, random_state=42)\n",
    "\n",
    "# Setting up a pipeline\n",
    "pipeline = Pipeline([\n",
    "    ('poly', PolynomialFeatures()),\n",
    "    ('linear', LinearRegression())\n",
    "])\n",
    "\n",
    "# Parameters for grid search\n",
    "\n",
    "parameters = {'poly__degree': np.arange(1, 5)}\n",
    "\n",
    "grid_search = GridSearchCV(pipeline, parameters, cv=4, scoring='neg_mean_squared_error')\n",
    "grid_search.fit(X_train.reshape(-1,1), y_train)\n",
    "\n",
    "best_degree = grid_search.best_params_['poly__degree']\n",
    "\n",
    "\n",
    "poly_best = PolynomialFeatures(degree=best_degree)\n",
    "X_poly_train_best = poly_best.fit_transform(X_train.reshape(-1,1))\n",
    "X_poly_test_best = poly_best.transform(X_test.reshape(-1,1))\n",
    "\n",
    "model_best = LinearRegression()\n",
    "model_best.fit(X_poly_train_best, y_train)\n",
    "\n",
    "# Making predictions with the best model\n",
    "predictions_train = model_best.predict(X_poly_train_best)\n",
    "predictions_test = model_best.predict(X_poly_test_best)\n",
    "\n",
    "# Evaluating the model\n",
    "train_error = mean_squared_error(y_train, predictions_train)\n",
    "test_error = mean_squared_error(y_test, predictions_test)\n",
    "train_accuracy = r2_score(y_train, predictions_train)\n",
    "test_accuracy = r2_score(y_test, predictions_test)\n",
    "\n",
    "\n",
    "best_degree, train_error, test_error, train_accuracy, test_accuracy\n"
   ]
  },
  {
   "cell_type": "code",
   "execution_count": 3,
   "id": "5f03239a",
   "metadata": {
    "execution": {
     "iopub.execute_input": "2024-02-01T13:50:11.826115Z",
     "iopub.status.busy": "2024-02-01T13:50:11.825634Z",
     "iopub.status.idle": "2024-02-01T13:50:12.187253Z",
     "shell.execute_reply": "2024-02-01T13:50:12.185736Z"
    },
    "papermill": {
     "duration": 0.373573,
     "end_time": "2024-02-01T13:50:12.190603",
     "exception": false,
     "start_time": "2024-02-01T13:50:11.817030",
     "status": "completed"
    },
    "tags": []
   },
   "outputs": [
    {
     "data": {
      "image/png": "[encoded data removed]",
      "text/plain": [
       "<Figure size 640x480 with 1 Axes>"
      ]
     },
     "metadata": {},
     "output_type": "display_data"
    }
   ],
   "source": [
    "plt.scatter(X_train, y_train, color='blue', label='Training Data')\n",
    "plt.scatter(X_test, y_test, color='green', label='Test Data')\n",
    "\n",
    "X_range = np.arange(0, 40).reshape(-1,1)\n",
    "X_range_poly = poly_best.transform(X_range)\n",
    "\n",
    "predictions_range = model_best.predict(X_range_poly)\n",
    "\n",
    "# Plotting the polynomial regression fit\n",
    "plt.plot(X_range, predictions_range, color='red', label='Polynomial Regression Fit')\n",
    "\n",
    "plt.xlabel('X')\n",
    "plt.ylabel('y')\n",
    "plt.title('Polynomial Regression Fit with Training and Test Data')\n",
    "plt.legend()\n",
    "plt.show()\n"
   ]
  },
  {
   "cell_type": "markdown",
   "id": "c4fc6ba2",
   "metadata": {
    "papermill": {
     "duration": 0.007825,
     "end_time": "2024-02-01T13:50:12.207382",
     "exception": false,
     "start_time": "2024-02-01T13:50:12.199557",
     "status": "completed"
    },
    "tags": []
   },
   "source": [
    "<h1 style=\"background-color: #12f7ff; font-family: 'Trebuchet MS', sans-serif; color: #000; font-size: 150%; text-align: center; border-radius: 50px 15px; padding: 10px; box-shadow: 0 4px 8px 0 rgba(0, 0, 0, 0.2), 0 6px 20px 0 rgba(0, 0, 0, 0.19);\">\n",
    "    🔻Conclusion🔻\n",
    "</h1>\n"
   ]
  },
  {
   "cell_type": "markdown",
   "id": "cdf728ef",
   "metadata": {
    "papermill": {
     "duration": 0.007214,
     "end_time": "2024-02-01T13:50:12.222412",
     "exception": false,
     "start_time": "2024-02-01T13:50:12.215198",
     "status": "completed"
    },
    "tags": []
   },
   "source": [
    "Polynomial regression is a versatile tool with applications in diverse domains. When addressing non-linear relationships, it requires careful consideration of overfitting and model complexity."
   ]
  }
 ],
 "metadata": {
  "kaggle": {
   "accelerator": "none",
   "dataSources": [],
   "dockerImageVersionId": 30646,
   "isGpuEnabled": false,
   "isInternetEnabled": true,
   "language": "python",
   "sourceType": "notebook"
  },
  "kernelspec": {
   "display_name": "Python 3",
   "language": "python",
   "name": "python3"
  },
  "language_info": {
   "codemirror_mode": {
    "name": "ipython",
    "version": 3
   },
   "file_extension": ".py",
   "mimetype": "text/x-python",
   "name": "python",
   "nbconvert_exporter": "python",
   "pygments_lexer": "ipython3",
   "version": "3.10.13"
  },
  "papermill": {
   "default_parameters": {},
   "duration": 8.466607,
   "end_time": "2024-02-01T13:50:12.956321",
   "environment_variables": {},
   "exception": null,
   "input_path": "__notebook__.ipynb",
   "output_path": "__notebook__.ipynb",
   "parameters": {},
   "start_time": "2024-02-01T13:50:04.489714",
   "version": "2.5.0"
  }
 },
 "nbformat": 4,
 "nbformat_minor": 5
}
