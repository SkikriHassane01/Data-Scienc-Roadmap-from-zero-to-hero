{
 "cells": [
  {
   "cell_type": "markdown",
   "metadata": {},
   "source": [
    "<div style =\"font-family:Trebuchet MS; background-color : #f8f0fa; border-left: 5px solid #1b4332; padding: 12px; border-radius: 50px 50px;\">\n",
    "    <h2 style=\"color: #1b4332; font-size: 48px; text-align: center;\">\n",
    "        <b>Dates and Times</b>\n",
    "        <hr style=\"border-top: 2px solid #264653;\">\n",
    "    </h2>\n",
    "    <h3 style=\"font-size: 14px; color: #264653; text-align: left; \"><strong> I hope this is very helpful. let's started .😊🌟</strong></h3>\n",
    "</div>"
   ]
  },
  {
   "cell_type": "code",
   "execution_count": 2,
   "metadata": {},
   "outputs": [
    {
     "name": "stdout",
     "output_type": "stream",
     "text": [
      "Now: 2025-01-23 07:54:21.475863\n",
      "Year: 2025, Month: 1, Day: 23, Hour: 7, Minute: 54, Second: 21\n",
      "Today: 2025-01-23\n",
      "Formatted now: 2025-01-23 07:54:21\n",
      "Parsed date: 2023-10-15 00:00:00\n",
      "Current timestamp: 1737615261.4768622\n",
      "Structured time: time.struct_time(tm_year=2025, tm_mon=1, tm_mday=23, tm_hour=7, tm_min=54, tm_sec=21, tm_wday=3, tm_yday=23, tm_isdst=1)\n"
     ]
    }
   ],
   "source": [
    "import datetime as dt\n",
    "import time as tm\n",
    "\n",
    "# Commonly used date/time functionalities in Python\n",
    "\n",
    "# Current date and time\n",
    "now = dt.datetime.now()\n",
    "\n",
    "# Date object\n",
    "today = dt.date.today()\n",
    "\n",
    "# Formatting dates into strings\n",
    "formatted_now = now.strftime(\"%Y-%m-%d %H:%M:%S\")\n",
    "\n",
    "# Parsing strings into datetime objects\n",
    "parsed_date = dt.datetime.strptime(\"2023-10-15\", \"%Y-%m-%d\")\n",
    "\n",
    "# Getting the current timestamp, timestamp is the number of seconds since the epoch (1970-01-01 00:00:00 UTC)\n",
    "timestamp = tm.time()\n",
    "\n",
    "# Converting timestamp to structured time\n",
    "struct_time = tm.localtime(timestamp)\n",
    "\n",
    "print(\"Now:\", now)\n",
    "print(f\"Year: {now.year}, Month: {now.month}, Day: {now.day}, Hour: {now.hour}, Minute: {now.minute}, Second: {now.second}\")\n",
    "print(\"Today:\", today)\n",
    "print(\"Formatted now:\", formatted_now)\n",
    "print(\"Parsed date:\", parsed_date)\n",
    "print(\"Current timestamp:\", timestamp)\n",
    "print(\"Structured time:\", struct_time)"
   ]
  },
  {
   "cell_type": "code",
   "execution_count": 12,
   "metadata": {},
   "outputs": [
    {
     "name": "stdout",
     "output_type": "stream",
     "text": [
      "Current date: 2025-01-23 07:54:21.475863\n",
      "7 days later: 2025-01-30 07:54:21.475863\n",
      "7 days ago: 2025-01-16 07:54:21.475863\n",
      "Time difference in days: 7\n",
      "Is future date later than now? True\n",
      "Is past date earlier than now? True\n"
     ]
    }
   ],
   "source": [
    "delta = dt.timedelta(days=7)\n",
    "# Calculate future date by adding delta (7 days) to current date\n",
    "future_date = now + delta\n",
    "print(f\"Current date: {now}\")\n",
    "print(f\"7 days later: {future_date}\")\n",
    "\n",
    "# Calculate past date by subtracting delta\n",
    "past_date = now - delta\n",
    "print(f\"7 days ago: {past_date}\")\n",
    "\n",
    "# Create custom time deltas\n",
    "one_month = dt.timedelta(days=30)\n",
    "one_hour = dt.timedelta(hours=1)\n",
    "custom_delta = dt.timedelta(days=2, hours=3, minutes=30)\n",
    "\n",
    "# Calculate time differences\n",
    "time_diff = future_date - now\n",
    "print(f\"Time difference in days: {time_diff.days}\")\n",
    "\n",
    "# Compare dates\n",
    "is_future = future_date > now\n",
    "is_past = past_date < now\n",
    "print(f\"Is future date later than now? {is_future}\")\n",
    "print(f\"Is past date earlier than now? {is_past}\")"
   ]
  }
 ],
 "metadata": {
  "kernelspec": {
   "display_name": "Python 3",
   "language": "python",
   "name": "python3"
  },
  "language_info": {
   "codemirror_mode": {
    "name": "ipython",
    "version": 3
   },
   "file_extension": ".py",
   "mimetype": "text/x-python",
   "name": "python",
   "nbconvert_exporter": "python",
   "pygments_lexer": "ipython3",
   "version": "3.12.6"
  }
 },
 "nbformat": 4,
 "nbformat_minor": 2
}
