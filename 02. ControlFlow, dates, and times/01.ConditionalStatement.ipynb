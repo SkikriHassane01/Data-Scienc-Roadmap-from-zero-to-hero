{
 "cells": [
  {
   "cell_type": "markdown",
   "metadata": {},
   "source": [
    "<div style =\"font-family:Trebuchet MS; background-color : #f8f0fa; border-left: 5px solid #1b4332; padding: 12px; border-radius: 50px 50px;\">\n",
    "    <h2 style=\"color: #1b4332; font-size: 48px; text-align: center;\">\n",
    "        <b>Conditional Statements</b>\n",
    "        <hr style=\"border-top: 2px solid #264653;\">\n",
    "    </h2>\n",
    "    <h3 style=\"font-size: 14px; color: #264653; text-align: left; \"><strong> I hope this is very helpful. let's started .😊🌟</strong></h3>\n",
    "</div>"
   ]
  },
  {
   "cell_type": "code",
   "execution_count": 6,
   "metadata": {},
   "outputs": [
    {
     "name": "stdout",
     "output_type": "stream",
     "text": [
      "You have chosen option 3\n"
     ]
    }
   ],
   "source": [
    "# if elif else statement\n",
    "choice = 3\n",
    "if choice == 1:\n",
    "    print(\"You have chosen option 1\")\n",
    "elif choice == 2:\n",
    "    print(\"You have chosen option 2\")\n",
    "elif choice == 3:\n",
    "    print(\"You have chosen option 3\")\n",
    "else:\n",
    "    print(\"You have made an invalid choice\")"
   ]
  },
  {
   "cell_type": "code",
   "execution_count": 7,
   "metadata": {},
   "outputs": [
    {
     "name": "stdout",
     "output_type": "stream",
     "text": [
      "You have chosen option 3\n"
     ]
    }
   ],
   "source": [
    "# nested if statement \n",
    "\n",
    "choice = 3\n",
    "\n",
    "if choice == 1:\n",
    "    print(\"You have chosen option 1\")\n",
    "else:\n",
    "    if choice == 2:\n",
    "        print(\"You have chosen option 2\")\n",
    "    else:\n",
    "        if choice == 3:\n",
    "            print(\"You have chosen option 3\")\n",
    "        else:\n",
    "            print(\"You have made an invalid choice\")\n"
   ]
  },
  {
   "cell_type": "code",
   "execution_count": 8,
   "metadata": {},
   "outputs": [
    {
     "name": "stdout",
     "output_type": "stream",
     "text": [
      "Login successful\n"
     ]
    }
   ],
   "source": [
    "## login system example\n",
    "\n",
    "username = \"hassanein\"\n",
    "password = \"admin123\"\n",
    "\n",
    "input_username = input(\"Enter your username: \")\n",
    "input_password = input(\"Enter your password: \")\n",
    "\n",
    "if input_username == username:\n",
    "    if input_password == password:\n",
    "        print(\"Login successful\")\n",
    "    else:\n",
    "        print(\"Invalid password\")\n"
   ]
  }
 ],
 "metadata": {
  "kernelspec": {
   "display_name": "Python 3",
   "language": "python",
   "name": "python3"
  },
  "language_info": {
   "codemirror_mode": {
    "name": "ipython",
    "version": 3
   },
   "file_extension": ".py",
   "mimetype": "text/x-python",
   "name": "python",
   "nbconvert_exporter": "python",
   "pygments_lexer": "ipython3",
   "version": "3.12.1"
  }
 },
 "nbformat": 4,
 "nbformat_minor": 2
}
