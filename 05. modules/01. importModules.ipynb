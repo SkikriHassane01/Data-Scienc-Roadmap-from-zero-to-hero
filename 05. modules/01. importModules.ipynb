{
 "cells": [
  {
   "cell_type": "markdown",
   "metadata": {},
   "source": [
    "<div style =\"font-family:Trebuchet MS; background-color : #f8f0fa; border-left: 5px solid #1b4332; padding: 12px; border-radius: 50px 50px;\">\n",
    "    <h2 style=\"color: #1b4332; font-size: 48px; text-align: center;\">\n",
    "        <b>Import modules</b>\n",
    "        <hr style=\"border-top: 2px solid #264653;\">\n",
    "    </h2>\n",
    "    <h3 style=\"font-size: 14px; color: #264653; text-align: left; \"><strong> I hope this is very helpful. let's started .😊🌟</strong></h3>\n",
    "</div>"
   ]
  },
  {
   "cell_type": "markdown",
   "metadata": {},
   "source": [
    "### modules and packages help organize and reuse code.  "
   ]
  },
  {
   "cell_type": "code",
   "execution_count": 2,
   "metadata": {},
   "outputs": [
    {
     "name": "stdout",
     "output_type": "stream",
     "text": [
      "The square root of 16 is:  4.0\n",
      "The value of pi is:  3.141592653589793\n"
     ]
    }
   ],
   "source": [
    "# import math\n",
    "import math \n",
    "\n",
    "# import numpy\n",
    "import numpy as np # as np is an alias for numpy to call it in a shorter name\n",
    "\n",
    "# import matplotlib\n",
    "import matplotlib.pyplot as plt\n"
   ]
  },
  {
   "cell_type": "markdown",
   "metadata": {},
   "source": [
    "-  if numpy and matplotlib are not installed, you can install them by running the following:\n",
    "-  pip install numpy\n",
    "-  pip install matplotlib\n",
    "\n",
    "- or you can create a requirements.txt file and add the following:\n",
    "\n",
    "        numpy\n",
    "        matplotlib\n",
    "\n",
    "- then run the following command:\n",
    "- pip install -r requirements.txt"
   ]
  },
  {
   "cell_type": "code",
   "execution_count": 3,
   "metadata": {},
   "outputs": [
    {
     "name": "stdout",
     "output_type": "stream",
     "text": [
      "The square root of 16 is:  4.0\n",
      "The value of pi is:  3.141592653589793\n"
     ]
    }
   ],
   "source": [
    "# now we can use any function exist an those libraries\n",
    "sqrt_16 = math.sqrt(16)\n",
    "pi = math.pi\n",
    "\n",
    "print(\"The square root of 16 is: \", sqrt_16)\n",
    "print(\"The value of pi is: \", pi)"
   ]
  },
  {
   "cell_type": "markdown",
   "metadata": {},
   "source": [
    "### create a custom package called mypackage\n"
   ]
  },
  {
   "cell_type": "markdown",
   "metadata": {},
   "source": [
    "\n",
    "- create a folder called mypackage\n",
    "- create a file called __init__.py inside mypackage folder\n",
    "    - this file can be empty or contain the initialization code for the package\n",
    "    - it is used to tell python that this folder is a package\n",
    "    - it is a good practice to include this file in your package\n",
    "- create a file called mymodule.py inside mypackage folder\n",
    "- create a function called hello inside mymodule.py\n",
    "```python \n",
    "def hello():\n",
    "    print(\"Hello from mymodule inside mypackage\")\n",
    "```\n",
    "- import mymodule from mypackage\n",
    "- from mypackage import mymodule\n",
    "- use the function inside mymodule\n",
    "```python \n",
    "mymodule.hello()\n",
    "```\n",
    "\n"
   ]
  },
  {
   "cell_type": "code",
   "execution_count": 7,
   "metadata": {},
   "outputs": [
    {
     "name": "stdout",
     "output_type": "stream",
     "text": [
      "Hello, I am a function inside a module of a package!\n"
     ]
    }
   ],
   "source": [
    "from mypackage import mymodule as mm\n",
    "\n",
    "mm.hello()"
   ]
  },
  {
   "cell_type": "markdown",
   "metadata": {},
   "source": [
    "### the most standard libraries used in python  "
   ]
  },
  {
   "cell_type": "code",
   "execution_count": 8,
   "metadata": {},
   "outputs": [
    {
     "name": "stdout",
     "output_type": "stream",
     "text": [
      "array('i', [1, 2, 3, 4, 5]) <class 'array.array'>\n"
     ]
    }
   ],
   "source": [
    "# Array \n",
    "import array\n",
    "arr = array.array('i', [1, 2, 3, 4, 5])\n",
    "print(arr,type(arr))\n",
    "\n",
    "# the difference between array and list is that array is a fixed size and list is dynamic size"
   ]
  },
  {
   "cell_type": "code",
   "execution_count": 12,
   "metadata": {},
   "outputs": [
    {
     "name": "stdout",
     "output_type": "stream",
     "text": [
      "6\n",
      "0.26822406470728033\n",
      "4\n",
      "[4, 4]\n",
      "[4, 1]\n",
      "None\n"
     ]
    }
   ],
   "source": [
    "# random\n",
    "import random\n",
    "print(random.randint(0, 10)) # random integer between 0 and 10\n",
    "print(random.random()) # random float between 0 and 1\n",
    "print(random.choice([1, 2, 3, 4, 5])) # random choice from\n",
    "print(random.choices([1, 2, 3, 4, 5], k=2)) # random choices from list with k elements\n",
    "print(random.sample([1, 2, 3, 4, 5], k=2)) # random sample from list with k elements\n",
    "# the Difference between choices and sample is that choices can repeat the same element but sample can't"
   ]
  },
  {
   "cell_type": "code",
   "execution_count": 37,
   "metadata": {},
   "outputs": [
    {
     "name": "stdout",
     "output_type": "stream",
     "text": [
      "None\n",
      "[2, 4, 3, 5, 1]\n",
      "6.231438954764547\n",
      "-1.3592307536662975\n"
     ]
    }
   ],
   "source": [
    "lst = [1, 2, 3, 4, 5]\n",
    "print(random.shuffle(lst)) # shuffle the list in place and return None\n",
    "print(lst)\n",
    "\n",
    "print(random.uniform(1, 10)) # random float between 1 and 10"
   ]
  },
  {
   "cell_type": "code",
   "execution_count": 38,
   "metadata": {},
   "outputs": [
    {
     "name": "stdout",
     "output_type": "stream",
     "text": [
      "d:\\project\\full data science roadmap\\Data-Scienc-Roadmap-from-zero-to-hero\\01.Python\\05. modules\n"
     ]
    }
   ],
   "source": [
    "# file and directory manipulation\n",
    "\n",
    "import os\n",
    "print(os.getcwd()) # get the current working directory"
   ]
  },
  {
   "cell_type": "code",
   "execution_count": 46,
   "metadata": {},
   "outputs": [],
   "source": [
    "# to make a new directory\n",
    "os.mkdir('new_dir')\n",
    "\n",
    "# to make a new file and write to it\n",
    "with open('new_dir/text.txt', 'w') as f:\n",
    "    f.write('Hello, World!')"
   ]
  },
  {
   "cell_type": "code",
   "execution_count": 47,
   "metadata": {},
   "outputs": [],
   "source": [
    "# to rename a directory\n",
    "os.rename('new_dir', 'new_dir2')"
   ]
  },
  {
   "cell_type": "code",
   "execution_count": 49,
   "metadata": {},
   "outputs": [],
   "source": [
    "# to remove a file\n",
    "os.remove('new_dir2/text.txt')\n",
    "\n",
    "# to remove a directory\n",
    "os.rmdir('new_dir2')"
   ]
  },
  {
   "cell_type": "code",
   "execution_count": 51,
   "metadata": {},
   "outputs": [
    {
     "data": {
      "text/plain": [
       "'test2.txt'"
      ]
     },
     "execution_count": 51,
     "metadata": {},
     "output_type": "execute_result"
    }
   ],
   "source": [
    "# files manipulation\n",
    "\n",
    "with open('test.txt', 'w') as f:\n",
    "    f.write('Hello, World!')\n",
    "import shutil\n",
    "shutil.copy('test.txt', 'test2.txt')"
   ]
  },
  {
   "cell_type": "code",
   "execution_count": 52,
   "metadata": {},
   "outputs": [],
   "source": [
    "os.remove('test.txt')\n",
    "os.remove('test2.txt')"
   ]
  },
  {
   "cell_type": "code",
   "execution_count": 54,
   "metadata": {},
   "outputs": [
    {
     "name": "stdout",
     "output_type": "stream",
     "text": [
      "{'name': 'hassane', 'age': 20, 'city': 'Morocco'}\n"
     ]
    }
   ],
   "source": [
    "# data serialization\n",
    "\n",
    "import json \n",
    "data = {\n",
    "    'name': 'hassane',\n",
    "    'age': 20,\n",
    "    'city': 'Morocco'\n",
    "}\n",
    "\n",
    "with open('data.json', 'w') as f:\n",
    "    json.dump(data, f)\n",
    "\n",
    "with open('data.json', 'r') as f:\n",
    "    data = json.load(f)\n",
    "    print(data)\n",
    "\n",
    "# to remove the json file\n",
    "os.remove('data.json')\n"
   ]
  },
  {
   "cell_type": "code",
   "execution_count": 57,
   "metadata": {},
   "outputs": [
    {
     "name": "stdout",
     "output_type": "stream",
     "text": [
      "['name', 'age', 'city']\n",
      "['hassane', '20', 'Morocco']\n",
      "['ahmed', '22', 'Morocco']\n"
     ]
    }
   ],
   "source": [
    "# CSV manipulation\n",
    "\n",
    "import csv \n",
    "\n",
    "with open ('data.csv', 'w', newline='') as f:\n",
    "    writer = csv.writer(f)\n",
    "    writer.writerow(['name', 'age', 'city'])\n",
    "    writer.writerow(['hassane', 20, 'Morocco'])\n",
    "    writer.writerow(['ahmed', 22, 'Morocco'])\n",
    "\n",
    "with open('data.csv', 'r') as f:\n",
    "    reader = csv.reader(f)\n",
    "    for row in reader:\n",
    "        print(row)\n",
    "\n",
    "os.remove('data.csv')"
   ]
  },
  {
   "cell_type": "code",
   "execution_count": 64,
   "metadata": {},
   "outputs": [
    {
     "name": "stdout",
     "output_type": "stream",
     "text": [
      "2024-08-11 18:07:38.001917\n",
      "year:  2024 , month:  8 , day:  11 , hour:  18 , minute:  7 , second:  38\n",
      "2024-08-10 18:07:38.001917\n"
     ]
    }
   ],
   "source": [
    "# date and time manipulation\n",
    "\n",
    "import datetime \n",
    "\n",
    "now = datetime.datetime.now()\n",
    "print(now)\n",
    "print(\"year: \",now.year, \", month: \", now.month, \", day: \", now.day, \", hour: \", now.hour, \", minute: \", now.minute, \", second: \", now.second)\n",
    "\n",
    "yesterday = now - datetime.timedelta(days=1)\n",
    "print(yesterday)"
   ]
  }
 ],
 "metadata": {
  "kernelspec": {
   "display_name": "base",
   "language": "python",
   "name": "python3"
  },
  "language_info": {
   "codemirror_mode": {
    "name": "ipython",
    "version": 3
   },
   "file_extension": ".py",
   "mimetype": "text/x-python",
   "name": "python",
   "nbconvert_exporter": "python",
   "pygments_lexer": "ipython3",
   "version": "3.11.5"
  }
 },
 "nbformat": 4,
 "nbformat_minor": 2
}
