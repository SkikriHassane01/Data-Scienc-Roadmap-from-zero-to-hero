{
 "cells": [
  {
   "cell_type": "markdown",
   "metadata": {},
   "source": [
    "<div style =\"font-family:Trebuchet MS; background-color : #f8f0fa; border-left: 5px solid #1b4332; padding: 12px; border-radius: 50px 50px;\">\n",
    "    <h2 style=\"color: #1b4332; font-size: 48px; text-align: center;\">\n",
    "        <b> Data Types</b>\n",
    "        <hr style=\"border-top: 2px solid #264653;\">\n",
    "    </h2>\n",
    "    <h3 style=\"font-size: 14px; color: #264653; text-align: left; \"><strong> I hope this is very helpful. let's started .😊🌟</strong></h3>\n",
    "</div>"
   ]
  },
  {
   "cell_type": "markdown",
   "metadata": {},
   "source": [
    "# Python Data Types\n",
    "\n",
    "| Category        | Data Type    | Description                                                  | Example                      |\n",
    "|-----------------|--------------|--------------------------------------------------------------|------------------------------|\n",
    "| Text Type       | `str`        | String, a sequence of characters enclosed in quotes.         | `x = \"Hello\"`                |\n",
    "| Numeric Types   | `int`        | Integer, a whole number.                                      | `x = 5`                      |\n",
    "| Numeric Types   | `float`      | Floating point number, a number with a decimal point.         | `x = 5.0`                    |\n",
    "| Numeric Types   | `complex`    | Complex number, a number with a real and imaginary part.      | `x = 1 + 2j`                 |\n",
    "| Sequence Types  | `list`       | List, an ordered sequence of items.                           | `x = [1, 2, 3]`              |\n",
    "| Sequence Types  | `tuple`      | Tuple, an ordered immutable sequence of items.                | `x = (1, 2, 3)`              |\n",
    "| Sequence Types  | `range`      | Range, represents an immutable sequence of numbers.           | `x = range(0, 10)`           |\n",
    "| Mapping Type    | `dict`       | Dictionary, a collection of key-value pairs.                  | `x = {\"a\": 1, \"b\": 2}`       |\n",
    "| Set Types       | `set`        | Set, an unordered collection of unique items.                 | `x = {1, 2, 3}`              |\n",
    "| Set Types       | `frozenset`  | Frozenset, an immutable set.                                  | `x = frozenset({1, 2, 3})`   |\n",
    "| Boolean Type    | `bool`       | Boolean, represents one of two values: `True` or `False`.     | `x = True`                   |\n",
    "| Binary Types    | `bytes`      | Bytes, an immutable sequence of bytes.                        | `x = b\"Hello\"`               |\n",
    "| Binary Types    | `bytearray`  | Bytearray, a mutable sequence of bytes.                       | `x = bytearray(5)`           |\n",
    "| Binary Types    | `memoryview` | Memoryview, provides access to the internal data of an object.| `x = memoryview(b\"Hello\")`   |\n",
    "| None Type       | `NoneType`   | Represents the absence of a value or a null value.            | `x = None`                   |"
   ]
  },
  {
   "cell_type": "markdown",
   "metadata": {},
   "source": [
    "- data types are a way to classify different types of data such as integers, strings, etc.\n",
    "- data types are important in python because they determine the operations that can be performed on the data. and also the way the data is stored in memory. \n",
    "\n",
    "- Python has the following data types built-in by default, in these categories:\n",
    "\n",
    "    - Text Type:\tstr\n",
    "    - Numeric Types:\tint, float, complex\n",
    "    - Sequence Types:\tlist, tuple, range\n",
    "    - Mapping Type:\tdict\n",
    "    - Set Types:\tset, frozenset\n",
    "    - Boolean Type:\tbool\n",
    "    - Binary Types:\tbytes, bytearray, memoryview\n",
    "\n",
    "- Getting the Data Type\n",
    "You can get the data type of any object by using the `type()` function:\n",
    "\n"
   ]
  },
  {
   "cell_type": "markdown",
   "metadata": {},
   "source": [
    "### text types"
   ]
  },
  {
   "cell_type": "code",
   "execution_count": 5,
   "metadata": {},
   "outputs": [
    {
     "name": "stdout",
     "output_type": "stream",
     "text": [
      "hassane : <class 'str'>\n",
      "10 : <class 'str'>\n"
     ]
    }
   ],
   "source": [
    "str_var = 'hassane'\n",
    "int_var = 10\n",
    "print(str_var,':', type(str_var))\n",
    "print(int_var,':', type(str(int_var)))"
   ]
  },
  {
   "cell_type": "markdown",
   "metadata": {},
   "source": [
    "### numeric data types"
   ]
  },
  {
   "cell_type": "code",
   "execution_count": 11,
   "metadata": {},
   "outputs": [
    {
     "name": "stdout",
     "output_type": "stream",
     "text": [
      "10 : <class 'int'>\n",
      "________________________\n",
      "10.0 : <class 'float'>\n",
      "________________________\n",
      "2.0\n",
      "10.0\n",
      "(10+2j) : <class 'complex'>\n"
     ]
    }
   ],
   "source": [
    "## int\n",
    "int_var = 10\n",
    "print(int_var,':', type(int_var))\n",
    "print(\"________________________\")\n",
    "## float\n",
    "float_var = 10.0\n",
    "print(float_var,':', type(float_var))\n",
    "print(\"________________________\")\n",
    "## complex\n",
    "complex_var = 10 + 2j\n",
    "print(complex_var.imag)\n",
    "print(complex_var.real)\n",
    "print(complex_var,':', type(complex_var))"
   ]
  },
  {
   "cell_type": "code",
   "execution_count": 14,
   "metadata": {},
   "outputs": [
    {
     "name": "stdout",
     "output_type": "stream",
     "text": [
      "[1, 2, 3, 4, 5] : <class 'list'>\n",
      "________________________\n",
      "(1, 2, 3, 4, 5) : <class 'tuple'>\n",
      "________________________\n",
      "{1, 2, 3, 4, 5} : <class 'set'>\n",
      "________________________\n",
      "{'key1': 'value1', 'key2': 'value2'} : <class 'dict'>\n",
      "________________________\n",
      "range(0, 10) : <class 'range'>\n"
     ]
    }
   ],
   "source": [
    "# Sequential types\n",
    "\n",
    "# list\n",
    "list_var = [1,2,3,4,5]\n",
    "print(list_var,':', type(list_var))\n",
    "print(\"________________________\")\n",
    "\n",
    "# tuple\n",
    "tuple_var = (1,2,3,4,5)\n",
    "print(tuple_var,':', type(tuple_var))\n",
    "print(\"________________________\")\n",
    "\n",
    "# range\n",
    "range_var = range(10)\n",
    "print(range_var,':', type(range_var))\n"
   ]
  },
  {
   "cell_type": "code",
   "execution_count": 15,
   "metadata": {},
   "outputs": [
    {
     "name": "stdout",
     "output_type": "stream",
     "text": [
      "{'key1': 'value1', 'key2': 'value2'} : <class 'dict'>\n",
      "________________________\n"
     ]
    }
   ],
   "source": [
    "# mapping types\n",
    "\n",
    "# dict\n",
    "dict_var = {'key1': 'value1', 'key2': 'value2'}\n",
    "print(dict_var,':', type(dict_var))\n",
    "print(\"________________________\")\n"
   ]
  },
  {
   "cell_type": "code",
   "execution_count": 21,
   "metadata": {},
   "outputs": [
    {
     "name": "stdout",
     "output_type": "stream",
     "text": [
      "{1, 2, 3, 4, 5} : <class 'set'>\n",
      "________________________\n",
      "frozenset({1, 2, 3, 4, 5}) : <class 'frozenset'>\n",
      "{1, 2, 3, 4, 5}\n"
     ]
    }
   ],
   "source": [
    "# set types\n",
    "\n",
    "# set: mutable and unordered and have no duplicates\n",
    "set_var = {1,2,3,4,5}\n",
    "print(set_var,':', type(set_var))\n",
    "print(\"________________________\")\n",
    "\n",
    "# frozenset: immutable and unordered and have no duplicates\n",
    "frozenset_var = frozenset({1,2,3,4,5})\n",
    "print(frozenset_var,':', type(frozenset_var))\n",
    "print(set_var)"
   ]
  },
  {
   "cell_type": "code",
   "execution_count": 22,
   "metadata": {},
   "outputs": [
    {
     "name": "stdout",
     "output_type": "stream",
     "text": [
      "True : <class 'bool'>\n"
     ]
    }
   ],
   "source": [
    "# boolean types\n",
    "bool_var = True\n",
    "print(bool_var,':', type(bool_var))"
   ]
  },
  {
   "cell_type": "code",
   "execution_count": 25,
   "metadata": {},
   "outputs": [
    {
     "name": "stdout",
     "output_type": "stream",
     "text": [
      "b'hello' : <class 'bytes'>\n",
      "bytearray(b'\\x00\\x00\\x00\\x00\\x00\\x00\\x00\\x00\\x00\\x00') : <class 'bytearray'>\n",
      "<memory at 0x0000022A696C1FC0> : <class 'memoryview'>\n"
     ]
    }
   ],
   "source": [
    "# binary types\n",
    "\n",
    "# bytes\n",
    "bytes_var = b'hello'\n",
    "print(bytes_var,':', type(bytes_var))\n",
    "\n",
    "# bytearray\n",
    "bytearray_var = bytearray(10)\n",
    "print(bytearray_var,':', type(bytearray_var))\n",
    "\n",
    "# memoryview\n",
    "\n",
    "memoryview_var = memoryview(bytes_var)\n",
    "print(memoryview_var,':', type(memoryview_var))"
   ]
  }
 ],
 "metadata": {
  "kernelspec": {
   "display_name": "Python 3",
   "language": "python",
   "name": "python3"
  },
  "language_info": {
   "codemirror_mode": {
    "name": "ipython",
    "version": 3
   },
   "file_extension": ".py",
   "mimetype": "text/x-python",
   "name": "python",
   "nbconvert_exporter": "python",
   "pygments_lexer": "ipython3",
   "version": "3.12.1"
  }
 },
 "nbformat": 4,
 "nbformat_minor": 2
}
