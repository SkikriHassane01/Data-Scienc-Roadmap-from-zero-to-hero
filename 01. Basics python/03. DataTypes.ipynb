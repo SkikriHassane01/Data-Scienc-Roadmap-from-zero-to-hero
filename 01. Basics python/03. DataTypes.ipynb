{
 "cells": [
  {
   "cell_type": "markdown",
   "metadata": {},
   "source": [
    "<div style =\"font-family:Trebuchet MS; background-color : #f8f0fa; border-left: 5px solid #1b4332; padding: 12px; border-radius: 50px 50px;\">\n",
    "    <h2 style=\"color: #1b4332; font-size: 48px; text-align: center;\">\n",
    "        <b> Data Types</b>\n",
    "        <hr style=\"border-top: 2px solid #264653;\">\n",
    "    </h2>\n",
    "</div>"
   ]
  },
  {
   "cell_type": "markdown",
   "metadata": {},
   "source": [
    "Python Data Types are used to define the type of a variable. In this article, we’ll list out all the data types and discussion the functionality of each. "
   ]
  },
  {
   "cell_type": "markdown",
   "metadata": {},
   "source": [
    "# Python Data Types\n",
    "\n",
    "| Category        | Data Type    | Description                                                  | Example                      |\n",
    "|-----------------|--------------|--------------------------------------------------------------|------------------------------|\n",
    "| Text Type       | `str`        | String, a sequence of characters enclosed in quotes.         | `x = \"Hello\"`                |\n",
    "| Numeric Types   | `int`        | Integer, a whole number.                                      | `x = 5`                      |\n",
    "| Numeric Types   | `float`      | Floating point number, a number with a decimal point.         | `x = 5.0`                    |\n",
    "| Numeric Types   | `complex`    | Complex number, a number with a real and imaginary part.      | `x = 1 + 2j`                 |\n",
    "| Sequence Types  | `list`       | List, an ordered sequence of items.                           | `x = [1, 2, 3]`              |\n",
    "| Sequence Types  | `tuple`      | Tuple, an ordered immutable sequence of items.                | `x = (1, 2, 3)`              |\n",
    "| Sequence Types  | `range`      | Range, represents an immutable sequence of numbers.           | `x = range(0, 10)`           |\n",
    "| Mapping Type    | `dict`       | Dictionary, a collection of key-value pairs.                  | `x = {\"a\": 1, \"b\": 2}`       |\n",
    "| Set Types       | `set`        | Set, an unordered collection of unique items.                 | `x = {1, 2, 3}`              |\n",
    "| Set Types       | `frozenset`  | Frozenset, an immutable set.                                  | `x = frozenset({1, 2, 3})`   |\n",
    "| Boolean Type    | `bool`       | Boolean, represents one of two values: `True` or `False`.     | `x = True`                   |\n",
    "| Binary Types    | `bytes`      | Bytes, an immutable sequence of bytes.                        | `x = b\"Hello\"`               |\n",
    "| Binary Types    | `bytearray`  | Bytearray, a mutable sequence of bytes.                       | `x = bytearray(5)`           |\n",
    "| Binary Types    | `memoryview` | Memoryview, provides access to the internal data of an object.| `x = memoryview(b\"Hello\")`   |\n",
    "| None Type       | `NoneType`   | Represents the absence of a value or a null value.            | `x = None`                   |"
   ]
  },
  {
   "cell_type": "markdown",
   "metadata": {},
   "source": [
    "- data types are a way to classify different types of data such as integers, strings, etc.\n",
    "- data types are important in python because they determine the operations that can be performed on the data. and also the way the data is stored in memory. \n",
    "\n",
    "- Python has the following data types built-in by default, in these categories:\n",
    "\n",
    "    - Text Type:\tstr\n",
    "    - Numeric Types:\tint, float, complex\n",
    "    - Sequence Types:\tlist, tuple, range\n",
    "    - Mapping Type:\tdict\n",
    "    - Set Types:\tset, frozenset\n",
    "    - Boolean Type:\tbool\n",
    "    - Binary Types:\tbytes, bytearray, memoryview\n",
    "\n",
    "- Getting the Data Type\n",
    "You can get the data type of any object by using the `type()` function:\n",
    "\n"
   ]
  },
  {
   "cell_type": "markdown",
   "metadata": {},
   "source": [
    "### text types"
   ]
  },
  {
   "cell_type": "code",
   "execution_count": 5,
   "metadata": {},
   "outputs": [
    {
     "name": "stdout",
     "output_type": "stream",
     "text": [
      "hassane : <class 'str'>\n",
      "10 : <class 'str'>\n"
     ]
    }
   ],
   "source": [
    "str_var = 'hassane'\n",
    "int_var = 10\n",
    "print(str_var,':', type(str_var))\n",
    "print(int_var,':', type(str(int_var)))"
   ]
  },
  {
   "cell_type": "markdown",
   "metadata": {},
   "source": [
    "### numeric data types"
   ]
  },
  {
   "cell_type": "code",
   "execution_count": 11,
   "metadata": {},
   "outputs": [
    {
     "name": "stdout",
     "output_type": "stream",
     "text": [
      "10 : <class 'int'>\n",
      "________________________\n",
      "10.0 : <class 'float'>\n",
      "________________________\n",
      "2.0\n",
      "10.0\n",
      "(10+2j) : <class 'complex'>\n"
     ]
    }
   ],
   "source": [
    "## int\n",
    "int_var = 10\n",
    "print(int_var,':', type(int_var))\n",
    "print(\"________________________\")\n",
    "## float\n",
    "float_var = 10.0\n",
    "print(float_var,':', type(float_var))\n",
    "print(\"________________________\")\n",
    "## complex\n",
    "complex_var = 10 + 2j\n",
    "print(complex_var.imag)\n",
    "print(complex_var.real)\n",
    "print(complex_var,':', type(complex_var))"
   ]
  },
  {
   "cell_type": "code",
   "execution_count": 14,
   "metadata": {},
   "outputs": [
    {
     "name": "stdout",
     "output_type": "stream",
     "text": [
      "[1, 2, 3, 4, 5] : <class 'list'>\n",
      "________________________\n",
      "(1, 2, 3, 4, 5) : <class 'tuple'>\n",
      "________________________\n",
      "{1, 2, 3, 4, 5} : <class 'set'>\n",
      "________________________\n",
      "{'key1': 'value1', 'key2': 'value2'} : <class 'dict'>\n",
      "________________________\n",
      "range(0, 10) : <class 'range'>\n"
     ]
    }
   ],
   "source": [
    "# Sequential types\n",
    "\n",
    "# list\n",
    "list_var = [1,2,3,4,5]\n",
    "print(list_var,':', type(list_var))\n",
    "print(\"________________________\")\n",
    "\n",
    "# tuple\n",
    "tuple_var = (1,2,3,4,5)\n",
    "print(tuple_var,':', type(tuple_var))\n",
    "print(\"________________________\")\n",
    "\n",
    "# range\n",
    "range_var = range(10)\n",
    "print(range_var,':', type(range_var))\n"
   ]
  },
  {
   "cell_type": "code",
   "execution_count": 15,
   "metadata": {},
   "outputs": [
    {
     "name": "stdout",
     "output_type": "stream",
     "text": [
      "{'key1': 'value1', 'key2': 'value2'} : <class 'dict'>\n",
      "________________________\n"
     ]
    }
   ],
   "source": [
    "# mapping types\n",
    "\n",
    "# dict\n",
    "dict_var = {'key1': 'value1', 'key2': 'value2'}\n",
    "print(dict_var,':', type(dict_var))\n",
    "print(\"________________________\")\n"
   ]
  },
  {
   "cell_type": "code",
   "execution_count": 21,
   "metadata": {},
   "outputs": [
    {
     "name": "stdout",
     "output_type": "stream",
     "text": [
      "{1, 2, 3, 4, 5} : <class 'set'>\n",
      "________________________\n",
      "frozenset({1, 2, 3, 4, 5}) : <class 'frozenset'>\n",
      "{1, 2, 3, 4, 5}\n"
     ]
    }
   ],
   "source": [
    "# set types\n",
    "\n",
    "# set: mutable and unordered and have no duplicates\n",
    "set_var = {1,2,3,4,5}\n",
    "print(set_var,':', type(set_var))\n",
    "print(\"________________________\")\n",
    "\n",
    "# frozenset: immutable and unordered and have no duplicates\n",
    "frozenset_var = frozenset({1,2,3,4,5})\n",
    "print(frozenset_var,':', type(frozenset_var))\n",
    "print(set_var)"
   ]
  },
  {
   "cell_type": "code",
   "execution_count": 22,
   "metadata": {},
   "outputs": [
    {
     "name": "stdout",
     "output_type": "stream",
     "text": [
      "True : <class 'bool'>\n"
     ]
    }
   ],
   "source": [
    "# boolean types\n",
    "bool_var = True\n",
    "print(bool_var,':', type(bool_var))"
   ]
  },
  {
   "cell_type": "code",
   "execution_count": 25,
   "metadata": {},
   "outputs": [
    {
     "name": "stdout",
     "output_type": "stream",
     "text": [
      "b'hello' : <class 'bytes'>\n",
      "bytearray(b'\\x00\\x00\\x00\\x00\\x00\\x00\\x00\\x00\\x00\\x00') : <class 'bytearray'>\n",
      "<memory at 0x0000022A696C1FC0> : <class 'memoryview'>\n"
     ]
    }
   ],
   "source": [
    "# binary types\n",
    "\n",
    "# bytes\n",
    "bytes_var = b'hello'\n",
    "print(bytes_var,':', type(bytes_var))\n",
    "\n",
    "# bytearray\n",
    "bytearray_var = bytearray(10)\n",
    "print(bytearray_var,':', type(bytearray_var))\n",
    "\n",
    "# memoryview\n",
    "\n",
    "memoryview_var = memoryview(bytes_var)\n",
    "print(memoryview_var,':', type(memoryview_var))"
   ]
  },
  {
   "cell_type": "code",
   "execution_count": 1,
   "metadata": {},
   "outputs": [
    {
     "ename": "FeatureNotFound",
     "evalue": "Couldn't find a tree builder with the features you requested: lxml. Do you need to install a parser library?",
     "output_type": "error",
     "traceback": [
      "\u001b[1;31m---------------------------------------------------------------------------\u001b[0m",
      "\u001b[1;31mFeatureNotFound\u001b[0m                           Traceback (most recent call last)",
      "Cell \u001b[1;32mIn[1], line 2\u001b[0m\n\u001b[0;32m      1\u001b[0m \u001b[38;5;28;01mimport\u001b[39;00m \u001b[38;5;21;01mjupyter_to_medium\u001b[39;00m \u001b[38;5;28;01mas\u001b[39;00m \u001b[38;5;21;01mjtm\u001b[39;00m\n\u001b[1;32m----> 2\u001b[0m \u001b[43mjtm\u001b[49m\u001b[38;5;241;43m.\u001b[39;49m\u001b[43mpublish\u001b[49m\u001b[43m(\u001b[49m\u001b[38;5;124;43m'\u001b[39;49m\u001b[38;5;124;43m03. DataTypes.ipynb\u001b[39;49m\u001b[38;5;124;43m'\u001b[39;49m\u001b[43m,\u001b[49m\n\u001b[0;32m      3\u001b[0m \u001b[43m            \u001b[49m\u001b[43mintegration_token\u001b[49m\u001b[38;5;241;43m=\u001b[39;49m\u001b[38;5;124;43m'\u001b[39;49m\u001b[38;5;124;43m2b535268606a3b2aa18dec0f670991a0555f7a6fc19e1e83bb981379048be7dc3\u001b[39;49m\u001b[38;5;124;43m'\u001b[39;49m\u001b[43m,\u001b[49m\n\u001b[0;32m      4\u001b[0m \u001b[43m            \u001b[49m\u001b[43mpub_name\u001b[49m\u001b[38;5;241;43m=\u001b[39;49m\u001b[38;5;28;43;01mNone\u001b[39;49;00m\u001b[43m,\u001b[49m\n\u001b[0;32m      5\u001b[0m \u001b[43m            \u001b[49m\u001b[43mtitle\u001b[49m\u001b[38;5;241;43m=\u001b[39;49m\u001b[38;5;124;43m\"\u001b[39;49m\u001b[38;5;124;43mSyntax and Semantics in python\u001b[39;49m\u001b[38;5;124;43m\"\u001b[39;49m\u001b[43m,\u001b[49m\n\u001b[0;32m      6\u001b[0m \u001b[43m            \u001b[49m\u001b[43mtags\u001b[49m\u001b[38;5;241;43m=\u001b[39;49m\u001b[38;5;28;43;01mNone\u001b[39;49;00m\u001b[43m,\u001b[49m\n\u001b[0;32m      7\u001b[0m \u001b[43m            \u001b[49m\u001b[43mpublish_status\u001b[49m\u001b[38;5;241;43m=\u001b[39;49m\u001b[38;5;124;43m'\u001b[39;49m\u001b[38;5;124;43mdraft\u001b[39;49m\u001b[38;5;124;43m'\u001b[39;49m\u001b[43m,\u001b[49m\n\u001b[0;32m      8\u001b[0m \u001b[43m            \u001b[49m\u001b[43mnotify_followers\u001b[49m\u001b[38;5;241;43m=\u001b[39;49m\u001b[38;5;28;43;01mFalse\u001b[39;49;00m\u001b[43m,\u001b[49m\n\u001b[0;32m      9\u001b[0m \u001b[43m            \u001b[49m\u001b[43mlicense\u001b[49m\u001b[38;5;241;43m=\u001b[39;49m\u001b[38;5;124;43m'\u001b[39;49m\u001b[38;5;124;43mall-rights-reserved\u001b[39;49m\u001b[38;5;124;43m'\u001b[39;49m\u001b[43m,\u001b[49m\n\u001b[0;32m     10\u001b[0m \u001b[43m            \u001b[49m\u001b[43mcanonical_url\u001b[49m\u001b[38;5;241;43m=\u001b[39;49m\u001b[38;5;28;43;01mNone\u001b[39;49;00m\u001b[43m,\u001b[49m\n\u001b[0;32m     11\u001b[0m \u001b[43m            \u001b[49m\u001b[43mchrome_path\u001b[49m\u001b[38;5;241;43m=\u001b[39;49m\u001b[38;5;28;43;01mNone\u001b[39;49;00m\u001b[43m,\u001b[49m\n\u001b[0;32m     12\u001b[0m \u001b[43m            \u001b[49m\u001b[43msave_markdown\u001b[49m\u001b[38;5;241;43m=\u001b[39;49m\u001b[38;5;28;43;01mFalse\u001b[39;49;00m\u001b[43m,\u001b[49m\n\u001b[0;32m     13\u001b[0m \u001b[43m            \u001b[49m\u001b[43mtable_conversion\u001b[49m\u001b[38;5;241;43m=\u001b[39;49m\u001b[38;5;124;43m'\u001b[39;49m\u001b[38;5;124;43mmatplotlib\u001b[39;49m\u001b[38;5;124;43m'\u001b[39;49m\n\u001b[0;32m     14\u001b[0m \u001b[43m            \u001b[49m\u001b[43m)\u001b[49m\n",
      "File \u001b[1;32mc:\\python\\python3126\\Lib\\site-packages\\jupyter_to_medium\\_publish_to_medium.py:300\u001b[0m, in \u001b[0;36mpublish\u001b[1;34m(filename, integration_token, pub_name, title, tags, publish_status, notify_followers, license, canonical_url, chrome_path, save_markdown, table_conversion)\u001b[0m\n\u001b[0;32m    230\u001b[0m \u001b[38;5;250m\u001b[39m\u001b[38;5;124;03m'''\u001b[39;00m\n\u001b[0;32m    231\u001b[0m \u001b[38;5;124;03mPublish a Jupyter Notebook directly to Medium as a blog post.\u001b[39;00m\n\u001b[0;32m    232\u001b[0m \n\u001b[1;32m   (...)\u001b[0m\n\u001b[0;32m    295\u001b[0m \u001b[38;5;124;03m    \u001b[39;00m\n\u001b[0;32m    296\u001b[0m \u001b[38;5;124;03m'''\u001b[39;00m\n\u001b[0;32m    297\u001b[0m p \u001b[38;5;241m=\u001b[39m Publish(filename, integration_token, pub_name, title, tags, \n\u001b[0;32m    298\u001b[0m             publish_status, notify_followers, license, canonical_url,\n\u001b[0;32m    299\u001b[0m             chrome_path, save_markdown, table_conversion)\n\u001b[1;32m--> 300\u001b[0m \u001b[43mp\u001b[49m\u001b[38;5;241;43m.\u001b[39;49m\u001b[43mmain\u001b[49m\u001b[43m(\u001b[49m\u001b[43m)\u001b[49m\n\u001b[0;32m    301\u001b[0m \u001b[38;5;28;01mreturn\u001b[39;00m p\u001b[38;5;241m.\u001b[39mresult\n",
      "File \u001b[1;32mc:\\python\\python3126\\Lib\\site-packages\\jupyter_to_medium\\_publish_to_medium.py:218\u001b[0m, in \u001b[0;36mPublish.main\u001b[1;34m(self)\u001b[0m\n\u001b[0;32m    216\u001b[0m \u001b[38;5;28mself\u001b[39m\u001b[38;5;241m.\u001b[39mauthor_id \u001b[38;5;241m=\u001b[39m \u001b[38;5;28mself\u001b[39m\u001b[38;5;241m.\u001b[39mget_author_id()\n\u001b[0;32m    217\u001b[0m \u001b[38;5;28mself\u001b[39m\u001b[38;5;241m.\u001b[39mpub_id \u001b[38;5;241m=\u001b[39m \u001b[38;5;28mself\u001b[39m\u001b[38;5;241m.\u001b[39mget_pub_id()\n\u001b[1;32m--> 218\u001b[0m \u001b[38;5;28mself\u001b[39m\u001b[38;5;241m.\u001b[39mmd, \u001b[38;5;28mself\u001b[39m\u001b[38;5;241m.\u001b[39mimage_data_dict \u001b[38;5;241m=\u001b[39m \u001b[38;5;28;43mself\u001b[39;49m\u001b[38;5;241;43m.\u001b[39;49m\u001b[43mcreate_markdown\u001b[49m\u001b[43m(\u001b[49m\u001b[43m)\u001b[49m\n\u001b[0;32m    219\u001b[0m \u001b[38;5;28mself\u001b[39m\u001b[38;5;241m.\u001b[39mmd_save \u001b[38;5;241m=\u001b[39m \u001b[38;5;28mself\u001b[39m\u001b[38;5;241m.\u001b[39mmd\n\u001b[0;32m    220\u001b[0m \u001b[38;5;28mself\u001b[39m\u001b[38;5;241m.\u001b[39mload_images_to_medium()\n",
      "File \u001b[1;32mc:\\python\\python3126\\Lib\\site-packages\\jupyter_to_medium\\_publish_to_medium.py:118\u001b[0m, in \u001b[0;36mPublish.create_markdown\u001b[1;34m(self)\u001b[0m\n\u001b[0;32m    116\u001b[0m \u001b[38;5;28;01mdef\u001b[39;00m \u001b[38;5;21mcreate_markdown\u001b[39m(\u001b[38;5;28mself\u001b[39m):\n\u001b[0;32m    117\u001b[0m     mp \u001b[38;5;241m=\u001b[39m MarkdownPreprocessor()\n\u001b[1;32m--> 118\u001b[0m     \u001b[43mmp\u001b[49m\u001b[38;5;241;43m.\u001b[39;49m\u001b[43mpreprocess\u001b[49m\u001b[43m(\u001b[49m\u001b[38;5;28;43mself\u001b[39;49m\u001b[38;5;241;43m.\u001b[39;49m\u001b[43mnb\u001b[49m\u001b[43m,\u001b[49m\u001b[43m \u001b[49m\u001b[38;5;28;43mself\u001b[39;49m\u001b[38;5;241;43m.\u001b[39;49m\u001b[43mresources\u001b[49m\u001b[43m)\u001b[49m\n\u001b[0;32m    120\u001b[0m     no_ex_pp \u001b[38;5;241m=\u001b[39m NoExecuteDataFramePreprocessor()\n\u001b[0;32m    121\u001b[0m     no_ex_pp\u001b[38;5;241m.\u001b[39mpreprocess(\u001b[38;5;28mself\u001b[39m\u001b[38;5;241m.\u001b[39mnb, \u001b[38;5;28mself\u001b[39m\u001b[38;5;241m.\u001b[39mresources)\n",
      "File \u001b[1;32mc:\\python\\python3126\\Lib\\site-packages\\nbconvert\\preprocessors\\base.py:69\u001b[0m, in \u001b[0;36mPreprocessor.preprocess\u001b[1;34m(self, nb, resources)\u001b[0m\n\u001b[0;32m     52\u001b[0m \u001b[38;5;250m\u001b[39m\u001b[38;5;124;03m\"\"\"\u001b[39;00m\n\u001b[0;32m     53\u001b[0m \u001b[38;5;124;03mPreprocessing to apply on each notebook.\u001b[39;00m\n\u001b[0;32m     54\u001b[0m \n\u001b[1;32m   (...)\u001b[0m\n\u001b[0;32m     66\u001b[0m \u001b[38;5;124;03m    preprocessors to pass variables into the Jinja engine.\u001b[39;00m\n\u001b[0;32m     67\u001b[0m \u001b[38;5;124;03m\"\"\"\u001b[39;00m\n\u001b[0;32m     68\u001b[0m \u001b[38;5;28;01mfor\u001b[39;00m index, cell \u001b[38;5;129;01min\u001b[39;00m \u001b[38;5;28menumerate\u001b[39m(nb\u001b[38;5;241m.\u001b[39mcells):\n\u001b[1;32m---> 69\u001b[0m     nb\u001b[38;5;241m.\u001b[39mcells[index], resources \u001b[38;5;241m=\u001b[39m \u001b[38;5;28;43mself\u001b[39;49m\u001b[38;5;241;43m.\u001b[39;49m\u001b[43mpreprocess_cell\u001b[49m\u001b[43m(\u001b[49m\u001b[43mcell\u001b[49m\u001b[43m,\u001b[49m\u001b[43m \u001b[49m\u001b[43mresources\u001b[49m\u001b[43m,\u001b[49m\u001b[43m \u001b[49m\u001b[43mindex\u001b[49m\u001b[43m)\u001b[49m\n\u001b[0;32m     70\u001b[0m \u001b[38;5;28;01mreturn\u001b[39;00m nb, resources\n",
      "File \u001b[1;32mc:\\python\\python3126\\Lib\\site-packages\\jupyter_to_medium\\_preprocesors.py:119\u001b[0m, in \u001b[0;36mMarkdownPreprocessor.preprocess_cell\u001b[1;34m(self, cell, resources, cell_index)\u001b[0m\n\u001b[0;32m    116\u001b[0m             cell[\u001b[38;5;124m'\u001b[39m\u001b[38;5;124msource\u001b[39m\u001b[38;5;124m'\u001b[39m] \u001b[38;5;241m=\u001b[39m cell[\u001b[38;5;124m'\u001b[39m\u001b[38;5;124msource\u001b[39m\u001b[38;5;124m'\u001b[39m]\u001b[38;5;241m.\u001b[39mreplace(\u001b[38;5;124mf\u001b[39m\u001b[38;5;124m'\u001b[39m\u001b[38;5;124mattachment:\u001b[39m\u001b[38;5;132;01m{\u001b[39;00mimage_name\u001b[38;5;132;01m}\u001b[39;00m\u001b[38;5;124m'\u001b[39m, new_image_name)\n\u001b[0;32m    118\u001b[0m     \u001b[38;5;66;03m# find markdown tables\u001b[39;00m\n\u001b[1;32m--> 119\u001b[0m     cell[\u001b[38;5;124m'\u001b[39m\u001b[38;5;124msource\u001b[39m\u001b[38;5;124m'\u001b[39m] \u001b[38;5;241m=\u001b[39m \u001b[43mreplace_md_tables\u001b[49m\u001b[43m(\u001b[49m\u001b[43mimage_data_dict\u001b[49m\u001b[43m,\u001b[49m\u001b[43m \u001b[49m\u001b[43mcell\u001b[49m\u001b[43m[\u001b[49m\u001b[38;5;124;43m'\u001b[39;49m\u001b[38;5;124;43msource\u001b[39;49m\u001b[38;5;124;43m'\u001b[39;49m\u001b[43m]\u001b[49m\u001b[43m,\u001b[49m\u001b[43m \u001b[49m\n\u001b[0;32m    120\u001b[0m \u001b[43m                                       \u001b[49m\u001b[43mresources\u001b[49m\u001b[43m[\u001b[49m\u001b[38;5;124;43m'\u001b[39;49m\u001b[38;5;124;43mconverter\u001b[39;49m\u001b[38;5;124;43m'\u001b[39;49m\u001b[43m]\u001b[49m\u001b[43m,\u001b[49m\u001b[43m \u001b[49m\u001b[43mcell_index\u001b[49m\u001b[43m)\u001b[49m\n\u001b[0;32m    122\u001b[0m \u001b[38;5;28;01mreturn\u001b[39;00m cell, resources\n",
      "File \u001b[1;32mc:\\python\\python3126\\Lib\\site-packages\\jupyter_to_medium\\_preprocesors.py:55\u001b[0m, in \u001b[0;36mreplace_md_tables\u001b[1;34m(image_data_dict, md_source, converter, cell_index)\u001b[0m\n\u001b[0;32m     52\u001b[0m     \u001b[38;5;28;01mreturn\u001b[39;00m \u001b[38;5;124mf\u001b[39m\u001b[38;5;124m'\u001b[39m\u001b[38;5;124m![](\u001b[39m\u001b[38;5;132;01m{\u001b[39;00mnew_image_name\u001b[38;5;132;01m}\u001b[39;00m\u001b[38;5;124m)\u001b[39m\u001b[38;5;130;01m\\n\u001b[39;00m\u001b[38;5;124m'\u001b[39m\n\u001b[0;32m     54\u001b[0m md_source \u001b[38;5;241m=\u001b[39m nptable\u001b[38;5;241m.\u001b[39msub(md_table_to_image, md_source)\n\u001b[1;32m---> 55\u001b[0m md_source \u001b[38;5;241m=\u001b[39m \u001b[43mtable\u001b[49m\u001b[38;5;241;43m.\u001b[39;49m\u001b[43msub\u001b[49m\u001b[43m(\u001b[49m\u001b[43mmd_table_to_image\u001b[49m\u001b[43m,\u001b[49m\u001b[43m \u001b[49m\u001b[43mmd_source\u001b[49m\u001b[43m)\u001b[49m\n\u001b[0;32m     56\u001b[0m \u001b[38;5;28;01mreturn\u001b[39;00m md_source\n",
      "File \u001b[1;32mc:\\python\\python3126\\Lib\\site-packages\\jupyter_to_medium\\_preprocesors.py:48\u001b[0m, in \u001b[0;36mreplace_md_tables.<locals>.md_table_to_image\u001b[1;34m(match)\u001b[0m\n\u001b[0;32m     46\u001b[0m html \u001b[38;5;241m=\u001b[39m mistune\u001b[38;5;241m.\u001b[39mmarkdown(md, escape\u001b[38;5;241m=\u001b[39m\u001b[38;5;28;01mFalse\u001b[39;00m)\n\u001b[0;32m     47\u001b[0m html \u001b[38;5;241m=\u001b[39m \u001b[38;5;124m'\u001b[39m\u001b[38;5;124m<div>\u001b[39m\u001b[38;5;124m'\u001b[39m \u001b[38;5;241m+\u001b[39m html \u001b[38;5;241m+\u001b[39m \u001b[38;5;124m'\u001b[39m\u001b[38;5;124m</div>\u001b[39m\u001b[38;5;124m'\u001b[39m\n\u001b[1;32m---> 48\u001b[0m image_data \u001b[38;5;241m=\u001b[39m base64\u001b[38;5;241m.\u001b[39mb64decode(\u001b[43mconverter\u001b[49m\u001b[43m(\u001b[49m\u001b[43mhtml\u001b[49m\u001b[43m)\u001b[49m)\n\u001b[0;32m     49\u001b[0m new_image_name \u001b[38;5;241m=\u001b[39m \u001b[38;5;124mf\u001b[39m\u001b[38;5;124m'\u001b[39m\u001b[38;5;124mmarkdown_\u001b[39m\u001b[38;5;132;01m{\u001b[39;00mcell_index\u001b[38;5;132;01m}\u001b[39;00m\u001b[38;5;124m_table_\u001b[39m\u001b[38;5;132;01m{\u001b[39;00mi\u001b[38;5;132;01m}\u001b[39;00m\u001b[38;5;124m.png\u001b[39m\u001b[38;5;124m'\u001b[39m\n\u001b[0;32m     50\u001b[0m image_data_dict[new_image_name] \u001b[38;5;241m=\u001b[39m image_data\n",
      "File \u001b[1;32mc:\\python\\python3126\\Lib\\site-packages\\jupyter_to_medium\\_matplotlib_table.py:247\u001b[0m, in \u001b[0;36mTableMaker.run\u001b[1;34m(self, html)\u001b[0m\n\u001b[0;32m    245\u001b[0m \u001b[38;5;28mself\u001b[39m\u001b[38;5;241m.\u001b[39mtext_fig \u001b[38;5;241m=\u001b[39m Figure(dpi\u001b[38;5;241m=\u001b[39m\u001b[38;5;28mself\u001b[39m\u001b[38;5;241m.\u001b[39mdpi)\n\u001b[0;32m    246\u001b[0m \u001b[38;5;28mself\u001b[39m\u001b[38;5;241m.\u001b[39mrenderer \u001b[38;5;241m=\u001b[39m RendererAgg(\u001b[38;5;28mself\u001b[39m\u001b[38;5;241m.\u001b[39mfigwidth, \u001b[38;5;28mself\u001b[39m\u001b[38;5;241m.\u001b[39mfigheight, \u001b[38;5;28mself\u001b[39m\u001b[38;5;241m.\u001b[39mdpi)\n\u001b[1;32m--> 247\u001b[0m \u001b[38;5;28mself\u001b[39m\u001b[38;5;241m.\u001b[39mrows, \u001b[38;5;28mself\u001b[39m\u001b[38;5;241m.\u001b[39mnum_header_rows \u001b[38;5;241m=\u001b[39m \u001b[38;5;28;43mself\u001b[39;49m\u001b[38;5;241;43m.\u001b[39;49m\u001b[43mparse_html\u001b[49m\u001b[43m(\u001b[49m\u001b[43mhtml\u001b[49m\u001b[43m)\u001b[49m\n\u001b[0;32m    248\u001b[0m \u001b[38;5;28mself\u001b[39m\u001b[38;5;241m.\u001b[39mcol_widths \u001b[38;5;241m=\u001b[39m \u001b[38;5;28mself\u001b[39m\u001b[38;5;241m.\u001b[39mcalculate_col_widths()\n\u001b[0;32m    249\u001b[0m \u001b[38;5;28mself\u001b[39m\u001b[38;5;241m.\u001b[39mrow_heights \u001b[38;5;241m=\u001b[39m \u001b[38;5;28mself\u001b[39m\u001b[38;5;241m.\u001b[39mget_row_heights()\n",
      "File \u001b[1;32mc:\\python\\python3126\\Lib\\site-packages\\jupyter_to_medium\\_matplotlib_table.py:32\u001b[0m, in \u001b[0;36mTableMaker.parse_html\u001b[1;34m(self, html)\u001b[0m\n\u001b[0;32m     30\u001b[0m \u001b[38;5;28;01mdef\u001b[39;00m \u001b[38;5;21mparse_html\u001b[39m(\u001b[38;5;28mself\u001b[39m, html):\n\u001b[0;32m     31\u001b[0m     html \u001b[38;5;241m=\u001b[39m html\u001b[38;5;241m.\u001b[39mreplace(\u001b[38;5;124m'\u001b[39m\u001b[38;5;124m<br>\u001b[39m\u001b[38;5;124m'\u001b[39m, \u001b[38;5;124m'\u001b[39m\u001b[38;5;130;01m\\n\u001b[39;00m\u001b[38;5;124m'\u001b[39m)\n\u001b[1;32m---> 32\u001b[0m     rows, num_header_rows \u001b[38;5;241m=\u001b[39m \u001b[38;5;28;43mself\u001b[39;49m\u001b[38;5;241;43m.\u001b[39;49m\u001b[43mparse_into_rows\u001b[49m\u001b[43m(\u001b[49m\u001b[43mhtml\u001b[49m\u001b[43m)\u001b[49m\n\u001b[0;32m     33\u001b[0m     num_cols \u001b[38;5;241m=\u001b[39m \u001b[38;5;28msum\u001b[39m(val[\u001b[38;5;241m-\u001b[39m\u001b[38;5;241m1\u001b[39m] \u001b[38;5;28;01mfor\u001b[39;00m val \u001b[38;5;129;01min\u001b[39;00m rows[\u001b[38;5;241m0\u001b[39m])\n\u001b[0;32m     34\u001b[0m     new_rows \u001b[38;5;241m=\u001b[39m []\n",
      "File \u001b[1;32mc:\\python\\python3126\\Lib\\site-packages\\jupyter_to_medium\\_matplotlib_table.py:86\u001b[0m, in \u001b[0;36mTableMaker.parse_into_rows\u001b[1;34m(self, html)\u001b[0m\n\u001b[0;32m     83\u001b[0m         values\u001b[38;5;241m.\u001b[39mappend([text, bold, text_align, rowspan, colspan])\n\u001b[0;32m     84\u001b[0m     \u001b[38;5;28;01mreturn\u001b[39;00m values\n\u001b[1;32m---> 86\u001b[0m soup \u001b[38;5;241m=\u001b[39m \u001b[43mBeautifulSoup\u001b[49m\u001b[43m(\u001b[49m\u001b[43mhtml\u001b[49m\u001b[43m,\u001b[49m\u001b[43m \u001b[49m\u001b[43mfeatures\u001b[49m\u001b[38;5;241;43m=\u001b[39;49m\u001b[38;5;124;43m\"\u001b[39;49m\u001b[38;5;124;43mlxml\u001b[39;49m\u001b[38;5;124;43m\"\u001b[39;49m\u001b[43m)\u001b[49m\n\u001b[0;32m     87\u001b[0m \u001b[38;5;66;03m# get number of columns from first row\u001b[39;00m\n\u001b[0;32m     88\u001b[0m num_cols \u001b[38;5;241m=\u001b[39m \u001b[38;5;28msum\u001b[39m(\u001b[38;5;28mint\u001b[39m(el\u001b[38;5;241m.\u001b[39mget(\u001b[38;5;124m'\u001b[39m\u001b[38;5;124mcolspan\u001b[39m\u001b[38;5;124m'\u001b[39m, \u001b[38;5;241m1\u001b[39m)) \u001b[38;5;28;01mfor\u001b[39;00m el \u001b[38;5;129;01min\u001b[39;00m soup\u001b[38;5;241m.\u001b[39mfind(\u001b[38;5;124m'\u001b[39m\u001b[38;5;124mtr\u001b[39m\u001b[38;5;124m'\u001b[39m)\u001b[38;5;241m.\u001b[39mfind_all([\u001b[38;5;124m'\u001b[39m\u001b[38;5;124mtd\u001b[39m\u001b[38;5;124m'\u001b[39m, \u001b[38;5;124m'\u001b[39m\u001b[38;5;124mth\u001b[39m\u001b[38;5;124m'\u001b[39m]))\n",
      "File \u001b[1;32mc:\\python\\python3126\\Lib\\site-packages\\bs4\\__init__.py:250\u001b[0m, in \u001b[0;36mBeautifulSoup.__init__\u001b[1;34m(self, markup, features, builder, parse_only, from_encoding, exclude_encodings, element_classes, **kwargs)\u001b[0m\n\u001b[0;32m    248\u001b[0m     builder_class \u001b[38;5;241m=\u001b[39m builder_registry\u001b[38;5;241m.\u001b[39mlookup(\u001b[38;5;241m*\u001b[39mfeatures)\n\u001b[0;32m    249\u001b[0m     \u001b[38;5;28;01mif\u001b[39;00m builder_class \u001b[38;5;129;01mis\u001b[39;00m \u001b[38;5;28;01mNone\u001b[39;00m:\n\u001b[1;32m--> 250\u001b[0m         \u001b[38;5;28;01mraise\u001b[39;00m FeatureNotFound(\n\u001b[0;32m    251\u001b[0m             \u001b[38;5;124m\"\u001b[39m\u001b[38;5;124mCouldn\u001b[39m\u001b[38;5;124m'\u001b[39m\u001b[38;5;124mt find a tree builder with the features you \u001b[39m\u001b[38;5;124m\"\u001b[39m\n\u001b[0;32m    252\u001b[0m             \u001b[38;5;124m\"\u001b[39m\u001b[38;5;124mrequested: \u001b[39m\u001b[38;5;132;01m%s\u001b[39;00m\u001b[38;5;124m. Do you need to install a parser library?\u001b[39m\u001b[38;5;124m\"\u001b[39m\n\u001b[0;32m    253\u001b[0m             \u001b[38;5;241m%\u001b[39m \u001b[38;5;124m\"\u001b[39m\u001b[38;5;124m,\u001b[39m\u001b[38;5;124m\"\u001b[39m\u001b[38;5;241m.\u001b[39mjoin(features))\n\u001b[0;32m    255\u001b[0m \u001b[38;5;66;03m# At this point either we have a TreeBuilder instance in\u001b[39;00m\n\u001b[0;32m    256\u001b[0m \u001b[38;5;66;03m# builder, or we have a builder_class that we can instantiate\u001b[39;00m\n\u001b[0;32m    257\u001b[0m \u001b[38;5;66;03m# with the remaining **kwargs.\u001b[39;00m\n\u001b[0;32m    258\u001b[0m \u001b[38;5;28;01mif\u001b[39;00m builder \u001b[38;5;129;01mis\u001b[39;00m \u001b[38;5;28;01mNone\u001b[39;00m:\n",
      "\u001b[1;31mFeatureNotFound\u001b[0m: Couldn't find a tree builder with the features you requested: lxml. Do you need to install a parser library?"
     ]
    }
   ],
   "source": [
    "\n",
    "import jupyter_to_medium as jtm\n",
    "jtm.publish('03. DataTypes.ipynb',\n",
    "            integration_token='2b535268606a3b2aa18dec0f670991a0555f7a6fc19e1e83bb981379048be7dc3',\n",
    "            pub_name=None,\n",
    "            title=\"Basic python 3: Data Types\",\n",
    "            tags=None,\n",
    "            publish_status='draft',\n",
    "            notify_followers=False,\n",
    "            license='all-rights-reserved',\n",
    "            canonical_url=None,\n",
    "            chrome_path=None,\n",
    "            save_markdown=False,\n",
    "            table_conversion='matplotlib'\n",
    "            )\n"
   ]
  }
 ],
 "metadata": {
  "kernelspec": {
   "display_name": "Python 3",
   "language": "python",
   "name": "python3"
  },
  "language_info": {
   "codemirror_mode": {
    "name": "ipython",
    "version": 3
   },
   "file_extension": ".py",
   "mimetype": "text/x-python",
   "name": "python",
   "nbconvert_exporter": "python",
   "pygments_lexer": "ipython3",
   "version": "3.12.6"
  }
 },
 "nbformat": 4,
 "nbformat_minor": 2
}
