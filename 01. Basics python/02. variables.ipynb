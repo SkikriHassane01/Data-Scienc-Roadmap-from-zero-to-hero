{
 "cells": [
  {
   "cell_type": "markdown",
   "metadata": {},
   "source": [
    "<div style =\"font-family:Trebuchet MS; background-color : #f8f0fa; border-left: 5px solid #1b4332; padding: 12px; border-radius: 50px 50px;\">\n",
    "    <h2 style=\"color: #1b4332; font-size: 48px; text-align: center;\">\n",
    "        <b> Variables</b>\n",
    "        <hr style=\"border-top: 2px solid #264653;\">\n",
    "    </h2>\n",
    "    <h3 style=\"font-size: 14px; color: #264653; text-align: left; \"><strong> I hope this is very helpful. let's started .😊🌟</strong></h3>\n",
    "</div>"
   ]
  },
  {
   "cell_type": "markdown",
   "metadata": {},
   "source": [
    "- variables are fundamental elements in programming used to store data that can be accessed and manipulated.\n",
    "- in python, variables are created by assigning a value to them, variables can store - different types of data,such as strings, integers, floating point numbers, and booleans.\n",
    "- the declaration of a variable is not required in python, the variable is created when a value is assigned to it.\n"
   ]
  },
  {
   "cell_type": "code",
   "execution_count": 1,
   "metadata": {},
   "outputs": [
    {
     "name": "stdout",
     "output_type": "stream",
     "text": [
      "My name is Hassane and I am 20 years old\n"
     ]
    }
   ],
   "source": [
    "age = 20\n",
    "name = 'Hassane'\n",
    "print('My name is {0} and I am {1} years old'.format(name, age))"
   ]
  },
  {
   "cell_type": "code",
   "execution_count": 2,
   "metadata": {},
   "outputs": [],
   "source": [
    "# invalid variable names\n",
    "# 2myvar = 10\n",
    "# my-var = 10\n",
    "# my var = 10"
   ]
  },
  {
   "cell_type": "code",
   "execution_count": 5,
   "metadata": {},
   "outputs": [
    {
     "name": "stdout",
     "output_type": "stream",
     "text": [
      "20 : <class 'int'>\n",
      "twenty : <class 'str'>\n"
     ]
    }
   ],
   "source": [
    "# python is dynamically typed, type is determined at runtime\n",
    "\n",
    "age = 20\n",
    "print(age,':',type(age))\n",
    "age = 'twenty'\n",
    "print(age,':',type(age))"
   ]
  },
  {
   "cell_type": "code",
   "execution_count": 10,
   "metadata": {},
   "outputs": [
    {
     "name": "stdout",
     "output_type": "stream",
     "text": [
      "20.0 : <class 'float'>\n",
      "20 : <class 'int'>\n",
      "20 : <class 'str'>\n"
     ]
    }
   ],
   "source": [
    "# type casting\n",
    "age = 20.00\n",
    "print(age,':',type(age))\n",
    "age = int(age)\n",
    "print(age,':',type(age))\n",
    "age = str(age)\n",
    "print(age,':',type(age))"
   ]
  },
  {
   "cell_type": "code",
   "execution_count": 11,
   "metadata": {},
   "outputs": [
    {
     "name": "stdout",
     "output_type": "stream",
     "text": [
      "Hello hassane, you are 20 years old\n"
     ]
    }
   ],
   "source": [
    "# inputs from user\n",
    "name = input('Enter your name: ')\n",
    "age = input('Enter your age: ')\n",
    "print('Hello {0}, you are {1} years old'.format(name, age))"
   ]
  }
 ],
 "metadata": {
  "kernelspec": {
   "display_name": "Python 3",
   "language": "python",
   "name": "python3"
  },
  "language_info": {
   "codemirror_mode": {
    "name": "ipython",
    "version": 3
   },
   "file_extension": ".py",
   "mimetype": "text/x-python",
   "name": "python",
   "nbconvert_exporter": "python",
   "pygments_lexer": "ipython3",
   "version": "3.12.1"
  }
 },
 "nbformat": 4,
 "nbformat_minor": 2
}
