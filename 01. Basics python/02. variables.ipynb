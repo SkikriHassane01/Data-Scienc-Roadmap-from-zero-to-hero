{
 "cells": [
  {
   "cell_type": "markdown",
   "metadata": {},
   "source": [
    "# Variables\n"
   ]
  },
  {
   "cell_type": "markdown",
   "metadata": {},
   "source": [
    "### Introduction\n",
    "\n",
    "Python Variable is containers that store values. Python is not “statically typed”. We do not need to declare variables before using them or declare their type. A variable is created the moment we first assign a value to it. A Python variable is a name given to a memory location. It is the basic unit of storage in a program."
   ]
  },
  {
   "cell_type": "markdown",
   "metadata": {},
   "source": [
    "- variables are fundamental elements in programming used to store data that can be accessed and manipulated.\n",
    "- in python, variables are created by assigning a value to them, variables can store - different types of data,such as strings, integers, floating point numbers, and booleans.\n",
    "- the declaration of a variable is not required in python, the variable is created when a value is assigned to it.\n"
   ]
  },
  {
   "cell_type": "code",
   "execution_count": 1,
   "metadata": {},
   "outputs": [
    {
     "name": "stdout",
     "output_type": "stream",
     "text": [
      "My name is Hassane and I am 20 years old\n"
     ]
    }
   ],
   "source": [
    "age = 20\n",
    "name = 'Hassane'\n",
    "print('My name is {0} and I am {1} years old'.format(name, age))"
   ]
  },
  {
   "cell_type": "markdown",
   "metadata": {},
   "source": [
    "### Rules for Python variables\n",
    "\n",
    "* A Python variable name must start with a letter or the underscore character.\n",
    "* A Python variable name cannot start with a number.\n",
    "* A Python variable name can only contain alpha-numeric characters and underscores (A-z, 0-9, and _ ).\n",
    "* Variable in Python names are case-sensitive (name, Name, and NAME are three different variables)."
   ]
  },
  {
   "cell_type": "code",
   "execution_count": 2,
   "metadata": {},
   "outputs": [],
   "source": [
    "# invalid variable names\n",
    "# 2myvar = 10\n",
    "# my-var = 10\n",
    "# my var = 10"
   ]
  },
  {
   "cell_type": "markdown",
   "metadata": {},
   "source": [
    "### python is dynamically typed, type is determined at runtime"
   ]
  },
  {
   "cell_type": "code",
   "execution_count": 5,
   "metadata": {},
   "outputs": [
    {
     "name": "stdout",
     "output_type": "stream",
     "text": [
      "20 : <class 'int'>\n",
      "twenty : <class 'str'>\n"
     ]
    }
   ],
   "source": [
    "age = 20\n",
    "print(age,':',type(age))\n",
    "age = 'twenty'\n",
    "print(age,':',type(age))"
   ]
  },
  {
   "cell_type": "markdown",
   "metadata": {},
   "source": [
    "### type casting"
   ]
  },
  {
   "cell_type": "code",
   "execution_count": 10,
   "metadata": {},
   "outputs": [
    {
     "name": "stdout",
     "output_type": "stream",
     "text": [
      "20.0 : <class 'float'>\n",
      "20 : <class 'int'>\n",
      "20 : <class 'str'>\n"
     ]
    }
   ],
   "source": [
    "\n",
    "age = 20.00\n",
    "print(age,':',type(age))\n",
    "age = int(age)\n",
    "print(age,':',type(age))\n",
    "age = str(age)\n",
    "print(age,':',type(age))"
   ]
  },
  {
   "cell_type": "markdown",
   "metadata": {},
   "source": [
    "### inputs from user"
   ]
  },
  {
   "cell_type": "code",
   "execution_count": 11,
   "metadata": {},
   "outputs": [
    {
     "name": "stdout",
     "output_type": "stream",
     "text": [
      "Hello hassane, you are 20 years old\n"
     ]
    }
   ],
   "source": [
    "\n",
    "name = input('Enter your name: ')\n",
    "age = input('Enter your age: ')\n",
    "print('Hello {0}, you are {1} years old'.format(name, age))"
   ]
  }
 ],
 "metadata": {
  "kernelspec": {
   "display_name": "Python 3 (ipykernel)",
   "language": "python",
   "name": "python3"
  },
  "language_info": {
   "codemirror_mode": {
    "name": "ipython",
    "version": 3
   },
   "file_extension": ".py",
   "mimetype": "text/x-python",
   "name": "python",
   "nbconvert_exporter": "python",
   "pygments_lexer": "ipython3",
   "version": "3.12.6"
  }
 },
 "nbformat": 4,
 "nbformat_minor": 4
}
