{
 "cells": [
  {
   "cell_type": "markdown",
   "id": "f2b88a4c",
   "metadata": {
    "papermill": {
     "duration": 0.008961,
     "end_time": "2024-01-30T16:21:16.352887",
     "exception": false,
     "start_time": "2024-01-30T16:21:16.343926",
     "status": "completed"
    },
    "tags": []
   },
   "source": [
    "<h1 style=\"font-family: Trebuchet MS; padding: 12px; font-size: 30px; color: #3a5a40; text-align: center; line-height: 1.25;\"><b>Multiple Linear Regression: Understanding the Process<b/></h1>"
   ]
  },
  {
   "cell_type": "markdown",
   "id": "32a3e862",
   "metadata": {
    "_cell_guid": "b1076dfc-b9ad-4769-8c92-a6c4dae69d19",
    "_uuid": "8f2839f25d086af736a60e9eeb907d3b93b6e0e5",
    "papermill": {
     "duration": 0.008169,
     "end_time": "2024-01-30T16:21:16.369692",
     "exception": false,
     "start_time": "2024-01-30T16:21:16.361523",
     "status": "completed"
    },
    "tags": []
   },
   "source": [
    "<p style=\"background-color:#93CDDD; font-family: 'Trebuchet MS'; font-weight: bold; color: #3a5a40; font-size: 40px; text-align: center; border-radius: 50px; padding: 10px;\">Table of Contents</p>"
   ]
  },
  {
   "cell_type": "markdown",
   "id": "bb13e9f4",
   "metadata": {
    "papermill": {
     "duration": 0.008178,
     "end_time": "2024-01-30T16:21:16.386397",
     "exception": false,
     "start_time": "2024-01-30T16:21:16.378219",
     "status": "completed"
    },
    "tags": []
   },
   "source": [
    "- [**1 - Importing Libraries**](#1)\n",
    "- [**2- Linear Regression with Multiple Variable**](#3)\n",
    "    - [**2 - 1 Overview**](#3-1)\n",
    "    - [**2 - 2 Loading Dataset**](#3-2)\n",
    "    - [**2 - 3 Exploring the data**](#3-3)\n",
    "    - [**2 - 4 Feature Normalization**](#3-4)\n",
    "    - [**2 - 5 Compute Cost**](#3-5)\n",
    "    - [**2 - 6 Gradient descent**](#3-6)\n",
    "-[**2- Linear Regression using Scikit-Learn**](#4)\n"
   ]
  },
  {
   "cell_type": "markdown",
   "id": "e09de96a",
   "metadata": {
    "papermill": {
     "duration": 0.008027,
     "end_time": "2024-01-30T16:21:16.402842",
     "exception": false,
     "start_time": "2024-01-30T16:21:16.394815",
     "status": "completed"
    },
    "tags": []
   },
   "source": [
    "<a name = 1></a>\n",
    "<p style=\"background-color:#93CDDD; font-family: 'Trebuchet MS'; font-weight: bold; color: #3a5a40; font-size: 40px; text-align: center; border-radius: 50px; padding: 10px;\">1 - Importing libraries</p>"
   ]
  },
  {
   "cell_type": "code",
   "execution_count": 1,
   "id": "85c774c3",
   "metadata": {
    "_kg_hide-input": true,
    "_kg_hide-output": true,
    "execution": {
     "iopub.execute_input": "2024-01-30T16:21:16.422075Z",
     "iopub.status.busy": "2024-01-30T16:21:16.421335Z",
     "iopub.status.idle": "2024-01-30T16:21:19.109352Z",
     "shell.execute_reply": "2024-01-30T16:21:19.108161Z"
    },
    "papermill": {
     "duration": 2.700954,
     "end_time": "2024-01-30T16:21:19.112280",
     "exception": false,
     "start_time": "2024-01-30T16:21:16.411326",
     "status": "completed"
    },
    "tags": []
   },
   "outputs": [],
   "source": [
    "# Data Analysis and Manipulation Libraries Import\n",
    "import numpy as np\n",
    "import pandas as pd\n",
    "\n",
    "# Data Visualization Libraries Import\n",
    "from matplotlib import pyplot as plt\n",
    "import seaborn as sns\n",
    "\n",
    "# Python Standard Libraries Import\n",
    "import copy\n",
    "import math\n",
    "\n",
    "#ignore all the warning \n",
    "import warnings\n",
    "warnings.filterwarnings('ignore')"
   ]
  },
  {
   "cell_type": "code",
   "execution_count": 2,
   "id": "6739d1db",
   "metadata": {
    "execution": {
     "iopub.execute_input": "2024-01-30T16:21:19.132135Z",
     "iopub.status.busy": "2024-01-30T16:21:19.131021Z",
     "iopub.status.idle": "2024-01-30T16:21:19.138836Z",
     "shell.execute_reply": "2024-01-30T16:21:19.137611Z"
    },
    "papermill": {
     "duration": 0.020388,
     "end_time": "2024-01-30T16:21:19.141336",
     "exception": false,
     "start_time": "2024-01-30T16:21:19.120948",
     "status": "completed"
    },
    "tags": []
   },
   "outputs": [],
   "source": [
    "#display Matplotlib plots directly within the notebook\n",
    "%matplotlib inline\n",
    "# display graphs correctly\n",
    "plt.rcParams['figure.figsize'] = (12, 5)\n",
    "plt.rcParams['figure.dpi'] = 120\n",
    "\n",
    "# Apply the 'ggplot' style\n",
    "plt.style.use('dark_background')"
   ]
  },
  {
   "cell_type": "markdown",
   "id": "42acc2a1",
   "metadata": {
    "papermill": {
     "duration": 0.00826,
     "end_time": "2024-01-30T16:21:19.158688",
     "exception": false,
     "start_time": "2024-01-30T16:21:19.150428",
     "status": "completed"
    },
    "tags": []
   },
   "source": [
    "\n",
    "<p style=\"background-color:#93CDDD; font-family: 'Trebuchet MS'; font-weight: bold; color: #3a5a40; font-size: 40px; text-align: center; border-radius: 50px; padding: 10px;\">2- Linear Regression with Multiple Variable</p>\n",
    "<a name = 2></a>"
   ]
  },
  {
   "cell_type": "markdown",
   "id": "2f923a50",
   "metadata": {
    "papermill": {
     "duration": 0.008028,
     "end_time": "2024-01-30T16:21:19.175140",
     "exception": false,
     "start_time": "2024-01-30T16:21:19.167112",
     "status": "completed"
    },
    "tags": []
   },
   "source": [
    "\n",
    "\n",
    "<p style=\"background-color:#93CDDD; font-family: 'Trebuchet MS'; font-weight: bold; color: #3a5a40; font-size: 40px; text-align: center; border-radius: 50px; padding: 10px;\">2 -1 Overview</p>\n",
    "<a name = 3-1></a>"
   ]
  },
  {
   "cell_type": "markdown",
   "id": "6ef09bb1",
   "metadata": {
    "papermill": {
     "duration": 0.008061,
     "end_time": "2024-01-30T16:21:19.191668",
     "exception": false,
     "start_time": "2024-01-30T16:21:19.183607",
     "status": "completed"
    },
    "tags": []
   },
   "source": [
    "Imagine you're in the process of selling your house, and you're eager to determine a fair market price for it. One effective approach is to gather data on recent home sales and construct a model that predicts housing prices. Your task revolves around using various factors to forecast these prices accurately.\n",
    " \n",
    "The dataset **ex1data2.txt** provides a training set of housing prices. Each row consists of three columns: <br>\n",
    "**the first column represents the house's size in square feet**<br>\n",
    "**the second column signifies the number of bedrooms,**<br>\n",
    "**the third column denotes the corresponding house price.**"
   ]
  },
  {
   "cell_type": "markdown",
   "id": "4a0047f5",
   "metadata": {
    "papermill": {
     "duration": 0.008212,
     "end_time": "2024-01-30T16:21:19.209149",
     "exception": false,
     "start_time": "2024-01-30T16:21:19.200937",
     "status": "completed"
    },
    "tags": []
   },
   "source": [
    "\n",
    "<p style=\"background-color:#93CDDD; font-family: 'Trebuchet MS'; font-weight: bold; color: #3a5a40; font-size: 40px; text-align: center; border-radius: 50px; padding: 10px;\">2 - 2 Loading Dataset</p>\n",
    "<a name = 3-2></a>"
   ]
  },
  {
   "cell_type": "code",
   "execution_count": 3,
   "id": "3d6c5a2f",
   "metadata": {
    "execution": {
     "iopub.execute_input": "2024-01-30T16:21:19.228588Z",
     "iopub.status.busy": "2024-01-30T16:21:19.227454Z",
     "iopub.status.idle": "2024-01-30T16:21:19.273884Z",
     "shell.execute_reply": "2024-01-30T16:21:19.272431Z"
    },
    "papermill": {
     "duration": 0.058616,
     "end_time": "2024-01-30T16:21:19.276314",
     "exception": false,
     "start_time": "2024-01-30T16:21:19.217698",
     "status": "completed"
    },
    "tags": []
   },
   "outputs": [
    {
     "data": {
      "text/html": [
       "<div>\n",
       "<style scoped>\n",
       "    .dataframe tbody tr th:only-of-type {\n",
       "        vertical-align: middle;\n",
       "    }\n",
       "\n",
       "    .dataframe tbody tr th {\n",
       "        vertical-align: top;\n",
       "    }\n",
       "\n",
       "    .dataframe thead th {\n",
       "        text-align: right;\n",
       "    }\n",
       "</style>\n",
       "<table border=\"1\" class=\"dataframe\">\n",
       "  <thead>\n",
       "    <tr style=\"text-align: right;\">\n",
       "      <th></th>\n",
       "      <th>house size</th>\n",
       "      <th>num beds</th>\n",
       "      <th>price</th>\n",
       "    </tr>\n",
       "  </thead>\n",
       "  <tbody>\n",
       "    <tr>\n",
       "      <th>0</th>\n",
       "      <td>2104</td>\n",
       "      <td>3</td>\n",
       "      <td>399900</td>\n",
       "    </tr>\n",
       "    <tr>\n",
       "      <th>1</th>\n",
       "      <td>1600</td>\n",
       "      <td>3</td>\n",
       "      <td>329900</td>\n",
       "    </tr>\n",
       "    <tr>\n",
       "      <th>2</th>\n",
       "      <td>2400</td>\n",
       "      <td>3</td>\n",
       "      <td>369000</td>\n",
       "    </tr>\n",
       "    <tr>\n",
       "      <th>3</th>\n",
       "      <td>1416</td>\n",
       "      <td>2</td>\n",
       "      <td>232000</td>\n",
       "    </tr>\n",
       "    <tr>\n",
       "      <th>4</th>\n",
       "      <td>3000</td>\n",
       "      <td>4</td>\n",
       "      <td>539900</td>\n",
       "    </tr>\n",
       "  </tbody>\n",
       "</table>\n",
       "</div>"
      ],
      "text/plain": [
       "   house size  num beds   price\n",
       "0        2104         3  399900\n",
       "1        1600         3  329900\n",
       "2        2400         3  369000\n",
       "3        1416         2  232000\n",
       "4        3000         4  539900"
      ]
     },
     "execution_count": 3,
     "metadata": {},
     "output_type": "execute_result"
    }
   ],
   "source": [
    "#read the data\n",
    "df1 = pd.read_csv('/kaggle/input/coursera-machine-learning-su-ex1/ex1data2.txt', names=['house size', 'num beds','price'])\n",
    "# git the data treaning\n",
    "X = df1.iloc[:,0:2] #the first column and the seconde column\n",
    "Y = df1.iloc[:,2] # the third column\n",
    "m,n = X.shape \n",
    "df1.head()"
   ]
  },
  {
   "cell_type": "markdown",
   "id": "1e636572",
   "metadata": {
    "papermill": {
     "duration": 0.008268,
     "end_time": "2024-01-30T16:21:19.293331",
     "exception": false,
     "start_time": "2024-01-30T16:21:19.285063",
     "status": "completed"
    },
    "tags": []
   },
   "source": [
    "\n",
    "\n",
    "<p style=\"background-color:#93CDDD; font-family: 'Trebuchet MS'; font-weight: bold; color: #3a5a40; font-size: 40px; text-align: center; border-radius: 50px; padding: 10px;\">2 - 3 Exploring the data</p>\n",
    "<a name = 3-3></a>"
   ]
  },
  {
   "cell_type": "code",
   "execution_count": 4,
   "id": "5611090a",
   "metadata": {
    "execution": {
     "iopub.execute_input": "2024-01-30T16:21:19.312472Z",
     "iopub.status.busy": "2024-01-30T16:21:19.312049Z",
     "iopub.status.idle": "2024-01-30T16:21:19.339090Z",
     "shell.execute_reply": "2024-01-30T16:21:19.337953Z"
    },
    "papermill": {
     "duration": 0.039467,
     "end_time": "2024-01-30T16:21:19.341453",
     "exception": false,
     "start_time": "2024-01-30T16:21:19.301986",
     "status": "completed"
    },
    "tags": []
   },
   "outputs": [
    {
     "name": "stdout",
     "output_type": "stream",
     "text": [
      "<class 'pandas.core.frame.DataFrame'>\n",
      "RangeIndex: 47 entries, 0 to 46\n",
      "Data columns (total 3 columns):\n",
      " #   Column      Non-Null Count  Dtype\n",
      "---  ------      --------------  -----\n",
      " 0   house size  47 non-null     int64\n",
      " 1   num beds    47 non-null     int64\n",
      " 2   price       47 non-null     int64\n",
      "dtypes: int64(3)\n",
      "memory usage: 1.2 KB\n"
     ]
    }
   ],
   "source": [
    "df1.info()"
   ]
  },
  {
   "cell_type": "code",
   "execution_count": 5,
   "id": "a1488850",
   "metadata": {
    "execution": {
     "iopub.execute_input": "2024-01-30T16:21:19.361734Z",
     "iopub.status.busy": "2024-01-30T16:21:19.360514Z",
     "iopub.status.idle": "2024-01-30T16:21:19.383071Z",
     "shell.execute_reply": "2024-01-30T16:21:19.381957Z"
    },
    "papermill": {
     "duration": 0.035138,
     "end_time": "2024-01-30T16:21:19.385382",
     "exception": false,
     "start_time": "2024-01-30T16:21:19.350244",
     "status": "completed"
    },
    "tags": []
   },
   "outputs": [
    {
     "data": {
      "text/html": [
       "<div>\n",
       "<style scoped>\n",
       "    .dataframe tbody tr th:only-of-type {\n",
       "        vertical-align: middle;\n",
       "    }\n",
       "\n",
       "    .dataframe tbody tr th {\n",
       "        vertical-align: top;\n",
       "    }\n",
       "\n",
       "    .dataframe thead th {\n",
       "        text-align: right;\n",
       "    }\n",
       "</style>\n",
       "<table border=\"1\" class=\"dataframe\">\n",
       "  <thead>\n",
       "    <tr style=\"text-align: right;\">\n",
       "      <th></th>\n",
       "      <th>house size</th>\n",
       "      <th>num beds</th>\n",
       "      <th>price</th>\n",
       "    </tr>\n",
       "  </thead>\n",
       "  <tbody>\n",
       "    <tr>\n",
       "      <th>count</th>\n",
       "      <td>47.000000</td>\n",
       "      <td>47.000000</td>\n",
       "      <td>47.000000</td>\n",
       "    </tr>\n",
       "    <tr>\n",
       "      <th>mean</th>\n",
       "      <td>2000.680851</td>\n",
       "      <td>3.170213</td>\n",
       "      <td>340412.659574</td>\n",
       "    </tr>\n",
       "    <tr>\n",
       "      <th>std</th>\n",
       "      <td>794.702354</td>\n",
       "      <td>0.760982</td>\n",
       "      <td>125039.899586</td>\n",
       "    </tr>\n",
       "    <tr>\n",
       "      <th>min</th>\n",
       "      <td>852.000000</td>\n",
       "      <td>1.000000</td>\n",
       "      <td>169900.000000</td>\n",
       "    </tr>\n",
       "    <tr>\n",
       "      <th>25%</th>\n",
       "      <td>1432.000000</td>\n",
       "      <td>3.000000</td>\n",
       "      <td>249900.000000</td>\n",
       "    </tr>\n",
       "    <tr>\n",
       "      <th>50%</th>\n",
       "      <td>1888.000000</td>\n",
       "      <td>3.000000</td>\n",
       "      <td>299900.000000</td>\n",
       "    </tr>\n",
       "    <tr>\n",
       "      <th>75%</th>\n",
       "      <td>2269.000000</td>\n",
       "      <td>4.000000</td>\n",
       "      <td>384450.000000</td>\n",
       "    </tr>\n",
       "    <tr>\n",
       "      <th>max</th>\n",
       "      <td>4478.000000</td>\n",
       "      <td>5.000000</td>\n",
       "      <td>699900.000000</td>\n",
       "    </tr>\n",
       "  </tbody>\n",
       "</table>\n",
       "</div>"
      ],
      "text/plain": [
       "        house size   num beds          price\n",
       "count    47.000000  47.000000      47.000000\n",
       "mean   2000.680851   3.170213  340412.659574\n",
       "std     794.702354   0.760982  125039.899586\n",
       "min     852.000000   1.000000  169900.000000\n",
       "25%    1432.000000   3.000000  249900.000000\n",
       "50%    1888.000000   3.000000  299900.000000\n",
       "75%    2269.000000   4.000000  384450.000000\n",
       "max    4478.000000   5.000000  699900.000000"
      ]
     },
     "execution_count": 5,
     "metadata": {},
     "output_type": "execute_result"
    }
   ],
   "source": [
    "df1.describe()"
   ]
  },
  {
   "cell_type": "code",
   "execution_count": 6,
   "id": "b3053d9b",
   "metadata": {
    "execution": {
     "iopub.execute_input": "2024-01-30T16:21:19.405983Z",
     "iopub.status.busy": "2024-01-30T16:21:19.404781Z",
     "iopub.status.idle": "2024-01-30T16:21:19.414216Z",
     "shell.execute_reply": "2024-01-30T16:21:19.413191Z"
    },
    "papermill": {
     "duration": 0.021697,
     "end_time": "2024-01-30T16:21:19.416285",
     "exception": false,
     "start_time": "2024-01-30T16:21:19.394588",
     "status": "completed"
    },
    "tags": []
   },
   "outputs": [
    {
     "data": {
      "text/plain": [
       "house size    0\n",
       "num beds      0\n",
       "price         0\n",
       "dtype: int64"
      ]
     },
     "execution_count": 6,
     "metadata": {},
     "output_type": "execute_result"
    }
   ],
   "source": [
    "df1.isnull().sum()"
   ]
  },
  {
   "cell_type": "code",
   "execution_count": 7,
   "id": "297fcfa6",
   "metadata": {
    "execution": {
     "iopub.execute_input": "2024-01-30T16:21:19.436734Z",
     "iopub.status.busy": "2024-01-30T16:21:19.435900Z",
     "iopub.status.idle": "2024-01-30T16:21:19.451763Z",
     "shell.execute_reply": "2024-01-30T16:21:19.450539Z"
    },
    "papermill": {
     "duration": 0.028755,
     "end_time": "2024-01-30T16:21:19.454149",
     "exception": false,
     "start_time": "2024-01-30T16:21:19.425394",
     "status": "completed"
    },
    "tags": []
   },
   "outputs": [
    {
     "data": {
      "text/html": [
       "<div>\n",
       "<style scoped>\n",
       "    .dataframe tbody tr th:only-of-type {\n",
       "        vertical-align: middle;\n",
       "    }\n",
       "\n",
       "    .dataframe tbody tr th {\n",
       "        vertical-align: top;\n",
       "    }\n",
       "\n",
       "    .dataframe thead th {\n",
       "        text-align: right;\n",
       "    }\n",
       "</style>\n",
       "<table border=\"1\" class=\"dataframe\">\n",
       "  <thead>\n",
       "    <tr style=\"text-align: right;\">\n",
       "      <th></th>\n",
       "      <th>house size</th>\n",
       "      <th>num beds</th>\n",
       "      <th>price</th>\n",
       "    </tr>\n",
       "  </thead>\n",
       "  <tbody>\n",
       "    <tr>\n",
       "      <th>house size</th>\n",
       "      <td>1.000000</td>\n",
       "      <td>0.559967</td>\n",
       "      <td>0.854988</td>\n",
       "    </tr>\n",
       "    <tr>\n",
       "      <th>num beds</th>\n",
       "      <td>0.559967</td>\n",
       "      <td>1.000000</td>\n",
       "      <td>0.442261</td>\n",
       "    </tr>\n",
       "    <tr>\n",
       "      <th>price</th>\n",
       "      <td>0.854988</td>\n",
       "      <td>0.442261</td>\n",
       "      <td>1.000000</td>\n",
       "    </tr>\n",
       "  </tbody>\n",
       "</table>\n",
       "</div>"
      ],
      "text/plain": [
       "            house size  num beds     price\n",
       "house size    1.000000  0.559967  0.854988\n",
       "num beds      0.559967  1.000000  0.442261\n",
       "price         0.854988  0.442261  1.000000"
      ]
     },
     "execution_count": 7,
     "metadata": {},
     "output_type": "execute_result"
    }
   ],
   "source": [
    "df1.corr()"
   ]
  },
  {
   "cell_type": "markdown",
   "id": "226aaf8d",
   "metadata": {
    "papermill": {
     "duration": 0.009264,
     "end_time": "2024-01-30T16:21:19.472749",
     "exception": false,
     "start_time": "2024-01-30T16:21:19.463485",
     "status": "completed"
    },
    "tags": []
   },
   "source": [
    "**there is a strong correlation between the size of a house and its price.**"
   ]
  },
  {
   "cell_type": "markdown",
   "id": "6872b163",
   "metadata": {
    "papermill": {
     "duration": 0.009403,
     "end_time": "2024-01-30T16:21:19.491788",
     "exception": false,
     "start_time": "2024-01-30T16:21:19.482385",
     "status": "completed"
    },
    "tags": []
   },
   "source": [
    "\n",
    "\n",
    "<p style=\"background-color:#93CDDD; font-family: 'Trebuchet MS'; font-weight: bold; color: #3a5a40; font-size: 40px; text-align: center; border-radius: 50px; padding: 10px;\">2 -4 Feature Normalization</p>\n",
    "<a name = 3-4></a>"
   ]
  },
  {
   "cell_type": "markdown",
   "id": "9c2219e5",
   "metadata": {
    "papermill": {
     "duration": 0.009355,
     "end_time": "2024-01-30T16:21:19.510487",
     "exception": false,
     "start_time": "2024-01-30T16:21:19.501132",
     "status": "completed"
    },
    "tags": []
   },
   "source": [
    "**when analyzing the data, it's important to observe that house sizes typically have larger values compared to the number of bedrooms. When dealing with features that vary significantly in scale, it is advisable to begin by performing feature scaling, as it can greatly expedite the convergence of gradient descent algorithms.**"
   ]
  },
  {
   "cell_type": "code",
   "execution_count": 8,
   "id": "37c7cd9f",
   "metadata": {
    "execution": {
     "iopub.execute_input": "2024-01-30T16:21:19.531983Z",
     "iopub.status.busy": "2024-01-30T16:21:19.531539Z",
     "iopub.status.idle": "2024-01-30T16:21:19.540124Z",
     "shell.execute_reply": "2024-01-30T16:21:19.538886Z"
    },
    "papermill": {
     "duration": 0.022638,
     "end_time": "2024-01-30T16:21:19.542538",
     "exception": false,
     "start_time": "2024-01-30T16:21:19.519900",
     "status": "completed"
    },
    "tags": []
   },
   "outputs": [],
   "source": [
    "def zscore_normalize_features(X):\n",
    "\n",
    "    # find the mean of each column/feature\n",
    "    mu     = np.mean(X, axis=0)                 # mu will have shape (n,)\n",
    "    # find the standard deviation of each column/feature\n",
    "    sigma  = np.std(X, axis=0)                  # sigma will have shape (n,)\n",
    "    # element-wise, subtract mu for that column from each example, divide by std for that column\n",
    "    X_norm = (X - mu) / sigma      \n",
    "\n",
    "    return (X_norm, mu, sigma)\n",
    "X_norm, _, _ = zscore_normalize_features(X)"
   ]
  },
  {
   "cell_type": "code",
   "execution_count": 9,
   "id": "738cd51c",
   "metadata": {
    "execution": {
     "iopub.execute_input": "2024-01-30T16:21:19.565275Z",
     "iopub.status.busy": "2024-01-30T16:21:19.564570Z",
     "iopub.status.idle": "2024-01-30T16:21:19.575606Z",
     "shell.execute_reply": "2024-01-30T16:21:19.574479Z"
    },
    "papermill": {
     "duration": 0.02555,
     "end_time": "2024-01-30T16:21:19.577672",
     "exception": false,
     "start_time": "2024-01-30T16:21:19.552122",
     "status": "completed"
    },
    "tags": []
   },
   "outputs": [
    {
     "data": {
      "text/html": [
       "<div>\n",
       "<style scoped>\n",
       "    .dataframe tbody tr th:only-of-type {\n",
       "        vertical-align: middle;\n",
       "    }\n",
       "\n",
       "    .dataframe tbody tr th {\n",
       "        vertical-align: top;\n",
       "    }\n",
       "\n",
       "    .dataframe thead th {\n",
       "        text-align: right;\n",
       "    }\n",
       "</style>\n",
       "<table border=\"1\" class=\"dataframe\">\n",
       "  <thead>\n",
       "    <tr style=\"text-align: right;\">\n",
       "      <th></th>\n",
       "      <th>house size</th>\n",
       "      <th>num beds</th>\n",
       "    </tr>\n",
       "  </thead>\n",
       "  <tbody>\n",
       "    <tr>\n",
       "      <th>0</th>\n",
       "      <td>0.131415</td>\n",
       "      <td>-0.226093</td>\n",
       "    </tr>\n",
       "    <tr>\n",
       "      <th>1</th>\n",
       "      <td>-0.509641</td>\n",
       "      <td>-0.226093</td>\n",
       "    </tr>\n",
       "    <tr>\n",
       "      <th>2</th>\n",
       "      <td>0.507909</td>\n",
       "      <td>-0.226093</td>\n",
       "    </tr>\n",
       "    <tr>\n",
       "      <th>3</th>\n",
       "      <td>-0.743677</td>\n",
       "      <td>-1.554392</td>\n",
       "    </tr>\n",
       "    <tr>\n",
       "      <th>4</th>\n",
       "      <td>1.271071</td>\n",
       "      <td>1.102205</td>\n",
       "    </tr>\n",
       "  </tbody>\n",
       "</table>\n",
       "</div>"
      ],
      "text/plain": [
       "   house size  num beds\n",
       "0    0.131415 -0.226093\n",
       "1   -0.509641 -0.226093\n",
       "2    0.507909 -0.226093\n",
       "3   -0.743677 -1.554392\n",
       "4    1.271071  1.102205"
      ]
     },
     "execution_count": 9,
     "metadata": {},
     "output_type": "execute_result"
    }
   ],
   "source": [
    "X_norm.head()"
   ]
  },
  {
   "cell_type": "markdown",
   "id": "ef492de3",
   "metadata": {
    "papermill": {
     "duration": 0.009207,
     "end_time": "2024-01-30T16:21:19.596981",
     "exception": false,
     "start_time": "2024-01-30T16:21:19.587774",
     "status": "completed"
    },
    "tags": []
   },
   "source": [
    "\n",
    "\n",
    "<p style=\"background-color:#93CDDD; font-family: 'Trebuchet MS'; font-weight: bold; color: #3a5a40; font-size: 40px; text-align: center; border-radius: 50px; padding: 10px;\">3 -5 Compute the cost function</p>\n",
    "<a name = 3-5></a>\n",
    "\n",
    "The equation for the cost function with multiple variables $J(\\mathbf{w},b)$ is:\n",
    "$$J(\\mathbf{w},b) = \\frac{1}{2m} \\sum\\limits_{i = 0}^{m-1} (f_{\\mathbf{w},b}(\\mathbf{x}^{(i)}) - y^{(i)})^2 $$ \n",
    "where:\n",
    "$$ f_{\\mathbf{w},b}(\\mathbf{x}^{(i)}) = \\mathbf{w} \\cdot \\mathbf{x}^{(i)} + b  $$ \n",
    "\n"
   ]
  },
  {
   "cell_type": "code",
   "execution_count": 10,
   "id": "2e3c6f78",
   "metadata": {
    "execution": {
     "iopub.execute_input": "2024-01-30T16:21:19.619048Z",
     "iopub.status.busy": "2024-01-30T16:21:19.618199Z",
     "iopub.status.idle": "2024-01-30T16:21:19.624475Z",
     "shell.execute_reply": "2024-01-30T16:21:19.623392Z"
    },
    "papermill": {
     "duration": 0.020252,
     "end_time": "2024-01-30T16:21:19.626889",
     "exception": false,
     "start_time": "2024-01-30T16:21:19.606637",
     "status": "completed"
    },
    "tags": []
   },
   "outputs": [],
   "source": [
    "def compute_cost(X, Y, w, b): \n",
    "    cost = 0.0\n",
    "    m = len(Y)\n",
    "    for i in range(m):                                \n",
    "        f_wb_i =np.dot( X [i],w) + b       \n",
    "        cost = cost + (f_wb_i - Y[i])**2       \n",
    "    cost = cost / (2 * m)                      \n",
    "    return cost"
   ]
  },
  {
   "cell_type": "code",
   "execution_count": 11,
   "id": "8eea984c",
   "metadata": {
    "execution": {
     "iopub.execute_input": "2024-01-30T16:21:19.649699Z",
     "iopub.status.busy": "2024-01-30T16:21:19.649251Z",
     "iopub.status.idle": "2024-01-30T16:21:19.657581Z",
     "shell.execute_reply": "2024-01-30T16:21:19.656735Z"
    },
    "papermill": {
     "duration": 0.022587,
     "end_time": "2024-01-30T16:21:19.659761",
     "exception": false,
     "start_time": "2024-01-30T16:21:19.637174",
     "status": "completed"
    },
    "tags": []
   },
   "outputs": [
    {
     "data": {
      "text/plain": [
       "65120665930.37282"
      ]
     },
     "execution_count": 11,
     "metadata": {},
     "output_type": "execute_result"
    }
   ],
   "source": [
    "#test \n",
    "w_init = np.array([0.00001, 100000])\n",
    "b= 0.\n",
    "X_norm = X_norm.to_numpy()\n",
    "Y = Y.to_numpy()\n",
    "cost = compute_cost(X_norm,Y,w_init,b)\n",
    "cost"
   ]
  },
  {
   "cell_type": "markdown",
   "id": "d0b5f993",
   "metadata": {
    "papermill": {
     "duration": 0.009408,
     "end_time": "2024-01-30T16:21:19.762263",
     "exception": false,
     "start_time": "2024-01-30T16:21:19.752855",
     "status": "completed"
    },
    "tags": []
   },
   "source": [
    "\n",
    "\n",
    "<p style=\"background-color:#93CDDD; font-family: 'Trebuchet MS'; font-weight: bold; color: #3a5a40; font-size: 40px; text-align: center; border-radius: 50px; padding: 10px;\">3 -6 Gradient descent function</p>\n",
    "<a name = 3-6></a>\n",
    "\n",
    "$$\\begin{align*} \\text{repeat}&\\text{ until convergence:} \\; \\lbrace \\newline\\;\n",
    "& w_j = w_j -  \\alpha \\frac{\\partial J(\\mathbf{w},b)}{\\partial w_j}\\; & \\text{for j = 0..n-1}\\newline\n",
    "&b\\ \\ = b -  \\alpha \\frac{\\partial J(\\mathbf{w},b)}{\\partial b}  \\newline \\rbrace\n",
    "\\end{align*}$$\n",
    "\n",
    "where, n is the number of features, parameters $w_j$,  $b$, are updated simultaneously and where  \n",
    "\n",
    "$$\n",
    "\\begin{align}\n",
    "\\frac{\\partial J(\\mathbf{w},b)}{\\partial w_j}  &= \\frac{1}{m} \\sum\\limits_{i = 0}^{m-1} (f_{\\mathbf{w},b}(\\mathbf{x}^{(i)}) - y^{(i)})x_{j}^{(i)} \\ \\\\\n",
    "\\frac{\\partial J(\\mathbf{w},b)}{\\partial b}  &= \\frac{1}{m} \\sum\\limits_{i = 0}^{m-1} (f_{\\mathbf{w},b}(\\mathbf{x}^{(i)}) - y^{(i)}) \\\n",
    "\\end{align}\n",
    "$$"
   ]
  },
  {
   "cell_type": "code",
   "execution_count": 12,
   "id": "c07d796f",
   "metadata": {
    "execution": {
     "iopub.execute_input": "2024-01-30T16:21:19.783738Z",
     "iopub.status.busy": "2024-01-30T16:21:19.783280Z",
     "iopub.status.idle": "2024-01-30T16:21:19.790439Z",
     "shell.execute_reply": "2024-01-30T16:21:19.789121Z"
    },
    "papermill": {
     "duration": 0.020961,
     "end_time": "2024-01-30T16:21:19.792965",
     "exception": false,
     "start_time": "2024-01-30T16:21:19.772004",
     "status": "completed"
    },
    "tags": []
   },
   "outputs": [],
   "source": [
    "def compute_gradient(X, Y, w, b): \n",
    "    dj_dw = np.zeros((n,))\n",
    "    dj_db = 0.\n",
    "\n",
    "    for i in range(m):                             \n",
    "        err = (np.dot(X[i], w) + b) - Y[i]   \n",
    "        for j in range(n):                         \n",
    "            dj_dw[j] = dj_dw[j] + err * X[i, j]    \n",
    "        dj_db = dj_db + err                        \n",
    "    dj_dw = dj_dw / m                            \n",
    "    dj_db = dj_db / m                                \n",
    "        \n",
    "    return dj_db, dj_dw\n"
   ]
  },
  {
   "cell_type": "code",
   "execution_count": 13,
   "id": "a35ddb40",
   "metadata": {
    "execution": {
     "iopub.execute_input": "2024-01-30T16:21:19.815153Z",
     "iopub.status.busy": "2024-01-30T16:21:19.814722Z",
     "iopub.status.idle": "2024-01-30T16:21:19.822573Z",
     "shell.execute_reply": "2024-01-30T16:21:19.821481Z"
    },
    "papermill": {
     "duration": 0.021596,
     "end_time": "2024-01-30T16:21:19.825003",
     "exception": false,
     "start_time": "2024-01-30T16:21:19.803407",
     "status": "completed"
    },
    "tags": []
   },
   "outputs": [
    {
     "data": {
      "text/plain": [
       "(-340412.659574468, array([-49767.41304904,  45291.17824973]))"
      ]
     },
     "execution_count": 13,
     "metadata": {},
     "output_type": "execute_result"
    }
   ],
   "source": [
    "#test\n",
    "gradient = compute_gradient(X_norm,Y,w_init,b)\n",
    "gradient"
   ]
  },
  {
   "cell_type": "code",
   "execution_count": 14,
   "id": "e632cd53",
   "metadata": {
    "execution": {
     "iopub.execute_input": "2024-01-30T16:21:19.847306Z",
     "iopub.status.busy": "2024-01-30T16:21:19.846504Z",
     "iopub.status.idle": "2024-01-30T16:21:19.854156Z",
     "shell.execute_reply": "2024-01-30T16:21:19.853317Z"
    },
    "papermill": {
     "duration": 0.0215,
     "end_time": "2024-01-30T16:21:19.856604",
     "exception": false,
     "start_time": "2024-01-30T16:21:19.835104",
     "status": "completed"
    },
    "tags": []
   },
   "outputs": [],
   "source": [
    "def gradient_descent(X, Y, w_in, b_in, cost_function, gradient_function, alpha, num_iters): \n",
    "\n",
    "    J_history = []\n",
    "    w = copy.deepcopy(w_in)  #avoid modifying global w within function\n",
    "    b = b_in\n",
    "    \n",
    "    for i in range(num_iters):\n",
    "\n",
    "        # Calculate the gradient \n",
    "        dj_db,dj_dw = gradient_function(X, Y, w, b) \n",
    "\n",
    "        # Update Parameters\n",
    "        w = w - alpha * dj_dw              \n",
    "        b = b - alpha * dj_db           \n",
    "      \n",
    "        # Save cost J at each iteration\n",
    "        if i<100000: \n",
    "            J_history.append( cost_function(X, Y, w, b))\n",
    "\n",
    "        if i% math.ceil(num_iters / 10) == 0:\n",
    "            print(f\"Iteration {i:4d}: Cost {J_history[-1]:8.2f}   \")\n",
    "        \n",
    "    return w, b, J_history"
   ]
  },
  {
   "cell_type": "code",
   "execution_count": 15,
   "id": "dda5ad60",
   "metadata": {
    "execution": {
     "iopub.execute_input": "2024-01-30T16:21:19.878281Z",
     "iopub.status.busy": "2024-01-30T16:21:19.877887Z",
     "iopub.status.idle": "2024-01-30T16:21:20.280087Z",
     "shell.execute_reply": "2024-01-30T16:21:20.278601Z"
    },
    "papermill": {
     "duration": 0.415982,
     "end_time": "2024-01-30T16:21:20.282590",
     "exception": false,
     "start_time": "2024-01-30T16:21:19.866608",
     "status": "completed"
    },
    "tags": []
   },
   "outputs": [
    {
     "name": "stdout",
     "output_type": "stream",
     "text": [
      "Iteration    0: Cost 63922471505.35   \n",
      "Iteration  150: Cost 6183496655.93   \n",
      "Iteration  300: Cost 2540810350.88   \n",
      "Iteration  450: Cost 2146111899.85   \n",
      "Iteration  600: Cost 2069212113.94   \n",
      "Iteration  750: Cost 2050115218.76   \n",
      "Iteration  900: Cost 2045096974.94   \n",
      "Iteration 1050: Cost 2043763784.17   \n",
      "Iteration 1200: Cost 2043408875.95   \n",
      "Iteration 1350: Cost 2043314360.51   \n",
      "b, w found by gradient descent: 340412.56, [109303.05477637  -6433.61316105]\n"
     ]
    }
   ],
   "source": [
    "#test\n",
    "iterations = 1500\n",
    "alpha = 10.0e-3\n",
    "\n",
    "# Run gradient descent \n",
    "w_final, b_final, J_hist = gradient_descent(X_norm, Y,w_init,b, compute_cost, compute_gradient, alpha, iterations)\n",
    "\n",
    "print(f\"b, w found by gradient descent: {b_final:.2f}, {w_final}\")\n"
   ]
  },
  {
   "cell_type": "code",
   "execution_count": 16,
   "id": "472b68a9",
   "metadata": {
    "execution": {
     "iopub.execute_input": "2024-01-30T16:21:20.305287Z",
     "iopub.status.busy": "2024-01-30T16:21:20.304897Z",
     "iopub.status.idle": "2024-01-30T16:21:20.313078Z",
     "shell.execute_reply": "2024-01-30T16:21:20.311424Z"
    },
    "papermill": {
     "duration": 0.022341,
     "end_time": "2024-01-30T16:21:20.315308",
     "exception": false,
     "start_time": "2024-01-30T16:21:20.292967",
     "status": "completed"
    },
    "scrolled": true,
    "tags": []
   },
   "outputs": [
    {
     "name": "stdout",
     "output_type": "stream",
     "text": [
      "prediction: 356231.27, target value: 399900\n",
      "prediction: 286161.88, target value: 329900\n",
      "prediction: 397383.13, target value: 369000\n",
      "prediction: 269126.74, target value: 232000\n",
      "prediction: 472253.32, target value: 539900\n",
      "prediction: 331141.35, target value: 299900\n",
      "prediction: 276986.12, target value: 314900\n",
      "prediction: 262110.28, target value: 198999\n",
      "prediction: 255576.03, target value: 212000\n",
      "prediction: 271425.06, target value: 242500\n",
      "prediction: 324885.15, target value: 239999\n",
      "prediction: 341772.50, target value: 347000\n",
      "prediction: 326479.58, target value: 329999\n",
      "prediction: 669188.83, target value: 699900\n",
      "prediction: 240005.05, target value: 259900\n",
      "prediction: 374934.72, target value: 449900\n",
      "prediction: 255780.19, target value: 299900\n",
      "prediction: 235556.20, target value: 199900\n",
      "prediction: 417893.93, target value: 499998\n",
      "prediction: 476563.14, target value: 599000\n",
      "prediction: 309379.31, target value: 252900\n",
      "prediction: 334747.29, target value: 255000\n",
      "prediction: 286717.98, target value: 242900\n",
      "prediction: 327943.74, target value: 259900\n",
      "prediction: 604532.72, target value: 573900\n",
      "prediction: 216648.59, target value: 249900\n",
      "prediction: 266420.10, target value: 464500\n",
      "prediction: 414900.48, target value: 469000\n",
      "prediction: 369577.82, target value: 475000\n",
      "prediction: 430332.43, target value: 299900\n",
      "prediction: 327934.98, target value: 349900\n",
      "prediction: 219837.45, target value: 169900\n",
      "prediction: 338787.81, target value: 314900\n",
      "prediction: 499845.72, target value: 579900\n",
      "prediction: 306950.72, target value: 285900\n",
      "prediction: 263500.54, target value: 249900\n",
      "prediction: 235973.28, target value: 229900\n",
      "prediction: 351578.25, target value: 345000\n",
      "prediction: 641170.60, target value: 549000\n",
      "prediction: 355749.05, target value: 287000\n",
      "prediction: 303605.33, target value: 368500\n",
      "prediction: 374860.83, target value: 329900\n",
      "prediction: 412054.81, target value: 314000\n",
      "prediction: 230551.25, target value: 299000\n",
      "prediction: 190715.76, target value: 179900\n",
      "prediction: 312650.81, target value: 299900\n",
      "prediction: 230968.33, target value: 239500\n"
     ]
    }
   ],
   "source": [
    "m,_ = X_norm.shape\n",
    "for i in range(m):\n",
    "    print(f\"prediction: {np.dot(X_norm[i], w_final) + b_final:0.2f}, target value: {Y[i]}\")"
   ]
  },
  {
   "cell_type": "markdown",
   "id": "e9269dd2",
   "metadata": {
    "papermill": {
     "duration": 0.00983,
     "end_time": "2024-01-30T16:21:20.335341",
     "exception": false,
     "start_time": "2024-01-30T16:21:20.325511",
     "status": "completed"
    },
    "tags": []
   },
   "source": [
    "\n",
    "\n",
    "<p style=\"background-color:#93CDDD; font-family: 'Trebuchet MS'; font-weight: bold; color: #3a5a40; font-size: 40px; text-align: center; border-radius: 50px; padding: 10px;\">4 -  Linear Regression using Scikit-Learn</p>\n",
    "<a name = 4></a>"
   ]
  },
  {
   "cell_type": "markdown",
   "id": "ba0f4452",
   "metadata": {
    "papermill": {
     "duration": 0.00979,
     "end_time": "2024-01-30T16:21:20.355041",
     "exception": false,
     "start_time": "2024-01-30T16:21:20.345251",
     "status": "completed"
    },
    "tags": []
   },
   "source": [
    "## SGDRegressor"
   ]
  },
  {
   "cell_type": "markdown",
   "id": "43c1a143",
   "metadata": {
    "papermill": {
     "duration": 0.009881,
     "end_time": "2024-01-30T16:21:20.374881",
     "exception": false,
     "start_time": "2024-01-30T16:21:20.365000",
     "status": "completed"
    },
    "tags": []
   },
   "source": [
    "### normalize the training data"
   ]
  },
  {
   "cell_type": "code",
   "execution_count": 17,
   "id": "a4a0e19d",
   "metadata": {
    "execution": {
     "iopub.execute_input": "2024-01-30T16:21:20.397274Z",
     "iopub.status.busy": "2024-01-30T16:21:20.396884Z",
     "iopub.status.idle": "2024-01-30T16:21:20.796785Z",
     "shell.execute_reply": "2024-01-30T16:21:20.795790Z"
    },
    "papermill": {
     "duration": 0.414774,
     "end_time": "2024-01-30T16:21:20.799554",
     "exception": false,
     "start_time": "2024-01-30T16:21:20.384780",
     "status": "completed"
    },
    "scrolled": true,
    "tags": []
   },
   "outputs": [],
   "source": [
    "from sklearn.linear_model import SGDRegressor\n",
    "from sklearn.preprocessing import StandardScaler\n",
    "\n",
    "\n",
    "scaler = StandardScaler()\n",
    "X_Scal = scaler.fit_transform(X)"
   ]
  },
  {
   "cell_type": "markdown",
   "id": "818bbcd9",
   "metadata": {
    "papermill": {
     "duration": 0.00999,
     "end_time": "2024-01-30T16:21:20.819764",
     "exception": false,
     "start_time": "2024-01-30T16:21:20.809774",
     "status": "completed"
    },
    "tags": []
   },
   "source": [
    "### Create and fit the regression model"
   ]
  },
  {
   "cell_type": "code",
   "execution_count": 18,
   "id": "df096f78",
   "metadata": {
    "execution": {
     "iopub.execute_input": "2024-01-30T16:21:20.842314Z",
     "iopub.status.busy": "2024-01-30T16:21:20.841888Z",
     "iopub.status.idle": "2024-01-30T16:21:20.852361Z",
     "shell.execute_reply": "2024-01-30T16:21:20.851264Z"
    },
    "papermill": {
     "duration": 0.024563,
     "end_time": "2024-01-30T16:21:20.854534",
     "exception": false,
     "start_time": "2024-01-30T16:21:20.829971",
     "status": "completed"
    },
    "tags": []
   },
   "outputs": [
    {
     "name": "stdout",
     "output_type": "stream",
     "text": [
      "number of iterations completed: 132, number of weight updates: 6205.0\n"
     ]
    }
   ],
   "source": [
    "sgdr = SGDRegressor(max_iter=1000)\n",
    "sgdr.fit(X_Scal, Y)\n",
    "print(f\"number of iterations completed: {sgdr.n_iter_}, number of weight updates: {sgdr.t_}\")"
   ]
  },
  {
   "cell_type": "code",
   "execution_count": 19,
   "id": "e77aa539",
   "metadata": {
    "execution": {
     "iopub.execute_input": "2024-01-30T16:21:20.878326Z",
     "iopub.status.busy": "2024-01-30T16:21:20.877529Z",
     "iopub.status.idle": "2024-01-30T16:21:20.884486Z",
     "shell.execute_reply": "2024-01-30T16:21:20.883316Z"
    },
    "papermill": {
     "duration": 0.021847,
     "end_time": "2024-01-30T16:21:20.886963",
     "exception": false,
     "start_time": "2024-01-30T16:21:20.865116",
     "status": "completed"
    },
    "tags": []
   },
   "outputs": [
    {
     "name": "stdout",
     "output_type": "stream",
     "text": [
      "model parameters:                   w: [108476.80483065  -5609.50867684], b:[340371.06509063]\n"
     ]
    }
   ],
   "source": [
    "b_Scal = sgdr.intercept_\n",
    "w_Scal = sgdr.coef_\n",
    "print(f\"model parameters:                   w: {w_Scal}, b:{b_Scal}\")"
   ]
  },
  {
   "cell_type": "code",
   "execution_count": 20,
   "id": "30f8cab8",
   "metadata": {
    "execution": {
     "iopub.execute_input": "2024-01-30T16:21:20.910240Z",
     "iopub.status.busy": "2024-01-30T16:21:20.909820Z",
     "iopub.status.idle": "2024-01-30T16:21:20.916932Z",
     "shell.execute_reply": "2024-01-30T16:21:20.915696Z"
    },
    "papermill": {
     "duration": 0.021809,
     "end_time": "2024-01-30T16:21:20.919632",
     "exception": false,
     "start_time": "2024-01-30T16:21:20.897823",
     "status": "completed"
    },
    "tags": []
   },
   "outputs": [
    {
     "name": "stdout",
     "output_type": "stream",
     "text": [
      "[355894.86288414 286355.14331153 396735.65056965 268418.72879697\n",
      " 472069.92885843 332024.66027468 277248.75146273 262485.35861696\n",
      " 256000.50381554 271729.72609982 325815.75674141 341545.39694059\n",
      " 326368.0771926  668546.813863   240547.23279941 375486.98500757\n",
      " 255173.067926   236132.01250908 418121.45593602 476347.17351468\n",
      " 309397.07420166 333543.22807927 286907.04584782 328851.22069101\n",
      " 602319.3453379  217367.3262752  266762.60327321 414120.5804628\n",
      " 369140.52375512 429435.87584487 326782.42200971 218471.96717756\n",
      " 339613.32014868 498423.6928812  308016.89994604 263865.11495768\n",
      " 236545.9394113  352307.07848336 639710.3242567  356446.34750554\n",
      " 302636.68604699 374383.59784988 412326.47930497 231164.88968246\n",
      " 190600.47118    313673.90094302 231578.81658468]\n"
     ]
    }
   ],
   "source": [
    "y_pred_sgd = sgdr.predict(X_Scal)\n",
    "print(f\"{y_pred_sgd}\" )"
   ]
  },
  {
   "cell_type": "code",
   "execution_count": 21,
   "id": "0563ab55",
   "metadata": {
    "execution": {
     "iopub.execute_input": "2024-01-30T16:21:20.942359Z",
     "iopub.status.busy": "2024-01-30T16:21:20.941969Z",
     "iopub.status.idle": "2024-01-30T16:21:20.948615Z",
     "shell.execute_reply": "2024-01-30T16:21:20.947243Z"
    },
    "papermill": {
     "duration": 0.020971,
     "end_time": "2024-01-30T16:21:20.951131",
     "exception": false,
     "start_time": "2024-01-30T16:21:20.930160",
     "status": "completed"
    },
    "tags": []
   },
   "outputs": [
    {
     "name": "stdout",
     "output_type": "stream",
     "text": [
      "Mean Squared Error: 4087389750.167361\n"
     ]
    }
   ],
   "source": [
    "from sklearn.metrics import mean_squared_error\n",
    "mse = mean_squared_error(Y, y_pred_sgd)\n",
    "print(f\"Mean Squared Error: {mse}\")\n"
   ]
  },
  {
   "cell_type": "markdown",
   "id": "57a82de6",
   "metadata": {
    "papermill": {
     "duration": 0.010996,
     "end_time": "2024-01-30T16:21:20.973439",
     "exception": false,
     "start_time": "2024-01-30T16:21:20.962443",
     "status": "completed"
    },
    "tags": []
   },
   "source": [
    "## 2) LinearRegression()"
   ]
  },
  {
   "cell_type": "code",
   "execution_count": 22,
   "id": "957fb686",
   "metadata": {
    "execution": {
     "iopub.execute_input": "2024-01-30T16:21:20.997018Z",
     "iopub.status.busy": "2024-01-30T16:21:20.996180Z",
     "iopub.status.idle": "2024-01-30T16:21:21.032446Z",
     "shell.execute_reply": "2024-01-30T16:21:21.031015Z"
    },
    "papermill": {
     "duration": 0.050777,
     "end_time": "2024-01-30T16:21:21.034875",
     "exception": false,
     "start_time": "2024-01-30T16:21:20.984098",
     "status": "completed"
    },
    "tags": []
   },
   "outputs": [
    {
     "name": "stdout",
     "output_type": "stream",
     "text": [
      "Model parameters: w: [109447.79646964  -6578.35485416], b: 340412.6595744681\n",
      "[356283.1103389  286120.93063401 397489.46984812 269244.1857271\n",
      " 472277.85514636 330979.02101847 276933.02614885 262037.48402897\n",
      " 255494.58235014 271364.59918815 324714.54068768 341805.20024107\n",
      " 326492.02609913 669293.21223209 239902.98686016 374830.38333402\n",
      " 255879.96102141 235448.2452916  417846.48160547 476593.38604091\n",
      " 309369.11319496 334951.62386342 286677.77333009 327777.17551607\n",
      " 604913.37413438 216515.5936252  266353.01492351 415030.01477434\n",
      " 369647.33504459 430482.39959029 328130.30083656 220070.5644481\n",
      " 338635.60808944 500087.73659911 306756.36373941 263429.59076914\n",
      " 235865.87731365 351442.99009906 641418.82407778 355619.31031959\n",
      " 303768.43288347 374937.34065726 411999.63329673 230436.66102696\n",
      " 190729.36558116 312464.00137413 230854.29304902]\n",
      "Mean Squared Error: 4086560101.2056575\n"
     ]
    }
   ],
   "source": [
    "from sklearn.linear_model import LinearRegression\n",
    "from sklearn.preprocessing import StandardScaler\n",
    "from sklearn.metrics import mean_squared_error\n",
    "\n",
    "# Scaling the feature\n",
    "\n",
    "scaler = StandardScaler()\n",
    "X_Scal = scaler.fit_transform(X)\n",
    "\n",
    "#Create and fit the model\n",
    "lr = LinearRegression()\n",
    "lr.fit(X_Scal, Y)\n",
    "\n",
    "b_Scal = lr.intercept_\n",
    "w_Scal = lr.coef_\n",
    "print(f\"Model parameters: w: {w_Scal}, b: {b_Scal}\")\n",
    "\n",
    "y_pred_lr = lr.predict(X_Scal)\n",
    "print(y_pred_lr)\n",
    "\n",
    "mse = mean_squared_error(Y, y_pred_lr)\n",
    "print(f\"Mean Squared Error: {mse}\")"
   ]
  },
  {
   "cell_type": "markdown",
   "id": "fa507add",
   "metadata": {
    "papermill": {
     "duration": 0.010605,
     "end_time": "2024-01-30T16:21:21.056129",
     "exception": false,
     "start_time": "2024-01-30T16:21:21.045524",
     "status": "completed"
    },
    "tags": []
   },
   "source": [
    "<h1 style=\"font-family: Trebuchet MS; font-size: 20px; color: #52b788; text-align: left; \"><b>Thank You</b></h1>\n",
    "<h1 style=\"font-family: \"Trebuchet MS\"; font-size: 1px; color: #264653; text-align: center; \"> <b>Created By: Hassane Skikri</b></h1>"
   ]
  }
 ],
 "metadata": {
  "kaggle": {
   "accelerator": "none",
   "dataSources": [
    {
     "datasetId": 2561,
     "sourceId": 4434,
     "sourceType": "datasetVersion"
    }
   ],
   "dockerImageVersionId": 30558,
   "isGpuEnabled": false,
   "isInternetEnabled": true,
   "language": "python",
   "sourceType": "notebook"
  },
  "kernelspec": {
   "display_name": "Python 3",
   "language": "python",
   "name": "python3"
  },
  "language_info": {
   "codemirror_mode": {
    "name": "ipython",
    "version": 3
   },
   "file_extension": ".py",
   "mimetype": "text/x-python",
   "name": "python",
   "nbconvert_exporter": "python",
   "pygments_lexer": "ipython3",
   "version": "3.10.12"
  },
  "papermill": {
   "default_parameters": {},
   "duration": 9.690633,
   "end_time": "2024-01-30T16:21:21.889342",
   "environment_variables": {},
   "exception": null,
   "input_path": "__notebook__.ipynb",
   "output_path": "__notebook__.ipynb",
   "parameters": {},
   "start_time": "2024-01-30T16:21:12.198709",
   "version": "2.4.0"
  }
 },
 "nbformat": 4,
 "nbformat_minor": 5
}
