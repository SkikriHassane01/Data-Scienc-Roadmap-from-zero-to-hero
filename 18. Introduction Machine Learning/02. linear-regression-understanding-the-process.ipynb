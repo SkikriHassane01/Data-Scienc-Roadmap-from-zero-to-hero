{
 "cells": [
  {
   "cell_type": "markdown",
   "id": "e356bf11",
   "metadata": {
    "papermill": {
     "duration": 0.009151,
     "end_time": "2024-01-31T07:37:33.071914",
     "exception": false,
     "start_time": "2024-01-31T07:37:33.062763",
     "status": "completed"
    },
    "tags": []
   },
   "source": [
    "\n",
    "\n",
    "<div style =\"font-family:Trebuchet MS; background-color : #f8f0fa; border-left: 5px solid #1b4332; padding: 12px\">\n",
    "    <h2 style=\"color: #1b4332; font-size: 48px; text-align: center;\"><b>Linear Regression: Understanding the Process </b></h2>\n",
    "    <hr style=\"border-top: 2px solid #264653;\">\n",
    "    <h3 style=\"font-size: 14px; color: #264653; text-align: right; \"><strong>Created By: Hassane Skikri 😊🌟</strong></h3>\n",
    "    <h2></h2>\n",
    "</div>"
   ]
  },
  {
   "cell_type": "markdown",
   "id": "6b2e124d",
   "metadata": {
    "_cell_guid": "b1076dfc-b9ad-4769-8c92-a6c4dae69d19",
    "_uuid": "8f2839f25d086af736a60e9eeb907d3b93b6e0e5",
    "papermill": {
     "duration": 0.008365,
     "end_time": "2024-01-31T07:37:33.088819",
     "exception": false,
     "start_time": "2024-01-31T07:37:33.080454",
     "status": "completed"
    },
    "tags": []
   },
   "source": [
    "\n",
    "\n",
    "![](https://ramawebsolutions.com/blog/wp-content/uploads/2019/04/Linear-regression.gif)\n",
    "\n",
    "<p style=\"background-color: #12f7ff; font-family: 'Trebuchet MS', sans-serif; color: #000; font-size: 150%; text-align: center; border-radius: 50px 15px; padding: 10px; box-shadow: 0 4px 8px 0 rgba(0, 0, 0, 0.2), 0 6px 20px 0 rgba(0, 0, 0, 0.19);\">\n",
    "    🔻📋 Outline🔻\n",
    "</p>\n",
    "\n",
    "- **What is Linear Regression:**\n",
    "- **Types of Linear Regression**\n",
    "  - Simple Linear Regression\n",
    "  - Multiple Linear Regression\n",
    "- **Let's start by: OLS (ordinary least square)**\n",
    "- **Finding the Best Line:**\n",
    "- **Fitting a Linear Regression Model in Python**\n",
    "- **Using a Regression Model for Prediction**\n",
    "- **Interpreting a Regression Model**\n",
    "- **Assumptions of Linear Regression**\n",
    "  - Fitted values and residuals\n",
    "  - Fitted Values (Predicted Values):\n",
    "  - Residuals:\n",
    "  - Normality assumption\n",
    "  - Homoscedasticity assumption\n",
    "- **Mean Squared Error (MSE):**\n",
    "- **Cost Function:**\n",
    "- **Gradient Descent**\n",
    "\n",
    "# What is Linear Regression:\n",
    " \n",
    "<div style=\"border-left:3px solid white;padding-left: 7px;font-size:17px;\">\n",
    "    \n",
    "Linear regression is a supervised learining algorithm used when target / dependent variable continues real number. It establishes relationship between dependent variable  y and one or more independent variable  x using best fit line. It work on the principle of ordinary least square  (OLS) / Mean square errror  (MSE).\n",
    "    \n",
    "</div>"
   ]
  },
  {
   "cell_type": "markdown",
   "id": "21726ece",
   "metadata": {
    "papermill": {
     "duration": 0.008328,
     "end_time": "2024-01-31T07:37:33.105530",
     "exception": false,
     "start_time": "2024-01-31T07:37:33.097202",
     "status": "completed"
    },
    "tags": []
   },
   "source": [
    "# Types of Linear Regression\n",
    "\n",
    "<div style=\"font-size:17px;\">\n",
    "There are two main types of linear regression:\n",
    "</div>\n",
    "\n",
    "## Simple Linear Regression\n",
    "\n",
    "<div style=\"font-size:17px;\">\n",
    "    \n",
    "This is the simplest form of linear regression, and it involves only one independent variable and one dependent variable. The equation for simple linear regression is:\n",
    "\n",
    "</div>\n",
    "\n",
    "$$\n",
    "\\begin{array}{|l|}\n",
    "\\hline\n",
    "y = \\beta_{0} + \\beta_{1}X \\\\\n",
    "\\hline\n",
    "\\end{array}\n",
    "$$\n",
    "\n",
    "<div style=\"font-size:17px;\">\n",
    "    \n",
    "where:\n",
    "\n",
    "- Y is the dependent variable\n",
    "- X is the independent variable\n",
    "- β0 is the intercept, it is the point where the regression line intersects the y-axis.\n",
    "- β1 is the slope, This controls how steep the line is. If we choose any two points on a line, the slope is the ratio between the vertical and horizontal distance between those points; this is often written as rise/run.\n",
    "The following plot shows a line with the equation y = 2x + 12:\n",
    "    \n",
    "\n",
    "</div>\n",
    "\n",
    "\n",
    "\n",
    "## Multiple Linear Regression\n",
    "\n",
    "<div style=\"font-size:17px;\">\n",
    "    \n",
    "This involves more than one independent variable and one dependent variable. The equation for multiple linear regression is:\n",
    "</div>\n",
    "\n",
    "$$\n",
    "\\begin{array}{|l|}\n",
    "\\hline\n",
    "y = \\beta_{0}+\\beta_{1}X+\\beta_{2}X+.........\\beta_{n}X \\\\\n",
    "\\hline\n",
    "\\end{array}\n",
    "$$\n",
    "\n",
    "<div style=\"font-size:17px;\">\n",
    "    \n",
    "where:\n",
    "\n",
    "- Y is the dependent variable\n",
    "- X1, X2, …, Xp are the independent variables\n",
    "- β0 is the intercept\n",
    "- β1, β2, …, βn are the slopes\n",
    "    \n",
    "The goal of the algorithm is to find the best Fit Line equation that can predict the values based on the independent variables.\n",
    "In regression set of records are present with X and Y values and these values are used to learn a function so if you want to predict Y from an unknown X this learned function can be used. In regression we have to find the value of Y, So, a function is required that predicts continuous Y in the case of regression given X as independent features.\n",
    "    \n",
    "</div>\n",
    "\n",
    " you can learn more about it [**here**](https://www.kaggle.com/code/hassaneskikri/multiple-linear-reg-understanding-the-process)\n",
    "    \n",
    "# Let's start by: OLS (ordinary least square)\n",
    " \n",
    "<div style=\"font-size:17px;\">\n",
    "    \n",
    "In statistics ols is method to estimated unkown parameter of linear regression function, it's goal is to minimize sum of square difference between observed dependent variable in the given data set and those predicted by linear regression fuction.\n",
    "\n",
    "</div>\n",
    "\n",
    "# finding the best line:\n",
    " \n",
    "<div style=\"font-size:17px;\">\n",
    "    \n",
    "a common choice for linear regression is `ordinary least squares (OLS)`. In simple OLS regression, we assume that the relationship between two variables x and y can be modeled as:\n",
    "\n",
    "</div>\n",
    "\n",
    " $$\n",
    "\\begin{array}{|l|}\n",
    "\\hline\n",
    "y=mx+b+error\\\\\n",
    "\\hline\n",
    "\\end{array}\n",
    "$$\n",
    "\n",
    "<div style=\"font-size:17px;\">\n",
    "    \n",
    "We define `best` as the line that minimizes the total squared error for all data points. This total squared error is called the loss function in machine learning. For example, consider the following plot:\n",
    "\n",
    "\n",
    "In this plot, we see two points on either side of a line. One of the points is one unit below the line (labeled -1). The other point is three units above the line (labeled 3). The total squared error (loss) is:\n",
    "\n",
    " </div>\n",
    " \n",
    " $$\n",
    "\\begin{array}{|l|}\n",
    "\\hline\n",
    "loss =(-1)^2 + (3)^2 = 1 + 9 = 10\\\\\n",
    "\\hline\n",
    "\\end{array}\n",
    "$$\n",
    "\n",
    "<div style=\"font-size:17px;\">\n",
    "\n",
    "To find the best-fit line, we need to find the slope and intercept of the line that minimizes loss.\n",
    "\n",
    "</div>\n",
    "\n",
    "# Fitting a Linear Regression Model in Python\n",
    "\n",
    "<div style=\"font-size:17px;\">\n",
    "    \n",
    "There are a number of Python libraries that can be used to fit a linear regression, we will use the OLS.from_formula() function from statsmodels.api because it uses simple syntax and provides comprehensive model summaries.\n",
    "    \n",
    "</div>"
   ]
  },
  {
   "cell_type": "code",
   "execution_count": 1,
   "id": "348d13d0",
   "metadata": {
    "execution": {
     "iopub.execute_input": "2024-01-31T07:37:33.123983Z",
     "iopub.status.busy": "2024-01-31T07:37:33.123573Z",
     "iopub.status.idle": "2024-01-31T07:37:34.967257Z",
     "shell.execute_reply": "2024-01-31T07:37:34.966462Z"
    },
    "papermill": {
     "duration": 1.855797,
     "end_time": "2024-01-31T07:37:34.969624",
     "exception": false,
     "start_time": "2024-01-31T07:37:33.113827",
     "status": "completed"
    },
    "tags": []
   },
   "outputs": [
    {
     "name": "stderr",
     "output_type": "stream",
     "text": [
      "/opt/conda/lib/python3.10/site-packages/scipy/__init__.py:146: UserWarning: A NumPy version >=1.16.5 and <1.23.0 is required for this version of SciPy (detected version 1.24.3\n",
      "  warnings.warn(f\"A NumPy version >={np_minversion} and <{np_maxversion}\"\n"
     ]
    }
   ],
   "source": [
    "import pandas as pd\n",
    "import numpy as np\n",
    "import matplotlib.pyplot as plt\n",
    "import seaborn as sns\n",
    "sns.set_theme()\n",
    "\n",
    "import warnings\n",
    "warnings.filterwarnings('ignore')"
   ]
  },
  {
   "cell_type": "code",
   "execution_count": 2,
   "id": "e627d87d",
   "metadata": {
    "execution": {
     "iopub.execute_input": "2024-01-31T07:37:34.989594Z",
     "iopub.status.busy": "2024-01-31T07:37:34.989208Z",
     "iopub.status.idle": "2024-01-31T07:37:35.023335Z",
     "shell.execute_reply": "2024-01-31T07:37:35.022499Z"
    },
    "papermill": {
     "duration": 0.045663,
     "end_time": "2024-01-31T07:37:35.025248",
     "exception": false,
     "start_time": "2024-01-31T07:37:34.979585",
     "status": "completed"
    },
    "tags": []
   },
   "outputs": [],
   "source": [
    "train = pd.read_csv('/kaggle/input/random-linear-regression/train.csv')\n",
    "test =pd.read_csv('/kaggle/input/random-linear-regression/test.csv')"
   ]
  },
  {
   "cell_type": "code",
   "execution_count": 3,
   "id": "ed9232f5",
   "metadata": {
    "execution": {
     "iopub.execute_input": "2024-01-31T07:37:35.043542Z",
     "iopub.status.busy": "2024-01-31T07:37:35.043300Z",
     "iopub.status.idle": "2024-01-31T07:37:35.060472Z",
     "shell.execute_reply": "2024-01-31T07:37:35.059653Z"
    },
    "papermill": {
     "duration": 0.028533,
     "end_time": "2024-01-31T07:37:35.062409",
     "exception": false,
     "start_time": "2024-01-31T07:37:35.033876",
     "status": "completed"
    },
    "tags": []
   },
   "outputs": [
    {
     "data": {
      "text/html": [
       "<div>\n",
       "<style scoped>\n",
       "    .dataframe tbody tr th:only-of-type {\n",
       "        vertical-align: middle;\n",
       "    }\n",
       "\n",
       "    .dataframe tbody tr th {\n",
       "        vertical-align: top;\n",
       "    }\n",
       "\n",
       "    .dataframe thead th {\n",
       "        text-align: right;\n",
       "    }\n",
       "</style>\n",
       "<table border=\"1\" class=\"dataframe\">\n",
       "  <thead>\n",
       "    <tr style=\"text-align: right;\">\n",
       "      <th></th>\n",
       "      <th>x</th>\n",
       "      <th>y</th>\n",
       "    </tr>\n",
       "  </thead>\n",
       "  <tbody>\n",
       "    <tr>\n",
       "      <th>0</th>\n",
       "      <td>24.0</td>\n",
       "      <td>21.549452</td>\n",
       "    </tr>\n",
       "    <tr>\n",
       "      <th>1</th>\n",
       "      <td>50.0</td>\n",
       "      <td>47.464463</td>\n",
       "    </tr>\n",
       "    <tr>\n",
       "      <th>2</th>\n",
       "      <td>15.0</td>\n",
       "      <td>17.218656</td>\n",
       "    </tr>\n",
       "    <tr>\n",
       "      <th>3</th>\n",
       "      <td>38.0</td>\n",
       "      <td>36.586398</td>\n",
       "    </tr>\n",
       "    <tr>\n",
       "      <th>4</th>\n",
       "      <td>87.0</td>\n",
       "      <td>87.288984</td>\n",
       "    </tr>\n",
       "  </tbody>\n",
       "</table>\n",
       "</div>"
      ],
      "text/plain": [
       "      x          y\n",
       "0  24.0  21.549452\n",
       "1  50.0  47.464463\n",
       "2  15.0  17.218656\n",
       "3  38.0  36.586398\n",
       "4  87.0  87.288984"
      ]
     },
     "execution_count": 3,
     "metadata": {},
     "output_type": "execute_result"
    }
   ],
   "source": [
    "train.head()"
   ]
  },
  {
   "cell_type": "code",
   "execution_count": 4,
   "id": "330fa263",
   "metadata": {
    "execution": {
     "iopub.execute_input": "2024-01-31T07:37:35.082096Z",
     "iopub.status.busy": "2024-01-31T07:37:35.081818Z",
     "iopub.status.idle": "2024-01-31T07:37:35.090659Z",
     "shell.execute_reply": "2024-01-31T07:37:35.089834Z"
    },
    "papermill": {
     "duration": 0.021278,
     "end_time": "2024-01-31T07:37:35.092532",
     "exception": false,
     "start_time": "2024-01-31T07:37:35.071254",
     "status": "completed"
    },
    "tags": []
   },
   "outputs": [
    {
     "data": {
      "text/html": [
       "<div>\n",
       "<style scoped>\n",
       "    .dataframe tbody tr th:only-of-type {\n",
       "        vertical-align: middle;\n",
       "    }\n",
       "\n",
       "    .dataframe tbody tr th {\n",
       "        vertical-align: top;\n",
       "    }\n",
       "\n",
       "    .dataframe thead th {\n",
       "        text-align: right;\n",
       "    }\n",
       "</style>\n",
       "<table border=\"1\" class=\"dataframe\">\n",
       "  <thead>\n",
       "    <tr style=\"text-align: right;\">\n",
       "      <th></th>\n",
       "      <th>x</th>\n",
       "      <th>y</th>\n",
       "    </tr>\n",
       "  </thead>\n",
       "  <tbody>\n",
       "    <tr>\n",
       "      <th>0</th>\n",
       "      <td>77</td>\n",
       "      <td>79.775152</td>\n",
       "    </tr>\n",
       "    <tr>\n",
       "      <th>1</th>\n",
       "      <td>21</td>\n",
       "      <td>23.177279</td>\n",
       "    </tr>\n",
       "    <tr>\n",
       "      <th>2</th>\n",
       "      <td>22</td>\n",
       "      <td>25.609262</td>\n",
       "    </tr>\n",
       "    <tr>\n",
       "      <th>3</th>\n",
       "      <td>20</td>\n",
       "      <td>17.857388</td>\n",
       "    </tr>\n",
       "    <tr>\n",
       "      <th>4</th>\n",
       "      <td>36</td>\n",
       "      <td>41.849864</td>\n",
       "    </tr>\n",
       "  </tbody>\n",
       "</table>\n",
       "</div>"
      ],
      "text/plain": [
       "    x          y\n",
       "0  77  79.775152\n",
       "1  21  23.177279\n",
       "2  22  25.609262\n",
       "3  20  17.857388\n",
       "4  36  41.849864"
      ]
     },
     "execution_count": 4,
     "metadata": {},
     "output_type": "execute_result"
    }
   ],
   "source": [
    "test.head()"
   ]
  },
  {
   "cell_type": "markdown",
   "id": "652c178f",
   "metadata": {
    "papermill": {
     "duration": 0.008742,
     "end_time": "2024-01-31T07:37:35.110334",
     "exception": false,
     "start_time": "2024-01-31T07:37:35.101592",
     "status": "completed"
    },
    "tags": []
   },
   "source": [
    "<div style=\"font-size:17px;\">\n",
    "If we want to fit a model that can predict x based on y, we can create the model as follows:\n",
    "</div>"
   ]
  },
  {
   "cell_type": "code",
   "execution_count": 5,
   "id": "bf854b98",
   "metadata": {
    "execution": {
     "iopub.execute_input": "2024-01-31T07:37:35.129061Z",
     "iopub.status.busy": "2024-01-31T07:37:35.128800Z",
     "iopub.status.idle": "2024-01-31T07:37:36.610881Z",
     "shell.execute_reply": "2024-01-31T07:37:36.609804Z"
    },
    "papermill": {
     "duration": 1.493794,
     "end_time": "2024-01-31T07:37:36.612982",
     "exception": false,
     "start_time": "2024-01-31T07:37:35.119188",
     "status": "completed"
    },
    "tags": []
   },
   "outputs": [
    {
     "name": "stdout",
     "output_type": "stream",
     "text": [
      "Intercept    0.571255\n",
      "y            0.990052\n",
      "dtype: float64\n"
     ]
    }
   ],
   "source": [
    "import statsmodels.api as sm\n",
    "model = sm.OLS.from_formula('x ~ y', data = train)\n",
    "# fiting the model:\n",
    "results = model.fit()\n",
    "# we’ll only look at the coefficients using results.params\n",
    "print(results.params)"
   ]
  },
  {
   "cell_type": "markdown",
   "id": "95fcb2a0",
   "metadata": {
    "papermill": {
     "duration": 0.008834,
     "end_time": "2024-01-31T07:37:36.631353",
     "exception": false,
     "start_time": "2024-01-31T07:37:36.622519",
     "status": "completed"
    },
    "tags": []
   },
   "source": [
    "<div style=\"border-left:3px solid white;padding-left: 7px;font-size:17px;\">\n",
    "This tells us that the best-fit intercept is 0.5712, and the best-fit slope is 0.9900.\n",
    "</div>"
   ]
  },
  {
   "cell_type": "markdown",
   "id": "7614f57d",
   "metadata": {
    "papermill": {
     "duration": 0.008858,
     "end_time": "2024-01-31T07:37:36.649128",
     "exception": false,
     "start_time": "2024-01-31T07:37:36.640270",
     "status": "completed"
    },
    "tags": []
   },
   "source": [
    "# Using a Regression Model for Prediction\n",
    "\n",
    "<div style=\"font-size:17px;\">\n",
    "to make a prediction we can use the test data let's tack the first value in our test dataframe and we will try to predict the y:\n",
    "our line will be like this :\n",
    "\n",
    "\n",
    "$$\n",
    "\\begin{array}{|l|}\n",
    "\\hline\n",
    "y = 0.571255 + 0.990052*77 = 76.80525899999999\\\\\n",
    "\\hline\n",
    "\\end{array}\n",
    "$$\n",
    "    \n",
    "It is close to the real value: 79.775152\n",
    "</div>"
   ]
  },
  {
   "cell_type": "code",
   "execution_count": 6,
   "id": "58aabf65",
   "metadata": {
    "execution": {
     "iopub.execute_input": "2024-01-31T07:37:36.668354Z",
     "iopub.status.busy": "2024-01-31T07:37:36.668073Z",
     "iopub.status.idle": "2024-01-31T07:37:36.674591Z",
     "shell.execute_reply": "2024-01-31T07:37:36.673748Z"
    },
    "papermill": {
     "duration": 0.018443,
     "end_time": "2024-01-31T07:37:36.676490",
     "exception": false,
     "start_time": "2024-01-31T07:37:36.658047",
     "status": "completed"
    },
    "tags": []
   },
   "outputs": [
    {
     "name": "stdout",
     "output_type": "stream",
     "text": [
      "76.80523413891173\n"
     ]
    }
   ],
   "source": [
    "#we can calculate this :\n",
    "pred = results.params[1]*77 + results.params[0]\n",
    "print(pred)"
   ]
  },
  {
   "cell_type": "code",
   "execution_count": 7,
   "id": "65dcbdfb",
   "metadata": {
    "execution": {
     "iopub.execute_input": "2024-01-31T07:37:36.695617Z",
     "iopub.status.busy": "2024-01-31T07:37:36.695343Z",
     "iopub.status.idle": "2024-01-31T07:37:36.705561Z",
     "shell.execute_reply": "2024-01-31T07:37:36.704730Z"
    },
    "papermill": {
     "duration": 0.021744,
     "end_time": "2024-01-31T07:37:36.707365",
     "exception": false,
     "start_time": "2024-01-31T07:37:36.685621",
     "status": "completed"
    },
    "tags": []
   },
   "outputs": [
    {
     "data": {
      "text/plain": [
       "0      79.552778\n",
       "1      23.517959\n",
       "2      25.925747\n",
       "3      18.250992\n",
       "4      42.004783\n",
       "         ...    \n",
       "295    68.435226\n",
       "296    47.435229\n",
       "297    54.123781\n",
       "298    63.238725\n",
       "299    52.508838\n",
       "Length: 300, dtype: float64"
      ]
     },
     "execution_count": 7,
     "metadata": {},
     "output_type": "execute_result"
    }
   ],
   "source": [
    "newdata = {\"x\": test['x'], \"y\": test['y']}\n",
    "predicted_y = results.predict(newdata)\n",
    "predicted_y"
   ]
  },
  {
   "cell_type": "markdown",
   "id": "c72436a8",
   "metadata": {
    "papermill": {
     "duration": 0.009029,
     "end_time": "2024-01-31T07:37:36.725537",
     "exception": false,
     "start_time": "2024-01-31T07:37:36.716508",
     "status": "completed"
    },
    "tags": []
   },
   "source": [
    "# Interpreting a Regression Model"
   ]
  },
  {
   "cell_type": "code",
   "execution_count": 8,
   "id": "391cf7d7",
   "metadata": {
    "execution": {
     "iopub.execute_input": "2024-01-31T07:37:36.745489Z",
     "iopub.status.busy": "2024-01-31T07:37:36.744742Z",
     "iopub.status.idle": "2024-01-31T07:37:37.173539Z",
     "shell.execute_reply": "2024-01-31T07:37:37.172703Z"
    },
    "papermill": {
     "duration": 0.441194,
     "end_time": "2024-01-31T07:37:37.175805",
     "exception": false,
     "start_time": "2024-01-31T07:37:36.734611",
     "status": "completed"
    },
    "tags": []
   },
   "outputs": [
    {
     "data": {
      "image/png": "[encoded data removed]",
      "text/plain": [
       "<Figure size 1000x700 with 1 Axes>"
      ]
     },
     "metadata": {},
     "output_type": "display_data"
    }
   ],
   "source": [
    "%matplotlib inline\n",
    "\n",
    "plt.figure(figsize=(10,7))\n",
    "plt.scatter(test['x'],test['y'],marker='.',color='green',label='Training data')\n",
    "plt.plot(test['x'],results.params[1]*test['x']+results.params[0],color='red',label='regression line')\n",
    "plt.xlabel('Input')\n",
    "plt.ylabel('Output')\n",
    "plt.title('Linear Regression')\n",
    "plt.legend()\n",
    "plt.show()"
   ]
  },
  {
   "cell_type": "markdown",
   "id": "5adf1ac1",
   "metadata": {
    "papermill": {
     "duration": 0.010005,
     "end_time": "2024-01-31T07:37:37.196241",
     "exception": false,
     "start_time": "2024-01-31T07:37:37.186236",
     "status": "completed"
    },
    "tags": []
   },
   "source": [
    "\n",
    "    \n",
    "# Assumptions of Linear Regression\n",
    "\n",
    "## fitted values and residuals.\n",
    "\n",
    "#### Fitted Values (Predicted Values):\n",
    "\n",
    "<div style=\"font-size:17px;\">\n",
    "also known as predicted values, is the values predicted by the regression model for each observation in the dataset.\n",
    "</div>\n",
    "#### Residuals:\n",
    "<div style=\"font-size:17px;\">\n",
    "The differences between the observed values (actual values) and the corresponding fitted values. Mathematically, the residual $(e_i)$ for observation $(i)$ is calculated as:\n",
    "\n",
    "$$\n",
    "e_i = y_i - \\hat{y}_i \\\n",
    "$$\n",
    "    \n",
    "where $(y_i)$ is the observed value for observation $(i)$, and $(\\hat{y}_i)$ is the fitted value for observation $(i)$.\n",
    "\n",
    "    \n",
    "\n",
    "Once we’ve calculated the fitted values and residuals for a model, we can check the normality and homoscedasticity assumptions of linear regression.\n",
    "\n",
    "</div>\n",
    "\n",
    "#### Normality assumption\n",
    "\n",
    "<div style=\"font-size:17px;\">\n",
    "The normality assumption states that the residuals should be `normally distributed`. To check this assumption, we can inspect a histogram of the residuals and make sure that the distribution looks approximately normal (no skew or multiple “humps”):\n",
    " \n",
    "</div>\n",
    "\n",
    "```python\n",
    "plt.hist(residuals)\n",
    "plt.show()\n",
    "```\n",
    "    \n",
    "<div style=\"font-size:17px;\">\n",
    "    \n",
    "I These residuals appear normally distributed, leading us to conclude that the normality assumption is satisfied.\n",
    "\n",
    "If the plot instead looked something like skewed right, we would be concerned that the normality assumption is not met.\n",
    "</div>\n",
    "\n",
    "#### Homoscedasticity assumption\n",
    "\n",
    "<div style=\"font-size:17px;\">\n",
    "Homoscedasticity is a fancy way of saying that the residuals have equal variation across all values of the predictor variable. A common way to check this is by plotting the residuals against the fitted values.\n",
    "\n",
    "</div>\n",
    " \n",
    "```python\n",
    "plt.scatter(fitted_values, residuals)\n",
    "plt.show()\n",
    "```\n",
    "    \n",
    "<div style=\"font-size:17px;\">\n",
    "\n",
    "If the homoscedasticity assumption is met, then the plot will look like a random splatter of points, centered around y=0.\n",
    "\n",
    "If there are any patterns or asymmetry, that would indicate the assumption is NOT met and linear regression may not be appropriate. For example:\n",
    "\n",
    "scatter plot with a funnel-shaped pattern of points\n",
    "\n",
    "</div>"
   ]
  },
  {
   "cell_type": "code",
   "execution_count": 9,
   "id": "f87de466",
   "metadata": {
    "execution": {
     "iopub.execute_input": "2024-01-31T07:37:37.217584Z",
     "iopub.status.busy": "2024-01-31T07:37:37.217300Z",
     "iopub.status.idle": "2024-01-31T07:37:37.815709Z",
     "shell.execute_reply": "2024-01-31T07:37:37.814845Z"
    },
    "papermill": {
     "duration": 0.611659,
     "end_time": "2024-01-31T07:37:37.817919",
     "exception": false,
     "start_time": "2024-01-31T07:37:37.206260",
     "status": "completed"
    },
    "tags": []
   },
   "outputs": [
    {
     "data": {
      "image/png": "[encoded data removed]",
      "text/plain": [
       "<Figure size 640x480 with 1 Axes>"
      ]
     },
     "metadata": {},
     "output_type": "display_data"
    },
    {
     "data": {
      "image/png": "[encoded data removed]",
      "text/plain": [
       "<Figure size 640x480 with 1 Axes>"
      ]
     },
     "metadata": {},
     "output_type": "display_data"
    },
    {
     "data": {
      "text/plain": [
       "<Figure size 640x480 with 0 Axes>"
      ]
     },
     "metadata": {},
     "output_type": "display_data"
    }
   ],
   "source": [
    "\n",
    "# Calculate fitted values\n",
    "fitted_values = results.predict(train)\n",
    "\n",
    "# Calculate residuals\n",
    "residuals = train.x - fitted_values\n",
    "\n",
    "# Check normality assumption\n",
    "plt.hist(residuals)\n",
    "plt.xlabel('x')\n",
    "plt.ylabel('y')\n",
    "plt.title('normality assumption')\n",
    "\n",
    "# Show then clear the plot\n",
    "plt.show()\n",
    "plt.clf()\n",
    "\n",
    "# Check homoscedasticity assumption\n",
    "plt.scatter(fitted_values, residuals)\n",
    "plt.xlabel('x')\n",
    "plt.ylabel('y')\n",
    "plt.title('homoscedasticity assumption')\n",
    "\n",
    "# Show then clear the plot\n",
    "plt.show()\n",
    "plt.clf()\n"
   ]
  },
  {
   "cell_type": "code",
   "execution_count": 10,
   "id": "38049b36",
   "metadata": {
    "execution": {
     "iopub.execute_input": "2024-01-31T07:37:37.842248Z",
     "iopub.status.busy": "2024-01-31T07:37:37.841966Z",
     "iopub.status.idle": "2024-01-31T07:37:37.856096Z",
     "shell.execute_reply": "2024-01-31T07:37:37.855093Z"
    },
    "papermill": {
     "duration": 0.028529,
     "end_time": "2024-01-31T07:37:37.858068",
     "exception": false,
     "start_time": "2024-01-31T07:37:37.829539",
     "status": "completed"
    },
    "tags": []
   },
   "outputs": [
    {
     "name": "stdout",
     "output_type": "stream",
     "text": [
      "                            OLS Regression Results                            \n",
      "==============================================================================\n",
      "Dep. Variable:                      x   R-squared:                       0.991\n",
      "Model:                            OLS   Adj. R-squared:                  0.991\n",
      "Method:                 Least Squares   F-statistic:                 7.426e+04\n",
      "Date:                Wed, 31 Jan 2024   Prob (F-statistic):               0.00\n",
      "Time:                        07:37:37   Log-Likelihood:                -1709.1\n",
      "No. Observations:                 699   AIC:                             3422.\n",
      "Df Residuals:                     697   BIC:                             3431.\n",
      "Df Model:                           1                                         \n",
      "Covariance Type:            nonrobust                                         \n",
      "==============================================================================\n",
      "                 coef    std err          t      P>|t|      [0.025      0.975]\n",
      "------------------------------------------------------------------------------\n",
      "Intercept      0.5713      0.210      2.721      0.007       0.159       0.984\n",
      "y              0.9901      0.004    272.510      0.000       0.983       0.997\n",
      "==============================================================================\n",
      "Omnibus:                        0.108   Durbin-Watson:                   1.962\n",
      "Prob(Omnibus):                  0.947   Jarque-Bera (JB):                0.090\n",
      "Skew:                          -0.028   Prob(JB):                        0.956\n",
      "Kurtosis:                       2.999   Cond. No.                         115.\n",
      "==============================================================================\n",
      "\n",
      "Notes:\n",
      "[1] Standard Errors assume that the covariance matrix of the errors is correctly specified.\n"
     ]
    }
   ],
   "source": [
    "print(results.summary())\n"
   ]
  },
  {
   "cell_type": "markdown",
   "id": "360b26ee",
   "metadata": {
    "papermill": {
     "duration": 0.011214,
     "end_time": "2024-01-31T07:37:37.880762",
     "exception": false,
     "start_time": "2024-01-31T07:37:37.869548",
     "status": "completed"
    },
    "tags": []
   },
   "source": [
    "# **Mean Squared Error (MSE):**\n",
    "<div style=\"border-left:3px solid white;padding-left: 7px;font-size:17px;\">\n",
    "\n",
    "MSE is a measure of the average squared difference between observed and predicted values. It is commonly used as an evaluation metric for the performance of regression models. MSE is not used during the model fitting process but rather as a measure of how well the model generalizes to new, unseen data.\n",
    "\n",
    "Mathematically, for a set of $(n)$ observations:\n",
    "\n",
    "$$ MSE = \\frac{1}{n} \\sum_{i=1}^{n} (y_i - \\hat{y}_i)^2 $$\n",
    "\n",
    "where $(y_i)$ is the observed value, $(\\hat{y}_i)$ is the predicted value, and $(n)$ is the number of observations.\n",
    "    \n",
    "\n",
    "</div>\n",
    "\n",
    "# Cost function:\n",
    "    \n",
    "The cost function or the loss function is nothing but the error or difference between the predicted value $hat{Y}$ and the true value Y.\n",
    "\n",
    "$$ J(\\theta) = \\frac{1}{2m} \\sum_{i=1}^{m} (h_\\theta(x^{(i)}) - y^{(i)})^2 $$\n",
    "\n",
    "Where:\n",
    "- $( J(\\theta) )$ is the cost function.\n",
    "- $( m )$ is the number of training examples.\n",
    "- $( h_\\theta(x^{(i)}) ) =  \\theta_{0} + \\theta_{1}*X$ :is the predicted value for the $( i )$-th training example.\n",
    "- $( y^{(i)} )$ is the actual (observed) value for the $( i )$-th training example.\n",
    "- $( \\theta )$ represents the parameters (coefficients) of the linear regression model.\n",
    "\n"
   ]
  },
  {
   "cell_type": "markdown",
   "id": "38ee172f",
   "metadata": {
    "papermill": {
     "duration": 0.01149,
     "end_time": "2024-01-31T07:37:37.903861",
     "exception": false,
     "start_time": "2024-01-31T07:37:37.892371",
     "status": "completed"
    },
    "tags": []
   },
   "source": [
    "<div>\n",
    "    <img src=\"https://cdn-images-1.medium.com/v2/resize:fit:1000/0*_rrhMLx1oX7wrh4C\">\n",
    " \n",
    " </div>"
   ]
  },
  {
   "cell_type": "code",
   "execution_count": 11,
   "id": "71d171c9",
   "metadata": {
    "execution": {
     "iopub.execute_input": "2024-01-31T07:37:37.928147Z",
     "iopub.status.busy": "2024-01-31T07:37:37.927800Z",
     "iopub.status.idle": "2024-01-31T07:37:37.933029Z",
     "shell.execute_reply": "2024-01-31T07:37:37.932173Z"
    },
    "papermill": {
     "duration": 0.019597,
     "end_time": "2024-01-31T07:37:37.934839",
     "exception": false,
     "start_time": "2024-01-31T07:37:37.915242",
     "status": "completed"
    },
    "tags": []
   },
   "outputs": [],
   "source": [
    "\n",
    "#calculate the lose function\n",
    "def compute_cost(x,y,w,b):\n",
    "    final_cost = 0\n",
    "    cost = 0\n",
    "    m = len(x)\n",
    "    for i in range(m):\n",
    "        cost = cost + ( (w * x[i] + b) - y[i]) ** 2\n",
    "    final_cost = (1 / (2 * m) ) * cost\n",
    "    return final_cost"
   ]
  },
  {
   "cell_type": "code",
   "execution_count": 12,
   "id": "490a7858",
   "metadata": {
    "execution": {
     "iopub.execute_input": "2024-01-31T07:37:37.959030Z",
     "iopub.status.busy": "2024-01-31T07:37:37.958727Z",
     "iopub.status.idle": "2024-01-31T07:37:37.963851Z",
     "shell.execute_reply": "2024-01-31T07:37:37.962981Z"
    },
    "papermill": {
     "duration": 0.019715,
     "end_time": "2024-01-31T07:37:37.965993",
     "exception": false,
     "start_time": "2024-01-31T07:37:37.946278",
     "status": "completed"
    },
    "tags": []
   },
   "outputs": [
    {
     "name": "stdout",
     "output_type": "stream",
     "text": [
      "Cost at initial w: 374.086\n"
     ]
    }
   ],
   "source": [
    "#TEST \n",
    "initial_w = 0.5\n",
    "initial_b = 10\n",
    "\n",
    "cost = compute_cost(train.iloc[0], train.iloc[1], initial_w, initial_b)\n",
    "print(f'Cost at initial w: {cost:.3f}')\n",
    "\n",
    "#try to change the value of initial_b and analyse the result:"
   ]
  },
  {
   "cell_type": "markdown",
   "id": "bb9585d5",
   "metadata": {
    "papermill": {
     "duration": 0.012467,
     "end_time": "2024-01-31T07:37:37.990000",
     "exception": false,
     "start_time": "2024-01-31T07:37:37.977533",
     "status": "completed"
    },
    "tags": []
   },
   "source": [
    "# Gradient Descent\n",
    "\n",
    "![](https://cdn-images-1.medium.com/v2/resize:fit:1000/0*coEeZlEAWyOOwESo.gif)"
   ]
  },
  {
   "cell_type": "markdown",
   "id": "32c6a9ec",
   "metadata": {
    "papermill": {
     "duration": 0.011482,
     "end_time": "2024-01-31T07:37:38.013183",
     "exception": false,
     "start_time": "2024-01-31T07:37:38.001701",
     "status": "completed"
    },
    "tags": []
   },
   "source": [
    "<div style=\"font-size:17px;\">\n",
    "\n",
    "$$\\begin{align*}& \\text{repeat until convergence:} \\; \\lbrace \\newline \\; & \\phantom {0000} b := b -  \\alpha \\frac{\\partial J(w,b)}{\\partial b} \\newline       \\; & \\phantom {0000} w := w -  \\alpha \\frac{\\partial J(w,b)}{\\partial w}   \\; & \n",
    "\\newline & \\rbrace\\end{align*}$$\n",
    "\n",
    "where, parameters $w, b$ are both updated simultaniously and where  \n",
    "$$\n",
    "\\frac{\\partial J(w,b)}{\\partial b}  = \\frac{1}{m} \\sum\\limits_{i = 0}^{m-1} (f_{w,b}(x^{(i)}) - y^{(i)}) \n",
    "$$\n",
    "$$\n",
    "\\frac{\\partial J(w,b)}{\\partial w}  = \\frac{1}{m} \\sum\\limits_{i = 0}^{m-1} (f_{w,b}(x^{(i)}) -y^{(i)})x^{(i)} \n",
    "$$\n",
    "\n",
    "$\\alpha $: is the learning rate\n",
    "\n",
    "Finding the coefficients of a linear equation that best fits the training data is the objective of linear regression. By moving in the direction of the Mean Squared Error negative gradient with respect to the coefficients, the coefficients can be changed. And the respective intercept and coefficient of X will be if $\\alpha$ is the learning rate.\n",
    "    </div>\n",
    "    "
   ]
  },
  {
   "cell_type": "code",
   "execution_count": 13,
   "id": "760e9779",
   "metadata": {
    "execution": {
     "iopub.execute_input": "2024-01-31T07:37:38.037290Z",
     "iopub.status.busy": "2024-01-31T07:37:38.037018Z",
     "iopub.status.idle": "2024-01-31T07:37:38.042360Z",
     "shell.execute_reply": "2024-01-31T07:37:38.041570Z"
    },
    "papermill": {
     "duration": 0.019551,
     "end_time": "2024-01-31T07:37:38.044232",
     "exception": false,
     "start_time": "2024-01-31T07:37:38.024681",
     "status": "completed"
    },
    "tags": []
   },
   "outputs": [],
   "source": [
    "def compute_gradient(x, y, w, b): \n",
    "    dj_dw = 0\n",
    "    dj_db= 0\n",
    "    m=len(x)\n",
    "    for i in range(m) :\n",
    "        dj_dw+= ((w * x[i] )+ b - y[i]) * x[i]\n",
    "        dj_db+=  (w * x[i] )+ b - y[i]\n",
    "    dj_dw /= m\n",
    "    dj_db /= m\n",
    "    return dj_dw, dj_db"
   ]
  },
  {
   "cell_type": "code",
   "execution_count": 14,
   "id": "1a58ced4",
   "metadata": {
    "execution": {
     "iopub.execute_input": "2024-01-31T07:37:38.112240Z",
     "iopub.status.busy": "2024-01-31T07:37:38.111888Z",
     "iopub.status.idle": "2024-01-31T07:37:38.117227Z",
     "shell.execute_reply": "2024-01-31T07:37:38.116404Z"
    },
    "papermill": {
     "duration": 0.020289,
     "end_time": "2024-01-31T07:37:38.119432",
     "exception": false,
     "start_time": "2024-01-31T07:37:38.099143",
     "status": "completed"
    },
    "tags": []
   },
   "outputs": [
    {
     "name": "stdout",
     "output_type": "stream",
     "text": [
      "Gradient at test w, b: -623.574603407498 -27.344868535\n"
     ]
    }
   ],
   "source": [
    "#test\n",
    "tmp_dj_dw, tmp_dj_db = compute_gradient(train.iloc[0],train.iloc[1], initial_w, initial_b)\n",
    "\n",
    "print('Gradient at test w, b:', tmp_dj_dw, tmp_dj_db)"
   ]
  },
  {
   "cell_type": "code",
   "execution_count": 15,
   "id": "4d9d6d79",
   "metadata": {
    "execution": {
     "iopub.execute_input": "2024-01-31T07:37:38.144109Z",
     "iopub.status.busy": "2024-01-31T07:37:38.143831Z",
     "iopub.status.idle": "2024-01-31T07:37:38.150915Z",
     "shell.execute_reply": "2024-01-31T07:37:38.150171Z"
    },
    "papermill": {
     "duration": 0.021412,
     "end_time": "2024-01-31T07:37:38.152727",
     "exception": false,
     "start_time": "2024-01-31T07:37:38.131315",
     "status": "completed"
    },
    "tags": []
   },
   "outputs": [],
   "source": [
    "import copy\n",
    "import math\n",
    "#now we will do the last step is Learning parameters \n",
    "def gradient_descent(x,y,w_in,b_in,cost_function,gradient_function,alpha,number_iterations):\n",
    "    J_history = []\n",
    "    w_history = []\n",
    "    w = copy.deepcopy(w_in)\n",
    "    b = b_in\n",
    "    \n",
    "    for i in range(number_iterations):\n",
    "\n",
    "        # Calculate the gradient and update the parameters\n",
    "        dj_dw, dj_db = gradient_function(x, y, w, b )  \n",
    "\n",
    "        # Update Parameters using w, b, a,lpha and gradient\n",
    "        \n",
    "        w = w - alpha * dj_dw               \n",
    "        b = b - alpha * dj_db               \n",
    "\n",
    "        # Save cost J at each iteration\n",
    "        \n",
    "        if i<100000:\n",
    "            cost =  cost_function(x, y, w, b)\n",
    "            J_history.append(cost)\n",
    "\n",
    "        # Print cost every at intervals 10 times or as many iterations if < 10\n",
    "        if i% math.ceil(number_iterations/10) == 0:\n",
    "            w_history.append(w)\n",
    "            print(f\"Iteration {i:4}: Cost {float(J_history[-1]):8.2f}   \")\n",
    "        \n",
    "    return w, b, J_history, w_history #return w and J,w history for graphing"
   ]
  },
  {
   "cell_type": "code",
   "execution_count": 16,
   "id": "8dd80a79",
   "metadata": {
    "execution": {
     "iopub.execute_input": "2024-01-31T07:37:38.177556Z",
     "iopub.status.busy": "2024-01-31T07:37:38.177289Z",
     "iopub.status.idle": "2024-01-31T07:37:38.221972Z",
     "shell.execute_reply": "2024-01-31T07:37:38.221068Z"
    },
    "papermill": {
     "duration": 0.059304,
     "end_time": "2024-01-31T07:37:38.223888",
     "exception": false,
     "start_time": "2024-01-31T07:37:38.164584",
     "status": "completed"
    },
    "tags": []
   },
   "outputs": [
    {
     "name": "stdout",
     "output_type": "stream",
     "text": [
      "Iteration    0: Cost   336.14   \n",
      "Iteration   15: Cost    67.74   \n",
      "Iteration   30: Cost    13.86   \n",
      "Iteration   45: Cost     3.05   \n",
      "Iteration   60: Cost     0.87   \n",
      "Iteration   75: Cost     0.44   \n",
      "Iteration   90: Cost     0.35   \n",
      "Iteration  105: Cost     0.33   \n",
      "Iteration  120: Cost     0.33   \n",
      "Iteration  135: Cost     0.33   \n",
      "w,b found by gradient descent: 1.6960369407587157 10.053019039351298\n"
     ]
    }
   ],
   "source": [
    "# initialize fitting parameters. Recall that the shape of w is (n,)\n",
    "# some gradient descent settings\n",
    "iterations = 150\n",
    "alpha = 0.0001\n",
    "\n",
    "w,b,_,_ = gradient_descent(train.iloc[0] ,train.iloc[1], initial_w, initial_b, compute_cost, compute_gradient, alpha, iterations)\n",
    "print(\"w,b found by gradient descent:\", w, b)"
   ]
  },
  {
   "cell_type": "markdown",
   "id": "7e273b8c",
   "metadata": {
    "papermill": {
     "duration": 0.011692,
     "end_time": "2024-01-31T07:37:38.247294",
     "exception": false,
     "start_time": "2024-01-31T07:37:38.235602",
     "status": "completed"
    },
    "tags": []
   },
   "source": [
    "![](https://cdn-images-1.medium.com/v2/resize:fit:1000/1*BSdOvqGa3RBnPYAOIkiRrg.png)"
   ]
  },
  {
   "cell_type": "markdown",
   "id": "8f3115d7",
   "metadata": {
    "papermill": {
     "duration": 0.011421,
     "end_time": "2024-01-31T07:37:38.270386",
     "exception": false,
     "start_time": "2024-01-31T07:37:38.258965",
     "status": "completed"
    },
    "tags": []
   },
   "source": [
    "# using Scikit-learn\n"
   ]
  },
  {
   "cell_type": "code",
   "execution_count": 17,
   "id": "e59595e8",
   "metadata": {
    "execution": {
     "iopub.execute_input": "2024-01-31T07:37:38.295021Z",
     "iopub.status.busy": "2024-01-31T07:37:38.294702Z",
     "iopub.status.idle": "2024-01-31T07:37:38.302409Z",
     "shell.execute_reply": "2024-01-31T07:37:38.301485Z"
    },
    "papermill": {
     "duration": 0.022362,
     "end_time": "2024-01-31T07:37:38.304494",
     "exception": false,
     "start_time": "2024-01-31T07:37:38.282132",
     "status": "completed"
    },
    "tags": []
   },
   "outputs": [],
   "source": [
    "# we need to drop one missing value from the y column\n",
    "train = train.dropna(subset=['y'])"
   ]
  },
  {
   "cell_type": "code",
   "execution_count": 18,
   "id": "ed977b63",
   "metadata": {
    "execution": {
     "iopub.execute_input": "2024-01-31T07:37:38.328915Z",
     "iopub.status.busy": "2024-01-31T07:37:38.328652Z",
     "iopub.status.idle": "2024-01-31T07:37:38.647692Z",
     "shell.execute_reply": "2024-01-31T07:37:38.646818Z"
    },
    "papermill": {
     "duration": 0.333376,
     "end_time": "2024-01-31T07:37:38.649698",
     "exception": false,
     "start_time": "2024-01-31T07:37:38.316322",
     "status": "completed"
    },
    "tags": []
   },
   "outputs": [
    {
     "data": {
      "text/html": [
       "<style>#sk-container-id-1 {color: black;background-color: white;}#sk-container-id-1 pre{padding: 0;}#sk-container-id-1 div.sk-toggleable {background-color: white;}#sk-container-id-1 label.sk-toggleable__label {cursor: pointer;display: block;width: 100%;margin-bottom: 0;padding: 0.3em;box-sizing: border-box;text-align: center;}#sk-container-id-1 label.sk-toggleable__label-arrow:before {content: \"▸\";float: left;margin-right: 0.25em;color: #696969;}#sk-container-id-1 label.sk-toggleable__label-arrow:hover:before {color: black;}#sk-container-id-1 div.sk-estimator:hover label.sk-toggleable__label-arrow:before {color: black;}#sk-container-id-1 div.sk-toggleable__content {max-height: 0;max-width: 0;overflow: hidden;text-align: left;background-color: #f0f8ff;}#sk-container-id-1 div.sk-toggleable__content pre {margin: 0.2em;color: black;border-radius: 0.25em;background-color: #f0f8ff;}#sk-container-id-1 input.sk-toggleable__control:checked~div.sk-toggleable__content {max-height: 200px;max-width: 100%;overflow: auto;}#sk-container-id-1 input.sk-toggleable__control:checked~label.sk-toggleable__label-arrow:before {content: \"▾\";}#sk-container-id-1 div.sk-estimator input.sk-toggleable__control:checked~label.sk-toggleable__label {background-color: #d4ebff;}#sk-container-id-1 div.sk-label input.sk-toggleable__control:checked~label.sk-toggleable__label {background-color: #d4ebff;}#sk-container-id-1 input.sk-hidden--visually {border: 0;clip: rect(1px 1px 1px 1px);clip: rect(1px, 1px, 1px, 1px);height: 1px;margin: -1px;overflow: hidden;padding: 0;position: absolute;width: 1px;}#sk-container-id-1 div.sk-estimator {font-family: monospace;background-color: #f0f8ff;border: 1px dotted black;border-radius: 0.25em;box-sizing: border-box;margin-bottom: 0.5em;}#sk-container-id-1 div.sk-estimator:hover {background-color: #d4ebff;}#sk-container-id-1 div.sk-parallel-item::after {content: \"\";width: 100%;border-bottom: 1px solid gray;flex-grow: 1;}#sk-container-id-1 div.sk-label:hover label.sk-toggleable__label {background-color: #d4ebff;}#sk-container-id-1 div.sk-serial::before {content: \"\";position: absolute;border-left: 1px solid gray;box-sizing: border-box;top: 0;bottom: 0;left: 50%;z-index: 0;}#sk-container-id-1 div.sk-serial {display: flex;flex-direction: column;align-items: center;background-color: white;padding-right: 0.2em;padding-left: 0.2em;position: relative;}#sk-container-id-1 div.sk-item {position: relative;z-index: 1;}#sk-container-id-1 div.sk-parallel {display: flex;align-items: stretch;justify-content: center;background-color: white;position: relative;}#sk-container-id-1 div.sk-item::before, #sk-container-id-1 div.sk-parallel-item::before {content: \"\";position: absolute;border-left: 1px solid gray;box-sizing: border-box;top: 0;bottom: 0;left: 50%;z-index: -1;}#sk-container-id-1 div.sk-parallel-item {display: flex;flex-direction: column;z-index: 1;position: relative;background-color: white;}#sk-container-id-1 div.sk-parallel-item:first-child::after {align-self: flex-end;width: 50%;}#sk-container-id-1 div.sk-parallel-item:last-child::after {align-self: flex-start;width: 50%;}#sk-container-id-1 div.sk-parallel-item:only-child::after {width: 0;}#sk-container-id-1 div.sk-dashed-wrapped {border: 1px dashed gray;margin: 0 0.4em 0.5em 0.4em;box-sizing: border-box;padding-bottom: 0.4em;background-color: white;}#sk-container-id-1 div.sk-label label {font-family: monospace;font-weight: bold;display: inline-block;line-height: 1.2em;}#sk-container-id-1 div.sk-label-container {text-align: center;}#sk-container-id-1 div.sk-container {/* jupyter's `normalize.less` sets `[hidden] { display: none; }` but bootstrap.min.css set `[hidden] { display: none !important; }` so we also need the `!important` here to be able to override the default hidden behavior on the sphinx rendered scikit-learn.org. See: https://github.com/scikit-learn/scikit-learn/issues/21755 */display: inline-block !important;position: relative;}#sk-container-id-1 div.sk-text-repr-fallback {display: none;}</style><div id=\"sk-container-id-1\" class=\"sk-top-container\"><div class=\"sk-text-repr-fallback\"><pre>LinearRegression()</pre><b>In a Jupyter environment, please rerun this cell to show the HTML representation or trust the notebook. <br />On GitHub, the HTML representation is unable to render, please try loading this page with nbviewer.org.</b></div><div class=\"sk-container\" hidden><div class=\"sk-item\"><div class=\"sk-estimator sk-toggleable\"><input class=\"sk-toggleable__control sk-hidden--visually\" id=\"sk-estimator-id-1\" type=\"checkbox\" checked><label for=\"sk-estimator-id-1\" class=\"sk-toggleable__label sk-toggleable__label-arrow\">LinearRegression</label><div class=\"sk-toggleable__content\"><pre>LinearRegression()</pre></div></div></div></div></div>"
      ],
      "text/plain": [
       "LinearRegression()"
      ]
     },
     "execution_count": 18,
     "metadata": {},
     "output_type": "execute_result"
    }
   ],
   "source": [
    "from sklearn.linear_model import LinearRegression\n",
    "\n",
    "Lr = LinearRegression()\n",
    "Lr.fit(train[['x']],train.y)"
   ]
  },
  {
   "cell_type": "code",
   "execution_count": 19,
   "id": "bf678c61",
   "metadata": {
    "execution": {
     "iopub.execute_input": "2024-01-31T07:37:38.675341Z",
     "iopub.status.busy": "2024-01-31T07:37:38.675034Z",
     "iopub.status.idle": "2024-01-31T07:37:38.680962Z",
     "shell.execute_reply": "2024-01-31T07:37:38.680150Z"
    },
    "papermill": {
     "duration": 0.020616,
     "end_time": "2024-01-31T07:37:38.682896",
     "exception": false,
     "start_time": "2024-01-31T07:37:38.662280",
     "status": "completed"
    },
    "tags": []
   },
   "outputs": [
    {
     "data": {
      "text/plain": [
       "array([76.94327594])"
      ]
     },
     "execution_count": 19,
     "metadata": {},
     "output_type": "execute_result"
    }
   ],
   "source": [
    "Lr.predict([[77]])\n",
    "\n",
    "# it is very close to 76.80523413891173 from the above section"
   ]
  },
  {
   "cell_type": "code",
   "execution_count": 20,
   "id": "5e19f002",
   "metadata": {
    "execution": {
     "iopub.execute_input": "2024-01-31T07:37:38.708491Z",
     "iopub.status.busy": "2024-01-31T07:37:38.707793Z",
     "iopub.status.idle": "2024-01-31T07:37:38.713792Z",
     "shell.execute_reply": "2024-01-31T07:37:38.713004Z"
    },
    "papermill": {
     "duration": 0.020587,
     "end_time": "2024-01-31T07:37:38.715641",
     "exception": false,
     "start_time": "2024-01-31T07:37:38.695054",
     "status": "completed"
    },
    "tags": []
   },
   "outputs": [
    {
     "data": {
      "text/plain": [
       "(array([1.00065638]), -0.10726546430097272)"
      ]
     },
     "execution_count": 20,
     "metadata": {},
     "output_type": "execute_result"
    }
   ],
   "source": [
    "#finding the slop and the intercept\n",
    "Lr.coef_,Lr.intercept_"
   ]
  },
  {
   "cell_type": "markdown",
   "id": "7463a9e1",
   "metadata": {
    "papermill": {
     "duration": 0.011899,
     "end_time": "2024-01-31T07:37:38.739679",
     "exception": false,
     "start_time": "2024-01-31T07:37:38.727780",
     "status": "completed"
    },
    "tags": []
   },
   "source": [
    "# Don't Forget to Upvote NoteBook on Kaggle and Receive Updates"
   ]
  }
 ],
 "metadata": {
  "kaggle": {
   "accelerator": "nvidiaTeslaT4",
   "dataSources": [
    {
     "datasetId": 1256,
     "sourceId": 2242,
     "sourceType": "datasetVersion"
    }
   ],
   "dockerImageVersionId": 30635,
   "isGpuEnabled": true,
   "isInternetEnabled": true,
   "language": "python",
   "sourceType": "notebook"
  },
  "kernelspec": {
   "display_name": "Python 3",
   "language": "python",
   "name": "python3"
  },
  "language_info": {
   "codemirror_mode": {
    "name": "ipython",
    "version": 3
   },
   "file_extension": ".py",
   "mimetype": "text/x-python",
   "name": "python",
   "nbconvert_exporter": "python",
   "pygments_lexer": "ipython3",
   "version": "3.10.12"
  },
  "papermill": {
   "default_parameters": {},
   "duration": 9.642087,
   "end_time": "2024-01-31T07:37:39.169743",
   "environment_variables": {},
   "exception": null,
   "input_path": "__notebook__.ipynb",
   "output_path": "__notebook__.ipynb",
   "parameters": {},
   "start_time": "2024-01-31T07:37:29.527656",
   "version": "2.4.0"
  }
 },
 "nbformat": 4,
 "nbformat_minor": 5
}
