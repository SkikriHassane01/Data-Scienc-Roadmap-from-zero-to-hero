{
 "cells": [
  {
   "cell_type": "markdown",
   "id": "04934e80",
   "metadata": {
    "papermill": {
     "duration": 0.011475,
     "end_time": "2024-02-17T10:43:36.247652",
     "exception": false,
     "start_time": "2024-02-17T10:43:36.236177",
     "status": "completed"
    },
    "tags": []
   },
   "source": [
    "\n",
    "\n",
    "<div style =\"font-family:Trebuchet MS; background-color : #f8f0fa; border-left: 5px solid #1b4332; padding: 12px\">\n",
    "    <h2 style=\"color: #1b4332; font-size: 48px; text-align: center;\"><b>Regularization in Machine Learning </b></h2>\n",
    "    <hr style=\"border-top: 2px solid #264653;\">\n",
    "    <h3 style=\"font-size: 14px; color: #264653; text-align: left; \"><strong>let's descover How does regularization work and how can it be used to prevent overfitting? 😊🌟</strong></h3>\n",
    "    <h2></h2>\n",
    "</div>"
   ]
  },
  {
   "cell_type": "markdown",
   "id": "baa3c381",
   "metadata": {
    "papermill": {
     "duration": 0.010779,
     "end_time": "2024-02-17T10:43:36.269445",
     "exception": false,
     "start_time": "2024-02-17T10:43:36.258666",
     "status": "completed"
    },
    "tags": []
   },
   "source": [
    "<h1 style=\"background-color: #12f7ff;\n",
    "           font-family: 'Trebuchet MS', sans-serif;\n",
    "           color: #000;\n",
    "           font-size: 150%;\n",
    "           text-align: center;\n",
    "           border-radius: 50px 50px;\n",
    "           padding: 20px 20px ;\n",
    "           margin: 30px 30px;\n",
    "           box-shadow: 0 0 10px rgba(18,247,255,0.6),\n",
    "    0 0 20px rgba(18,247,255,0.6),\n",
    "    0 0 30px rgba(18,247,255,0.6),\n",
    "    0 0 40px rgba(18,247,255,0.6);\">\n",
    "    🔻🌟 Who I am ? 🌟🔻\n",
    "</h1>\n",
    "\n",
    "\n",
    "\n",
    "<h3 align=\"center\" style=\"color: var(--bg_color);\">Hi There!👋 I'm Hassane Skikri \n",
    "\n",
    "<h1 align=\"center\">\n",
    "    <img src=\"https://readme-typing-svg.herokuapp.com/?font=Righteous&size=35&center=true&vCenter=true&width=500&height=70&duration=4000&lines=I'm+a+Data+Scientist+📊;2++years+of+coding+💻;Medium+Writer+✍️\" />\n",
    "</h1>\n",
    "\n",
    "\n",
    "<div align=\"center\"> \n",
    "  <a href=\"https://www.linkedin.com/in/hassane-skikri-3224bb255/\" target=\"_blank\">\n",
    "    <img src=\"https://img.shields.io/badge/LinkedIn-0077B5?style=for-the-badge&logo=linkedin&logoColor=white\" target=\"_blank\" />\n",
    "  </a>\n",
    "    <a href=\"https://medium.com/@Hassane_01\" target=\"_blank\">\n",
    "    <img src=\"https://img.shields.io/badge/Medium-12100E?style=for-the-badge&logo=medium&logoColor=white\" target=\"_blank\" />\n",
    "  </a>\n",
    "\n",
    "   </a>\n",
    "    <a href=\"https://www.kaggle.com/hassaneskikri\" target=\"_blank\">\n",
    "    <img src=\"https://img.shields.io/badge/Kaggle-20BEFF?style=for-the-badge&logo=Kaggle&logoColor=white\" target=\"_blank\" />\n",
    "  </a>\n",
    "\n",
    "  </a>\n",
    "    <a href=\"https://github.com/HassaneSkikri\" target=\"_blank\">\n",
    "    <img src=\"https://img.shields.io/badge/GitHub-100000?style=for-the-badge&logo=github&logoColor=white\" target=\"_blank\" />\n",
    "  </a>\n",
    "  \n",
    "  </div>"
   ]
  },
  {
   "cell_type": "markdown",
   "id": "46721a83",
   "metadata": {
    "papermill": {
     "duration": 0.012147,
     "end_time": "2024-02-17T10:43:36.292634",
     "exception": false,
     "start_time": "2024-02-17T10:43:36.280487",
     "status": "completed"
    },
    "tags": []
   },
   "source": [
    "<img src=\"https://th.bing.com/th/id/R.8031d8eb01d374cd7c354e2db4373107?rik=p0Yi9MG33%2fohTA&riu=http%3a%2f%2flh4.googleusercontent.com%2f-t8fm8sA6qh8%2fU0oxG3cORbI%2fAAAAAAAAA6o%2fM5DWNPstKNE%2fw480-h320-no%2fplot_order_animation.gif&ehk=B8DvfU%2bF2hzsfRcFTqsmPd6Lwoie6G1IUcTl%2fQo49cs%3d&risl=&pid=ImgRaw&r=0\" alt=\"source=cpmarkchang.logdown.com\" width=\"1000\" height=\"600\">\n"
   ]
  },
  {
   "cell_type": "markdown",
   "id": "038ccc7c",
   "metadata": {
    "papermill": {
     "duration": 0.010505,
     "end_time": "2024-02-17T10:43:36.314423",
     "exception": false,
     "start_time": "2024-02-17T10:43:36.303918",
     "status": "completed"
    },
    "tags": []
   },
   "source": [
    "<h1 style=\"background-color: #12f7ff;\n",
    "           font-family: 'Trebuchet MS', sans-serif;\n",
    "           color: #000;\n",
    "           font-size: 150%;\n",
    "           text-align: center;\n",
    "           border-radius: 50px 50px;\n",
    "           padding: 20px 20px ;\n",
    "           margin: 30px 30px;\n",
    "           box-shadow: 0 0 10px rgba(18,247,255,0.6),\n",
    "    0 0 20px rgba(18,247,255,0.6),\n",
    "    0 0 30px rgba(18,247,255,0.6),\n",
    "    0 0 40px rgba(18,247,255,0.6);\">🔻🌟 Outline🌟🔻</h1>"
   ]
  },
  {
   "cell_type": "markdown",
   "id": "2e26c8d9",
   "metadata": {
    "papermill": {
     "duration": 0.01046,
     "end_time": "2024-02-17T10:43:36.335567",
     "exception": false,
     "start_time": "2024-02-17T10:43:36.325107",
     "status": "completed"
    },
    "tags": []
   },
   "source": [
    "\n",
    "<div style=\"background-color: #fcf8e8; /* Notepad yellow */\n",
    "           font-family: 'Times New Roman', serif; /* Classic font for note-taking */\n",
    "           color: #000;\n",
    "           font-size: 16px; /* Standard text size */\n",
    "           line-height: 1.5; /* Spacing between lines of text */\n",
    "           text-align: left;\n",
    "           border-radius: 5px;\n",
    "           padding: 20px;\n",
    "           margin: 20px;\n",
    "           width: 90%; \n",
    "           box-shadow: 5px 5px 15px rgba(0, 0, 0, 0.2); /* Realistic shadow */\n",
    "           background-image: linear-gradient(rgba(0, 0, 0, 0.1) 1px, transparent 1px),\n",
    "                             linear-gradient(to right, rgba(0, 0, 0, 0.1) 1px, transparent 1px);\n",
    "           background-size: 100% 30px, 30px 100%; /* Size of the lines */\n",
    "           border: 1px solid #ddd; /* Border for paper edge */\n",
    "           \"><li>🌟 Introduction to Regularization 🌟</li>\n",
    "    <li>❓ Overfitting and Underfitting ❓</li>\n",
    "    <li>⚖️ Bias and Variance ⚖️</li>\n",
    "    <li>🔧 Regularization techniques 🔧\n",
    "        <ul>\n",
    "            <li>🔑 What is Regularization 🔑</li>\n",
    "            <li>⛓️ L2- Ridge Regularization ⛓️</li>\n",
    "            <li>🧬 L1 - Lasso Regularization 🧬</li>\n",
    "            <li>🔗 Elastic Net Regularization – L1 and L2 Regularization 🔗</li>\n",
    "        </ul>\n",
    "    </li>\n",
    "    <li>📉 How Lambda and alpha Affects Regularization 📉</li>\n",
    "    <li>🎯 How to Select the best values of lambda and alpha 🎯</li>\n",
    "    <li>🔍 Applications and Examples 🔍</li>\n",
    "    <li>📢 Conclusion 📢</li>\n",
    "</ul></div>\n",
    "\n",
    "\n"
   ]
  },
  {
   "cell_type": "markdown",
   "id": "fcabdbf4",
   "metadata": {
    "papermill": {
     "duration": 0.01055,
     "end_time": "2024-02-17T10:43:36.356792",
     "exception": false,
     "start_time": "2024-02-17T10:43:36.346242",
     "status": "completed"
    },
    "tags": []
   },
   "source": [
    "# <div style=\"background-color: #12f7ff; font-family: 'Trebuchet MS', sans-serif; color: #000; font-size: 150%; text-align: center; border-radius: 50px 15px; padding: 10px; box-shadow: 0 4px 8px 0 rgba(0, 0, 0, 0.2), 0 6px 20px 0 rgba(0, 0, 0, 0.19);\">🔻Introduction🔻</div>\n",
    "\n"
   ]
  },
  {
   "cell_type": "markdown",
   "id": "bb287b18",
   "metadata": {
    "papermill": {
     "duration": 0.010433,
     "end_time": "2024-02-17T10:43:36.377918",
     "exception": false,
     "start_time": "2024-02-17T10:43:36.367485",
     "status": "completed"
    },
    "tags": []
   },
   "source": [
    "\n",
    "When creating machine learning models, you might face a scenario where the model doesn't learn well from the training data(underfitting) or learn very well(overfitting) and **performs poorly on new**, unseen data (validation or testing data). This situation is commonly referred to as overfitting in machine learning, and it's something you ideally want to avoid.\n",
    "\n",
    "Regularization is a technique used in machine learning to improve the performance of models. Think of it like fine-tuning a radio to get a clear signal. When we build machine learning models, they might 'overlearn' the details, including noise in the training data. Regularization helps to adjust the model so it focuses on the important patterns, making it more effective and versatile when dealing with new, unseen data."
   ]
  },
  {
   "cell_type": "markdown",
   "id": "0a1fddd7",
   "metadata": {
    "papermill": {
     "duration": 0.011412,
     "end_time": "2024-02-17T10:43:36.400531",
     "exception": false,
     "start_time": "2024-02-17T10:43:36.389119",
     "status": "completed"
    },
    "tags": []
   },
   "source": [
    "# <div style=\"background-color: #12f7ff; font-family: 'Trebuchet MS', sans-serif; color: #000; font-size: 150%; text-align: center; border-radius: 50px 15px; padding: 10px; box-shadow: 0 4px 8px 0 rgba(0, 0, 0, 0.2), 0 6px 20px 0 rgba(0, 0, 0, 0.19);\">🔻Overfitting and Underfitting🔻</div>\n"
   ]
  },
  {
   "cell_type": "markdown",
   "id": "7f28a27c",
   "metadata": {
    "papermill": {
     "duration": 0.010495,
     "end_time": "2024-02-17T10:43:36.421723",
     "exception": false,
     "start_time": "2024-02-17T10:43:36.411228",
     "status": "completed"
    },
    "tags": []
   },
   "source": [
    "In the world of machine learning, overfitting and underfitting are two common problems.\n",
    "\n",
    "## Overfitting\n",
    "\n",
    "Overfitting is like memorizing answers for a test without understanding the concepts - the model performs well on the training data but fails to predict new data accurately.\n",
    "\n",
    "## Underfitting\n",
    "\n",
    "Underfitting, on the other hand, is like not studying enough, the model doesn't learn enough from the training data, leading to poor performance on both the training and new data. \n",
    "\n",
    "Both situations are not ideal, and finding the right balance is crucial for a successful model.\n",
    "\n",
    "<img src=\"https://media.geeksforgeeks.org/wp-content/uploads/20190523171704/overfitting_21.png\" alt=\"geeksforgeeks.org\">\n"
   ]
  },
  {
   "cell_type": "markdown",
   "id": "a7a1d5d8",
   "metadata": {
    "papermill": {
     "duration": 0.010452,
     "end_time": "2024-02-17T10:43:36.443050",
     "exception": false,
     "start_time": "2024-02-17T10:43:36.432598",
     "status": "completed"
    },
    "tags": []
   },
   "source": [
    "# <div style=\"background-color: #12f7ff; font-family: 'Trebuchet MS', sans-serif; color: #000; font-size: 150%; text-align: center; border-radius: 50px 15px; padding: 10px; box-shadow: 0 4px 8px 0 rgba(0, 0, 0, 0.2), 0 6px 20px 0 rgba(0, 0, 0, 0.19);\">🔻Bias and Variance🔻</div>\n"
   ]
  },
  {
   "cell_type": "markdown",
   "id": "c02b9b8e",
   "metadata": {
    "papermill": {
     "duration": 0.010605,
     "end_time": "2024-02-17T10:43:36.464463",
     "exception": false,
     "start_time": "2024-02-17T10:43:36.453858",
     "status": "completed"
    },
    "tags": []
   },
   "source": [
    "Bias and variance are two factors in machine learning that affect model performance.\n",
    "\n",
    "## Bias\n",
    "\n",
    "Bias is when a model has a predetermined, often incorrect assumption about the data, leading to errors in predictions. It's like wearing tinted glasses and seeing everything in a particular color. \n",
    "\n",
    "## variance\n",
    "\n",
    "Occurs when a model is too sensitive to the specifics of the training data, including the noise. It's like trying to adapt to every minor change in your environment. \n",
    "\n",
    "he goal is to minimize both bias and variance to create models that are accurate and reliable\n",
    "\n",
    "<img src=\"https://media.geeksforgeeks.org/wp-content/uploads/20210323204619/imgonlinecomuaresizeLOjqonkALC.jpg\" alt=\"geeksforgeeks.org\">"
   ]
  },
  {
   "cell_type": "markdown",
   "id": "34b25080",
   "metadata": {
    "papermill": {
     "duration": 0.010422,
     "end_time": "2024-02-17T10:43:36.485628",
     "exception": false,
     "start_time": "2024-02-17T10:43:36.475206",
     "status": "completed"
    },
    "tags": []
   },
   "source": [
    "# <div style=\"background-color: #12f7ff; font-family: 'Trebuchet MS', sans-serif; color: #000; font-size: 150%; text-align: center; border-radius: 50px 15px; padding: 10px; box-shadow: 0 4px 8px 0 rgba(0, 0, 0, 0.2), 0 6px 20px 0 rgba(0, 0, 0, 0.19);\">🔻Regularization technique🔻</div>\n"
   ]
  },
  {
   "cell_type": "markdown",
   "id": "e599cf77",
   "metadata": {
    "papermill": {
     "duration": 0.010486,
     "end_time": "2024-02-17T10:43:36.506932",
     "exception": false,
     "start_time": "2024-02-17T10:43:36.496446",
     "status": "completed"
    },
    "tags": []
   },
   "source": [
    "## What is Regularization?\n",
    "\n",
    "Regularization means restricting a model to avoid overfitting by shrinking the coefficient estimates to zero. When a model suffers from overfitting, we should control the model's complexity. Technically, regularization avoids overfitting by adding a penalty to the model's loss function:\n",
    "\n",
    "$$\n",
    "\\begin {array}{|l|}\n",
    "\\hline\n",
    "Regulariation = Loss Function + Penalty \\\\\n",
    "\\hline\n",
    "\\end{array}\n",
    "$$\n",
    "\n",
    "There is three commonly used regularization technique, let's discuss all of them:\n",
    "\n",
    "## L2- Ridge Regularization\n",
    "\n",
    "L2 R. adds a penalty based on the square of the magnitude of the coefficients. Using the same analogy of dials, Ridge doesn't turn any dials to zero but makes them smaller. It helps to reduce the complexity of the model by making the coefficients smaller\n",
    "\n",
    "$$\n",
    "\\begin {array}{|l|}\n",
    "\\hline\n",
    "Loss Function = Loss Function + \\frac{1}{2}\\lambda\\sum_{j=1}^{m} w_j^2 \\\\\n",
    "\\hline\n",
    "\\end{array}\n",
    "$$\n",
    "\n",
    "Where :\n",
    "\n",
    "- ${\\lambda}$ : This is a regularization parameter. It controls the strength of the regularization effect. A higher lambda value means more regularization, leading to smaller coefficients in the model, but too much can cause underfitting\n",
    "- ${w_j}$: These are the coefficients or weights of the model that correspond to each feature.\n",
    "- ${m}$: This is the number of features or coefficients in your model."
   ]
  },
  {
   "cell_type": "markdown",
   "id": "9afe849b",
   "metadata": {
    "papermill": {
     "duration": 0.010473,
     "end_time": "2024-02-17T10:43:36.530400",
     "exception": false,
     "start_time": "2024-02-17T10:43:36.519927",
     "status": "completed"
    },
    "tags": []
   },
   "source": [
    "## L1 - Lasso Regularizaton \n",
    "\n",
    "Lasso regression also adds a penalty term to the cost function, but slightly different.\n",
    "L1 regularization makes some coefficients zero, meaning the model will ignore those features. Ignoring the least important features helps emphasize the model's essential features.\n",
    "\n",
    "Lasso regression automatically performs feature selection by eliminating the least important features.\n",
    "\n",
    "$$\n",
    "\\begin {array}{|l|}\n",
    "\\hline\n",
    "Loss Function = Loss Function + \\lambda\\sum_{j=1}^{m}|w_j| \\\\\n",
    "\\hline\n",
    "\\end{array}\n",
    "$$\n",
    "\n"
   ]
  },
  {
   "cell_type": "markdown",
   "id": "3760014e",
   "metadata": {
    "papermill": {
     "duration": 0.010372,
     "end_time": "2024-02-17T10:43:36.551437",
     "exception": false,
     "start_time": "2024-02-17T10:43:36.541065",
     "status": "completed"
    },
    "tags": []
   },
   "source": [
    "## Elastic Net Regularization – L1 and L2 Regularization\n",
    "\n",
    "Elastic Net combines both L1 and L2 Regularization. It adds both penalties (absolute value and square of the coefficients) to the model. This approach blends the feature elimination from Lasso and the feature shrinkage from Ridge. Elastic Net is particularly useful when there are multiple features that are correlated with each other. It can maintain the balance between feature selection and feature shrinkage, making it a versatile choice for many models.\n",
    "\n",
    "$$\n",
    "\\begin {array}{|l|}\n",
    "\\hline\n",
    "Loss Function =Loss Function + \\lambda \\left( \\alpha \\sum_{j=1}^{m} |w_j| + \\frac{1-\\alpha}{2} \\sum_{j=1}^{m} w_j^2 \\right)\\\\\n",
    "\\hline\n",
    "\\end{array}\n",
    "$$\n",
    "\n",
    "Where :\n",
    "\n",
    "- $\\alpha$ is a parameter that balances the contribution of L1 and L2 regularization, with $\\alpha = 1$ being equivalent to Lasso regularization, and $\\alpha= 0$ being equivalent to Ridge regularization."
   ]
  },
  {
   "cell_type": "markdown",
   "id": "ddcb5e30",
   "metadata": {
    "papermill": {
     "duration": 0.010342,
     "end_time": "2024-02-17T10:43:36.572583",
     "exception": false,
     "start_time": "2024-02-17T10:43:36.562241",
     "status": "completed"
    },
    "tags": []
   },
   "source": [
    "# <div style=\"background-color: #12f7ff; font-family: 'Trebuchet MS', sans-serif; color: #000; font-size: 150%; text-align: center; border-radius: 50px 15px; padding: 10px; box-shadow: 0 4px 8px 0 rgba(0, 0, 0, 0.2), 0 6px 20px 0 rgba(0, 0, 0, 0.19);\">🔻how lambda and alpha effect on regularization🔻</div>\n"
   ]
  },
  {
   "cell_type": "markdown",
   "id": "02acbd66",
   "metadata": {
    "papermill": {
     "duration": 0.010431,
     "end_time": "2024-02-17T10:43:36.593636",
     "exception": false,
     "start_time": "2024-02-17T10:43:36.583205",
     "status": "completed"
    },
    "tags": []
   },
   "source": [
    "\n",
    "\n",
    "Choosing the best values for lambda (λ) and alpha (α) in regularization is a critical step in building a robust machine learning model. how they effect regularization?\n",
    "\n",
    "as we discover in the privious section, Lambda (λ) is a parameter that controls the overall strength of the regularization effect.\n",
    "\n",
    "- A higher λ increases the penalty, leading the model to prioritize simplicity, which can help reduce overfitting but may also cause underfitting if it's too high.\n",
    "- A lower λ decreases the penalty, allowing the model to fit more closely to the training data, which might lead to overfitting if it's too low.\n",
    "\n",
    "Alpha (α): In the context of Elastic Net, alpha balances the mix between L1 and L2 regularization.\n",
    "\n",
    "- An α close to 1 means the regularization is mostly L1, which can lead to sparser models with fewer non-zero coefficients (more feature selection).\n",
    "- An α close to 0 means the regularization is mostly L2, which encourages smaller coefficients overall but doesn't enforce sparsity.\n"
   ]
  },
  {
   "cell_type": "markdown",
   "id": "3bf30aa2",
   "metadata": {
    "papermill": {
     "duration": 0.010411,
     "end_time": "2024-02-17T10:43:36.615037",
     "exception": false,
     "start_time": "2024-02-17T10:43:36.604626",
     "status": "completed"
    },
    "tags": []
   },
   "source": [
    "# <div style=\"background-color: #12f7ff; font-family: 'Trebuchet MS', sans-serif; color: #000; font-size: 150%; text-align: center; border-radius: 50px 15px; padding: 10px; box-shadow: 0 4px 8px 0 rgba(0, 0, 0, 0.2), 0 6px 20px 0 rgba(0, 0, 0, 0.19);\">🔻How to choose the best values for lambda and alpha🔻</div>\n"
   ]
  },
  {
   "cell_type": "markdown",
   "id": "d76d1adc",
   "metadata": {
    "papermill": {
     "duration": 0.010394,
     "end_time": "2024-02-17T10:43:36.636208",
     "exception": false,
     "start_time": "2024-02-17T10:43:36.625814",
     "status": "completed"
    },
    "tags": []
   },
   "source": [
    "\n",
    "we can use a lot of methode but the most populare technique is three:\n",
    "- Cross-Validation: Use cross-validation to evaluate different combinations of λ and α on a validation set. The combination that yields the best performance on the validation set is often a good choice.\n",
    "\n",
    "- Grid Search: Systematically work through multiple combinations of λ and α and use cross-validation to find the best one.\n",
    "\n",
    "- Random Search: Randomly sample the space of parameters (λ and α) and use cross-validation to find the best values."
   ]
  },
  {
   "cell_type": "markdown",
   "id": "3132fcae",
   "metadata": {
    "papermill": {
     "duration": 0.010409,
     "end_time": "2024-02-17T10:43:36.657277",
     "exception": false,
     "start_time": "2024-02-17T10:43:36.646868",
     "status": "completed"
    },
    "tags": []
   },
   "source": [
    "# <div style=\"background-color: #12f7ff; font-family: 'Trebuchet MS', sans-serif; color: #000; font-size: 150%; text-align: center; border-radius: 50px 15px; padding: 10px; box-shadow: 0 4px 8px 0 rgba(0, 0, 0, 0.2), 0 6px 20px 0 rgba(0, 0, 0, 0.19);\">🔻Application and Examples🔻</div>\n"
   ]
  },
  {
   "cell_type": "markdown",
   "id": "0dc25ef5",
   "metadata": {
    "papermill": {
     "duration": 0.010339,
     "end_time": "2024-02-17T10:43:36.678334",
     "exception": false,
     "start_time": "2024-02-17T10:43:36.667995",
     "status": "completed"
    },
    "tags": []
   },
   "source": [
    "## Linear Regression\n"
   ]
  },
  {
   "cell_type": "code",
   "execution_count": 1,
   "id": "21c91eec",
   "metadata": {
    "execution": {
     "iopub.execute_input": "2024-02-17T10:43:36.702557Z",
     "iopub.status.busy": "2024-02-17T10:43:36.701525Z",
     "iopub.status.idle": "2024-02-17T10:43:38.949907Z",
     "shell.execute_reply": "2024-02-17T10:43:38.948913Z"
    },
    "papermill": {
     "duration": 2.263508,
     "end_time": "2024-02-17T10:43:38.952683",
     "exception": false,
     "start_time": "2024-02-17T10:43:36.689175",
     "status": "completed"
    },
    "tags": []
   },
   "outputs": [],
   "source": [
    "import pandas as pd\n",
    "import numpy as np\n",
    "import matplotlib.pyplot as plt \n",
    "import seaborn as sns\n",
    "import warnings\n",
    "warnings.filterwarnings('ignore')"
   ]
  },
  {
   "cell_type": "code",
   "execution_count": 2,
   "id": "1f9bf55b",
   "metadata": {
    "execution": {
     "iopub.execute_input": "2024-02-17T10:43:38.976754Z",
     "iopub.status.busy": "2024-02-17T10:43:38.975837Z",
     "iopub.status.idle": "2024-02-17T10:43:39.028898Z",
     "shell.execute_reply": "2024-02-17T10:43:39.027751Z"
    },
    "papermill": {
     "duration": 0.067606,
     "end_time": "2024-02-17T10:43:39.031338",
     "exception": false,
     "start_time": "2024-02-17T10:43:38.963732",
     "status": "completed"
    },
    "tags": []
   },
   "outputs": [
    {
     "data": {
      "text/html": [
       "<div>\n",
       "<style scoped>\n",
       "    .dataframe tbody tr th:only-of-type {\n",
       "        vertical-align: middle;\n",
       "    }\n",
       "\n",
       "    .dataframe tbody tr th {\n",
       "        vertical-align: top;\n",
       "    }\n",
       "\n",
       "    .dataframe thead th {\n",
       "        text-align: right;\n",
       "    }\n",
       "</style>\n",
       "<table border=\"1\" class=\"dataframe\">\n",
       "  <thead>\n",
       "    <tr style=\"text-align: right;\">\n",
       "      <th></th>\n",
       "      <th>CRIM</th>\n",
       "      <th>ZN</th>\n",
       "      <th>INDUS</th>\n",
       "      <th>CHAS</th>\n",
       "      <th>NOX</th>\n",
       "      <th>RM</th>\n",
       "      <th>AGE</th>\n",
       "      <th>DIS</th>\n",
       "      <th>RAD</th>\n",
       "      <th>TAX</th>\n",
       "      <th>PTRATIO</th>\n",
       "      <th>B</th>\n",
       "      <th>LSTAT</th>\n",
       "      <th>MEDV</th>\n",
       "    </tr>\n",
       "  </thead>\n",
       "  <tbody>\n",
       "    <tr>\n",
       "      <th>0</th>\n",
       "      <td>0.00632</td>\n",
       "      <td>18.0</td>\n",
       "      <td>2.31</td>\n",
       "      <td>0.0</td>\n",
       "      <td>0.538</td>\n",
       "      <td>6.575</td>\n",
       "      <td>65.2</td>\n",
       "      <td>4.0900</td>\n",
       "      <td>1</td>\n",
       "      <td>296</td>\n",
       "      <td>15.3</td>\n",
       "      <td>396.90</td>\n",
       "      <td>4.98</td>\n",
       "      <td>24.0</td>\n",
       "    </tr>\n",
       "    <tr>\n",
       "      <th>1</th>\n",
       "      <td>0.02731</td>\n",
       "      <td>0.0</td>\n",
       "      <td>7.07</td>\n",
       "      <td>0.0</td>\n",
       "      <td>0.469</td>\n",
       "      <td>6.421</td>\n",
       "      <td>78.9</td>\n",
       "      <td>4.9671</td>\n",
       "      <td>2</td>\n",
       "      <td>242</td>\n",
       "      <td>17.8</td>\n",
       "      <td>396.90</td>\n",
       "      <td>9.14</td>\n",
       "      <td>21.6</td>\n",
       "    </tr>\n",
       "    <tr>\n",
       "      <th>2</th>\n",
       "      <td>0.02729</td>\n",
       "      <td>0.0</td>\n",
       "      <td>7.07</td>\n",
       "      <td>0.0</td>\n",
       "      <td>0.469</td>\n",
       "      <td>7.185</td>\n",
       "      <td>61.1</td>\n",
       "      <td>4.9671</td>\n",
       "      <td>2</td>\n",
       "      <td>242</td>\n",
       "      <td>17.8</td>\n",
       "      <td>392.83</td>\n",
       "      <td>4.03</td>\n",
       "      <td>34.7</td>\n",
       "    </tr>\n",
       "    <tr>\n",
       "      <th>3</th>\n",
       "      <td>0.03237</td>\n",
       "      <td>0.0</td>\n",
       "      <td>2.18</td>\n",
       "      <td>0.0</td>\n",
       "      <td>0.458</td>\n",
       "      <td>6.998</td>\n",
       "      <td>45.8</td>\n",
       "      <td>6.0622</td>\n",
       "      <td>3</td>\n",
       "      <td>222</td>\n",
       "      <td>18.7</td>\n",
       "      <td>394.63</td>\n",
       "      <td>2.94</td>\n",
       "      <td>33.4</td>\n",
       "    </tr>\n",
       "    <tr>\n",
       "      <th>4</th>\n",
       "      <td>0.06905</td>\n",
       "      <td>0.0</td>\n",
       "      <td>2.18</td>\n",
       "      <td>0.0</td>\n",
       "      <td>0.458</td>\n",
       "      <td>7.147</td>\n",
       "      <td>54.2</td>\n",
       "      <td>6.0622</td>\n",
       "      <td>3</td>\n",
       "      <td>222</td>\n",
       "      <td>18.7</td>\n",
       "      <td>396.90</td>\n",
       "      <td>NaN</td>\n",
       "      <td>36.2</td>\n",
       "    </tr>\n",
       "  </tbody>\n",
       "</table>\n",
       "</div>"
      ],
      "text/plain": [
       "      CRIM    ZN  INDUS  CHAS    NOX     RM   AGE     DIS  RAD  TAX  PTRATIO  \\\n",
       "0  0.00632  18.0   2.31   0.0  0.538  6.575  65.2  4.0900    1  296     15.3   \n",
       "1  0.02731   0.0   7.07   0.0  0.469  6.421  78.9  4.9671    2  242     17.8   \n",
       "2  0.02729   0.0   7.07   0.0  0.469  7.185  61.1  4.9671    2  242     17.8   \n",
       "3  0.03237   0.0   2.18   0.0  0.458  6.998  45.8  6.0622    3  222     18.7   \n",
       "4  0.06905   0.0   2.18   0.0  0.458  7.147  54.2  6.0622    3  222     18.7   \n",
       "\n",
       "        B  LSTAT  MEDV  \n",
       "0  396.90   4.98  24.0  \n",
       "1  396.90   9.14  21.6  \n",
       "2  392.83   4.03  34.7  \n",
       "3  394.63   2.94  33.4  \n",
       "4  396.90    NaN  36.2  "
      ]
     },
     "execution_count": 2,
     "metadata": {},
     "output_type": "execute_result"
    }
   ],
   "source": [
    "housing = pd.read_csv('/kaggle/input/boston-housing-dataset/HousingData.csv')\n",
    "housing.head()"
   ]
  },
  {
   "cell_type": "code",
   "execution_count": 3,
   "id": "fc98f59c",
   "metadata": {
    "execution": {
     "iopub.execute_input": "2024-02-17T10:43:39.056297Z",
     "iopub.status.busy": "2024-02-17T10:43:39.055526Z",
     "iopub.status.idle": "2024-02-17T10:43:39.067149Z",
     "shell.execute_reply": "2024-02-17T10:43:39.065882Z"
    },
    "papermill": {
     "duration": 0.026923,
     "end_time": "2024-02-17T10:43:39.069686",
     "exception": false,
     "start_time": "2024-02-17T10:43:39.042763",
     "status": "completed"
    },
    "tags": []
   },
   "outputs": [
    {
     "data": {
      "text/plain": [
       "CRIM       20\n",
       "ZN         20\n",
       "INDUS      20\n",
       "CHAS       20\n",
       "NOX         0\n",
       "RM          0\n",
       "AGE        20\n",
       "DIS         0\n",
       "RAD         0\n",
       "TAX         0\n",
       "PTRATIO     0\n",
       "B           0\n",
       "LSTAT      20\n",
       "MEDV        0\n",
       "dtype: int64"
      ]
     },
     "execution_count": 3,
     "metadata": {},
     "output_type": "execute_result"
    }
   ],
   "source": [
    "#check if there is any missing value :\n",
    "housing.isna().sum()"
   ]
  },
  {
   "cell_type": "code",
   "execution_count": 4,
   "id": "39011894",
   "metadata": {
    "execution": {
     "iopub.execute_input": "2024-02-17T10:43:39.094770Z",
     "iopub.status.busy": "2024-02-17T10:43:39.093990Z",
     "iopub.status.idle": "2024-02-17T10:43:39.110297Z",
     "shell.execute_reply": "2024-02-17T10:43:39.109067Z"
    },
    "papermill": {
     "duration": 0.031541,
     "end_time": "2024-02-17T10:43:39.112637",
     "exception": false,
     "start_time": "2024-02-17T10:43:39.081096",
     "status": "completed"
    },
    "tags": []
   },
   "outputs": [
    {
     "data": {
      "text/plain": [
       "CRIM       0\n",
       "ZN         0\n",
       "INDUS      0\n",
       "CHAS       0\n",
       "NOX        0\n",
       "RM         0\n",
       "AGE        0\n",
       "DIS        0\n",
       "RAD        0\n",
       "TAX        0\n",
       "PTRATIO    0\n",
       "B          0\n",
       "LSTAT      0\n",
       "MEDV       0\n",
       "dtype: int64"
      ]
     },
     "execution_count": 4,
     "metadata": {},
     "output_type": "execute_result"
    }
   ],
   "source": [
    "for col in housing.columns:\n",
    "    if housing[col].dtype != 'object': \n",
    "        housing[col].fillna(housing[col].mean(), inplace=True)\n",
    "housing.isna().sum()"
   ]
  },
  {
   "cell_type": "code",
   "execution_count": 5,
   "id": "00cd1007",
   "metadata": {
    "execution": {
     "iopub.execute_input": "2024-02-17T10:43:39.137965Z",
     "iopub.status.busy": "2024-02-17T10:43:39.137170Z",
     "iopub.status.idle": "2024-02-17T10:43:39.148647Z",
     "shell.execute_reply": "2024-02-17T10:43:39.147548Z"
    },
    "papermill": {
     "duration": 0.026806,
     "end_time": "2024-02-17T10:43:39.150894",
     "exception": false,
     "start_time": "2024-02-17T10:43:39.124088",
     "status": "completed"
    },
    "tags": []
   },
   "outputs": [
    {
     "data": {
      "text/plain": [
       "0"
      ]
     },
     "execution_count": 5,
     "metadata": {},
     "output_type": "execute_result"
    }
   ],
   "source": [
    "#check if there is any duplicated values\n",
    "housing.duplicated().sum()"
   ]
  },
  {
   "cell_type": "code",
   "execution_count": 6,
   "id": "2b357afe",
   "metadata": {
    "execution": {
     "iopub.execute_input": "2024-02-17T10:43:39.176424Z",
     "iopub.status.busy": "2024-02-17T10:43:39.175679Z",
     "iopub.status.idle": "2024-02-17T10:43:41.393085Z",
     "shell.execute_reply": "2024-02-17T10:43:41.391939Z"
    },
    "papermill": {
     "duration": 2.233587,
     "end_time": "2024-02-17T10:43:41.396168",
     "exception": false,
     "start_time": "2024-02-17T10:43:39.162581",
     "status": "completed"
    },
    "tags": []
   },
   "outputs": [
    {
     "data": {
      "image/png": "[encoded data removed]",
      "text/plain": [
       "<Figure size 640x480 with 14 Axes>"
      ]
     },
     "metadata": {},
     "output_type": "display_data"
    }
   ],
   "source": [
    "for i, column in enumerate(housing.columns, 1):\n",
    "    ax = plt.subplot(3, 5, i)\n",
    "    sns.distplot(housing[column].dropna(), kde=False, ax=ax)  # Added dropna() to handle NaN values\n",
    "    plt.xlabel(column, fontsize=15)\n",
    "    \n",
    "plt.tight_layout()\n",
    "plt.show()"
   ]
  },
  {
   "cell_type": "code",
   "execution_count": 7,
   "id": "1a3ed72d",
   "metadata": {
    "execution": {
     "iopub.execute_input": "2024-02-17T10:43:41.423937Z",
     "iopub.status.busy": "2024-02-17T10:43:41.423562Z",
     "iopub.status.idle": "2024-02-17T10:43:41.749595Z",
     "shell.execute_reply": "2024-02-17T10:43:41.748399Z"
    },
    "papermill": {
     "duration": 0.342862,
     "end_time": "2024-02-17T10:43:41.752367",
     "exception": false,
     "start_time": "2024-02-17T10:43:41.409505",
     "status": "completed"
    },
    "tags": []
   },
   "outputs": [],
   "source": [
    "from sklearn.model_selection import train_test_split\n",
    "from sklearn.preprocessing import StandardScaler\n",
    "\n",
    "from sklearn.linear_model import LinearRegression, Lasso, Ridge, ElasticNet\n",
    "from sklearn.metrics import r2_score"
   ]
  },
  {
   "cell_type": "code",
   "execution_count": 8,
   "id": "aa597c31",
   "metadata": {
    "execution": {
     "iopub.execute_input": "2024-02-17T10:43:41.779392Z",
     "iopub.status.busy": "2024-02-17T10:43:41.778948Z",
     "iopub.status.idle": "2024-02-17T10:43:41.799663Z",
     "shell.execute_reply": "2024-02-17T10:43:41.798532Z"
    },
    "papermill": {
     "duration": 0.03722,
     "end_time": "2024-02-17T10:43:41.802207",
     "exception": false,
     "start_time": "2024-02-17T10:43:41.764987",
     "status": "completed"
    },
    "tags": []
   },
   "outputs": [],
   "source": [
    "#first let's define the features and target variables\n",
    "X= housing.drop('MEDV',axis=1)\n",
    "y=housing['MEDV']\n",
    "\n",
    "#spliting the dataset\n",
    "X_train, X_test ,y_train , y_test= train_test_split(X,y,test_size=0.2,random_state=42)\n",
    "\n",
    "#standardizing the features:\n",
    "scaler = StandardScaler()\n",
    "X_train_scaled= scaler.fit_transform(X_train)\n",
    "X_test_scaled= scaler.transform(X_test)"
   ]
  },
  {
   "cell_type": "code",
   "execution_count": 9,
   "id": "6edc7fb6",
   "metadata": {
    "execution": {
     "iopub.execute_input": "2024-02-17T10:43:41.829290Z",
     "iopub.status.busy": "2024-02-17T10:43:41.828871Z",
     "iopub.status.idle": "2024-02-17T10:43:41.898681Z",
     "shell.execute_reply": "2024-02-17T10:43:41.897828Z"
    },
    "papermill": {
     "duration": 0.086197,
     "end_time": "2024-02-17T10:43:41.901058",
     "exception": false,
     "start_time": "2024-02-17T10:43:41.814861",
     "status": "completed"
    },
    "tags": []
   },
   "outputs": [
    {
     "data": {
      "text/plain": [
       "{'Linear Regression': (0.7420299863537105, 0.6588520195508143),\n",
       " 'Lasso Regression': (0.6871292604792214, 0.6698642752178698),\n",
       " 'Ridge Regression': (0.7402150922722217, 0.6561767755602037),\n",
       " 'Elastic Net Regression': (0.6743603141000736, 0.6767834545347793)}"
      ]
     },
     "execution_count": 9,
     "metadata": {},
     "output_type": "execute_result"
    }
   ],
   "source": [
    "# Initialize the models\n",
    "linear_reg = LinearRegression()\n",
    "lasso_reg = Lasso(alpha=1)\n",
    "ridge_reg = Ridge()\n",
    "elastic_net_reg = ElasticNet()\n",
    "\n",
    "def train_evaluate(model, X_train, y_train, X_test, y_test):\n",
    "    # Training the model\n",
    "    model.fit(X_train, y_train)\n",
    "\n",
    "    # Predicting on training and test data\n",
    "    y_train_pred = model.predict(X_train)\n",
    "    y_test_pred = model.predict(X_test)\n",
    "\n",
    "    # Calculating R² Score\n",
    "    r2_train = r2_score(y_train, y_train_pred)\n",
    "    r2_test = r2_score(y_test, y_test_pred)\n",
    "\n",
    "    return r2_train, r2_test\n",
    "\n",
    "# Training and evaluating each model\n",
    "r2_scores = {}\n",
    "r2_scores['Linear Regression'] = train_evaluate(linear_reg, X_train, y_train, X_test, y_test)\n",
    "r2_scores['Lasso Regression'] = train_evaluate(lasso_reg, X_train, y_train, X_test, y_test)\n",
    "r2_scores['Ridge Regression'] = train_evaluate(ridge_reg, X_train, y_train, X_test, y_test)\n",
    "r2_scores['Elastic Net Regression'] = train_evaluate(elastic_net_reg, X_train, y_train, X_test, y_test)\n",
    "\n",
    "r2_scores"
   ]
  },
  {
   "cell_type": "markdown",
   "id": "8f9c64dd",
   "metadata": {
    "papermill": {
     "duration": 0.012643,
     "end_time": "2024-02-17T10:43:41.926729",
     "exception": false,
     "start_time": "2024-02-17T10:43:41.914086",
     "status": "completed"
    },
    "tags": []
   },
   "source": [
    "## logistic regrission"
   ]
  },
  {
   "cell_type": "code",
   "execution_count": 10,
   "id": "cd4aa707",
   "metadata": {
    "execution": {
     "iopub.execute_input": "2024-02-17T10:43:41.954616Z",
     "iopub.status.busy": "2024-02-17T10:43:41.954190Z",
     "iopub.status.idle": "2024-02-17T10:43:41.990222Z",
     "shell.execute_reply": "2024-02-17T10:43:41.989219Z"
    },
    "papermill": {
     "duration": 0.052931,
     "end_time": "2024-02-17T10:43:41.992984",
     "exception": false,
     "start_time": "2024-02-17T10:43:41.940053",
     "status": "completed"
    },
    "tags": []
   },
   "outputs": [
    {
     "data": {
      "text/html": [
       "<div>\n",
       "<style scoped>\n",
       "    .dataframe tbody tr th:only-of-type {\n",
       "        vertical-align: middle;\n",
       "    }\n",
       "\n",
       "    .dataframe tbody tr th {\n",
       "        vertical-align: top;\n",
       "    }\n",
       "\n",
       "    .dataframe thead th {\n",
       "        text-align: right;\n",
       "    }\n",
       "</style>\n",
       "<table border=\"1\" class=\"dataframe\">\n",
       "  <thead>\n",
       "    <tr style=\"text-align: right;\">\n",
       "      <th></th>\n",
       "      <th>fixed acidity</th>\n",
       "      <th>volatile acidity</th>\n",
       "      <th>citric acid</th>\n",
       "      <th>residual sugar</th>\n",
       "      <th>chlorides</th>\n",
       "      <th>free sulfur dioxide</th>\n",
       "      <th>total sulfur dioxide</th>\n",
       "      <th>density</th>\n",
       "      <th>pH</th>\n",
       "      <th>sulphates</th>\n",
       "      <th>alcohol</th>\n",
       "      <th>quality</th>\n",
       "    </tr>\n",
       "  </thead>\n",
       "  <tbody>\n",
       "    <tr>\n",
       "      <th>0</th>\n",
       "      <td>7.4</td>\n",
       "      <td>0.70</td>\n",
       "      <td>0.00</td>\n",
       "      <td>1.9</td>\n",
       "      <td>0.076</td>\n",
       "      <td>11.0</td>\n",
       "      <td>34.0</td>\n",
       "      <td>0.9978</td>\n",
       "      <td>3.51</td>\n",
       "      <td>0.56</td>\n",
       "      <td>9.4</td>\n",
       "      <td>5</td>\n",
       "    </tr>\n",
       "    <tr>\n",
       "      <th>1</th>\n",
       "      <td>7.8</td>\n",
       "      <td>0.88</td>\n",
       "      <td>0.00</td>\n",
       "      <td>2.6</td>\n",
       "      <td>0.098</td>\n",
       "      <td>25.0</td>\n",
       "      <td>67.0</td>\n",
       "      <td>0.9968</td>\n",
       "      <td>3.20</td>\n",
       "      <td>0.68</td>\n",
       "      <td>9.8</td>\n",
       "      <td>5</td>\n",
       "    </tr>\n",
       "    <tr>\n",
       "      <th>2</th>\n",
       "      <td>7.8</td>\n",
       "      <td>0.76</td>\n",
       "      <td>0.04</td>\n",
       "      <td>2.3</td>\n",
       "      <td>0.092</td>\n",
       "      <td>15.0</td>\n",
       "      <td>54.0</td>\n",
       "      <td>0.9970</td>\n",
       "      <td>3.26</td>\n",
       "      <td>0.65</td>\n",
       "      <td>9.8</td>\n",
       "      <td>5</td>\n",
       "    </tr>\n",
       "    <tr>\n",
       "      <th>3</th>\n",
       "      <td>11.2</td>\n",
       "      <td>0.28</td>\n",
       "      <td>0.56</td>\n",
       "      <td>1.9</td>\n",
       "      <td>0.075</td>\n",
       "      <td>17.0</td>\n",
       "      <td>60.0</td>\n",
       "      <td>0.9980</td>\n",
       "      <td>3.16</td>\n",
       "      <td>0.58</td>\n",
       "      <td>9.8</td>\n",
       "      <td>6</td>\n",
       "    </tr>\n",
       "    <tr>\n",
       "      <th>4</th>\n",
       "      <td>7.4</td>\n",
       "      <td>0.70</td>\n",
       "      <td>0.00</td>\n",
       "      <td>1.9</td>\n",
       "      <td>0.076</td>\n",
       "      <td>11.0</td>\n",
       "      <td>34.0</td>\n",
       "      <td>0.9978</td>\n",
       "      <td>3.51</td>\n",
       "      <td>0.56</td>\n",
       "      <td>9.4</td>\n",
       "      <td>5</td>\n",
       "    </tr>\n",
       "  </tbody>\n",
       "</table>\n",
       "</div>"
      ],
      "text/plain": [
       "   fixed acidity  volatile acidity  citric acid  residual sugar  chlorides  \\\n",
       "0            7.4              0.70         0.00             1.9      0.076   \n",
       "1            7.8              0.88         0.00             2.6      0.098   \n",
       "2            7.8              0.76         0.04             2.3      0.092   \n",
       "3           11.2              0.28         0.56             1.9      0.075   \n",
       "4            7.4              0.70         0.00             1.9      0.076   \n",
       "\n",
       "   free sulfur dioxide  total sulfur dioxide  density    pH  sulphates  \\\n",
       "0                 11.0                  34.0   0.9978  3.51       0.56   \n",
       "1                 25.0                  67.0   0.9968  3.20       0.68   \n",
       "2                 15.0                  54.0   0.9970  3.26       0.65   \n",
       "3                 17.0                  60.0   0.9980  3.16       0.58   \n",
       "4                 11.0                  34.0   0.9978  3.51       0.56   \n",
       "\n",
       "   alcohol  quality  \n",
       "0      9.4        5  \n",
       "1      9.8        5  \n",
       "2      9.8        5  \n",
       "3      9.8        6  \n",
       "4      9.4        5  "
      ]
     },
     "execution_count": 10,
     "metadata": {},
     "output_type": "execute_result"
    }
   ],
   "source": [
    "wine = pd.read_csv(\"/kaggle/input/red-wine-quality-cortez-et-al-2009/winequality-red.csv\")\n",
    "wine.head()"
   ]
  },
  {
   "cell_type": "code",
   "execution_count": 11,
   "id": "6d5f64df",
   "metadata": {
    "execution": {
     "iopub.execute_input": "2024-02-17T10:43:42.021223Z",
     "iopub.status.busy": "2024-02-17T10:43:42.020805Z",
     "iopub.status.idle": "2024-02-17T10:43:42.029980Z",
     "shell.execute_reply": "2024-02-17T10:43:42.028806Z"
    },
    "papermill": {
     "duration": 0.026343,
     "end_time": "2024-02-17T10:43:42.032443",
     "exception": false,
     "start_time": "2024-02-17T10:43:42.006100",
     "status": "completed"
    },
    "tags": []
   },
   "outputs": [
    {
     "data": {
      "text/plain": [
       "array([5, 6, 7, 4, 8, 3])"
      ]
     },
     "execution_count": 11,
     "metadata": {},
     "output_type": "execute_result"
    }
   ],
   "source": [
    "wine['quality'].unique()"
   ]
  },
  {
   "cell_type": "code",
   "execution_count": 12,
   "id": "00fd2f04",
   "metadata": {
    "execution": {
     "iopub.execute_input": "2024-02-17T10:43:42.060564Z",
     "iopub.status.busy": "2024-02-17T10:43:42.060106Z",
     "iopub.status.idle": "2024-02-17T10:43:42.079300Z",
     "shell.execute_reply": "2024-02-17T10:43:42.077985Z"
    },
    "papermill": {
     "duration": 0.036133,
     "end_time": "2024-02-17T10:43:42.081875",
     "exception": false,
     "start_time": "2024-02-17T10:43:42.045742",
     "status": "completed"
    },
    "tags": []
   },
   "outputs": [
    {
     "name": "stdout",
     "output_type": "stream",
     "text": [
      "<class 'pandas.core.frame.DataFrame'>\n",
      "RangeIndex: 1599 entries, 0 to 1598\n",
      "Data columns (total 12 columns):\n",
      " #   Column                Non-Null Count  Dtype  \n",
      "---  ------                --------------  -----  \n",
      " 0   fixed acidity         1599 non-null   float64\n",
      " 1   volatile acidity      1599 non-null   float64\n",
      " 2   citric acid           1599 non-null   float64\n",
      " 3   residual sugar        1599 non-null   float64\n",
      " 4   chlorides             1599 non-null   float64\n",
      " 5   free sulfur dioxide   1599 non-null   float64\n",
      " 6   total sulfur dioxide  1599 non-null   float64\n",
      " 7   density               1599 non-null   float64\n",
      " 8   pH                    1599 non-null   float64\n",
      " 9   sulphates             1599 non-null   float64\n",
      " 10  alcohol               1599 non-null   float64\n",
      " 11  quality               1599 non-null   int64  \n",
      "dtypes: float64(11), int64(1)\n",
      "memory usage: 150.0 KB\n"
     ]
    }
   ],
   "source": [
    "wine.info()"
   ]
  },
  {
   "cell_type": "code",
   "execution_count": 13,
   "id": "2ddf39a4",
   "metadata": {
    "execution": {
     "iopub.execute_input": "2024-02-17T10:43:42.110180Z",
     "iopub.status.busy": "2024-02-17T10:43:42.109760Z",
     "iopub.status.idle": "2024-02-17T10:43:42.118777Z",
     "shell.execute_reply": "2024-02-17T10:43:42.117928Z"
    },
    "papermill": {
     "duration": 0.025645,
     "end_time": "2024-02-17T10:43:42.120876",
     "exception": false,
     "start_time": "2024-02-17T10:43:42.095231",
     "status": "completed"
    },
    "tags": []
   },
   "outputs": [
    {
     "data": {
      "text/plain": [
       "240"
      ]
     },
     "execution_count": 13,
     "metadata": {},
     "output_type": "execute_result"
    }
   ],
   "source": [
    "wine.duplicated().sum()"
   ]
  },
  {
   "cell_type": "code",
   "execution_count": 14,
   "id": "d7cee9e0",
   "metadata": {
    "execution": {
     "iopub.execute_input": "2024-02-17T10:43:42.149865Z",
     "iopub.status.busy": "2024-02-17T10:43:42.149454Z",
     "iopub.status.idle": "2024-02-17T10:43:42.162076Z",
     "shell.execute_reply": "2024-02-17T10:43:42.160950Z"
    },
    "papermill": {
     "duration": 0.029907,
     "end_time": "2024-02-17T10:43:42.164473",
     "exception": false,
     "start_time": "2024-02-17T10:43:42.134566",
     "status": "completed"
    },
    "tags": []
   },
   "outputs": [
    {
     "data": {
      "text/plain": [
       "0"
      ]
     },
     "execution_count": 14,
     "metadata": {},
     "output_type": "execute_result"
    }
   ],
   "source": [
    "wine.drop_duplicates(inplace=True)\n",
    "wine.duplicated().sum()"
   ]
  },
  {
   "cell_type": "code",
   "execution_count": 15,
   "id": "b0d854ac",
   "metadata": {
    "execution": {
     "iopub.execute_input": "2024-02-17T10:43:42.193848Z",
     "iopub.status.busy": "2024-02-17T10:43:42.193443Z",
     "iopub.status.idle": "2024-02-17T10:43:43.195381Z",
     "shell.execute_reply": "2024-02-17T10:43:43.194561Z"
    },
    "papermill": {
     "duration": 1.01927,
     "end_time": "2024-02-17T10:43:43.197617",
     "exception": false,
     "start_time": "2024-02-17T10:43:42.178347",
     "status": "completed"
    },
    "tags": []
   },
   "outputs": [
    {
     "data": {
      "text/plain": [
       "((0.5749770009199632, 0.5845588235294118),\n",
       " (0.577736890524379, 0.5955882352941176),\n",
       " (0.593376264949402, 0.6213235294117647),\n",
       " (0.53081876724931, 0.5661764705882353))"
      ]
     },
     "execution_count": 15,
     "metadata": {},
     "output_type": "execute_result"
    }
   ],
   "source": [
    "from sklearn.linear_model import LogisticRegression\n",
    "from sklearn.linear_model import SGDClassifier\n",
    "\n",
    "X= wine.drop('quality',axis=1)\n",
    "y=wine['quality']\n",
    "\n",
    "\n",
    "#spliting the data\n",
    "X_train,X_test,y_train,y_test=train_test_split(X,y,test_size=0.2,random_state=42)\n",
    "\n",
    "#scaling the data\n",
    "X_train_scaler=scaler.fit_transform(X_train)\n",
    "X_test_scaler=scaler.transform(X_test)\n",
    "\n",
    "#create the models\n",
    "log_reg=LogisticRegression(penalty='none')\n",
    "log_reg_l1=LogisticRegression(penalty='l1',solver='liblinear', max_iter=1000)\n",
    "log_reg_l2=LogisticRegression(penalty='l2',max_iter=1000)\n",
    "log_reg_elasticnet = SGDClassifier(loss='log', penalty='elasticnet', l1_ratio=0.5, max_iter=1000)\n",
    "\n",
    "#fit the models\n",
    "\n",
    "log_reg.fit(X_train, y_train)\n",
    "log_reg_l1.fit(X_train, y_train)\n",
    "log_reg_l2.fit(X_train, y_train)\n",
    "log_reg_elasticnet.fit(X_train, y_train)\n",
    "\n",
    "# Predict and evaluate accuracy for each model on both training and test sets\n",
    "def evaluate_accuracy(model, X_train, y_train, X_test, y_test):\n",
    "    train_acc = model.score(X_train, y_train)\n",
    "    test_acc = model.score(X_test, y_test)\n",
    "    return train_acc, test_acc\n",
    "\n",
    "# Evaluate accuracy for each model on both training and test sets\n",
    "log_reg_results = evaluate_accuracy(log_reg, X_train, y_train, X_test, y_test)\n",
    "log_reg_l1_results = evaluate_accuracy(log_reg_l1, X_train, y_train, X_test, y_test)\n",
    "log_reg_l2_results = evaluate_accuracy(log_reg_l2, X_train, y_train, X_test, y_test)\n",
    "log_reg_elasticnet_results = evaluate_accuracy(log_reg_elasticnet, X_train, y_train, X_test, y_test)\n",
    "\n",
    "log_reg_results, log_reg_l1_results, log_reg_l2_results, log_reg_elasticnet_results"
   ]
  },
  {
   "cell_type": "markdown",
   "id": "ee3b60c8",
   "metadata": {
    "papermill": {
     "duration": 0.01716,
     "end_time": "2024-02-17T10:43:43.231191",
     "exception": false,
     "start_time": "2024-02-17T10:43:43.214031",
     "status": "completed"
    },
    "tags": []
   },
   "source": [
    "# <div style=\"background-color: #12f7ff; font-family: 'Trebuchet MS', sans-serif; color: #000; font-size: 150%; text-align: center; border-radius: 50px 15px; padding: 10px; box-shadow: 0 4px 8px 0 rgba(0, 0, 0, 0.2), 0 6px 20px 0 rgba(0, 0, 0, 0.19);\">🔻Conclusion🔻</div>\n"
   ]
  },
  {
   "cell_type": "markdown",
   "id": "72cc1494",
   "metadata": {
    "papermill": {
     "duration": 0.013531,
     "end_time": "2024-02-17T10:43:43.260383",
     "exception": false,
     "start_time": "2024-02-17T10:43:43.246852",
     "status": "completed"
    },
    "tags": []
   },
   "source": [
    "\n",
    "\n",
    "Regularization in machine learning helps prevent overfitting by penalizing large coefficients. Lasso encourages sparse models, aiding in feature selection, while Ridge promotes coefficient stability. Elastic Net combines both, balancing feature selection and stability. The choice of regularization depends on the dataset and problem characteristics."
   ]
  }
 ],
 "metadata": {
  "kaggle": {
   "accelerator": "none",
   "dataSources": [
    {
     "datasetId": 3537,
     "sourceId": 5680,
     "sourceType": "datasetVersion"
    },
    {
     "datasetId": 4458,
     "sourceId": 8204,
     "sourceType": "datasetVersion"
    }
   ],
   "dockerImageVersionId": 30646,
   "isGpuEnabled": false,
   "isInternetEnabled": true,
   "language": "python",
   "sourceType": "notebook"
  },
  "kernelspec": {
   "display_name": "Python 3",
   "language": "python",
   "name": "python3"
  },
  "language_info": {
   "codemirror_mode": {
    "name": "ipython",
    "version": 3
   },
   "file_extension": ".py",
   "mimetype": "text/x-python",
   "name": "python",
   "nbconvert_exporter": "python",
   "pygments_lexer": "ipython3",
   "version": "3.10.13"
  },
  "papermill": {
   "default_parameters": {},
   "duration": 10.583548,
   "end_time": "2024-02-17T10:43:43.895938",
   "environment_variables": {},
   "exception": null,
   "input_path": "__notebook__.ipynb",
   "output_path": "__notebook__.ipynb",
   "parameters": {},
   "start_time": "2024-02-17T10:43:33.312390",
   "version": "2.5.0"
  }
 },
 "nbformat": 4,
 "nbformat_minor": 5
}
