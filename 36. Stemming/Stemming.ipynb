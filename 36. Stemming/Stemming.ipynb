{
 "cells": [
  {
   "cell_type": "markdown",
   "metadata": {},
   "source": [
    "<h1 style=\"background-color: #f8f0fa;\n",
    "            border-left: 5px solid #1b4332;\n",
    "            font-family: 'Trebuchet MS', sans-serif;\n",
    "            border-right: 5px solid #1b4332;\n",
    "            padding: 12px;\n",
    "            border-radius: 50px 50px;\n",
    "            color: #1b4332;\n",
    "            text-align:center;\n",
    "            font-size:45px;\"><strong>😊Stemming🌟</strong></h1>\n",
    "<hr style=\"border-top: 5px solid #264653;\">"
   ]
  },
  {
   "cell_type": "markdown",
   "metadata": {},
   "source": [
    "## Introduction\n",
    "Stemming is a text normalization technique in Natural Language Processing (NLP) that reduces words to their base or root form. For example, words like \"running,\" \"runner,\" and \"ran\" might all be reduced to the root word \"run.\"\n",
    "\n",
    "---\n",
    "\n",
    "## Why is Stemming Important?\n",
    "1. **Reduces Vocabulary Size**\n",
    "   - Helps in grouping similar words together.\n",
    "   - Simplifies text processing by reducing word variations.\n",
    "\n",
    "2. **Enhances Search Accuracy**\n",
    "   - Matches queries with variations of words in search engines.\n",
    "\n",
    "3. **Prepares Data for NLP Models**\n",
    "   - Improves model performance by normalizing text.\n",
    "\n",
    "---\n",
    "\n",
    "## How Does Stemming Work?\n",
    "Stemming involves applying rules to strip suffixes or prefixes from words. Unlike lemmatization, stemming may not produce actual words but a stem, which is a shortened form of the original word.\n",
    "\n",
    "### Example:\n",
    "- Words: \"cares,\" \"caring,\" \"cared\" → Stem: \"care\"\n",
    "\n",
    "---\n",
    "\n",
    "## Common Stemming Algorithms\n",
    "1. **Porter Stemmer**\n",
    "   - One of the most popular algorithms.\n",
    "   - Uses a series of rules to iteratively reduce words to their stems.\n",
    "   - Example: \"running\" → \"run\"\n",
    "\n",
    "2. **Lancaster Stemmer**\n",
    "   - A more aggressive algorithm compared to Porter Stemmer.\n",
    "   - May over-stem words (reduce words to overly short stems).\n",
    "\n",
    "3. **Snowball Stemmer**\n",
    "   - An improvement over Porter Stemmer.\n",
    "   - Supports multiple languages.\n",
    "\n",
    "4. **Regex-based Stemmer**\n",
    "   - Custom stemmer using regular expressions.\n",
    "\n",
    "---\n",
    "\n",
    "## Implementation Examples\n",
    "\n",
    "### 1. Stemming with NLTK (Porter Stemmer)"
   ]
  },
  {
   "cell_type": "code",
   "execution_count": 1,
   "metadata": {},
   "outputs": [
    {
     "name": "stdout",
     "output_type": "stream",
     "text": [
      "['run', 'runner', 'ran', 'run']\n"
     ]
    }
   ],
   "source": [
    "from nltk.stem import PorterStemmer\n",
    "\n",
    "stemmer = PorterStemmer()\n",
    "\n",
    "words = [\"running\", \"runner\", \"ran\", \"runs\"]\n",
    "\n",
    "stems = [stemmer.stem(word) for word in words]\n",
    "print(stems)"
   ]
  },
  {
   "cell_type": "markdown",
   "metadata": {},
   "source": [
    "### 2. Stemming with NLTK (Lancaster Stemmer)"
   ]
  },
  {
   "cell_type": "code",
   "execution_count": null,
   "metadata": {},
   "outputs": [
    {
     "name": "stdout",
     "output_type": "stream",
     "text": [
      "['run', 'run', 'ran', 'run']\n"
     ]
    }
   ],
   "source": [
    "from nltk.stem import LancasterStemmer\n",
    "\n",
    "stemmer = LancasterStemmer()\n",
    "\n",
    "words = [\"running\", \"runner\", \"ran\", \"runs\"]\n",
    "\n",
    "stems = [stemmer.stem(word) for word in words]\n",
    "print(stems)"
   ]
  },
  {
   "cell_type": "markdown",
   "metadata": {},
   "source": [
    "\n",
    "### 3. Snowball Stemmer"
   ]
  },
  {
   "cell_type": "code",
   "execution_count": 3,
   "metadata": {},
   "outputs": [
    {
     "name": "stdout",
     "output_type": "stream",
     "text": [
      "['run', 'runner', 'ran', 'run']\n"
     ]
    }
   ],
   "source": [
    "from nltk.stem.snowball import SnowballStemmer\n",
    "\n",
    "stemmer = SnowballStemmer(language=\"english\")\n",
    "\n",
    "words=[\"running\", \"runner\",'ran', 'runs']\n",
    "\n",
    "stems = [stemmer.stem(word) for word in words]\n",
    "\n",
    "print(stems)"
   ]
  },
  {
   "cell_type": "markdown",
   "metadata": {},
   "source": [
    "### 4. Custom Regex-based Stemming"
   ]
  },
  {
   "cell_type": "code",
   "execution_count": 4,
   "metadata": {},
   "outputs": [
    {
     "name": "stdout",
     "output_type": "stream",
     "text": [
      "['runn', 'car', 'car', 'swim']\n"
     ]
    }
   ],
   "source": [
    "import re\n",
    "\n",
    "def regex_stemmer(word):\n",
    "    return re.sub(r\"(ing|ed|s)$\", \"\", word)\n",
    "\n",
    "words = [\"running\", \"cared\", \"cars\", \"swims\"]\n",
    "stems = [regex_stemmer(word) for word in words]\n",
    "print(stems) "
   ]
  },
  {
   "cell_type": "markdown",
   "metadata": {},
   "source": [
    "---\n",
    "\n",
    "## Advantages of Stemming\n",
    "1. **Simplicity**\n",
    "   - Easy to implement and computationally inexpensive.\n",
    "2. **Effective for Reducing Word Variations**\n",
    "   - Handles many cases of inflected words.\n",
    "\n",
    "---\n",
    "\n",
    "## Challenges of Stemming\n",
    "1. **Over-stemming**\n",
    "   - Reduces words too much, causing loss of meaning.\n",
    "   - Example: \"universal\" → \"univers\"\n",
    "\n",
    "2. **Under-stemming**\n",
    "   - Fails to reduce words to the same stem.\n",
    "   - Example: \"relational\" → \"relat\" but \"relation\" → \"relation\"\n",
    "\n",
    "3. **Language Dependency**\n",
    "   - Stemming rules vary significantly across languages.\n",
    "\n",
    "---\n",
    "\n",
    "## Applications of Stemming\n",
    "1. **Search Engines**\n",
    "   - Improves query matching by considering word variations.\n",
    "\n",
    "2. **Text Classification**\n",
    "   - Reduces dimensionality of feature space.\n",
    "\n",
    "3. **Sentiment Analysis**\n",
    "   - Normalizes text data for consistent processing.\n",
    "\n",
    "4. **Topic Modeling**\n",
    "   - Groups similar words under the same stem.\n",
    "\n",
    "---\n",
    "\n",
    "## Alternatives to Stemming\n",
    "1. **Lemmatization**\n",
    "   - More accurate than stemming but computationally expensive.\n",
    "   - Reduces words to their dictionary form (lemma).\n",
    "\n",
    "2. **Subword Tokenization**\n",
    "   - Splits words into smaller meaningful subunits.\n",
    "\n",
    "---\n",
    "\n",
    "## Tips for Effective Stemming\n",
    "1. Use stemming for large-scale, general NLP tasks.\n",
    "2. Combine stemming with other preprocessing techniques like stopword removal.\n",
    "3. Evaluate the performance impact of stemming on your specific NLP model.\n",
    "\n",
    "---\n",
    "\n",
    "## Conclusion\n",
    "Stemming is a powerful and efficient text preprocessing technique. While it has some limitations, it remains an essential tool for many NLP applications, especially when simplicity and speed are important.\n",
    "\n"
   ]
  }
 ],
 "metadata": {
  "kernelspec": {
   "display_name": "Python 3",
   "language": "python",
   "name": "python3"
  },
  "language_info": {
   "codemirror_mode": {
    "name": "ipython",
    "version": 3
   },
   "file_extension": ".py",
   "mimetype": "text/x-python",
   "name": "python",
   "nbconvert_exporter": "python",
   "pygments_lexer": "ipython3",
   "version": "3.12.6"
  }
 },
 "nbformat": 4,
 "nbformat_minor": 2
}
