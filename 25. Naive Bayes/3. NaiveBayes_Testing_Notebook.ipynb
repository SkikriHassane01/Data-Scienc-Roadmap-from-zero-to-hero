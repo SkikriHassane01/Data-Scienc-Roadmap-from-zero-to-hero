{
 "cells": [
  {
   "cell_type": "markdown",
   "id": "8f9edd8e",
   "metadata": {},
   "source": [
    "# Naive Bayes Classifier Implementation and Testing\n",
    "This notebook tests each function of the `NaiveBayes` class step-by-step and provides a demo using a sample dataset (Iris dataset)."
   ]
  },
  {
   "cell_type": "code",
   "execution_count": 2,
   "id": "f87a6910",
   "metadata": {},
   "outputs": [],
   "source": [
    "import numpy as np\n",
    "import pandas as pd\n",
    "from sklearn.model_selection import train_test_split\n",
    "from sklearn.datasets import load_iris\n",
    "from naivebayesfromscratch import NaiveBayes"
   ]
  },
  {
   "cell_type": "markdown",
   "id": "c2a9fe90",
   "metadata": {},
   "source": [
    "## Step 1: Load and Prepare Data\n",
    "We'll load the Iris dataset, split it into training and test sets, and explore its structure."
   ]
  },
  {
   "cell_type": "code",
   "execution_count": 3,
   "id": "9cd87e7d",
   "metadata": {},
   "outputs": [
    {
     "name": "stdout",
     "output_type": "stream",
     "text": [
      "Training data shape: (120, 4)\n",
      "Test data shape: (30, 4)\n",
      "Labels: [0 1 2]\n"
     ]
    }
   ],
   "source": [
    "data = load_iris()\n",
    "X, y = data.data, data.target\n",
    "\n",
    "# Split data into training and test sets\n",
    "X_train, X_test, y_train, y_test = train_test_split(X, y, test_size=0.2, random_state=42)\n",
    "\n",
    "print(f\"Training data shape: {X_train.shape}\")\n",
    "print(f\"Test data shape: {X_test.shape}\")\n",
    "print(f\"Labels: {np.unique(y)}\")"
   ]
  },
  {
   "cell_type": "markdown",
   "id": "a8775da0",
   "metadata": {},
   "source": [
    "## Step 2: Initialize and Train the Naive Bayes Classifier\n",
    "We initialize the Naive Bayes classifier and call `fit()` to calculate the mean, variance, and priors for each class."
   ]
  },
  {
   "cell_type": "code",
   "execution_count": 6,
   "id": "ea88ec2c",
   "metadata": {},
   "outputs": [
    {
     "name": "stdout",
     "output_type": "stream",
     "text": [
      "shape of Means: (3, 4)\n",
      "Class Means:\n",
      " [[4.99       3.4525     1.45       0.245     ]\n",
      " [5.9195122  2.77073171 4.24146341 1.32195122]\n",
      " [6.53333333 2.96666667 5.52051282 2.        ]]\n",
      "\n",
      "Class Variances:\n",
      " [[0.1239     0.15249375 0.033      0.010975  ]\n",
      " [0.28693635 0.10011898 0.22584176 0.04122546]\n",
      " [0.4165812  0.0991453  0.28573307 0.08205128]]\n",
      "\n",
      "Class Priors: [0.33333333 0.34166667 0.325     ]\n"
     ]
    }
   ],
   "source": [
    "model = NaiveBayes()\n",
    "model.fit(X_train, y_train)\n",
    "\n",
    "# Display computed means, variances, and priors\n",
    "print(f\"shape of Means: {model._mean.shape}\")\n",
    "print('Class Means:\\n', model._mean)\n",
    "print('\\nClass Variances:\\n', model._var)\n",
    "print('\\nClass Priors:', model._priors)"
   ]
  },
  {
   "cell_type": "markdown",
   "id": "b653a590",
   "metadata": {},
   "source": [
    "## Step 3: Test the PDF Function (`_pdf`)\n",
    "This function calculates the probability density function values for a given sample and class index."
   ]
  },
  {
   "cell_type": "code",
   "execution_count": 8,
   "id": "a9a2106b",
   "metadata": {},
   "outputs": [
    {
     "name": "stdout",
     "output_type": "stream",
     "text": [
      "PDF values for class 0 and sample [4.6 3.6 1.  0.2]: [0.61348483 0.95126977 0.10213125 3.47249724]\n"
     ]
    }
   ],
   "source": [
    "x_sample = X_train[0]\n",
    "class_idx = 0\n",
    "\n",
    "pdf_values = model._pdf(class_idx, x_sample)\n",
    "\n",
    "print(f'PDF values for class {class_idx} and sample {x_sample}:', pdf_values)"
   ]
  },
  {
   "cell_type": "markdown",
   "id": "7589f30e",
   "metadata": {},
   "source": [
    "## Step 4: Test the Predict Function (`predict`)\n",
    "We use the trained classifier to predict the classes of the test set and calculate accuracy."
   ]
  },
  {
   "cell_type": "code",
   "execution_count": 9,
   "id": "9d580aa1",
   "metadata": {},
   "outputs": [
    {
     "name": "stdout",
     "output_type": "stream",
     "text": [
      "Predictions: [1 0 2 1 1 0 1 2 1 1 2 0 0 0 0 1 2 1 1 2 0 2 0 2 2 2 2 2 0 0]\n",
      "True labels: [1 0 2 1 1 0 1 2 1 1 2 0 0 0 0 1 2 1 1 2 0 2 0 2 2 2 2 2 0 0]\n",
      "Accuracy: 1.00\n"
     ]
    }
   ],
   "source": [
    "y_pred = model.predict(X_test)\n",
    "\n",
    "# Evaluate accuracy\n",
    "accuracy = np.mean(y_pred == y_test)\n",
    "\n",
    "print(f'Predictions: {y_pred}')\n",
    "print(f'True labels: {y_test}')\n",
    "print(f'Accuracy: {accuracy:.2f}')"
   ]
  }
 ],
 "metadata": {
  "kernelspec": {
   "display_name": "base",
   "language": "python",
   "name": "python3"
  },
  "language_info": {
   "codemirror_mode": {
    "name": "ipython",
    "version": 3
   },
   "file_extension": ".py",
   "mimetype": "text/x-python",
   "name": "python",
   "nbconvert_exporter": "python",
   "pygments_lexer": "ipython3",
   "version": "3.12.4"
  }
 },
 "nbformat": 4,
 "nbformat_minor": 5
}
