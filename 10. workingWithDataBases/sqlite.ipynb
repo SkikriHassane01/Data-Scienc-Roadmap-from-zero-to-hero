{
 "cells": [
  {
   "cell_type": "markdown",
   "metadata": {},
   "source": [
    "<div style =\"font-family:Trebuchet MS; background-color : #f8f0fa; border-left: 5px solid #1b4332; padding: 12px; border-radius: 50px 50px;\">\n",
    "    <h2 style=\"color: #1b4332; font-size: 48px; text-align: center;\">\n",
    "        <b>SQLite database with python</b>\n",
    "        <hr style=\"border-top: 2px solid #264653;\">\n",
    "    </h2>\n",
    "    <h3 style=\"font-size: 14px; color: #264653; text-align: left; \"><strong> I hope this is very helpful. let's started .😊🌟</strong></h3>\n",
    "</div>"
   ]
  },
  {
   "cell_type": "markdown",
   "metadata": {},
   "source": [
    "#### sqlite is a built-in module in python3 so no need to install it separately we can use it to create a database and perform operations on it like \n",
    "- create a table \n",
    "- insert data into a table\n",
    "- select data from a table\n",
    "- update data in a table and more "
   ]
  },
  {
   "cell_type": "code",
   "execution_count": 36,
   "metadata": {},
   "outputs": [],
   "source": [
    "import sqlite3"
   ]
  },
  {
   "cell_type": "code",
   "execution_count": 37,
   "metadata": {},
   "outputs": [
    {
     "data": {
      "text/plain": [
       "<sqlite3.Connection at 0x1fc4bc08220>"
      ]
     },
     "execution_count": 37,
     "metadata": {},
     "output_type": "execute_result"
    }
   ],
   "source": [
    "# connect to an sqlite database\n",
    "connection = sqlite3.connect('example.db')\n",
    "connection"
   ]
  },
  {
   "cell_type": "code",
   "execution_count": 38,
   "metadata": {},
   "outputs": [
    {
     "data": {
      "text/plain": [
       "<sqlite3.Cursor at 0x1fc4bbe28c0>"
      ]
     },
     "execution_count": 38,
     "metadata": {},
     "output_type": "execute_result"
    }
   ],
   "source": [
    "# cursor is used to interact with the database\n",
    "cursor = connection.cursor()\n",
    "cursor"
   ]
  },
  {
   "cell_type": "code",
   "execution_count": 39,
   "metadata": {},
   "outputs": [],
   "source": [
    "# first let's create a table \n",
    "cursor.execute(''' \n",
    "CREATE TABLE IF NOT EXISTS users (\n",
    "                id INTEGER PRIMARY KEY,\n",
    "                name TEXT NOT NULL,\n",
    "                age INTEGER NOT NULL\n",
    ")\n",
    "''')\n",
    "\n",
    "# commit the changes \n",
    "connection.commit()"
   ]
  },
  {
   "cell_type": "code",
   "execution_count": 40,
   "metadata": {},
   "outputs": [],
   "source": [
    "# insert some data\n",
    "cursor.execute('''\n",
    "INSERT INTO users (name, age) VALUES ('Alice', 25),\n",
    "                                        ('Bob', 30),\n",
    "                                        ('Charlie', 35)                             \n",
    "''')\n",
    "\n",
    "# commit the changes\n",
    "connection.commit()"
   ]
  },
  {
   "cell_type": "code",
   "execution_count": 41,
   "metadata": {},
   "outputs": [
    {
     "data": {
      "text/plain": [
       "[(1, 'Alice', 25), (2, 'Bob', 30), (3, 'Charlie', 35)]"
      ]
     },
     "execution_count": 41,
     "metadata": {},
     "output_type": "execute_result"
    }
   ],
   "source": [
    "# to select data from the table\n",
    "\n",
    "cursor.execute('SELECT * FROM users')\n",
    "# fetchall() returns a list of tuples\n",
    "users = cursor.fetchall()\n",
    "users"
   ]
  },
  {
   "cell_type": "code",
   "execution_count": 42,
   "metadata": {},
   "outputs": [],
   "source": [
    "# delete all the data from the table\n",
    "cursor.execute('DELETE FROM users')\n",
    "connection.commit()"
   ]
  },
  {
   "cell_type": "code",
   "execution_count": 43,
   "metadata": {},
   "outputs": [],
   "source": [
    "# delete a row from the table\n",
    "cursor.execute('DELETE FROM users WHERE name = \"Alice\"')\n",
    "connection.commit()"
   ]
  },
  {
   "cell_type": "code",
   "execution_count": 44,
   "metadata": {},
   "outputs": [],
   "source": [
    "# create a new table\n",
    "cursor.execute('''\n",
    "CREATE TABLE IF NOT EXISTS products (\n",
    "                id INTEGER PRIMARY KEY,\n",
    "                name TEXT NOT NULL,\n",
    "                price REAL NOT NULL\n",
    ")\n",
    "''')\n",
    "\n",
    "# create a list of tuples\n",
    "\n",
    "products = [\n",
    "    ('Apple', 1.0),\n",
    "    ('Banana', 0.5),\n",
    "    ('Cherry', 2.0)\n",
    "]\n",
    "\n",
    "# insert multiple rows into the table\n",
    "cursor.executemany('INSERT INTO products (name, price) VALUES (?, ?)', products)\n",
    "\n",
    "# commit the changes\n",
    "connection.commit()"
   ]
  },
  {
   "cell_type": "code",
   "execution_count": 45,
   "metadata": {},
   "outputs": [
    {
     "data": {
      "text/plain": [
       "[(1, 'Apple', 1.0), (2, 'Banana', 0.5), (3, 'Cherry', 2.0)]"
      ]
     },
     "execution_count": 45,
     "metadata": {},
     "output_type": "execute_result"
    }
   ],
   "source": [
    "# select all the data from the table\n",
    "cursor.execute('SELECT * FROM products')\n",
    "products = cursor.fetchall()\n",
    "products"
   ]
  }
 ],
 "metadata": {
  "kernelspec": {
   "display_name": "Python 3",
   "language": "python",
   "name": "python3"
  },
  "language_info": {
   "codemirror_mode": {
    "name": "ipython",
    "version": 3
   },
   "file_extension": ".py",
   "mimetype": "text/x-python",
   "name": "python",
   "nbconvert_exporter": "python",
   "pygments_lexer": "ipython3",
   "version": "3.12.1"
  }
 },
 "nbformat": 4,
 "nbformat_minor": 2
}
